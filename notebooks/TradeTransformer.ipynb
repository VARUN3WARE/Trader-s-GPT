{
 "cells": [
  {
   "cell_type": "code",
   "execution_count": 2,
   "id": "0f6fe26a",
   "metadata": {},
   "outputs": [
    {
     "name": "stdout",
     "output_type": "stream",
     "text": [
      "Collecting torch\n",
      "  Using cached torch-2.7.1-cp310-cp310-manylinux_2_28_x86_64.whl (821.2 MB)\n",
      "Requirement already satisfied: pandas in /home/varun/Desktop/someProj/TradeGPT/.venv/lib/python3.10/site-packages (2.3.0)\n",
      "Requirement already satisfied: numpy in /home/varun/Desktop/someProj/TradeGPT/.venv/lib/python3.10/site-packages (2.2.6)\n",
      "Collecting scikit-learn\n",
      "  Using cached scikit_learn-1.7.0-cp310-cp310-manylinux_2_17_x86_64.manylinux2014_x86_64.whl (12.9 MB)\n",
      "Collecting fsspec\n",
      "  Using cached fsspec-2025.5.1-py3-none-any.whl (199 kB)\n",
      "Collecting nvidia-nvjitlink-cu12==12.6.85\n",
      "  Using cached nvidia_nvjitlink_cu12-12.6.85-py3-none-manylinux2010_x86_64.manylinux_2_12_x86_64.whl (19.7 MB)\n",
      "Collecting networkx\n",
      "  Using cached networkx-3.4.2-py3-none-any.whl (1.7 MB)\n",
      "Requirement already satisfied: typing-extensions>=4.10.0 in /home/varun/Desktop/someProj/TradeGPT/.venv/lib/python3.10/site-packages (from torch) (4.14.0)\n",
      "Collecting nvidia-curand-cu12==10.3.7.77\n",
      "  Using cached nvidia_curand_cu12-10.3.7.77-py3-none-manylinux2014_x86_64.manylinux_2_17_x86_64.whl (56.3 MB)\n",
      "Collecting nvidia-cublas-cu12==12.6.4.1\n",
      "  Using cached nvidia_cublas_cu12-12.6.4.1-py3-none-manylinux2014_x86_64.manylinux_2_17_x86_64.whl (393.1 MB)\n",
      "Collecting nvidia-cuda-runtime-cu12==12.6.77\n",
      "  Using cached nvidia_cuda_runtime_cu12-12.6.77-py3-none-manylinux2014_x86_64.manylinux_2_17_x86_64.whl (897 kB)\n",
      "Collecting triton==3.3.1\n",
      "  Using cached triton-3.3.1-cp310-cp310-manylinux_2_27_x86_64.manylinux_2_28_x86_64.whl (155.6 MB)\n",
      "Collecting nvidia-nvtx-cu12==12.6.77\n",
      "  Using cached nvidia_nvtx_cu12-12.6.77-py3-none-manylinux2014_x86_64.manylinux_2_17_x86_64.whl (89 kB)\n",
      "Collecting nvidia-nccl-cu12==2.26.2\n",
      "  Using cached nvidia_nccl_cu12-2.26.2-py3-none-manylinux2014_x86_64.manylinux_2_17_x86_64.whl (201.3 MB)\n",
      "Collecting nvidia-cufile-cu12==1.11.1.6\n",
      "  Using cached nvidia_cufile_cu12-1.11.1.6-py3-none-manylinux2014_x86_64.manylinux_2_17_x86_64.whl (1.1 MB)\n",
      "Collecting nvidia-cuda-cupti-cu12==12.6.80\n",
      "  Using cached nvidia_cuda_cupti_cu12-12.6.80-py3-none-manylinux2014_x86_64.manylinux_2_17_x86_64.whl (8.9 MB)\n",
      "Collecting nvidia-cusparselt-cu12==0.6.3\n",
      "  Using cached nvidia_cusparselt_cu12-0.6.3-py3-none-manylinux2014_x86_64.whl (156.8 MB)\n",
      "Collecting sympy>=1.13.3\n",
      "  Using cached sympy-1.14.0-py3-none-any.whl (6.3 MB)\n",
      "Collecting filelock\n",
      "  Using cached filelock-3.18.0-py3-none-any.whl (16 kB)\n",
      "Collecting nvidia-cusparse-cu12==12.5.4.2\n",
      "  Using cached nvidia_cusparse_cu12-12.5.4.2-py3-none-manylinux2014_x86_64.manylinux_2_17_x86_64.whl (216.6 MB)\n",
      "Collecting nvidia-cuda-nvrtc-cu12==12.6.77\n",
      "  Using cached nvidia_cuda_nvrtc_cu12-12.6.77-py3-none-manylinux2014_x86_64.whl (23.7 MB)\n",
      "Collecting nvidia-cufft-cu12==11.3.0.4\n",
      "  Using cached nvidia_cufft_cu12-11.3.0.4-py3-none-manylinux2014_x86_64.manylinux_2_17_x86_64.whl (200.2 MB)\n",
      "Collecting jinja2\n",
      "  Using cached jinja2-3.1.6-py3-none-any.whl (134 kB)\n",
      "Collecting nvidia-cudnn-cu12==9.5.1.17\n",
      "  Using cached nvidia_cudnn_cu12-9.5.1.17-py3-none-manylinux_2_28_x86_64.whl (571.0 MB)\n",
      "Collecting nvidia-cusolver-cu12==11.7.1.2\n",
      "  Using cached nvidia_cusolver_cu12-11.7.1.2-py3-none-manylinux2014_x86_64.manylinux_2_17_x86_64.whl (158.2 MB)\n",
      "Requirement already satisfied: setuptools>=40.8.0 in /home/varun/Desktop/someProj/TradeGPT/.venv/lib/python3.10/site-packages (from triton==3.3.1->torch) (59.6.0)\n",
      "Requirement already satisfied: tzdata>=2022.7 in /home/varun/Desktop/someProj/TradeGPT/.venv/lib/python3.10/site-packages (from pandas) (2025.2)\n",
      "Requirement already satisfied: python-dateutil>=2.8.2 in /home/varun/Desktop/someProj/TradeGPT/.venv/lib/python3.10/site-packages (from pandas) (2.9.0.post0)\n",
      "Requirement already satisfied: pytz>=2020.1 in /home/varun/Desktop/someProj/TradeGPT/.venv/lib/python3.10/site-packages (from pandas) (2025.2)\n",
      "Collecting joblib>=1.2.0\n",
      "  Using cached joblib-1.5.1-py3-none-any.whl (307 kB)\n",
      "Collecting threadpoolctl>=3.1.0\n",
      "  Using cached threadpoolctl-3.6.0-py3-none-any.whl (18 kB)\n",
      "Collecting scipy>=1.8.0\n",
      "  Using cached scipy-1.15.3-cp310-cp310-manylinux_2_17_x86_64.manylinux2014_x86_64.whl (37.7 MB)\n",
      "Requirement already satisfied: six>=1.5 in /home/varun/Desktop/someProj/TradeGPT/.venv/lib/python3.10/site-packages (from python-dateutil>=2.8.2->pandas) (1.17.0)\n",
      "Collecting mpmath<1.4,>=1.1.0\n",
      "  Using cached mpmath-1.3.0-py3-none-any.whl (536 kB)\n",
      "Collecting MarkupSafe>=2.0\n",
      "  Using cached MarkupSafe-3.0.2-cp310-cp310-manylinux_2_17_x86_64.manylinux2014_x86_64.whl (20 kB)\n",
      "Installing collected packages: nvidia-cusparselt-cu12, mpmath, triton, threadpoolctl, sympy, scipy, nvidia-nvtx-cu12, nvidia-nvjitlink-cu12, nvidia-nccl-cu12, nvidia-curand-cu12, nvidia-cufile-cu12, nvidia-cuda-runtime-cu12, nvidia-cuda-nvrtc-cu12, nvidia-cuda-cupti-cu12, nvidia-cublas-cu12, networkx, MarkupSafe, joblib, fsspec, filelock, scikit-learn, nvidia-cusparse-cu12, nvidia-cufft-cu12, nvidia-cudnn-cu12, jinja2, nvidia-cusolver-cu12, torch\n",
      "Successfully installed MarkupSafe-3.0.2 filelock-3.18.0 fsspec-2025.5.1 jinja2-3.1.6 joblib-1.5.1 mpmath-1.3.0 networkx-3.4.2 nvidia-cublas-cu12-12.6.4.1 nvidia-cuda-cupti-cu12-12.6.80 nvidia-cuda-nvrtc-cu12-12.6.77 nvidia-cuda-runtime-cu12-12.6.77 nvidia-cudnn-cu12-9.5.1.17 nvidia-cufft-cu12-11.3.0.4 nvidia-cufile-cu12-1.11.1.6 nvidia-curand-cu12-10.3.7.77 nvidia-cusolver-cu12-11.7.1.2 nvidia-cusparse-cu12-12.5.4.2 nvidia-cusparselt-cu12-0.6.3 nvidia-nccl-cu12-2.26.2 nvidia-nvjitlink-cu12-12.6.85 nvidia-nvtx-cu12-12.6.77 scikit-learn-1.7.0 scipy-1.15.3 sympy-1.14.0 threadpoolctl-3.6.0 torch-2.7.1 triton-3.3.1\n",
      "Collecting ta\n",
      "  Using cached ta-0.11.0-py3-none-any.whl\n",
      "Requirement already satisfied: pandas in /home/varun/Desktop/someProj/TradeGPT/.venv/lib/python3.10/site-packages (from ta) (2.3.0)\n",
      "Requirement already satisfied: numpy in /home/varun/Desktop/someProj/TradeGPT/.venv/lib/python3.10/site-packages (from ta) (2.2.6)\n",
      "Requirement already satisfied: tzdata>=2022.7 in /home/varun/Desktop/someProj/TradeGPT/.venv/lib/python3.10/site-packages (from pandas->ta) (2025.2)\n",
      "Requirement already satisfied: pytz>=2020.1 in /home/varun/Desktop/someProj/TradeGPT/.venv/lib/python3.10/site-packages (from pandas->ta) (2025.2)\n",
      "Requirement already satisfied: python-dateutil>=2.8.2 in /home/varun/Desktop/someProj/TradeGPT/.venv/lib/python3.10/site-packages (from pandas->ta) (2.9.0.post0)\n",
      "Requirement already satisfied: six>=1.5 in /home/varun/Desktop/someProj/TradeGPT/.venv/lib/python3.10/site-packages (from python-dateutil>=2.8.2->pandas->ta) (1.17.0)\n",
      "Installing collected packages: ta\n",
      "Successfully installed ta-0.11.0\n"
     ]
    }
   ],
   "source": [
    "!pip install torch pandas numpy scikit-learn\n",
    "!pip install ta"
   ]
  },
  {
   "cell_type": "code",
   "execution_count": 3,
   "id": "8cef13ab",
   "metadata": {},
   "outputs": [],
   "source": [
    "import os\n",
    "import numpy as np\n",
    "import pandas as pd\n",
    "import torch\n",
    "import torch.nn as nn\n",
    "from torch.utils.data import Dataset, DataLoader\n",
    "from sklearn.preprocessing import MinMaxScaler\n",
    "import ta"
   ]
  },
  {
   "cell_type": "code",
   "execution_count": 4,
   "id": "6110280b",
   "metadata": {},
   "outputs": [
    {
     "name": "stdout",
     "output_type": "stream",
     "text": [
      "✅ GPU is available! Using: NVIDIA GeForce RTX 3050 Laptop GPU\n"
     ]
    }
   ],
   "source": [
    "import torch\n",
    "\n",
    "if torch.cuda.is_available():\n",
    "    print(\"✅ GPU is available! Using:\", torch.cuda.get_device_name(0))\n",
    "else:\n",
    "    print(\"❌ GPU not available. Using CPU instead.\")\n"
   ]
  },
  {
   "cell_type": "code",
   "execution_count": 24,
   "id": "eb38f952",
   "metadata": {},
   "outputs": [],
   "source": [
    "# def load_data(csv_file):\n",
    "#     \"\"\"\n",
    "#     Loads the CSV file into a Pandas DataFrame.\n",
    "#     Ensures it is sorted by date ascending.\n",
    "#     \"\"\"\n",
    "#     df = pd.read_csv(csv_file)\n",
    "#     df['Gmt time'] = pd.to_datetime(df['Gmt time'], format='%d.%m.%Y %H:%M:%S.%f')\n",
    "#     df.sort_values(by='Gmt time', inplace=True)\n",
    "\n",
    "#     # Reset index to ensure a clean index\n",
    "#     df.reset_index(drop=True, inplace=True)\n",
    "#     return df\n",
    "# wrong as the dataset i have is tab seperated not comma separated"
   ]
  },
  {
   "cell_type": "code",
   "execution_count": 25,
   "id": "fb2048aa",
   "metadata": {},
   "outputs": [],
   "source": [
    "def load_data(csv_file):\n",
    "    \"\"\"\n",
    "    Loads a tab-separated CSV file into a DataFrame and parses datetime.\n",
    "    \"\"\"\n",
    "    df = pd.read_csv(csv_file, delimiter='\\t')  # 👈 fix: tab delimiter\n",
    "    df.columns = df.columns.str.strip()  # Clean up header\n",
    "\n",
    "    if 'Gmt time' not in df.columns:\n",
    "        raise ValueError(\"Expected column 'Gmt time' not found. Check the CSV formatting.\")\n",
    "\n",
    "    df['Gmt time'] = pd.to_datetime(df['Gmt time'], format='%d.%m.%Y %H:%M:%S.%f')\n",
    "    df.sort_values(by='Gmt time', inplace=True)\n",
    "    df.reset_index(drop=True, inplace=True)\n",
    "    return df\n"
   ]
  },
  {
   "cell_type": "markdown",
   "id": "fef961e1",
   "metadata": {},
   "source": [
    "checking the problem with loading dataset "
   ]
  },
  {
   "cell_type": "code",
   "execution_count": 21,
   "id": "1216ee98",
   "metadata": {},
   "outputs": [
    {
     "name": "stdout",
     "output_type": "stream",
     "text": [
      "Actual column names in your CSV:\n",
      "['Gmt time\\tOpen\\tHigh\\tLow\\tClose\\tVolume']\n",
      "\n",
      "First 5 rows:\n",
      "            Gmt time\\tOpen\\tHigh\\tLow\\tClose\\tVolume\n",
      "0  01.08.2023 13:30:00.000\\t196.235\\t196.73\\t195....\n",
      "1  01.08.2023 14:30:00.000\\t195.48\\t196.17999\\t19...\n",
      "2  01.08.2023 15:30:00.000\\t196.11\\t196.145\\t195....\n",
      "3  01.08.2023 16:30:00.000\\t195.48\\t196.03999\\t19...\n",
      "4  01.08.2023 17:30:00.000\\t195.735\\t196.2701\\t19...\n"
     ]
    }
   ],
   "source": [
    "import pandas as pd\n",
    "\n",
    "csv_file = \"../Output/formatted_data_1h/AAPL_1h_data.csv\"\n",
    "df = pd.read_csv(csv_file)\n",
    "\n",
    "print(\"Actual column names in your CSV:\")\n",
    "print(df.columns.tolist())\n",
    "\n",
    "print(\"\\nFirst 5 rows:\")\n",
    "print(df.head())\n"
   ]
  },
  {
   "cell_type": "code",
   "execution_count": 23,
   "id": "ea93fc4e",
   "metadata": {},
   "outputs": [],
   "source": [
    "csv_file = \"../Output/formatted_data_1h/AAPL_1h_data.csv\"  # Path to your Forex data file\n",
    "df = load_data(csv_file)"
   ]
  },
  {
   "cell_type": "code",
   "execution_count": 6,
   "id": "f866dd32",
   "metadata": {},
   "outputs": [],
   "source": [
    "def add_technical_indicators(df):\n",
    "    \"\"\"\n",
    "    Adds some sample technical indicators using the `ta` library.\n",
    "    Adjust the window periods and indicators to your liking.\n",
    "    \"\"\"\n",
    "\n",
    "    # RSI\n",
    "    df['rsi'] = ta.momentum.rsi(df['Close'], window=14)\n",
    "    # Bollinger Bands\n",
    "    bollinger = ta.volatility.BollingerBands(close=df['Close'], window=20, window_dev=2)\n",
    "    df['bb_high'] = bollinger.bollinger_hband()\n",
    "    df['bb_low'] = bollinger.bollinger_lband()\n",
    "    # Moving Average Slope\n",
    "    df['ma_20'] = df['Close'].rolling(window=20).mean()\n",
    "    df['ma_20_slope'] = df['ma_20'].diff()\n",
    "\n",
    "    # Fill any NaNs from indicator calculations\n",
    "    df.fillna(method='bfill', inplace=True)\n",
    "    df.fillna(method='ffill', inplace=True)\n",
    "    return df"
   ]
  },
  {
   "cell_type": "code",
   "execution_count": 7,
   "id": "42e8f3d1",
   "metadata": {},
   "outputs": [],
   "source": [
    "def select_and_scale_features(df, feature_cols=None):\n",
    "    \"\"\"\n",
    "    Given a DataFrame, selects the relevant columns and applies MinMax scaling.\n",
    "    Returns the scaled array, the fitted scaler (for inversing later), and the list of columns used.\n",
    "    \"\"\"\n",
    "    if feature_cols is None:\n",
    "        # default feature set: O,H,L,C and a few indicators\n",
    "        feature_cols = ['Open', 'High', 'Low', 'Close',\n",
    "                        'rsi', 'bb_high', 'bb_low', 'ma_20', 'ma_20_slope']\n",
    "\n",
    "    data = df[feature_cols].values  # shape: (num_samples, num_features)\n",
    "    scaler = MinMaxScaler()\n",
    "    data_scaled = scaler.fit_transform(data)\n",
    "    return data_scaled, scaler, feature_cols"
   ]
  },
  {
   "cell_type": "code",
   "execution_count": 8,
   "id": "246e06f2",
   "metadata": {},
   "outputs": [],
   "source": [
    "class StockDataset(Dataset):\n",
    "    def __init__(self, data, seq_length=60, prediction_length=1, feature_dim=4, target_column_idx=3):\n",
    "        \"\"\"\n",
    "        data: numpy array of shape [num_samples, num_features]\n",
    "        seq_length: how many timesteps in the input sequence\n",
    "        prediction_length: how many future steps we want to predict\n",
    "        feature_dim: total number of features in data (for dimension checking)\n",
    "        target_column_idx: which column to use as the target (e.g., close=3)\n",
    "        \"\"\"\n",
    "        self.data = data\n",
    "        self.seq_length = seq_length\n",
    "        self.pred_length = prediction_length\n",
    "        self.feature_dim = feature_dim\n",
    "        self.target_column_idx = target_column_idx\n",
    "\n",
    "    def __len__(self):\n",
    "        # The maximum starting index is total_length - seq_length - prediction_length\n",
    "        return len(self.data) - self.seq_length - self.pred_length + 1\n",
    "\n",
    "    def __getitem__(self, idx):\n",
    "        # Input sequence\n",
    "        x = self.data[idx : idx + self.seq_length]\n",
    "        # Future price(s)\n",
    "        y = self.data[idx + self.seq_length : idx + self.seq_length + self.pred_length, self.target_column_idx]\n",
    "        return torch.tensor(x, dtype=torch.float32), torch.tensor(y, dtype=torch.float32)"
   ]
  },
  {
   "cell_type": "code",
   "execution_count": 9,
   "id": "28d34c44",
   "metadata": {},
   "outputs": [],
   "source": [
    "# [Input: (B, 30, 9)]\n",
    "#          |\n",
    "#      [Linear: 9 → 64]\n",
    "#          |\n",
    "# [+Positional Embedding (1, 30, 64)]\n",
    "#          |\n",
    "#      [Transformer Encoder]\n",
    "#      (2 Layers, 8 Heads, FF=256)\n",
    "#          |\n",
    "# [Output Linear: 64 → 1]\n",
    "#          |\n",
    "# [Predictions: (B, 30, 1)\n",
    "\n",
    "\n",
    "class TimeSeriesTransformer(nn.Module):\n",
    "    def __init__(\n",
    "        self,\n",
    "        feature_size=9,\n",
    "        num_layers=2,\n",
    "        d_model=64,\n",
    "        nhead=8,\n",
    "        dim_feedforward=256,\n",
    "        dropout=0.1,\n",
    "        seq_length=30,\n",
    "        prediction_length=1\n",
    "    ):\n",
    "        super(TimeSeriesTransformer, self).__init__()\n",
    "\n",
    "        # We'll embed each feature vector (feature_size) into a d_model-sized vector\n",
    "        self.input_fc = nn.Linear(feature_size, d_model)\n",
    "\n",
    "        # Positional Encoding (simple learnable or sinusoidal). We'll do a learnable here:\n",
    "        self.pos_embedding = nn.Parameter(torch.zeros(1, seq_length, d_model))\n",
    "\n",
    "        # Transformer Encoder\n",
    "        encoder_layer = nn.TransformerEncoderLayer(\n",
    "            d_model=d_model,\n",
    "            nhead=nhead,\n",
    "            dim_feedforward=dim_feedforward,\n",
    "            dropout=dropout,\n",
    "            activation=\"relu\"\n",
    "        )\n",
    "        self.transformer_encoder = nn.TransformerEncoder(encoder_layer, num_layers=num_layers)\n",
    "\n",
    "        # Final output: we want to forecast `prediction_length` steps for 1 dimension (Close price).\n",
    "        # If you want multi-step and multi-dimensional, adjust accordingly.\n",
    "        self.fc_out = nn.Linear(d_model, prediction_length)\n",
    "\n",
    "    def forward(self, src):\n",
    "        \"\"\"\n",
    "        src shape: [batch_size, seq_length, feature_size]\n",
    "        \"\"\"\n",
    "        batch_size, seq_len, _ = src.shape\n",
    "\n",
    "        # First project features into d_model\n",
    "        src = self.input_fc(src)  # -> [batch_size, seq_length, d_model]\n",
    "\n",
    "        # Add positional embedding\n",
    "        # pos_embedding -> [1, seq_length, d_model], so broadcast along batch dimension\n",
    "        src = src + self.pos_embedding[:, :seq_len, :]\n",
    "\n",
    "        # Transformer expects shape: [sequence_length, batch_size, d_model]\n",
    "        src = src.permute(1, 0, 2)  # -> [seq_length, batch_size, d_model]\n",
    "\n",
    "        # Pass through the transformer\n",
    "        encoded = self.transformer_encoder(src)  # [seq_length, batch_size, d_model]\n",
    "\n",
    "        # We only want the output at the last time step for forecasting the future\n",
    "        last_step = encoded[-1, :, :]  # [batch_size, d_model]\n",
    "\n",
    "        out = self.fc_out(last_step)  # [batch_size, prediction_length]\n",
    "        return out"
   ]
  },
  {
   "cell_type": "code",
   "execution_count": 12,
   "id": "77061fd8",
   "metadata": {},
   "outputs": [],
   "source": [
    "def train_transformer_model(\n",
    "    model,\n",
    "    train_loader,\n",
    "    val_loader=None,\n",
    "    lr=1e-3,\n",
    "    epochs=20,\n",
    "    device='gpu'\n",
    "):\n",
    "    criterion = nn.MSELoss()  # For regression on price\n",
    "    optimizer = torch.optim.Adam(model.parameters(), lr=lr)\n",
    "\n",
    "    model.to(device)\n",
    "\n",
    "    for epoch in range(epochs):\n",
    "        model.train()\n",
    "        train_losses = []\n",
    "        for x_batch, y_batch in train_loader:\n",
    "            x_batch = x_batch.to(device)\n",
    "            y_batch = y_batch.to(device)\n",
    "\n",
    "            optimizer.zero_grad()\n",
    "            output = model(x_batch)  # output shape: [batch_size, prediction_length]\n",
    "            loss = criterion(output, y_batch)\n",
    "            loss.backward()\n",
    "            optimizer.step()\n",
    "            train_losses.append(loss.item())\n",
    "\n",
    "        mean_train_loss = np.mean(train_losses)\n",
    "\n",
    "        if val_loader is not None:\n",
    "            model.eval()\n",
    "            val_losses = []\n",
    "            with torch.no_grad():\n",
    "                for x_val, y_val in val_loader:\n",
    "                    x_val = x_val.to(device)\n",
    "                    y_val = y_val.to(device)\n",
    "                    output_val = model(x_val)\n",
    "                    loss_val = criterion(output_val, y_val)\n",
    "                    val_losses.append(loss_val.item())\n",
    "            mean_val_loss = np.mean(val_losses)\n",
    "            print(f\"Epoch [{epoch+1}/{epochs}], Train Loss: {mean_train_loss:.6f}, Val Loss: {mean_val_loss:.6f}\")\n",
    "        else:\n",
    "            print(f\"Epoch [{epoch+1}/{epochs}], Train Loss: {mean_train_loss:.6f}\")\n",
    "\n",
    "    return model"
   ]
  },
  {
   "cell_type": "code",
   "execution_count": 13,
   "id": "83de95ec",
   "metadata": {},
   "outputs": [],
   "source": [
    "import matplotlib.pyplot as plt\n",
    "import numpy as np\n",
    "import torch\n",
    "\n",
    "def evaluate_model(model, test_loader, scaler, feature_cols, target_col_idx,\n",
    "                   window_width=10, start_index=0, pred_length=1, device='cpu'):\n",
    "    \"\"\"\n",
    "    Evaluates the model on test data and compares predictions with actual prices.\n",
    "    Plots real vs. predicted values within a given window width and starting index.\n",
    "\n",
    "    Parameters:\n",
    "        model: Trained PyTorch model.\n",
    "        test_loader: DataLoader for test data.\n",
    "        scaler: MinMaxScaler (used to inverse transform predictions and real values).\n",
    "        feature_cols: List of feature column names.\n",
    "        target_col_idx: Index of the \"Close\" price in feature columns.\n",
    "        window_width: Number of points to plot for real vs. predicted prices.\n",
    "        start_index: The index in the test dataset from which to start plotting.\n",
    "        pred_length: Number of future values predicted by the model.\n",
    "        device: 'cpu' or 'cuda' for model inference.\n",
    "    \"\"\"\n",
    "    model.eval()\n",
    "    real_prices = []\n",
    "    predicted_prices = []\n",
    "\n",
    "    with torch.no_grad():\n",
    "        for x_batch, y_batch in test_loader:\n",
    "            x_batch = x_batch.to(device)\n",
    "\n",
    "            # Get model predictions\n",
    "            predictions = model(x_batch).cpu().numpy()  # shape: [batch_size, pred_length]\n",
    "            y_batch = y_batch.cpu().numpy()  # shape: [batch_size, pred_length]\n",
    "\n",
    "            for i in range(len(predictions)):\n",
    "                # Create dummy inputs for inverse scaling\n",
    "                dummy_pred = np.zeros((pred_length, len(feature_cols)))\n",
    "                dummy_pred[:, target_col_idx] = predictions[i]  # Assign predicted future prices\n",
    "\n",
    "                dummy_real = np.zeros((pred_length, len(feature_cols)))\n",
    "                dummy_real[:, target_col_idx] = y_batch[i]  # Assign real future prices\n",
    "\n",
    "                # Inverse transform both predicted and actual prices\n",
    "                pred_inversed = scaler.inverse_transform(dummy_pred)[:, target_col_idx]\n",
    "                real_inversed = scaler.inverse_transform(dummy_real)[:, target_col_idx]\n",
    "\n",
    "                # Store values\n",
    "                predicted_prices.extend(pred_inversed)\n",
    "                real_prices.extend(real_inversed)\n",
    "\n",
    "    # Convert lists to numpy arrays\n",
    "    real_prices = np.array(real_prices).flatten()\n",
    "    predicted_prices = np.array(predicted_prices).flatten()\n",
    "\n",
    "    # -------------------------\n",
    "    # Compute Accuracy Metrics\n",
    "    # -------------------------\n",
    "    mse = np.mean((real_prices - predicted_prices) ** 2)\n",
    "    mae = np.mean(np.abs(real_prices - predicted_prices))\n",
    "\n",
    "    print(f\"Model Evaluation:\\n  - Mean Squared Error (MSE): {mse:.4f}\")\n",
    "    print(f\"  - Mean Absolute Error (MAE): {mae:.4f}\")\n",
    "\n",
    "    # -------------------------\n",
    "    # Adjust Start Index and Window Width for Plot\n",
    "    # -------------------------\n",
    "    if start_index < 0 or start_index >= len(real_prices):\n",
    "        print(f\"Warning: start_index {start_index} is out of bounds. Using 0 instead.\")\n",
    "        start_index = 0\n",
    "\n",
    "    end_index = min(start_index + window_width * pred_length, len(real_prices))  # Adjust for multi-step forecasts\n",
    "\n",
    "    # -------------------------\n",
    "    # Plot Real vs. Predicted Prices\n",
    "    # -------------------------\n",
    "    plt.figure(figsize=(12, 6))\n",
    "    plt.plot(range(start_index, end_index), real_prices[start_index:end_index],\n",
    "             label=\"Real Close Prices\", linestyle=\"dashed\", marker='o')\n",
    "    plt.plot(range(start_index, end_index), predicted_prices[start_index:end_index],\n",
    "             label=\"Predicted Close Prices\", linestyle=\"-\", marker='x')\n",
    "    plt.title(f\"Real vs. Predicted Close Prices (From index {start_index}, {window_width} Windows, {pred_length} Steps Each)\")\n",
    "    plt.xlabel(\"Time Steps\")\n",
    "    plt.ylabel(\"Close Price\")\n",
    "    plt.legend()\n",
    "    plt.show()"
   ]
  },
  {
   "cell_type": "code",
   "execution_count": 27,
   "id": "68d410dd",
   "metadata": {},
   "outputs": [
    {
     "name": "stderr",
     "output_type": "stream",
     "text": [
      "/tmp/ipykernel_35386/3096370088.py:18: FutureWarning: DataFrame.fillna with 'method' is deprecated and will raise in a future version. Use obj.ffill() or obj.bfill() instead.\n",
      "  df.fillna(method='bfill', inplace=True)\n",
      "/tmp/ipykernel_35386/3096370088.py:19: FutureWarning: DataFrame.fillna with 'method' is deprecated and will raise in a future version. Use obj.ffill() or obj.bfill() instead.\n",
      "  df.fillna(method='ffill', inplace=True)\n",
      "/home/varun/Desktop/someProj/TradeGPT/.venv/lib/python3.10/site-packages/torch/nn/modules/transformer.py:382: UserWarning: enable_nested_tensor is True, but self.use_nested_tensor is False because encoder_layer.self_attn.batch_first was not True(use batch_first for better inference performance)\n",
      "  warnings.warn(\n"
     ]
    },
    {
     "name": "stdout",
     "output_type": "stream",
     "text": [
      "Epoch [1/10], Train Loss: 0.035765, Val Loss: 0.006098\n",
      "Epoch [2/10], Train Loss: 0.004437, Val Loss: 0.004398\n",
      "Epoch [3/10], Train Loss: 0.003004, Val Loss: 0.005807\n",
      "Epoch [4/10], Train Loss: 0.002388, Val Loss: 0.002520\n",
      "Epoch [5/10], Train Loss: 0.001752, Val Loss: 0.003249\n",
      "Epoch [6/10], Train Loss: 0.001506, Val Loss: 0.002594\n",
      "Epoch [7/10], Train Loss: 0.001182, Val Loss: 0.003455\n",
      "Epoch [8/10], Train Loss: 0.001029, Val Loss: 0.002041\n",
      "Epoch [9/10], Train Loss: 0.001063, Val Loss: 0.002568\n",
      "Epoch [10/10], Train Loss: 0.000917, Val Loss: 0.001253\n"
     ]
    }
   ],
   "source": [
    "# -------------------------\n",
    "# 1. Load and Prepare Data\n",
    "# -------------------------\n",
    "csv_file = \"../Output/formatted_data_1h/AAPL_1h_data.csv\"  # Path to your Forex data file\n",
    "df = load_data(csv_file)\n",
    "\n",
    "# Add indicators\n",
    "df = add_technical_indicators(df)\n",
    "\n",
    "# Select features and scale\n",
    "data_scaled, scaler, feature_cols = select_and_scale_features(df)\n",
    "target_col_idx = feature_cols.index('Close')\n",
    "\n",
    "# -------------------------\n",
    "# 2. Create Dataset & Dataloaders\n",
    "# -------------------------\n",
    "seq_length = 30\n",
    "pred_length = 1  # Forecast next 1 candle (adjust for 3 or 5 if needed)\n",
    "\n",
    "dataset = StockDataset(data_scaled, seq_length, pred_length, len(feature_cols), target_col_idx)\n",
    "\n",
    "# Train/Validation/Test Split (80% train, 10% val, 10% test)\n",
    "train_size = int(len(dataset) * 0.8)\n",
    "val_size = int(len(dataset) * 0.1)\n",
    "test_size = len(dataset) - train_size - val_size\n",
    "\n",
    "# !!! don't use this !!!! train_dataset, val_dataset, test_dataset = torch.utils.data.random_split(dataset, [train_size, val_size, test_size])\n",
    "# Perform sequential splitting (without shuffling)\n",
    "train_dataset = torch.utils.data.Subset(dataset, range(0, train_size))\n",
    "val_dataset = torch.utils.data.Subset(dataset, range(train_size, train_size + val_size))\n",
    "test_dataset = torch.utils.data.Subset(dataset, range(train_size + val_size, len(dataset)))\n",
    "\n",
    "\n",
    "batch_size = 32\n",
    "train_loader = DataLoader(train_dataset, batch_size=batch_size, shuffle=True)\n",
    "val_loader = DataLoader(val_dataset, batch_size=batch_size, shuffle=False)\n",
    "test_loader = DataLoader(test_dataset, batch_size=batch_size, shuffle=False)\n",
    "\n",
    "# -------------------------\n",
    "# 3. Create and Train Transformer Model\n",
    "# -------------------------\n",
    "model = TimeSeriesTransformer(\n",
    "    feature_size=len(feature_cols),\n",
    "    num_layers=2,\n",
    "    d_model=64,\n",
    "    nhead=8,\n",
    "    dim_feedforward=256,\n",
    "    dropout=0.1,\n",
    "    seq_length=seq_length,\n",
    "    prediction_length=pred_length\n",
    ")\n",
    "\n",
    "device = 'cuda' if torch.cuda.is_available() else 'cpu'\n",
    "trained_model = train_transformer_model(model, train_loader, val_loader, lr=1e-3, epochs=10, device=device)"
   ]
  },
  {
   "cell_type": "code",
   "execution_count": 28,
   "id": "7d4d6d75",
   "metadata": {},
   "outputs": [
    {
     "name": "stdout",
     "output_type": "stream",
     "text": [
      "Model Evaluation:\n",
      "  - Mean Squared Error (MSE): 2.2543\n",
      "  - Mean Absolute Error (MAE): 0.9829\n"
     ]
    },
    {
     "data": {
      "image/png": "[encoded data removed]",
      "text/plain": [
       "<Figure size 1200x600 with 1 Axes>"
      ]
     },
     "metadata": {},
     "output_type": "display_data"
    }
   ],
   "source": [
    "# -------------------------\n",
    "# 4. Evaluate and Plot Results\n",
    "# -------------------------\n",
    "evaluate_model(trained_model, test_loader, scaler, feature_cols, target_col_idx,\n",
    "               window_width=45, start_index=70, pred_length=1, device=device)"
   ]
  },
  {
   "cell_type": "code",
   "execution_count": 32,
   "id": "c784297b",
   "metadata": {},
   "outputs": [
    {
     "name": "stdout",
     "output_type": "stream",
     "text": [
      "📂 Processing: PM_1h_data.csv\n"
     ]
    },
    {
     "name": "stderr",
     "output_type": "stream",
     "text": [
      "/tmp/ipykernel_35386/3096370088.py:18: FutureWarning: DataFrame.fillna with 'method' is deprecated and will raise in a future version. Use obj.ffill() or obj.bfill() instead.\n",
      "  df.fillna(method='bfill', inplace=True)\n",
      "/tmp/ipykernel_35386/3096370088.py:19: FutureWarning: DataFrame.fillna with 'method' is deprecated and will raise in a future version. Use obj.ffill() or obj.bfill() instead.\n",
      "  df.fillna(method='ffill', inplace=True)\n",
      "/home/varun/Desktop/someProj/TradeGPT/.venv/lib/python3.10/site-packages/torch/nn/modules/transformer.py:382: UserWarning: enable_nested_tensor is True, but self.use_nested_tensor is False because encoder_layer.self_attn.batch_first was not True(use batch_first for better inference performance)\n",
      "  warnings.warn(\n"
     ]
    },
    {
     "name": "stdout",
     "output_type": "stream",
     "text": [
      "Epoch [1/5], Train Loss: 0.024362, Val Loss: 0.006823\n",
      "Epoch [2/5], Train Loss: 0.003173, Val Loss: 0.006485\n",
      "Epoch [3/5], Train Loss: 0.001892, Val Loss: 0.002300\n",
      "Epoch [4/5], Train Loss: 0.001358, Val Loss: 0.001219\n",
      "Epoch [5/5], Train Loss: 0.001077, Val Loss: 0.001465\n",
      "✅ Trained on PM_1h_data.csv\n",
      "📂 Processing: DE_1h_data.csv\n"
     ]
    },
    {
     "name": "stderr",
     "output_type": "stream",
     "text": [
      "/tmp/ipykernel_35386/3096370088.py:18: FutureWarning: DataFrame.fillna with 'method' is deprecated and will raise in a future version. Use obj.ffill() or obj.bfill() instead.\n",
      "  df.fillna(method='bfill', inplace=True)\n",
      "/tmp/ipykernel_35386/3096370088.py:19: FutureWarning: DataFrame.fillna with 'method' is deprecated and will raise in a future version. Use obj.ffill() or obj.bfill() instead.\n",
      "  df.fillna(method='ffill', inplace=True)\n",
      "/home/varun/Desktop/someProj/TradeGPT/.venv/lib/python3.10/site-packages/torch/nn/modules/transformer.py:382: UserWarning: enable_nested_tensor is True, but self.use_nested_tensor is False because encoder_layer.self_attn.batch_first was not True(use batch_first for better inference performance)\n",
      "  warnings.warn(\n"
     ]
    },
    {
     "name": "stdout",
     "output_type": "stream",
     "text": [
      "Epoch [1/5], Train Loss: 0.026118, Val Loss: 0.003817\n",
      "Epoch [2/5], Train Loss: 0.003142, Val Loss: 0.002111\n",
      "Epoch [3/5], Train Loss: 0.002064, Val Loss: 0.001743\n",
      "Epoch [4/5], Train Loss: 0.001595, Val Loss: 0.001166\n",
      "Epoch [5/5], Train Loss: 0.001166, Val Loss: 0.002764\n",
      "✅ Trained on DE_1h_data.csv\n",
      "📂 Processing: GD_1h_data.csv\n"
     ]
    },
    {
     "name": "stderr",
     "output_type": "stream",
     "text": [
      "/tmp/ipykernel_35386/3096370088.py:18: FutureWarning: DataFrame.fillna with 'method' is deprecated and will raise in a future version. Use obj.ffill() or obj.bfill() instead.\n",
      "  df.fillna(method='bfill', inplace=True)\n",
      "/tmp/ipykernel_35386/3096370088.py:19: FutureWarning: DataFrame.fillna with 'method' is deprecated and will raise in a future version. Use obj.ffill() or obj.bfill() instead.\n",
      "  df.fillna(method='ffill', inplace=True)\n",
      "/home/varun/Desktop/someProj/TradeGPT/.venv/lib/python3.10/site-packages/torch/nn/modules/transformer.py:382: UserWarning: enable_nested_tensor is True, but self.use_nested_tensor is False because encoder_layer.self_attn.batch_first was not True(use batch_first for better inference performance)\n",
      "  warnings.warn(\n"
     ]
    },
    {
     "name": "stdout",
     "output_type": "stream",
     "text": [
      "Epoch [1/5], Train Loss: 0.031823, Val Loss: 0.001440\n",
      "Epoch [2/5], Train Loss: 0.003964, Val Loss: 0.001436\n",
      "Epoch [3/5], Train Loss: 0.002750, Val Loss: 0.001017\n",
      "Epoch [4/5], Train Loss: 0.002036, Val Loss: 0.000951\n",
      "Epoch [5/5], Train Loss: 0.001545, Val Loss: 0.001020\n",
      "✅ Trained on GD_1h_data.csv\n",
      "📂 Processing: CI_1h_data.csv\n"
     ]
    },
    {
     "name": "stderr",
     "output_type": "stream",
     "text": [
      "/tmp/ipykernel_35386/3096370088.py:18: FutureWarning: DataFrame.fillna with 'method' is deprecated and will raise in a future version. Use obj.ffill() or obj.bfill() instead.\n",
      "  df.fillna(method='bfill', inplace=True)\n",
      "/tmp/ipykernel_35386/3096370088.py:19: FutureWarning: DataFrame.fillna with 'method' is deprecated and will raise in a future version. Use obj.ffill() or obj.bfill() instead.\n",
      "  df.fillna(method='ffill', inplace=True)\n",
      "/home/varun/Desktop/someProj/TradeGPT/.venv/lib/python3.10/site-packages/torch/nn/modules/transformer.py:382: UserWarning: enable_nested_tensor is True, but self.use_nested_tensor is False because encoder_layer.self_attn.batch_first was not True(use batch_first for better inference performance)\n",
      "  warnings.warn(\n"
     ]
    },
    {
     "name": "stdout",
     "output_type": "stream",
     "text": [
      "Epoch [1/5], Train Loss: 0.024822, Val Loss: 0.000655\n",
      "Epoch [2/5], Train Loss: 0.003353, Val Loss: 0.000544\n",
      "Epoch [3/5], Train Loss: 0.002418, Val Loss: 0.000636\n",
      "Epoch [4/5], Train Loss: 0.001810, Val Loss: 0.000640\n",
      "Epoch [5/5], Train Loss: 0.001701, Val Loss: 0.000529\n",
      "✅ Trained on CI_1h_data.csv\n",
      "📂 Processing: ZION_1h_data.csv\n"
     ]
    },
    {
     "name": "stderr",
     "output_type": "stream",
     "text": [
      "/tmp/ipykernel_35386/3096370088.py:18: FutureWarning: DataFrame.fillna with 'method' is deprecated and will raise in a future version. Use obj.ffill() or obj.bfill() instead.\n",
      "  df.fillna(method='bfill', inplace=True)\n",
      "/tmp/ipykernel_35386/3096370088.py:19: FutureWarning: DataFrame.fillna with 'method' is deprecated and will raise in a future version. Use obj.ffill() or obj.bfill() instead.\n",
      "  df.fillna(method='ffill', inplace=True)\n",
      "/home/varun/Desktop/someProj/TradeGPT/.venv/lib/python3.10/site-packages/torch/nn/modules/transformer.py:382: UserWarning: enable_nested_tensor is True, but self.use_nested_tensor is False because encoder_layer.self_attn.batch_first was not True(use batch_first for better inference performance)\n",
      "  warnings.warn(\n"
     ]
    },
    {
     "name": "stdout",
     "output_type": "stream",
     "text": [
      "Epoch [1/5], Train Loss: 0.040591, Val Loss: 0.005019\n",
      "Epoch [2/5], Train Loss: 0.003882, Val Loss: 0.001313\n",
      "Epoch [3/5], Train Loss: 0.002724, Val Loss: 0.000573\n",
      "Epoch [4/5], Train Loss: 0.001871, Val Loss: 0.000853\n",
      "Epoch [5/5], Train Loss: 0.001696, Val Loss: 0.000670\n",
      "✅ Trained on ZION_1h_data.csv\n",
      "📂 Processing: MRK_1h_data.csv\n"
     ]
    },
    {
     "name": "stderr",
     "output_type": "stream",
     "text": [
      "/tmp/ipykernel_35386/3096370088.py:18: FutureWarning: DataFrame.fillna with 'method' is deprecated and will raise in a future version. Use obj.ffill() or obj.bfill() instead.\n",
      "  df.fillna(method='bfill', inplace=True)\n",
      "/tmp/ipykernel_35386/3096370088.py:19: FutureWarning: DataFrame.fillna with 'method' is deprecated and will raise in a future version. Use obj.ffill() or obj.bfill() instead.\n",
      "  df.fillna(method='ffill', inplace=True)\n",
      "/home/varun/Desktop/someProj/TradeGPT/.venv/lib/python3.10/site-packages/torch/nn/modules/transformer.py:382: UserWarning: enable_nested_tensor is True, but self.use_nested_tensor is False because encoder_layer.self_attn.batch_first was not True(use batch_first for better inference performance)\n",
      "  warnings.warn(\n"
     ]
    },
    {
     "name": "stdout",
     "output_type": "stream",
     "text": [
      "Epoch [1/5], Train Loss: 0.029614, Val Loss: 0.004793\n",
      "Epoch [2/5], Train Loss: 0.002967, Val Loss: 0.000879\n",
      "Epoch [3/5], Train Loss: 0.001771, Val Loss: 0.001007\n",
      "Epoch [4/5], Train Loss: 0.001377, Val Loss: 0.000610\n",
      "Epoch [5/5], Train Loss: 0.000988, Val Loss: 0.000204\n",
      "✅ Trained on MRK_1h_data.csv\n",
      "📂 Processing: AXP_1h_data.csv\n"
     ]
    },
    {
     "name": "stderr",
     "output_type": "stream",
     "text": [
      "/tmp/ipykernel_35386/3096370088.py:18: FutureWarning: DataFrame.fillna with 'method' is deprecated and will raise in a future version. Use obj.ffill() or obj.bfill() instead.\n",
      "  df.fillna(method='bfill', inplace=True)\n",
      "/tmp/ipykernel_35386/3096370088.py:19: FutureWarning: DataFrame.fillna with 'method' is deprecated and will raise in a future version. Use obj.ffill() or obj.bfill() instead.\n",
      "  df.fillna(method='ffill', inplace=True)\n",
      "/home/varun/Desktop/someProj/TradeGPT/.venv/lib/python3.10/site-packages/torch/nn/modules/transformer.py:382: UserWarning: enable_nested_tensor is True, but self.use_nested_tensor is False because encoder_layer.self_attn.batch_first was not True(use batch_first for better inference performance)\n",
      "  warnings.warn(\n"
     ]
    },
    {
     "name": "stdout",
     "output_type": "stream",
     "text": [
      "Epoch [1/5], Train Loss: 0.027242, Val Loss: 0.004671\n",
      "Epoch [2/5], Train Loss: 0.004058, Val Loss: 0.001444\n",
      "Epoch [3/5], Train Loss: 0.002571, Val Loss: 0.003444\n",
      "Epoch [4/5], Train Loss: 0.001801, Val Loss: 0.001042\n",
      "Epoch [5/5], Train Loss: 0.001412, Val Loss: 0.001675\n",
      "✅ Trained on AXP_1h_data.csv\n",
      "📂 Processing: WHR_1h_data.csv\n"
     ]
    },
    {
     "name": "stderr",
     "output_type": "stream",
     "text": [
      "/tmp/ipykernel_35386/3096370088.py:18: FutureWarning: DataFrame.fillna with 'method' is deprecated and will raise in a future version. Use obj.ffill() or obj.bfill() instead.\n",
      "  df.fillna(method='bfill', inplace=True)\n",
      "/tmp/ipykernel_35386/3096370088.py:19: FutureWarning: DataFrame.fillna with 'method' is deprecated and will raise in a future version. Use obj.ffill() or obj.bfill() instead.\n",
      "  df.fillna(method='ffill', inplace=True)\n",
      "/home/varun/Desktop/someProj/TradeGPT/.venv/lib/python3.10/site-packages/torch/nn/modules/transformer.py:382: UserWarning: enable_nested_tensor is True, but self.use_nested_tensor is False because encoder_layer.self_attn.batch_first was not True(use batch_first for better inference performance)\n",
      "  warnings.warn(\n"
     ]
    },
    {
     "name": "stdout",
     "output_type": "stream",
     "text": [
      "Epoch [1/5], Train Loss: 0.035210, Val Loss: 0.001104\n",
      "Epoch [2/5], Train Loss: 0.003757, Val Loss: 0.001289\n",
      "Epoch [3/5], Train Loss: 0.003231, Val Loss: 0.000777\n",
      "Epoch [4/5], Train Loss: 0.002219, Val Loss: 0.001841\n",
      "Epoch [5/5], Train Loss: 0.001965, Val Loss: 0.000384\n",
      "✅ Trained on WHR_1h_data.csv\n",
      "📂 Processing: OKE_1h_data.csv\n"
     ]
    },
    {
     "name": "stderr",
     "output_type": "stream",
     "text": [
      "/tmp/ipykernel_35386/3096370088.py:18: FutureWarning: DataFrame.fillna with 'method' is deprecated and will raise in a future version. Use obj.ffill() or obj.bfill() instead.\n",
      "  df.fillna(method='bfill', inplace=True)\n",
      "/tmp/ipykernel_35386/3096370088.py:19: FutureWarning: DataFrame.fillna with 'method' is deprecated and will raise in a future version. Use obj.ffill() or obj.bfill() instead.\n",
      "  df.fillna(method='ffill', inplace=True)\n",
      "/home/varun/Desktop/someProj/TradeGPT/.venv/lib/python3.10/site-packages/torch/nn/modules/transformer.py:382: UserWarning: enable_nested_tensor is True, but self.use_nested_tensor is False because encoder_layer.self_attn.batch_first was not True(use batch_first for better inference performance)\n",
      "  warnings.warn(\n"
     ]
    },
    {
     "name": "stdout",
     "output_type": "stream",
     "text": [
      "Epoch [1/5], Train Loss: 0.026201, Val Loss: 0.003002\n",
      "Epoch [2/5], Train Loss: 0.003263, Val Loss: 0.003146\n",
      "Epoch [3/5], Train Loss: 0.001793, Val Loss: 0.002688\n",
      "Epoch [4/5], Train Loss: 0.001655, Val Loss: 0.001194\n",
      "Epoch [5/5], Train Loss: 0.001261, Val Loss: 0.001104\n",
      "✅ Trained on OKE_1h_data.csv\n",
      "📂 Processing: GFS_1h_data.csv\n"
     ]
    },
    {
     "name": "stderr",
     "output_type": "stream",
     "text": [
      "/tmp/ipykernel_35386/3096370088.py:18: FutureWarning: DataFrame.fillna with 'method' is deprecated and will raise in a future version. Use obj.ffill() or obj.bfill() instead.\n",
      "  df.fillna(method='bfill', inplace=True)\n",
      "/tmp/ipykernel_35386/3096370088.py:19: FutureWarning: DataFrame.fillna with 'method' is deprecated and will raise in a future version. Use obj.ffill() or obj.bfill() instead.\n",
      "  df.fillna(method='ffill', inplace=True)\n",
      "/home/varun/Desktop/someProj/TradeGPT/.venv/lib/python3.10/site-packages/torch/nn/modules/transformer.py:382: UserWarning: enable_nested_tensor is True, but self.use_nested_tensor is False because encoder_layer.self_attn.batch_first was not True(use batch_first for better inference performance)\n",
      "  warnings.warn(\n"
     ]
    },
    {
     "name": "stdout",
     "output_type": "stream",
     "text": [
      "Epoch [1/5], Train Loss: 0.049031, Val Loss: 0.010771\n",
      "Epoch [2/5], Train Loss: 0.004597, Val Loss: 0.000853\n",
      "Epoch [3/5], Train Loss: 0.003495, Val Loss: 0.000498\n",
      "Epoch [4/5], Train Loss: 0.002249, Val Loss: 0.002671\n",
      "Epoch [5/5], Train Loss: 0.001939, Val Loss: 0.000375\n",
      "✅ Trained on GFS_1h_data.csv\n",
      "📂 Processing: HAL_1h_data.csv\n"
     ]
    },
    {
     "name": "stderr",
     "output_type": "stream",
     "text": [
      "/tmp/ipykernel_35386/3096370088.py:18: FutureWarning: DataFrame.fillna with 'method' is deprecated and will raise in a future version. Use obj.ffill() or obj.bfill() instead.\n",
      "  df.fillna(method='bfill', inplace=True)\n",
      "/tmp/ipykernel_35386/3096370088.py:19: FutureWarning: DataFrame.fillna with 'method' is deprecated and will raise in a future version. Use obj.ffill() or obj.bfill() instead.\n",
      "  df.fillna(method='ffill', inplace=True)\n",
      "/home/varun/Desktop/someProj/TradeGPT/.venv/lib/python3.10/site-packages/torch/nn/modules/transformer.py:382: UserWarning: enable_nested_tensor is True, but self.use_nested_tensor is False because encoder_layer.self_attn.batch_first was not True(use batch_first for better inference performance)\n",
      "  warnings.warn(\n"
     ]
    },
    {
     "name": "stdout",
     "output_type": "stream",
     "text": [
      "Epoch [1/5], Train Loss: 0.043627, Val Loss: 0.008637\n",
      "Epoch [2/5], Train Loss: 0.005238, Val Loss: 0.003034\n",
      "Epoch [3/5], Train Loss: 0.002945, Val Loss: 0.001129\n",
      "Epoch [4/5], Train Loss: 0.002132, Val Loss: 0.000497\n",
      "Epoch [5/5], Train Loss: 0.001525, Val Loss: 0.001255\n",
      "✅ Trained on HAL_1h_data.csv\n",
      "📂 Processing: GPC_1h_data.csv\n"
     ]
    },
    {
     "name": "stderr",
     "output_type": "stream",
     "text": [
      "/tmp/ipykernel_35386/3096370088.py:18: FutureWarning: DataFrame.fillna with 'method' is deprecated and will raise in a future version. Use obj.ffill() or obj.bfill() instead.\n",
      "  df.fillna(method='bfill', inplace=True)\n",
      "/tmp/ipykernel_35386/3096370088.py:19: FutureWarning: DataFrame.fillna with 'method' is deprecated and will raise in a future version. Use obj.ffill() or obj.bfill() instead.\n",
      "  df.fillna(method='ffill', inplace=True)\n",
      "/home/varun/Desktop/someProj/TradeGPT/.venv/lib/python3.10/site-packages/torch/nn/modules/transformer.py:382: UserWarning: enable_nested_tensor is True, but self.use_nested_tensor is False because encoder_layer.self_attn.batch_first was not True(use batch_first for better inference performance)\n",
      "  warnings.warn(\n"
     ]
    },
    {
     "name": "stdout",
     "output_type": "stream",
     "text": [
      "Epoch [1/5], Train Loss: 0.029183, Val Loss: 0.000565\n",
      "Epoch [2/5], Train Loss: 0.003657, Val Loss: 0.000949\n",
      "Epoch [3/5], Train Loss: 0.002737, Val Loss: 0.000961\n",
      "Epoch [4/5], Train Loss: 0.002002, Val Loss: 0.000416\n",
      "Epoch [5/5], Train Loss: 0.001535, Val Loss: 0.001071\n",
      "✅ Trained on GPC_1h_data.csv\n",
      "📂 Processing: VTR_1h_data.csv\n"
     ]
    },
    {
     "name": "stderr",
     "output_type": "stream",
     "text": [
      "/tmp/ipykernel_35386/3096370088.py:18: FutureWarning: DataFrame.fillna with 'method' is deprecated and will raise in a future version. Use obj.ffill() or obj.bfill() instead.\n",
      "  df.fillna(method='bfill', inplace=True)\n",
      "/tmp/ipykernel_35386/3096370088.py:19: FutureWarning: DataFrame.fillna with 'method' is deprecated and will raise in a future version. Use obj.ffill() or obj.bfill() instead.\n",
      "  df.fillna(method='ffill', inplace=True)\n",
      "/home/varun/Desktop/someProj/TradeGPT/.venv/lib/python3.10/site-packages/torch/nn/modules/transformer.py:382: UserWarning: enable_nested_tensor is True, but self.use_nested_tensor is False because encoder_layer.self_attn.batch_first was not True(use batch_first for better inference performance)\n",
      "  warnings.warn(\n"
     ]
    },
    {
     "name": "stdout",
     "output_type": "stream",
     "text": [
      "Epoch [1/5], Train Loss: 0.025517, Val Loss: 0.006275\n",
      "Epoch [2/5], Train Loss: 0.002837, Val Loss: 0.005373\n",
      "Epoch [3/5], Train Loss: 0.001811, Val Loss: 0.002280\n",
      "Epoch [4/5], Train Loss: 0.001491, Val Loss: 0.001188\n",
      "Epoch [5/5], Train Loss: 0.000980, Val Loss: 0.001465\n",
      "✅ Trained on VTR_1h_data.csv\n",
      "📂 Processing: JCI_1h_data.csv\n"
     ]
    },
    {
     "name": "stderr",
     "output_type": "stream",
     "text": [
      "/tmp/ipykernel_35386/3096370088.py:18: FutureWarning: DataFrame.fillna with 'method' is deprecated and will raise in a future version. Use obj.ffill() or obj.bfill() instead.\n",
      "  df.fillna(method='bfill', inplace=True)\n",
      "/tmp/ipykernel_35386/3096370088.py:19: FutureWarning: DataFrame.fillna with 'method' is deprecated and will raise in a future version. Use obj.ffill() or obj.bfill() instead.\n",
      "  df.fillna(method='ffill', inplace=True)\n",
      "/home/varun/Desktop/someProj/TradeGPT/.venv/lib/python3.10/site-packages/torch/nn/modules/transformer.py:382: UserWarning: enable_nested_tensor is True, but self.use_nested_tensor is False because encoder_layer.self_attn.batch_first was not True(use batch_first for better inference performance)\n",
      "  warnings.warn(\n"
     ]
    },
    {
     "name": "stdout",
     "output_type": "stream",
     "text": [
      "Epoch [1/5], Train Loss: 0.029041, Val Loss: 0.000849\n",
      "Epoch [2/5], Train Loss: 0.002922, Val Loss: 0.000888\n",
      "Epoch [3/5], Train Loss: 0.001832, Val Loss: 0.000468\n",
      "Epoch [4/5], Train Loss: 0.001503, Val Loss: 0.000313\n",
      "Epoch [5/5], Train Loss: 0.001094, Val Loss: 0.000495\n",
      "✅ Trained on JCI_1h_data.csv\n",
      "📂 Processing: WSM_1h_data.csv\n"
     ]
    },
    {
     "name": "stderr",
     "output_type": "stream",
     "text": [
      "/tmp/ipykernel_35386/3096370088.py:18: FutureWarning: DataFrame.fillna with 'method' is deprecated and will raise in a future version. Use obj.ffill() or obj.bfill() instead.\n",
      "  df.fillna(method='bfill', inplace=True)\n",
      "/tmp/ipykernel_35386/3096370088.py:19: FutureWarning: DataFrame.fillna with 'method' is deprecated and will raise in a future version. Use obj.ffill() or obj.bfill() instead.\n",
      "  df.fillna(method='ffill', inplace=True)\n",
      "/home/varun/Desktop/someProj/TradeGPT/.venv/lib/python3.10/site-packages/torch/nn/modules/transformer.py:382: UserWarning: enable_nested_tensor is True, but self.use_nested_tensor is False because encoder_layer.self_attn.batch_first was not True(use batch_first for better inference performance)\n",
      "  warnings.warn(\n"
     ]
    },
    {
     "name": "stdout",
     "output_type": "stream",
     "text": [
      "Epoch [1/5], Train Loss: 0.050150, Val Loss: 0.002856\n",
      "Epoch [2/5], Train Loss: 0.004191, Val Loss: 0.001075\n",
      "Epoch [3/5], Train Loss: 0.002508, Val Loss: 0.001428\n",
      "Epoch [4/5], Train Loss: 0.001804, Val Loss: 0.000906\n",
      "Epoch [5/5], Train Loss: 0.001613, Val Loss: 0.000612\n",
      "✅ Trained on WSM_1h_data.csv\n",
      "📂 Processing: IRM_1h_data.csv\n"
     ]
    },
    {
     "name": "stderr",
     "output_type": "stream",
     "text": [
      "/tmp/ipykernel_35386/3096370088.py:18: FutureWarning: DataFrame.fillna with 'method' is deprecated and will raise in a future version. Use obj.ffill() or obj.bfill() instead.\n",
      "  df.fillna(method='bfill', inplace=True)\n",
      "/tmp/ipykernel_35386/3096370088.py:19: FutureWarning: DataFrame.fillna with 'method' is deprecated and will raise in a future version. Use obj.ffill() or obj.bfill() instead.\n",
      "  df.fillna(method='ffill', inplace=True)\n",
      "/home/varun/Desktop/someProj/TradeGPT/.venv/lib/python3.10/site-packages/torch/nn/modules/transformer.py:382: UserWarning: enable_nested_tensor is True, but self.use_nested_tensor is False because encoder_layer.self_attn.batch_first was not True(use batch_first for better inference performance)\n",
      "  warnings.warn(\n"
     ]
    },
    {
     "name": "stdout",
     "output_type": "stream",
     "text": [
      "Epoch [1/5], Train Loss: 0.030159, Val Loss: 0.001340\n",
      "Epoch [2/5], Train Loss: 0.003855, Val Loss: 0.000695\n",
      "Epoch [3/5], Train Loss: 0.002502, Val Loss: 0.001205\n",
      "Epoch [4/5], Train Loss: 0.001750, Val Loss: 0.000291\n",
      "Epoch [5/5], Train Loss: 0.001368, Val Loss: 0.000397\n",
      "✅ Trained on IRM_1h_data.csv\n",
      "📂 Processing: ENB_1h_data.csv\n"
     ]
    },
    {
     "name": "stderr",
     "output_type": "stream",
     "text": [
      "/tmp/ipykernel_35386/3096370088.py:18: FutureWarning: DataFrame.fillna with 'method' is deprecated and will raise in a future version. Use obj.ffill() or obj.bfill() instead.\n",
      "  df.fillna(method='bfill', inplace=True)\n",
      "/tmp/ipykernel_35386/3096370088.py:19: FutureWarning: DataFrame.fillna with 'method' is deprecated and will raise in a future version. Use obj.ffill() or obj.bfill() instead.\n",
      "  df.fillna(method='ffill', inplace=True)\n",
      "/home/varun/Desktop/someProj/TradeGPT/.venv/lib/python3.10/site-packages/torch/nn/modules/transformer.py:382: UserWarning: enable_nested_tensor is True, but self.use_nested_tensor is False because encoder_layer.self_attn.batch_first was not True(use batch_first for better inference performance)\n",
      "  warnings.warn(\n"
     ]
    },
    {
     "name": "stdout",
     "output_type": "stream",
     "text": [
      "Epoch [1/5], Train Loss: 0.060579, Val Loss: 0.008582\n",
      "Epoch [2/5], Train Loss: 0.004413, Val Loss: 0.005160\n",
      "Epoch [3/5], Train Loss: 0.002970, Val Loss: 0.003015\n",
      "Epoch [4/5], Train Loss: 0.002261, Val Loss: 0.003321\n",
      "Epoch [5/5], Train Loss: 0.001897, Val Loss: 0.002184\n",
      "✅ Trained on ENB_1h_data.csv\n",
      "📂 Processing: AVGO_1h_data.csv\n"
     ]
    },
    {
     "name": "stderr",
     "output_type": "stream",
     "text": [
      "/tmp/ipykernel_35386/3096370088.py:18: FutureWarning: DataFrame.fillna with 'method' is deprecated and will raise in a future version. Use obj.ffill() or obj.bfill() instead.\n",
      "  df.fillna(method='bfill', inplace=True)\n",
      "/tmp/ipykernel_35386/3096370088.py:19: FutureWarning: DataFrame.fillna with 'method' is deprecated and will raise in a future version. Use obj.ffill() or obj.bfill() instead.\n",
      "  df.fillna(method='ffill', inplace=True)\n",
      "/home/varun/Desktop/someProj/TradeGPT/.venv/lib/python3.10/site-packages/torch/nn/modules/transformer.py:382: UserWarning: enable_nested_tensor is True, but self.use_nested_tensor is False because encoder_layer.self_attn.batch_first was not True(use batch_first for better inference performance)\n",
      "  warnings.warn(\n"
     ]
    },
    {
     "name": "stdout",
     "output_type": "stream",
     "text": [
      "Epoch [1/5], Train Loss: 0.024347, Val Loss: 0.000638\n",
      "Epoch [2/5], Train Loss: 0.002711, Val Loss: 0.004651\n",
      "Epoch [3/5], Train Loss: 0.002081, Val Loss: 0.000872\n",
      "Epoch [4/5], Train Loss: 0.001458, Val Loss: 0.001174\n",
      "Epoch [5/5], Train Loss: 0.001150, Val Loss: 0.000698\n",
      "✅ Trained on AVGO_1h_data.csv\n",
      "📂 Processing: VOO_1h_data.csv\n"
     ]
    },
    {
     "name": "stderr",
     "output_type": "stream",
     "text": [
      "/tmp/ipykernel_35386/3096370088.py:18: FutureWarning: DataFrame.fillna with 'method' is deprecated and will raise in a future version. Use obj.ffill() or obj.bfill() instead.\n",
      "  df.fillna(method='bfill', inplace=True)\n",
      "/tmp/ipykernel_35386/3096370088.py:19: FutureWarning: DataFrame.fillna with 'method' is deprecated and will raise in a future version. Use obj.ffill() or obj.bfill() instead.\n",
      "  df.fillna(method='ffill', inplace=True)\n",
      "/home/varun/Desktop/someProj/TradeGPT/.venv/lib/python3.10/site-packages/torch/nn/modules/transformer.py:382: UserWarning: enable_nested_tensor is True, but self.use_nested_tensor is False because encoder_layer.self_attn.batch_first was not True(use batch_first for better inference performance)\n",
      "  warnings.warn(\n"
     ]
    },
    {
     "name": "stdout",
     "output_type": "stream",
     "text": [
      "Epoch [1/5], Train Loss: 0.041047, Val Loss: 0.009735\n",
      "Epoch [2/5], Train Loss: 0.004059, Val Loss: 0.002530\n",
      "Epoch [3/5], Train Loss: 0.002397, Val Loss: 0.002458\n",
      "Epoch [4/5], Train Loss: 0.001825, Val Loss: 0.002599\n",
      "Epoch [5/5], Train Loss: 0.001371, Val Loss: 0.002160\n",
      "✅ Trained on VOO_1h_data.csv\n",
      "📂 Processing: TGT_1h_data.csv\n"
     ]
    },
    {
     "name": "stderr",
     "output_type": "stream",
     "text": [
      "/tmp/ipykernel_35386/3096370088.py:18: FutureWarning: DataFrame.fillna with 'method' is deprecated and will raise in a future version. Use obj.ffill() or obj.bfill() instead.\n",
      "  df.fillna(method='bfill', inplace=True)\n",
      "/tmp/ipykernel_35386/3096370088.py:19: FutureWarning: DataFrame.fillna with 'method' is deprecated and will raise in a future version. Use obj.ffill() or obj.bfill() instead.\n",
      "  df.fillna(method='ffill', inplace=True)\n",
      "/home/varun/Desktop/someProj/TradeGPT/.venv/lib/python3.10/site-packages/torch/nn/modules/transformer.py:382: UserWarning: enable_nested_tensor is True, but self.use_nested_tensor is False because encoder_layer.self_attn.batch_first was not True(use batch_first for better inference performance)\n",
      "  warnings.warn(\n"
     ]
    },
    {
     "name": "stdout",
     "output_type": "stream",
     "text": [
      "Epoch [1/5], Train Loss: 0.120289, Val Loss: 0.009913\n",
      "Epoch [2/5], Train Loss: 0.007514, Val Loss: 0.000757\n",
      "Epoch [3/5], Train Loss: 0.004684, Val Loss: 0.000374\n",
      "Epoch [4/5], Train Loss: 0.003191, Val Loss: 0.000368\n",
      "Epoch [5/5], Train Loss: 0.002542, Val Loss: 0.000290\n",
      "✅ Trained on TGT_1h_data.csv\n",
      "📂 Processing: PLTR_1h_data.csv\n"
     ]
    },
    {
     "name": "stderr",
     "output_type": "stream",
     "text": [
      "/tmp/ipykernel_35386/3096370088.py:18: FutureWarning: DataFrame.fillna with 'method' is deprecated and will raise in a future version. Use obj.ffill() or obj.bfill() instead.\n",
      "  df.fillna(method='bfill', inplace=True)\n",
      "/tmp/ipykernel_35386/3096370088.py:19: FutureWarning: DataFrame.fillna with 'method' is deprecated and will raise in a future version. Use obj.ffill() or obj.bfill() instead.\n",
      "  df.fillna(method='ffill', inplace=True)\n",
      "/home/varun/Desktop/someProj/TradeGPT/.venv/lib/python3.10/site-packages/torch/nn/modules/transformer.py:382: UserWarning: enable_nested_tensor is True, but self.use_nested_tensor is False because encoder_layer.self_attn.batch_first was not True(use batch_first for better inference performance)\n",
      "  warnings.warn(\n"
     ]
    },
    {
     "name": "stdout",
     "output_type": "stream",
     "text": [
      "Epoch [1/5], Train Loss: 0.043006, Val Loss: 0.002964\n",
      "Epoch [2/5], Train Loss: 0.003895, Val Loss: 0.001247\n",
      "Epoch [3/5], Train Loss: 0.002626, Val Loss: 0.000639\n",
      "Epoch [4/5], Train Loss: 0.001994, Val Loss: 0.000627\n",
      "Epoch [5/5], Train Loss: 0.001455, Val Loss: 0.001040\n",
      "✅ Trained on PLTR_1h_data.csv\n",
      "📂 Processing: SM_1h_data.csv\n"
     ]
    },
    {
     "name": "stderr",
     "output_type": "stream",
     "text": [
      "/tmp/ipykernel_35386/3096370088.py:18: FutureWarning: DataFrame.fillna with 'method' is deprecated and will raise in a future version. Use obj.ffill() or obj.bfill() instead.\n",
      "  df.fillna(method='bfill', inplace=True)\n",
      "/tmp/ipykernel_35386/3096370088.py:19: FutureWarning: DataFrame.fillna with 'method' is deprecated and will raise in a future version. Use obj.ffill() or obj.bfill() instead.\n",
      "  df.fillna(method='ffill', inplace=True)\n",
      "/home/varun/Desktop/someProj/TradeGPT/.venv/lib/python3.10/site-packages/torch/nn/modules/transformer.py:382: UserWarning: enable_nested_tensor is True, but self.use_nested_tensor is False because encoder_layer.self_attn.batch_first was not True(use batch_first for better inference performance)\n",
      "  warnings.warn(\n"
     ]
    },
    {
     "name": "stdout",
     "output_type": "stream",
     "text": [
      "Epoch [1/5], Train Loss: 0.079722, Val Loss: 0.002553\n",
      "Epoch [2/5], Train Loss: 0.006297, Val Loss: 0.004659\n",
      "Epoch [3/5], Train Loss: 0.004208, Val Loss: 0.002880\n",
      "Epoch [4/5], Train Loss: 0.002767, Val Loss: 0.001069\n",
      "Epoch [5/5], Train Loss: 0.002007, Val Loss: 0.000517\n",
      "✅ Trained on SM_1h_data.csv\n",
      "📂 Processing: JNJ_1h_data.csv\n"
     ]
    },
    {
     "name": "stderr",
     "output_type": "stream",
     "text": [
      "/tmp/ipykernel_35386/3096370088.py:18: FutureWarning: DataFrame.fillna with 'method' is deprecated and will raise in a future version. Use obj.ffill() or obj.bfill() instead.\n",
      "  df.fillna(method='bfill', inplace=True)\n",
      "/tmp/ipykernel_35386/3096370088.py:19: FutureWarning: DataFrame.fillna with 'method' is deprecated and will raise in a future version. Use obj.ffill() or obj.bfill() instead.\n",
      "  df.fillna(method='ffill', inplace=True)\n",
      "/home/varun/Desktop/someProj/TradeGPT/.venv/lib/python3.10/site-packages/torch/nn/modules/transformer.py:382: UserWarning: enable_nested_tensor is True, but self.use_nested_tensor is False because encoder_layer.self_attn.batch_first was not True(use batch_first for better inference performance)\n",
      "  warnings.warn(\n"
     ]
    },
    {
     "name": "stdout",
     "output_type": "stream",
     "text": [
      "Epoch [1/5], Train Loss: 0.040276, Val Loss: 0.003303\n",
      "Epoch [2/5], Train Loss: 0.004678, Val Loss: 0.002013\n",
      "Epoch [3/5], Train Loss: 0.002790, Val Loss: 0.001837\n",
      "Epoch [4/5], Train Loss: 0.002060, Val Loss: 0.001578\n",
      "Epoch [5/5], Train Loss: 0.001750, Val Loss: 0.001489\n",
      "✅ Trained on JNJ_1h_data.csv\n",
      "📂 Processing: TSLA_1h_data.csv\n"
     ]
    },
    {
     "name": "stderr",
     "output_type": "stream",
     "text": [
      "/tmp/ipykernel_35386/3096370088.py:18: FutureWarning: DataFrame.fillna with 'method' is deprecated and will raise in a future version. Use obj.ffill() or obj.bfill() instead.\n",
      "  df.fillna(method='bfill', inplace=True)\n",
      "/tmp/ipykernel_35386/3096370088.py:19: FutureWarning: DataFrame.fillna with 'method' is deprecated and will raise in a future version. Use obj.ffill() or obj.bfill() instead.\n",
      "  df.fillna(method='ffill', inplace=True)\n",
      "/home/varun/Desktop/someProj/TradeGPT/.venv/lib/python3.10/site-packages/torch/nn/modules/transformer.py:382: UserWarning: enable_nested_tensor is True, but self.use_nested_tensor is False because encoder_layer.self_attn.batch_first was not True(use batch_first for better inference performance)\n",
      "  warnings.warn(\n"
     ]
    },
    {
     "name": "stdout",
     "output_type": "stream",
     "text": [
      "Epoch [1/5], Train Loss: 0.024910, Val Loss: 0.003005\n",
      "Epoch [2/5], Train Loss: 0.003975, Val Loss: 0.001068\n",
      "Epoch [3/5], Train Loss: 0.002656, Val Loss: 0.001113\n",
      "Epoch [4/5], Train Loss: 0.001844, Val Loss: 0.000476\n",
      "Epoch [5/5], Train Loss: 0.001434, Val Loss: 0.000468\n",
      "✅ Trained on TSLA_1h_data.csv\n",
      "📂 Processing: CMI_1h_data.csv\n"
     ]
    },
    {
     "name": "stderr",
     "output_type": "stream",
     "text": [
      "/tmp/ipykernel_35386/3096370088.py:18: FutureWarning: DataFrame.fillna with 'method' is deprecated and will raise in a future version. Use obj.ffill() or obj.bfill() instead.\n",
      "  df.fillna(method='bfill', inplace=True)\n",
      "/tmp/ipykernel_35386/3096370088.py:19: FutureWarning: DataFrame.fillna with 'method' is deprecated and will raise in a future version. Use obj.ffill() or obj.bfill() instead.\n",
      "  df.fillna(method='ffill', inplace=True)\n",
      "/home/varun/Desktop/someProj/TradeGPT/.venv/lib/python3.10/site-packages/torch/nn/modules/transformer.py:382: UserWarning: enable_nested_tensor is True, but self.use_nested_tensor is False because encoder_layer.self_attn.batch_first was not True(use batch_first for better inference performance)\n",
      "  warnings.warn(\n"
     ]
    },
    {
     "name": "stdout",
     "output_type": "stream",
     "text": [
      "Epoch [1/5], Train Loss: 0.040559, Val Loss: 0.003752\n",
      "Epoch [2/5], Train Loss: 0.005107, Val Loss: 0.001870\n",
      "Epoch [3/5], Train Loss: 0.003372, Val Loss: 0.001592\n",
      "Epoch [4/5], Train Loss: 0.002336, Val Loss: 0.001440\n",
      "Epoch [5/5], Train Loss: 0.001955, Val Loss: 0.001142\n",
      "✅ Trained on CMI_1h_data.csv\n",
      "📂 Processing: HLT_1h_data.csv\n"
     ]
    },
    {
     "name": "stderr",
     "output_type": "stream",
     "text": [
      "/tmp/ipykernel_35386/3096370088.py:18: FutureWarning: DataFrame.fillna with 'method' is deprecated and will raise in a future version. Use obj.ffill() or obj.bfill() instead.\n",
      "  df.fillna(method='bfill', inplace=True)\n",
      "/tmp/ipykernel_35386/3096370088.py:19: FutureWarning: DataFrame.fillna with 'method' is deprecated and will raise in a future version. Use obj.ffill() or obj.bfill() instead.\n",
      "  df.fillna(method='ffill', inplace=True)\n",
      "/home/varun/Desktop/someProj/TradeGPT/.venv/lib/python3.10/site-packages/torch/nn/modules/transformer.py:382: UserWarning: enable_nested_tensor is True, but self.use_nested_tensor is False because encoder_layer.self_attn.batch_first was not True(use batch_first for better inference performance)\n",
      "  warnings.warn(\n"
     ]
    },
    {
     "name": "stdout",
     "output_type": "stream",
     "text": [
      "Epoch [1/5], Train Loss: 0.028705, Val Loss: 0.008381\n",
      "Epoch [2/5], Train Loss: 0.003355, Val Loss: 0.002001\n",
      "Epoch [3/5], Train Loss: 0.002202, Val Loss: 0.001062\n",
      "Epoch [4/5], Train Loss: 0.001560, Val Loss: 0.001587\n",
      "Epoch [5/5], Train Loss: 0.001223, Val Loss: 0.001141\n",
      "✅ Trained on HLT_1h_data.csv\n",
      "📂 Processing: BDX_1h_data.csv\n"
     ]
    },
    {
     "name": "stderr",
     "output_type": "stream",
     "text": [
      "/tmp/ipykernel_35386/3096370088.py:18: FutureWarning: DataFrame.fillna with 'method' is deprecated and will raise in a future version. Use obj.ffill() or obj.bfill() instead.\n",
      "  df.fillna(method='bfill', inplace=True)\n",
      "/tmp/ipykernel_35386/3096370088.py:19: FutureWarning: DataFrame.fillna with 'method' is deprecated and will raise in a future version. Use obj.ffill() or obj.bfill() instead.\n",
      "  df.fillna(method='ffill', inplace=True)\n",
      "/home/varun/Desktop/someProj/TradeGPT/.venv/lib/python3.10/site-packages/torch/nn/modules/transformer.py:382: UserWarning: enable_nested_tensor is True, but self.use_nested_tensor is False because encoder_layer.self_attn.batch_first was not True(use batch_first for better inference performance)\n",
      "  warnings.warn(\n"
     ]
    },
    {
     "name": "stdout",
     "output_type": "stream",
     "text": [
      "Epoch [1/5], Train Loss: 0.032098, Val Loss: 0.003766\n",
      "Epoch [2/5], Train Loss: 0.003581, Val Loss: 0.000982\n",
      "Epoch [3/5], Train Loss: 0.002147, Val Loss: 0.001204\n",
      "Epoch [4/5], Train Loss: 0.001554, Val Loss: 0.000958\n",
      "Epoch [5/5], Train Loss: 0.001225, Val Loss: 0.000302\n",
      "✅ Trained on BDX_1h_data.csv\n",
      "📂 Processing: CUBE_1h_data.csv\n"
     ]
    },
    {
     "name": "stderr",
     "output_type": "stream",
     "text": [
      "/tmp/ipykernel_35386/3096370088.py:18: FutureWarning: DataFrame.fillna with 'method' is deprecated and will raise in a future version. Use obj.ffill() or obj.bfill() instead.\n",
      "  df.fillna(method='bfill', inplace=True)\n",
      "/tmp/ipykernel_35386/3096370088.py:19: FutureWarning: DataFrame.fillna with 'method' is deprecated and will raise in a future version. Use obj.ffill() or obj.bfill() instead.\n",
      "  df.fillna(method='ffill', inplace=True)\n",
      "/home/varun/Desktop/someProj/TradeGPT/.venv/lib/python3.10/site-packages/torch/nn/modules/transformer.py:382: UserWarning: enable_nested_tensor is True, but self.use_nested_tensor is False because encoder_layer.self_attn.batch_first was not True(use batch_first for better inference performance)\n",
      "  warnings.warn(\n"
     ]
    },
    {
     "name": "stdout",
     "output_type": "stream",
     "text": [
      "Epoch [1/5], Train Loss: 0.029417, Val Loss: 0.000606\n",
      "Epoch [2/5], Train Loss: 0.003760, Val Loss: 0.001106\n",
      "Epoch [3/5], Train Loss: 0.002212, Val Loss: 0.000412\n",
      "Epoch [4/5], Train Loss: 0.001801, Val Loss: 0.000328\n",
      "Epoch [5/5], Train Loss: 0.001343, Val Loss: 0.000474\n",
      "✅ Trained on CUBE_1h_data.csv\n",
      "📂 Processing: STAG_1h_data.csv\n"
     ]
    },
    {
     "name": "stderr",
     "output_type": "stream",
     "text": [
      "/tmp/ipykernel_35386/3096370088.py:18: FutureWarning: DataFrame.fillna with 'method' is deprecated and will raise in a future version. Use obj.ffill() or obj.bfill() instead.\n",
      "  df.fillna(method='bfill', inplace=True)\n",
      "/tmp/ipykernel_35386/3096370088.py:19: FutureWarning: DataFrame.fillna with 'method' is deprecated and will raise in a future version. Use obj.ffill() or obj.bfill() instead.\n",
      "  df.fillna(method='ffill', inplace=True)\n",
      "/home/varun/Desktop/someProj/TradeGPT/.venv/lib/python3.10/site-packages/torch/nn/modules/transformer.py:382: UserWarning: enable_nested_tensor is True, but self.use_nested_tensor is False because encoder_layer.self_attn.batch_first was not True(use batch_first for better inference performance)\n",
      "  warnings.warn(\n"
     ]
    },
    {
     "name": "stdout",
     "output_type": "stream",
     "text": [
      "Epoch [1/5], Train Loss: 0.033581, Val Loss: 0.006672\n",
      "Epoch [2/5], Train Loss: 0.003974, Val Loss: 0.001921\n",
      "Epoch [3/5], Train Loss: 0.002303, Val Loss: 0.001697\n",
      "Epoch [4/5], Train Loss: 0.002217, Val Loss: 0.001454\n",
      "Epoch [5/5], Train Loss: 0.001498, Val Loss: 0.001384\n",
      "✅ Trained on STAG_1h_data.csv\n",
      "📂 Processing: MDLZ_1h_data.csv\n"
     ]
    },
    {
     "name": "stderr",
     "output_type": "stream",
     "text": [
      "/tmp/ipykernel_35386/3096370088.py:18: FutureWarning: DataFrame.fillna with 'method' is deprecated and will raise in a future version. Use obj.ffill() or obj.bfill() instead.\n",
      "  df.fillna(method='bfill', inplace=True)\n",
      "/tmp/ipykernel_35386/3096370088.py:19: FutureWarning: DataFrame.fillna with 'method' is deprecated and will raise in a future version. Use obj.ffill() or obj.bfill() instead.\n",
      "  df.fillna(method='ffill', inplace=True)\n",
      "/home/varun/Desktop/someProj/TradeGPT/.venv/lib/python3.10/site-packages/torch/nn/modules/transformer.py:382: UserWarning: enable_nested_tensor is True, but self.use_nested_tensor is False because encoder_layer.self_attn.batch_first was not True(use batch_first for better inference performance)\n",
      "  warnings.warn(\n"
     ]
    },
    {
     "name": "stdout",
     "output_type": "stream",
     "text": [
      "Epoch [1/5], Train Loss: 0.056506, Val Loss: 0.001312\n",
      "Epoch [2/5], Train Loss: 0.004709, Val Loss: 0.000596\n",
      "Epoch [3/5], Train Loss: 0.002966, Val Loss: 0.000770\n",
      "Epoch [4/5], Train Loss: 0.002181, Val Loss: 0.000680\n",
      "Epoch [5/5], Train Loss: 0.001834, Val Loss: 0.000637\n",
      "✅ Trained on MDLZ_1h_data.csv\n",
      "📂 Processing: QQQ_1h_data.csv\n"
     ]
    },
    {
     "name": "stderr",
     "output_type": "stream",
     "text": [
      "/tmp/ipykernel_35386/3096370088.py:18: FutureWarning: DataFrame.fillna with 'method' is deprecated and will raise in a future version. Use obj.ffill() or obj.bfill() instead.\n",
      "  df.fillna(method='bfill', inplace=True)\n",
      "/tmp/ipykernel_35386/3096370088.py:19: FutureWarning: DataFrame.fillna with 'method' is deprecated and will raise in a future version. Use obj.ffill() or obj.bfill() instead.\n",
      "  df.fillna(method='ffill', inplace=True)\n",
      "/home/varun/Desktop/someProj/TradeGPT/.venv/lib/python3.10/site-packages/torch/nn/modules/transformer.py:382: UserWarning: enable_nested_tensor is True, but self.use_nested_tensor is False because encoder_layer.self_attn.batch_first was not True(use batch_first for better inference performance)\n",
      "  warnings.warn(\n"
     ]
    },
    {
     "name": "stdout",
     "output_type": "stream",
     "text": [
      "Epoch [1/5], Train Loss: 0.043176, Val Loss: 0.004778\n",
      "Epoch [2/5], Train Loss: 0.004651, Val Loss: 0.005574\n",
      "Epoch [3/5], Train Loss: 0.002651, Val Loss: 0.002598\n",
      "Epoch [4/5], Train Loss: 0.001843, Val Loss: 0.001798\n",
      "Epoch [5/5], Train Loss: 0.001842, Val Loss: 0.002267\n",
      "✅ Trained on QQQ_1h_data.csv\n",
      "📂 Processing: DLR_1h_data.csv\n"
     ]
    },
    {
     "name": "stderr",
     "output_type": "stream",
     "text": [
      "/tmp/ipykernel_35386/3096370088.py:18: FutureWarning: DataFrame.fillna with 'method' is deprecated and will raise in a future version. Use obj.ffill() or obj.bfill() instead.\n",
      "  df.fillna(method='bfill', inplace=True)\n",
      "/tmp/ipykernel_35386/3096370088.py:19: FutureWarning: DataFrame.fillna with 'method' is deprecated and will raise in a future version. Use obj.ffill() or obj.bfill() instead.\n",
      "  df.fillna(method='ffill', inplace=True)\n",
      "/home/varun/Desktop/someProj/TradeGPT/.venv/lib/python3.10/site-packages/torch/nn/modules/transformer.py:382: UserWarning: enable_nested_tensor is True, but self.use_nested_tensor is False because encoder_layer.self_attn.batch_first was not True(use batch_first for better inference performance)\n",
      "  warnings.warn(\n"
     ]
    },
    {
     "name": "stdout",
     "output_type": "stream",
     "text": [
      "Epoch [1/5], Train Loss: 0.034317, Val Loss: 0.001106\n",
      "Epoch [2/5], Train Loss: 0.003107, Val Loss: 0.000571\n",
      "Epoch [3/5], Train Loss: 0.002117, Val Loss: 0.000960\n",
      "Epoch [4/5], Train Loss: 0.001588, Val Loss: 0.000426\n",
      "Epoch [5/5], Train Loss: 0.001502, Val Loss: 0.000521\n",
      "✅ Trained on DLR_1h_data.csv\n",
      "📂 Processing: SPG_1h_data.csv\n"
     ]
    },
    {
     "name": "stderr",
     "output_type": "stream",
     "text": [
      "/tmp/ipykernel_35386/3096370088.py:18: FutureWarning: DataFrame.fillna with 'method' is deprecated and will raise in a future version. Use obj.ffill() or obj.bfill() instead.\n",
      "  df.fillna(method='bfill', inplace=True)\n",
      "/tmp/ipykernel_35386/3096370088.py:19: FutureWarning: DataFrame.fillna with 'method' is deprecated and will raise in a future version. Use obj.ffill() or obj.bfill() instead.\n",
      "  df.fillna(method='ffill', inplace=True)\n",
      "/home/varun/Desktop/someProj/TradeGPT/.venv/lib/python3.10/site-packages/torch/nn/modules/transformer.py:382: UserWarning: enable_nested_tensor is True, but self.use_nested_tensor is False because encoder_layer.self_attn.batch_first was not True(use batch_first for better inference performance)\n",
      "  warnings.warn(\n"
     ]
    },
    {
     "name": "stdout",
     "output_type": "stream",
     "text": [
      "Epoch [1/5], Train Loss: 0.045140, Val Loss: 0.006518\n",
      "Epoch [2/5], Train Loss: 0.004462, Val Loss: 0.004891\n",
      "Epoch [3/5], Train Loss: 0.002718, Val Loss: 0.006221\n",
      "Epoch [4/5], Train Loss: 0.002132, Val Loss: 0.002486\n",
      "Epoch [5/5], Train Loss: 0.001460, Val Loss: 0.003987\n",
      "✅ Trained on SPG_1h_data.csv\n",
      "📂 Processing: AR_1h_data.csv\n"
     ]
    },
    {
     "name": "stderr",
     "output_type": "stream",
     "text": [
      "/tmp/ipykernel_35386/3096370088.py:18: FutureWarning: DataFrame.fillna with 'method' is deprecated and will raise in a future version. Use obj.ffill() or obj.bfill() instead.\n",
      "  df.fillna(method='bfill', inplace=True)\n",
      "/tmp/ipykernel_35386/3096370088.py:19: FutureWarning: DataFrame.fillna with 'method' is deprecated and will raise in a future version. Use obj.ffill() or obj.bfill() instead.\n",
      "  df.fillna(method='ffill', inplace=True)\n",
      "/home/varun/Desktop/someProj/TradeGPT/.venv/lib/python3.10/site-packages/torch/nn/modules/transformer.py:382: UserWarning: enable_nested_tensor is True, but self.use_nested_tensor is False because encoder_layer.self_attn.batch_first was not True(use batch_first for better inference performance)\n",
      "  warnings.warn(\n"
     ]
    },
    {
     "name": "stdout",
     "output_type": "stream",
     "text": [
      "Epoch [1/5], Train Loss: 0.051696, Val Loss: 0.007137\n",
      "Epoch [2/5], Train Loss: 0.004150, Val Loss: 0.003921\n",
      "Epoch [3/5], Train Loss: 0.002654, Val Loss: 0.002917\n",
      "Epoch [4/5], Train Loss: 0.002324, Val Loss: 0.001693\n",
      "Epoch [5/5], Train Loss: 0.001675, Val Loss: 0.002257\n",
      "✅ Trained on AR_1h_data.csv\n",
      "📂 Processing: GIS_1h_data.csv\n"
     ]
    },
    {
     "name": "stderr",
     "output_type": "stream",
     "text": [
      "/tmp/ipykernel_35386/3096370088.py:18: FutureWarning: DataFrame.fillna with 'method' is deprecated and will raise in a future version. Use obj.ffill() or obj.bfill() instead.\n",
      "  df.fillna(method='bfill', inplace=True)\n",
      "/tmp/ipykernel_35386/3096370088.py:19: FutureWarning: DataFrame.fillna with 'method' is deprecated and will raise in a future version. Use obj.ffill() or obj.bfill() instead.\n",
      "  df.fillna(method='ffill', inplace=True)\n",
      "/home/varun/Desktop/someProj/TradeGPT/.venv/lib/python3.10/site-packages/torch/nn/modules/transformer.py:382: UserWarning: enable_nested_tensor is True, but self.use_nested_tensor is False because encoder_layer.self_attn.batch_first was not True(use batch_first for better inference performance)\n",
      "  warnings.warn(\n"
     ]
    },
    {
     "name": "stdout",
     "output_type": "stream",
     "text": [
      "Epoch [1/5], Train Loss: 0.034278, Val Loss: 0.001070\n",
      "Epoch [2/5], Train Loss: 0.003321, Val Loss: 0.001439\n",
      "Epoch [3/5], Train Loss: 0.002050, Val Loss: 0.000807\n",
      "Epoch [4/5], Train Loss: 0.001694, Val Loss: 0.000842\n",
      "Epoch [5/5], Train Loss: 0.001267, Val Loss: 0.000836\n",
      "✅ Trained on GIS_1h_data.csv\n",
      "📂 Processing: MU_1h_data.csv\n"
     ]
    },
    {
     "name": "stderr",
     "output_type": "stream",
     "text": [
      "/tmp/ipykernel_35386/3096370088.py:18: FutureWarning: DataFrame.fillna with 'method' is deprecated and will raise in a future version. Use obj.ffill() or obj.bfill() instead.\n",
      "  df.fillna(method='bfill', inplace=True)\n",
      "/tmp/ipykernel_35386/3096370088.py:19: FutureWarning: DataFrame.fillna with 'method' is deprecated and will raise in a future version. Use obj.ffill() or obj.bfill() instead.\n",
      "  df.fillna(method='ffill', inplace=True)\n",
      "/home/varun/Desktop/someProj/TradeGPT/.venv/lib/python3.10/site-packages/torch/nn/modules/transformer.py:382: UserWarning: enable_nested_tensor is True, but self.use_nested_tensor is False because encoder_layer.self_attn.batch_first was not True(use batch_first for better inference performance)\n",
      "  warnings.warn(\n"
     ]
    },
    {
     "name": "stdout",
     "output_type": "stream",
     "text": [
      "Epoch [1/5], Train Loss: 0.051070, Val Loss: 0.000677\n",
      "Epoch [2/5], Train Loss: 0.004385, Val Loss: 0.000621\n",
      "Epoch [3/5], Train Loss: 0.002626, Val Loss: 0.000480\n",
      "Epoch [4/5], Train Loss: 0.002108, Val Loss: 0.000562\n",
      "Epoch [5/5], Train Loss: 0.001719, Val Loss: 0.000456\n",
      "✅ Trained on MU_1h_data.csv\n",
      "📂 Processing: ESS_1h_data.csv\n"
     ]
    },
    {
     "name": "stderr",
     "output_type": "stream",
     "text": [
      "/tmp/ipykernel_35386/3096370088.py:18: FutureWarning: DataFrame.fillna with 'method' is deprecated and will raise in a future version. Use obj.ffill() or obj.bfill() instead.\n",
      "  df.fillna(method='bfill', inplace=True)\n",
      "/tmp/ipykernel_35386/3096370088.py:19: FutureWarning: DataFrame.fillna with 'method' is deprecated and will raise in a future version. Use obj.ffill() or obj.bfill() instead.\n",
      "  df.fillna(method='ffill', inplace=True)\n",
      "/home/varun/Desktop/someProj/TradeGPT/.venv/lib/python3.10/site-packages/torch/nn/modules/transformer.py:382: UserWarning: enable_nested_tensor is True, but self.use_nested_tensor is False because encoder_layer.self_attn.batch_first was not True(use batch_first for better inference performance)\n",
      "  warnings.warn(\n"
     ]
    },
    {
     "name": "stdout",
     "output_type": "stream",
     "text": [
      "Epoch [1/5], Train Loss: 0.054409, Val Loss: 0.010926\n",
      "Epoch [2/5], Train Loss: 0.004408, Val Loss: 0.003232\n",
      "Epoch [3/5], Train Loss: 0.002806, Val Loss: 0.002070\n",
      "Epoch [4/5], Train Loss: 0.002007, Val Loss: 0.002050\n",
      "Epoch [5/5], Train Loss: 0.001530, Val Loss: 0.002204\n",
      "✅ Trained on ESS_1h_data.csv\n",
      "📂 Processing: AMT_1h_data.csv\n"
     ]
    },
    {
     "name": "stderr",
     "output_type": "stream",
     "text": [
      "/tmp/ipykernel_35386/3096370088.py:18: FutureWarning: DataFrame.fillna with 'method' is deprecated and will raise in a future version. Use obj.ffill() or obj.bfill() instead.\n",
      "  df.fillna(method='bfill', inplace=True)\n",
      "/tmp/ipykernel_35386/3096370088.py:19: FutureWarning: DataFrame.fillna with 'method' is deprecated and will raise in a future version. Use obj.ffill() or obj.bfill() instead.\n",
      "  df.fillna(method='ffill', inplace=True)\n",
      "/home/varun/Desktop/someProj/TradeGPT/.venv/lib/python3.10/site-packages/torch/nn/modules/transformer.py:382: UserWarning: enable_nested_tensor is True, but self.use_nested_tensor is False because encoder_layer.self_attn.batch_first was not True(use batch_first for better inference performance)\n",
      "  warnings.warn(\n"
     ]
    },
    {
     "name": "stdout",
     "output_type": "stream",
     "text": [
      "Epoch [1/5], Train Loss: 0.035143, Val Loss: 0.001225\n",
      "Epoch [2/5], Train Loss: 0.003662, Val Loss: 0.000552\n",
      "Epoch [3/5], Train Loss: 0.002341, Val Loss: 0.000869\n",
      "Epoch [4/5], Train Loss: 0.001697, Val Loss: 0.001065\n",
      "Epoch [5/5], Train Loss: 0.001388, Val Loss: 0.000526\n",
      "✅ Trained on AMT_1h_data.csv\n",
      "📂 Processing: VLO_1h_data.csv\n"
     ]
    },
    {
     "name": "stderr",
     "output_type": "stream",
     "text": [
      "/tmp/ipykernel_35386/3096370088.py:18: FutureWarning: DataFrame.fillna with 'method' is deprecated and will raise in a future version. Use obj.ffill() or obj.bfill() instead.\n",
      "  df.fillna(method='bfill', inplace=True)\n",
      "/tmp/ipykernel_35386/3096370088.py:19: FutureWarning: DataFrame.fillna with 'method' is deprecated and will raise in a future version. Use obj.ffill() or obj.bfill() instead.\n",
      "  df.fillna(method='ffill', inplace=True)\n",
      "/home/varun/Desktop/someProj/TradeGPT/.venv/lib/python3.10/site-packages/torch/nn/modules/transformer.py:382: UserWarning: enable_nested_tensor is True, but self.use_nested_tensor is False because encoder_layer.self_attn.batch_first was not True(use batch_first for better inference performance)\n",
      "  warnings.warn(\n"
     ]
    },
    {
     "name": "stdout",
     "output_type": "stream",
     "text": [
      "Epoch [1/5], Train Loss: 0.048708, Val Loss: 0.004338\n",
      "Epoch [2/5], Train Loss: 0.004336, Val Loss: 0.000869\n",
      "Epoch [3/5], Train Loss: 0.002624, Val Loss: 0.000936\n",
      "Epoch [4/5], Train Loss: 0.002026, Val Loss: 0.000669\n",
      "Epoch [5/5], Train Loss: 0.001517, Val Loss: 0.000885\n",
      "✅ Trained on VLO_1h_data.csv\n",
      "📂 Processing: BBY_1h_data.csv\n"
     ]
    },
    {
     "name": "stderr",
     "output_type": "stream",
     "text": [
      "/tmp/ipykernel_35386/3096370088.py:18: FutureWarning: DataFrame.fillna with 'method' is deprecated and will raise in a future version. Use obj.ffill() or obj.bfill() instead.\n",
      "  df.fillna(method='bfill', inplace=True)\n",
      "/tmp/ipykernel_35386/3096370088.py:19: FutureWarning: DataFrame.fillna with 'method' is deprecated and will raise in a future version. Use obj.ffill() or obj.bfill() instead.\n",
      "  df.fillna(method='ffill', inplace=True)\n",
      "/home/varun/Desktop/someProj/TradeGPT/.venv/lib/python3.10/site-packages/torch/nn/modules/transformer.py:382: UserWarning: enable_nested_tensor is True, but self.use_nested_tensor is False because encoder_layer.self_attn.batch_first was not True(use batch_first for better inference performance)\n",
      "  warnings.warn(\n"
     ]
    },
    {
     "name": "stdout",
     "output_type": "stream",
     "text": [
      "Epoch [1/5], Train Loss: 0.025366, Val Loss: 0.002527\n",
      "Epoch [2/5], Train Loss: 0.002567, Val Loss: 0.002539\n",
      "Epoch [3/5], Train Loss: 0.001666, Val Loss: 0.001778\n",
      "Epoch [4/5], Train Loss: 0.001432, Val Loss: 0.001243\n",
      "Epoch [5/5], Train Loss: 0.001138, Val Loss: 0.001575\n",
      "✅ Trained on BBY_1h_data.csv\n",
      "📂 Processing: SLG_1h_data.csv\n"
     ]
    },
    {
     "name": "stderr",
     "output_type": "stream",
     "text": [
      "/tmp/ipykernel_35386/3096370088.py:18: FutureWarning: DataFrame.fillna with 'method' is deprecated and will raise in a future version. Use obj.ffill() or obj.bfill() instead.\n",
      "  df.fillna(method='bfill', inplace=True)\n",
      "/tmp/ipykernel_35386/3096370088.py:19: FutureWarning: DataFrame.fillna with 'method' is deprecated and will raise in a future version. Use obj.ffill() or obj.bfill() instead.\n",
      "  df.fillna(method='ffill', inplace=True)\n",
      "/home/varun/Desktop/someProj/TradeGPT/.venv/lib/python3.10/site-packages/torch/nn/modules/transformer.py:382: UserWarning: enable_nested_tensor is True, but self.use_nested_tensor is False because encoder_layer.self_attn.batch_first was not True(use batch_first for better inference performance)\n",
      "  warnings.warn(\n"
     ]
    },
    {
     "name": "stdout",
     "output_type": "stream",
     "text": [
      "Epoch [1/5], Train Loss: 0.031640, Val Loss: 0.001055\n",
      "Epoch [2/5], Train Loss: 0.003112, Val Loss: 0.000281\n",
      "Epoch [3/5], Train Loss: 0.002184, Val Loss: 0.000746\n",
      "Epoch [4/5], Train Loss: 0.001447, Val Loss: 0.000830\n",
      "Epoch [5/5], Train Loss: 0.001301, Val Loss: 0.000337\n",
      "✅ Trained on SLG_1h_data.csv\n",
      "📂 Processing: AAPL_1h_data.csv\n"
     ]
    },
    {
     "name": "stderr",
     "output_type": "stream",
     "text": [
      "/tmp/ipykernel_35386/3096370088.py:18: FutureWarning: DataFrame.fillna with 'method' is deprecated and will raise in a future version. Use obj.ffill() or obj.bfill() instead.\n",
      "  df.fillna(method='bfill', inplace=True)\n",
      "/tmp/ipykernel_35386/3096370088.py:19: FutureWarning: DataFrame.fillna with 'method' is deprecated and will raise in a future version. Use obj.ffill() or obj.bfill() instead.\n",
      "  df.fillna(method='ffill', inplace=True)\n",
      "/home/varun/Desktop/someProj/TradeGPT/.venv/lib/python3.10/site-packages/torch/nn/modules/transformer.py:382: UserWarning: enable_nested_tensor is True, but self.use_nested_tensor is False because encoder_layer.self_attn.batch_first was not True(use batch_first for better inference performance)\n",
      "  warnings.warn(\n"
     ]
    },
    {
     "name": "stdout",
     "output_type": "stream",
     "text": [
      "Epoch [1/5], Train Loss: 0.056553, Val Loss: 0.013428\n",
      "Epoch [2/5], Train Loss: 0.005185, Val Loss: 0.008279\n",
      "Epoch [3/5], Train Loss: 0.003378, Val Loss: 0.003498\n",
      "Epoch [4/5], Train Loss: 0.002476, Val Loss: 0.004686\n",
      "Epoch [5/5], Train Loss: 0.001807, Val Loss: 0.003705\n",
      "✅ Trained on AAPL_1h_data.csv\n",
      "📂 Processing: NDAQ_1h_data.csv\n"
     ]
    },
    {
     "name": "stderr",
     "output_type": "stream",
     "text": [
      "/tmp/ipykernel_35386/3096370088.py:18: FutureWarning: DataFrame.fillna with 'method' is deprecated and will raise in a future version. Use obj.ffill() or obj.bfill() instead.\n",
      "  df.fillna(method='bfill', inplace=True)\n",
      "/tmp/ipykernel_35386/3096370088.py:19: FutureWarning: DataFrame.fillna with 'method' is deprecated and will raise in a future version. Use obj.ffill() or obj.bfill() instead.\n",
      "  df.fillna(method='ffill', inplace=True)\n",
      "/home/varun/Desktop/someProj/TradeGPT/.venv/lib/python3.10/site-packages/torch/nn/modules/transformer.py:382: UserWarning: enable_nested_tensor is True, but self.use_nested_tensor is False because encoder_layer.self_attn.batch_first was not True(use batch_first for better inference performance)\n",
      "  warnings.warn(\n"
     ]
    },
    {
     "name": "stdout",
     "output_type": "stream",
     "text": [
      "Epoch [1/5], Train Loss: 0.038425, Val Loss: 0.007017\n",
      "Epoch [2/5], Train Loss: 0.004436, Val Loss: 0.004232\n",
      "Epoch [3/5], Train Loss: 0.002893, Val Loss: 0.002288\n",
      "Epoch [4/5], Train Loss: 0.002186, Val Loss: 0.001764\n",
      "Epoch [5/5], Train Loss: 0.001572, Val Loss: 0.001882\n",
      "✅ Trained on NDAQ_1h_data.csv\n",
      "📂 Processing: ET_1h_data.csv\n"
     ]
    },
    {
     "name": "stderr",
     "output_type": "stream",
     "text": [
      "/tmp/ipykernel_35386/3096370088.py:18: FutureWarning: DataFrame.fillna with 'method' is deprecated and will raise in a future version. Use obj.ffill() or obj.bfill() instead.\n",
      "  df.fillna(method='bfill', inplace=True)\n",
      "/tmp/ipykernel_35386/3096370088.py:19: FutureWarning: DataFrame.fillna with 'method' is deprecated and will raise in a future version. Use obj.ffill() or obj.bfill() instead.\n",
      "  df.fillna(method='ffill', inplace=True)\n",
      "/home/varun/Desktop/someProj/TradeGPT/.venv/lib/python3.10/site-packages/torch/nn/modules/transformer.py:382: UserWarning: enable_nested_tensor is True, but self.use_nested_tensor is False because encoder_layer.self_attn.batch_first was not True(use batch_first for better inference performance)\n",
      "  warnings.warn(\n"
     ]
    },
    {
     "name": "stdout",
     "output_type": "stream",
     "text": [
      "Epoch [1/5], Train Loss: 0.035140, Val Loss: 0.008941\n",
      "Epoch [2/5], Train Loss: 0.004114, Val Loss: 0.003954\n",
      "Epoch [3/5], Train Loss: 0.002877, Val Loss: 0.002859\n",
      "Epoch [4/5], Train Loss: 0.001828, Val Loss: 0.002620\n",
      "Epoch [5/5], Train Loss: 0.001482, Val Loss: 0.001980\n",
      "✅ Trained on ET_1h_data.csv\n",
      "📂 Processing: KIM_1h_data.csv\n"
     ]
    },
    {
     "name": "stderr",
     "output_type": "stream",
     "text": [
      "/tmp/ipykernel_35386/3096370088.py:18: FutureWarning: DataFrame.fillna with 'method' is deprecated and will raise in a future version. Use obj.ffill() or obj.bfill() instead.\n",
      "  df.fillna(method='bfill', inplace=True)\n",
      "/tmp/ipykernel_35386/3096370088.py:19: FutureWarning: DataFrame.fillna with 'method' is deprecated and will raise in a future version. Use obj.ffill() or obj.bfill() instead.\n",
      "  df.fillna(method='ffill', inplace=True)\n",
      "/home/varun/Desktop/someProj/TradeGPT/.venv/lib/python3.10/site-packages/torch/nn/modules/transformer.py:382: UserWarning: enable_nested_tensor is True, but self.use_nested_tensor is False because encoder_layer.self_attn.batch_first was not True(use batch_first for better inference performance)\n",
      "  warnings.warn(\n"
     ]
    },
    {
     "name": "stdout",
     "output_type": "stream",
     "text": [
      "Epoch [1/5], Train Loss: 0.033226, Val Loss: 0.001352\n",
      "Epoch [2/5], Train Loss: 0.003892, Val Loss: 0.002374\n",
      "Epoch [3/5], Train Loss: 0.002601, Val Loss: 0.001087\n",
      "Epoch [4/5], Train Loss: 0.001743, Val Loss: 0.001669\n",
      "Epoch [5/5], Train Loss: 0.001561, Val Loss: 0.000716\n",
      "✅ Trained on KIM_1h_data.csv\n",
      "📂 Processing: RRC_1h_data.csv\n"
     ]
    },
    {
     "name": "stderr",
     "output_type": "stream",
     "text": [
      "/tmp/ipykernel_35386/3096370088.py:18: FutureWarning: DataFrame.fillna with 'method' is deprecated and will raise in a future version. Use obj.ffill() or obj.bfill() instead.\n",
      "  df.fillna(method='bfill', inplace=True)\n",
      "/tmp/ipykernel_35386/3096370088.py:19: FutureWarning: DataFrame.fillna with 'method' is deprecated and will raise in a future version. Use obj.ffill() or obj.bfill() instead.\n",
      "  df.fillna(method='ffill', inplace=True)\n",
      "/home/varun/Desktop/someProj/TradeGPT/.venv/lib/python3.10/site-packages/torch/nn/modules/transformer.py:382: UserWarning: enable_nested_tensor is True, but self.use_nested_tensor is False because encoder_layer.self_attn.batch_first was not True(use batch_first for better inference performance)\n",
      "  warnings.warn(\n"
     ]
    },
    {
     "name": "stdout",
     "output_type": "stream",
     "text": [
      "Epoch [1/5], Train Loss: 0.016296, Val Loss: 0.002711\n",
      "Epoch [2/5], Train Loss: 0.002784, Val Loss: 0.002443\n",
      "Epoch [3/5], Train Loss: 0.001932, Val Loss: 0.001346\n",
      "Epoch [4/5], Train Loss: 0.001444, Val Loss: 0.001596\n",
      "Epoch [5/5], Train Loss: 0.001341, Val Loss: 0.001516\n",
      "✅ Trained on RRC_1h_data.csv\n",
      "📂 Processing: VTI_1h_data.csv\n"
     ]
    },
    {
     "name": "stderr",
     "output_type": "stream",
     "text": [
      "/tmp/ipykernel_35386/3096370088.py:18: FutureWarning: DataFrame.fillna with 'method' is deprecated and will raise in a future version. Use obj.ffill() or obj.bfill() instead.\n",
      "  df.fillna(method='bfill', inplace=True)\n",
      "/tmp/ipykernel_35386/3096370088.py:19: FutureWarning: DataFrame.fillna with 'method' is deprecated and will raise in a future version. Use obj.ffill() or obj.bfill() instead.\n",
      "  df.fillna(method='ffill', inplace=True)\n",
      "/home/varun/Desktop/someProj/TradeGPT/.venv/lib/python3.10/site-packages/torch/nn/modules/transformer.py:382: UserWarning: enable_nested_tensor is True, but self.use_nested_tensor is False because encoder_layer.self_attn.batch_first was not True(use batch_first for better inference performance)\n",
      "  warnings.warn(\n"
     ]
    },
    {
     "name": "stdout",
     "output_type": "stream",
     "text": [
      "Epoch [1/5], Train Loss: 0.033186, Val Loss: 0.001924\n",
      "Epoch [2/5], Train Loss: 0.003395, Val Loss: 0.001088\n",
      "Epoch [3/5], Train Loss: 0.002292, Val Loss: 0.001091\n",
      "Epoch [4/5], Train Loss: 0.001628, Val Loss: 0.000864\n",
      "Epoch [5/5], Train Loss: 0.001197, Val Loss: 0.000916\n",
      "✅ Trained on VTI_1h_data.csv\n",
      "📂 Processing: KEY_1h_data.csv\n"
     ]
    },
    {
     "name": "stderr",
     "output_type": "stream",
     "text": [
      "/tmp/ipykernel_35386/3096370088.py:18: FutureWarning: DataFrame.fillna with 'method' is deprecated and will raise in a future version. Use obj.ffill() or obj.bfill() instead.\n",
      "  df.fillna(method='bfill', inplace=True)\n",
      "/tmp/ipykernel_35386/3096370088.py:19: FutureWarning: DataFrame.fillna with 'method' is deprecated and will raise in a future version. Use obj.ffill() or obj.bfill() instead.\n",
      "  df.fillna(method='ffill', inplace=True)\n",
      "/home/varun/Desktop/someProj/TradeGPT/.venv/lib/python3.10/site-packages/torch/nn/modules/transformer.py:382: UserWarning: enable_nested_tensor is True, but self.use_nested_tensor is False because encoder_layer.self_attn.batch_first was not True(use batch_first for better inference performance)\n",
      "  warnings.warn(\n"
     ]
    },
    {
     "name": "stdout",
     "output_type": "stream",
     "text": [
      "Epoch [1/5], Train Loss: 0.049626, Val Loss: 0.001460\n",
      "Epoch [2/5], Train Loss: 0.004400, Val Loss: 0.000584\n",
      "Epoch [3/5], Train Loss: 0.003052, Val Loss: 0.000761\n",
      "Epoch [4/5], Train Loss: 0.002254, Val Loss: 0.000466\n",
      "Epoch [5/5], Train Loss: 0.001888, Val Loss: 0.000590\n",
      "✅ Trained on KEY_1h_data.csv\n",
      "📂 Processing: NRG_1h_data.csv\n"
     ]
    },
    {
     "name": "stderr",
     "output_type": "stream",
     "text": [
      "/tmp/ipykernel_35386/3096370088.py:18: FutureWarning: DataFrame.fillna with 'method' is deprecated and will raise in a future version. Use obj.ffill() or obj.bfill() instead.\n",
      "  df.fillna(method='bfill', inplace=True)\n",
      "/tmp/ipykernel_35386/3096370088.py:19: FutureWarning: DataFrame.fillna with 'method' is deprecated and will raise in a future version. Use obj.ffill() or obj.bfill() instead.\n",
      "  df.fillna(method='ffill', inplace=True)\n",
      "/home/varun/Desktop/someProj/TradeGPT/.venv/lib/python3.10/site-packages/torch/nn/modules/transformer.py:382: UserWarning: enable_nested_tensor is True, but self.use_nested_tensor is False because encoder_layer.self_attn.batch_first was not True(use batch_first for better inference performance)\n",
      "  warnings.warn(\n"
     ]
    },
    {
     "name": "stdout",
     "output_type": "stream",
     "text": [
      "Epoch [1/5], Train Loss: 0.036040, Val Loss: 0.002498\n",
      "Epoch [2/5], Train Loss: 0.003225, Val Loss: 0.000814\n",
      "Epoch [3/5], Train Loss: 0.002171, Val Loss: 0.000919\n",
      "Epoch [4/5], Train Loss: 0.001624, Val Loss: 0.000748\n",
      "Epoch [5/5], Train Loss: 0.001312, Val Loss: 0.000360\n",
      "✅ Trained on NRG_1h_data.csv\n",
      "📂 Processing: NI_1h_data.csv\n"
     ]
    },
    {
     "name": "stderr",
     "output_type": "stream",
     "text": [
      "/tmp/ipykernel_35386/3096370088.py:18: FutureWarning: DataFrame.fillna with 'method' is deprecated and will raise in a future version. Use obj.ffill() or obj.bfill() instead.\n",
      "  df.fillna(method='bfill', inplace=True)\n",
      "/tmp/ipykernel_35386/3096370088.py:19: FutureWarning: DataFrame.fillna with 'method' is deprecated and will raise in a future version. Use obj.ffill() or obj.bfill() instead.\n",
      "  df.fillna(method='ffill', inplace=True)\n",
      "/home/varun/Desktop/someProj/TradeGPT/.venv/lib/python3.10/site-packages/torch/nn/modules/transformer.py:382: UserWarning: enable_nested_tensor is True, but self.use_nested_tensor is False because encoder_layer.self_attn.batch_first was not True(use batch_first for better inference performance)\n",
      "  warnings.warn(\n"
     ]
    },
    {
     "name": "stdout",
     "output_type": "stream",
     "text": [
      "Epoch [1/5], Train Loss: 0.026101, Val Loss: 0.008216\n",
      "Epoch [2/5], Train Loss: 0.003235, Val Loss: 0.001863\n",
      "Epoch [3/5], Train Loss: 0.001883, Val Loss: 0.001610\n",
      "Epoch [4/5], Train Loss: 0.001267, Val Loss: 0.000990\n",
      "Epoch [5/5], Train Loss: 0.001254, Val Loss: 0.003651\n",
      "✅ Trained on NI_1h_data.csv\n",
      "📂 Processing: GOOGL_1h_data.csv\n"
     ]
    },
    {
     "name": "stderr",
     "output_type": "stream",
     "text": [
      "/tmp/ipykernel_35386/3096370088.py:18: FutureWarning: DataFrame.fillna with 'method' is deprecated and will raise in a future version. Use obj.ffill() or obj.bfill() instead.\n",
      "  df.fillna(method='bfill', inplace=True)\n",
      "/tmp/ipykernel_35386/3096370088.py:19: FutureWarning: DataFrame.fillna with 'method' is deprecated and will raise in a future version. Use obj.ffill() or obj.bfill() instead.\n",
      "  df.fillna(method='ffill', inplace=True)\n",
      "/home/varun/Desktop/someProj/TradeGPT/.venv/lib/python3.10/site-packages/torch/nn/modules/transformer.py:382: UserWarning: enable_nested_tensor is True, but self.use_nested_tensor is False because encoder_layer.self_attn.batch_first was not True(use batch_first for better inference performance)\n",
      "  warnings.warn(\n"
     ]
    },
    {
     "name": "stdout",
     "output_type": "stream",
     "text": [
      "Epoch [1/5], Train Loss: 0.039962, Val Loss: 0.001134\n",
      "Epoch [2/5], Train Loss: 0.003916, Val Loss: 0.001832\n",
      "Epoch [3/5], Train Loss: 0.002437, Val Loss: 0.000401\n",
      "Epoch [4/5], Train Loss: 0.001758, Val Loss: 0.000376\n",
      "Epoch [5/5], Train Loss: 0.001364, Val Loss: 0.000671\n",
      "✅ Trained on GOOGL_1h_data.csv\n",
      "📂 Processing: ULTA_1h_data.csv\n"
     ]
    },
    {
     "name": "stderr",
     "output_type": "stream",
     "text": [
      "/tmp/ipykernel_35386/3096370088.py:18: FutureWarning: DataFrame.fillna with 'method' is deprecated and will raise in a future version. Use obj.ffill() or obj.bfill() instead.\n",
      "  df.fillna(method='bfill', inplace=True)\n",
      "/tmp/ipykernel_35386/3096370088.py:19: FutureWarning: DataFrame.fillna with 'method' is deprecated and will raise in a future version. Use obj.ffill() or obj.bfill() instead.\n",
      "  df.fillna(method='ffill', inplace=True)\n",
      "/home/varun/Desktop/someProj/TradeGPT/.venv/lib/python3.10/site-packages/torch/nn/modules/transformer.py:382: UserWarning: enable_nested_tensor is True, but self.use_nested_tensor is False because encoder_layer.self_attn.batch_first was not True(use batch_first for better inference performance)\n",
      "  warnings.warn(\n"
     ]
    },
    {
     "name": "stdout",
     "output_type": "stream",
     "text": [
      "Epoch [1/5], Train Loss: 0.120114, Val Loss: 0.000488\n",
      "Epoch [2/5], Train Loss: 0.004541, Val Loss: 0.000489\n",
      "Epoch [3/5], Train Loss: 0.003221, Val Loss: 0.000744\n",
      "Epoch [4/5], Train Loss: 0.002240, Val Loss: 0.000359\n",
      "Epoch [5/5], Train Loss: 0.001723, Val Loss: 0.000695\n",
      "✅ Trained on ULTA_1h_data.csv\n",
      "📂 Processing: AIG_1h_data.csv\n"
     ]
    },
    {
     "name": "stderr",
     "output_type": "stream",
     "text": [
      "/tmp/ipykernel_35386/3096370088.py:18: FutureWarning: DataFrame.fillna with 'method' is deprecated and will raise in a future version. Use obj.ffill() or obj.bfill() instead.\n",
      "  df.fillna(method='bfill', inplace=True)\n",
      "/tmp/ipykernel_35386/3096370088.py:19: FutureWarning: DataFrame.fillna with 'method' is deprecated and will raise in a future version. Use obj.ffill() or obj.bfill() instead.\n",
      "  df.fillna(method='ffill', inplace=True)\n",
      "/home/varun/Desktop/someProj/TradeGPT/.venv/lib/python3.10/site-packages/torch/nn/modules/transformer.py:382: UserWarning: enable_nested_tensor is True, but self.use_nested_tensor is False because encoder_layer.self_attn.batch_first was not True(use batch_first for better inference performance)\n",
      "  warnings.warn(\n"
     ]
    },
    {
     "name": "stdout",
     "output_type": "stream",
     "text": [
      "Epoch [1/5], Train Loss: 0.031128, Val Loss: 0.012909\n",
      "Epoch [2/5], Train Loss: 0.003924, Val Loss: 0.005511\n",
      "Epoch [3/5], Train Loss: 0.002604, Val Loss: 0.002819\n",
      "Epoch [4/5], Train Loss: 0.001780, Val Loss: 0.001731\n",
      "Epoch [5/5], Train Loss: 0.001392, Val Loss: 0.003737\n",
      "✅ Trained on AIG_1h_data.csv\n",
      "📂 Processing: APA_1h_data.csv\n"
     ]
    },
    {
     "name": "stderr",
     "output_type": "stream",
     "text": [
      "/tmp/ipykernel_35386/3096370088.py:18: FutureWarning: DataFrame.fillna with 'method' is deprecated and will raise in a future version. Use obj.ffill() or obj.bfill() instead.\n",
      "  df.fillna(method='bfill', inplace=True)\n",
      "/tmp/ipykernel_35386/3096370088.py:19: FutureWarning: DataFrame.fillna with 'method' is deprecated and will raise in a future version. Use obj.ffill() or obj.bfill() instead.\n",
      "  df.fillna(method='ffill', inplace=True)\n",
      "/home/varun/Desktop/someProj/TradeGPT/.venv/lib/python3.10/site-packages/torch/nn/modules/transformer.py:382: UserWarning: enable_nested_tensor is True, but self.use_nested_tensor is False because encoder_layer.self_attn.batch_first was not True(use batch_first for better inference performance)\n",
      "  warnings.warn(\n"
     ]
    },
    {
     "name": "stdout",
     "output_type": "stream",
     "text": [
      "Epoch [1/5], Train Loss: 0.038988, Val Loss: 0.000891\n",
      "Epoch [2/5], Train Loss: 0.004236, Val Loss: 0.000644\n",
      "Epoch [3/5], Train Loss: 0.002562, Val Loss: 0.000524\n",
      "Epoch [4/5], Train Loss: 0.001904, Val Loss: 0.000358\n",
      "Epoch [5/5], Train Loss: 0.001633, Val Loss: 0.000608\n",
      "✅ Trained on APA_1h_data.csv\n",
      "📂 Processing: MRNA_1h_data.csv\n"
     ]
    },
    {
     "name": "stderr",
     "output_type": "stream",
     "text": [
      "/tmp/ipykernel_35386/3096370088.py:18: FutureWarning: DataFrame.fillna with 'method' is deprecated and will raise in a future version. Use obj.ffill() or obj.bfill() instead.\n",
      "  df.fillna(method='bfill', inplace=True)\n",
      "/tmp/ipykernel_35386/3096370088.py:19: FutureWarning: DataFrame.fillna with 'method' is deprecated and will raise in a future version. Use obj.ffill() or obj.bfill() instead.\n",
      "  df.fillna(method='ffill', inplace=True)\n",
      "/home/varun/Desktop/someProj/TradeGPT/.venv/lib/python3.10/site-packages/torch/nn/modules/transformer.py:382: UserWarning: enable_nested_tensor is True, but self.use_nested_tensor is False because encoder_layer.self_attn.batch_first was not True(use batch_first for better inference performance)\n",
      "  warnings.warn(\n"
     ]
    },
    {
     "name": "stdout",
     "output_type": "stream",
     "text": [
      "Epoch [1/5], Train Loss: 0.033213, Val Loss: 0.001753\n",
      "Epoch [2/5], Train Loss: 0.003523, Val Loss: 0.000043\n",
      "Epoch [3/5], Train Loss: 0.002341, Val Loss: 0.000335\n",
      "Epoch [4/5], Train Loss: 0.001908, Val Loss: 0.000038\n",
      "Epoch [5/5], Train Loss: 0.001263, Val Loss: 0.000335\n",
      "✅ Trained on MRNA_1h_data.csv\n",
      "📂 Processing: GOOG_1h_data.csv\n"
     ]
    },
    {
     "name": "stderr",
     "output_type": "stream",
     "text": [
      "/tmp/ipykernel_35386/3096370088.py:18: FutureWarning: DataFrame.fillna with 'method' is deprecated and will raise in a future version. Use obj.ffill() or obj.bfill() instead.\n",
      "  df.fillna(method='bfill', inplace=True)\n",
      "/tmp/ipykernel_35386/3096370088.py:19: FutureWarning: DataFrame.fillna with 'method' is deprecated and will raise in a future version. Use obj.ffill() or obj.bfill() instead.\n",
      "  df.fillna(method='ffill', inplace=True)\n",
      "/home/varun/Desktop/someProj/TradeGPT/.venv/lib/python3.10/site-packages/torch/nn/modules/transformer.py:382: UserWarning: enable_nested_tensor is True, but self.use_nested_tensor is False because encoder_layer.self_attn.batch_first was not True(use batch_first for better inference performance)\n",
      "  warnings.warn(\n"
     ]
    },
    {
     "name": "stdout",
     "output_type": "stream",
     "text": [
      "Epoch [1/5], Train Loss: 0.043345, Val Loss: 0.002044\n",
      "Epoch [2/5], Train Loss: 0.003798, Val Loss: 0.000657\n",
      "Epoch [3/5], Train Loss: 0.002581, Val Loss: 0.001548\n",
      "Epoch [4/5], Train Loss: 0.001866, Val Loss: 0.000387\n",
      "Epoch [5/5], Train Loss: 0.001597, Val Loss: 0.000505\n",
      "✅ Trained on GOOG_1h_data.csv\n",
      "📂 Processing: COF_1h_data.csv\n"
     ]
    },
    {
     "name": "stderr",
     "output_type": "stream",
     "text": [
      "/tmp/ipykernel_35386/3096370088.py:18: FutureWarning: DataFrame.fillna with 'method' is deprecated and will raise in a future version. Use obj.ffill() or obj.bfill() instead.\n",
      "  df.fillna(method='bfill', inplace=True)\n",
      "/tmp/ipykernel_35386/3096370088.py:19: FutureWarning: DataFrame.fillna with 'method' is deprecated and will raise in a future version. Use obj.ffill() or obj.bfill() instead.\n",
      "  df.fillna(method='ffill', inplace=True)\n",
      "/home/varun/Desktop/someProj/TradeGPT/.venv/lib/python3.10/site-packages/torch/nn/modules/transformer.py:382: UserWarning: enable_nested_tensor is True, but self.use_nested_tensor is False because encoder_layer.self_attn.batch_first was not True(use batch_first for better inference performance)\n",
      "  warnings.warn(\n"
     ]
    },
    {
     "name": "stdout",
     "output_type": "stream",
     "text": [
      "Epoch [1/5], Train Loss: 0.039478, Val Loss: 0.005309\n",
      "Epoch [2/5], Train Loss: 0.003188, Val Loss: 0.008018\n",
      "Epoch [3/5], Train Loss: 0.002361, Val Loss: 0.004442\n",
      "Epoch [4/5], Train Loss: 0.001827, Val Loss: 0.004208\n",
      "Epoch [5/5], Train Loss: 0.001580, Val Loss: 0.005188\n",
      "✅ Trained on COF_1h_data.csv\n",
      "📂 Processing: PEP_1h_data.csv\n"
     ]
    },
    {
     "name": "stderr",
     "output_type": "stream",
     "text": [
      "/tmp/ipykernel_35386/3096370088.py:18: FutureWarning: DataFrame.fillna with 'method' is deprecated and will raise in a future version. Use obj.ffill() or obj.bfill() instead.\n",
      "  df.fillna(method='bfill', inplace=True)\n",
      "/tmp/ipykernel_35386/3096370088.py:19: FutureWarning: DataFrame.fillna with 'method' is deprecated and will raise in a future version. Use obj.ffill() or obj.bfill() instead.\n",
      "  df.fillna(method='ffill', inplace=True)\n",
      "/home/varun/Desktop/someProj/TradeGPT/.venv/lib/python3.10/site-packages/torch/nn/modules/transformer.py:382: UserWarning: enable_nested_tensor is True, but self.use_nested_tensor is False because encoder_layer.self_attn.batch_first was not True(use batch_first for better inference performance)\n",
      "  warnings.warn(\n"
     ]
    },
    {
     "name": "stdout",
     "output_type": "stream",
     "text": [
      "Epoch [1/5], Train Loss: 0.070731, Val Loss: 0.005253\n",
      "Epoch [2/5], Train Loss: 0.007054, Val Loss: 0.003548\n",
      "Epoch [3/5], Train Loss: 0.004185, Val Loss: 0.001117\n",
      "Epoch [4/5], Train Loss: 0.003063, Val Loss: 0.000396\n",
      "Epoch [5/5], Train Loss: 0.002120, Val Loss: 0.001607\n",
      "✅ Trained on PEP_1h_data.csv\n",
      "📂 Processing: UGI_1h_data.csv\n"
     ]
    },
    {
     "name": "stderr",
     "output_type": "stream",
     "text": [
      "/tmp/ipykernel_35386/3096370088.py:18: FutureWarning: DataFrame.fillna with 'method' is deprecated and will raise in a future version. Use obj.ffill() or obj.bfill() instead.\n",
      "  df.fillna(method='bfill', inplace=True)\n",
      "/tmp/ipykernel_35386/3096370088.py:19: FutureWarning: DataFrame.fillna with 'method' is deprecated and will raise in a future version. Use obj.ffill() or obj.bfill() instead.\n",
      "  df.fillna(method='ffill', inplace=True)\n",
      "/home/varun/Desktop/someProj/TradeGPT/.venv/lib/python3.10/site-packages/torch/nn/modules/transformer.py:382: UserWarning: enable_nested_tensor is True, but self.use_nested_tensor is False because encoder_layer.self_attn.batch_first was not True(use batch_first for better inference performance)\n",
      "  warnings.warn(\n"
     ]
    },
    {
     "name": "stdout",
     "output_type": "stream",
     "text": [
      "Epoch [1/5], Train Loss: 0.027792, Val Loss: 0.007723\n",
      "Epoch [2/5], Train Loss: 0.003351, Val Loss: 0.004791\n",
      "Epoch [3/5], Train Loss: 0.001998, Val Loss: 0.000896\n",
      "Epoch [4/5], Train Loss: 0.001711, Val Loss: 0.000582\n",
      "Epoch [5/5], Train Loss: 0.001136, Val Loss: 0.001036\n",
      "✅ Trained on UGI_1h_data.csv\n",
      "📂 Processing: EQIX_1h_data.csv\n"
     ]
    },
    {
     "name": "stderr",
     "output_type": "stream",
     "text": [
      "/tmp/ipykernel_35386/3096370088.py:18: FutureWarning: DataFrame.fillna with 'method' is deprecated and will raise in a future version. Use obj.ffill() or obj.bfill() instead.\n",
      "  df.fillna(method='bfill', inplace=True)\n",
      "/tmp/ipykernel_35386/3096370088.py:19: FutureWarning: DataFrame.fillna with 'method' is deprecated and will raise in a future version. Use obj.ffill() or obj.bfill() instead.\n",
      "  df.fillna(method='ffill', inplace=True)\n",
      "/home/varun/Desktop/someProj/TradeGPT/.venv/lib/python3.10/site-packages/torch/nn/modules/transformer.py:382: UserWarning: enable_nested_tensor is True, but self.use_nested_tensor is False because encoder_layer.self_attn.batch_first was not True(use batch_first for better inference performance)\n",
      "  warnings.warn(\n"
     ]
    },
    {
     "name": "stdout",
     "output_type": "stream",
     "text": [
      "Epoch [1/5], Train Loss: 0.075321, Val Loss: 0.012380\n",
      "Epoch [2/5], Train Loss: 0.006131, Val Loss: 0.001720\n",
      "Epoch [3/5], Train Loss: 0.003942, Val Loss: 0.002113\n",
      "Epoch [4/5], Train Loss: 0.003119, Val Loss: 0.001676\n",
      "Epoch [5/5], Train Loss: 0.002641, Val Loss: 0.001242\n",
      "✅ Trained on EQIX_1h_data.csv\n",
      "📂 Processing: SCHW_1h_data.csv\n"
     ]
    },
    {
     "name": "stderr",
     "output_type": "stream",
     "text": [
      "/tmp/ipykernel_35386/3096370088.py:18: FutureWarning: DataFrame.fillna with 'method' is deprecated and will raise in a future version. Use obj.ffill() or obj.bfill() instead.\n",
      "  df.fillna(method='bfill', inplace=True)\n",
      "/tmp/ipykernel_35386/3096370088.py:19: FutureWarning: DataFrame.fillna with 'method' is deprecated and will raise in a future version. Use obj.ffill() or obj.bfill() instead.\n",
      "  df.fillna(method='ffill', inplace=True)\n",
      "/home/varun/Desktop/someProj/TradeGPT/.venv/lib/python3.10/site-packages/torch/nn/modules/transformer.py:382: UserWarning: enable_nested_tensor is True, but self.use_nested_tensor is False because encoder_layer.self_attn.batch_first was not True(use batch_first for better inference performance)\n",
      "  warnings.warn(\n"
     ]
    },
    {
     "name": "stdout",
     "output_type": "stream",
     "text": [
      "Epoch [1/5], Train Loss: 0.030960, Val Loss: 0.002182\n",
      "Epoch [2/5], Train Loss: 0.003441, Val Loss: 0.000893\n",
      "Epoch [3/5], Train Loss: 0.002049, Val Loss: 0.001083\n",
      "Epoch [4/5], Train Loss: 0.001511, Val Loss: 0.000664\n",
      "Epoch [5/5], Train Loss: 0.001258, Val Loss: 0.000570\n",
      "✅ Trained on SCHW_1h_data.csv\n",
      "📂 Processing: GS_1h_data.csv\n"
     ]
    },
    {
     "name": "stderr",
     "output_type": "stream",
     "text": [
      "/tmp/ipykernel_35386/3096370088.py:18: FutureWarning: DataFrame.fillna with 'method' is deprecated and will raise in a future version. Use obj.ffill() or obj.bfill() instead.\n",
      "  df.fillna(method='bfill', inplace=True)\n",
      "/tmp/ipykernel_35386/3096370088.py:19: FutureWarning: DataFrame.fillna with 'method' is deprecated and will raise in a future version. Use obj.ffill() or obj.bfill() instead.\n",
      "  df.fillna(method='ffill', inplace=True)\n",
      "/home/varun/Desktop/someProj/TradeGPT/.venv/lib/python3.10/site-packages/torch/nn/modules/transformer.py:382: UserWarning: enable_nested_tensor is True, but self.use_nested_tensor is False because encoder_layer.self_attn.batch_first was not True(use batch_first for better inference performance)\n",
      "  warnings.warn(\n"
     ]
    },
    {
     "name": "stdout",
     "output_type": "stream",
     "text": [
      "Epoch [1/5], Train Loss: 0.039275, Val Loss: 0.004360\n",
      "Epoch [2/5], Train Loss: 0.004611, Val Loss: 0.001507\n",
      "Epoch [3/5], Train Loss: 0.002789, Val Loss: 0.002735\n",
      "Epoch [4/5], Train Loss: 0.001955, Val Loss: 0.001979\n",
      "Epoch [5/5], Train Loss: 0.001560, Val Loss: 0.004061\n",
      "✅ Trained on GS_1h_data.csv\n",
      "📂 Processing: MTB_1h_data.csv\n"
     ]
    },
    {
     "name": "stderr",
     "output_type": "stream",
     "text": [
      "/tmp/ipykernel_35386/3096370088.py:18: FutureWarning: DataFrame.fillna with 'method' is deprecated and will raise in a future version. Use obj.ffill() or obj.bfill() instead.\n",
      "  df.fillna(method='bfill', inplace=True)\n",
      "/tmp/ipykernel_35386/3096370088.py:19: FutureWarning: DataFrame.fillna with 'method' is deprecated and will raise in a future version. Use obj.ffill() or obj.bfill() instead.\n",
      "  df.fillna(method='ffill', inplace=True)\n",
      "/home/varun/Desktop/someProj/TradeGPT/.venv/lib/python3.10/site-packages/torch/nn/modules/transformer.py:382: UserWarning: enable_nested_tensor is True, but self.use_nested_tensor is False because encoder_layer.self_attn.batch_first was not True(use batch_first for better inference performance)\n",
      "  warnings.warn(\n"
     ]
    },
    {
     "name": "stdout",
     "output_type": "stream",
     "text": [
      "Epoch [1/5], Train Loss: 0.053785, Val Loss: 0.003342\n",
      "Epoch [2/5], Train Loss: 0.003779, Val Loss: 0.000845\n",
      "Epoch [3/5], Train Loss: 0.002441, Val Loss: 0.000392\n",
      "Epoch [4/5], Train Loss: 0.001780, Val Loss: 0.000515\n",
      "Epoch [5/5], Train Loss: 0.001442, Val Loss: 0.000814\n",
      "✅ Trained on MTB_1h_data.csv\n",
      "📂 Processing: NKE_1h_data.csv\n"
     ]
    },
    {
     "name": "stderr",
     "output_type": "stream",
     "text": [
      "/tmp/ipykernel_35386/3096370088.py:18: FutureWarning: DataFrame.fillna with 'method' is deprecated and will raise in a future version. Use obj.ffill() or obj.bfill() instead.\n",
      "  df.fillna(method='bfill', inplace=True)\n",
      "/tmp/ipykernel_35386/3096370088.py:19: FutureWarning: DataFrame.fillna with 'method' is deprecated and will raise in a future version. Use obj.ffill() or obj.bfill() instead.\n",
      "  df.fillna(method='ffill', inplace=True)\n",
      "/home/varun/Desktop/someProj/TradeGPT/.venv/lib/python3.10/site-packages/torch/nn/modules/transformer.py:382: UserWarning: enable_nested_tensor is True, but self.use_nested_tensor is False because encoder_layer.self_attn.batch_first was not True(use batch_first for better inference performance)\n",
      "  warnings.warn(\n"
     ]
    },
    {
     "name": "stdout",
     "output_type": "stream",
     "text": [
      "Epoch [1/5], Train Loss: 0.047565, Val Loss: 0.001517\n",
      "Epoch [2/5], Train Loss: 0.003911, Val Loss: 0.000440\n",
      "Epoch [3/5], Train Loss: 0.002827, Val Loss: 0.000283\n",
      "Epoch [4/5], Train Loss: 0.001905, Val Loss: 0.001015\n",
      "Epoch [5/5], Train Loss: 0.001553, Val Loss: 0.000301\n",
      "✅ Trained on NKE_1h_data.csv\n",
      "📂 Processing: ITW_1h_data.csv\n"
     ]
    },
    {
     "name": "stderr",
     "output_type": "stream",
     "text": [
      "/tmp/ipykernel_35386/3096370088.py:18: FutureWarning: DataFrame.fillna with 'method' is deprecated and will raise in a future version. Use obj.ffill() or obj.bfill() instead.\n",
      "  df.fillna(method='bfill', inplace=True)\n",
      "/tmp/ipykernel_35386/3096370088.py:19: FutureWarning: DataFrame.fillna with 'method' is deprecated and will raise in a future version. Use obj.ffill() or obj.bfill() instead.\n",
      "  df.fillna(method='ffill', inplace=True)\n",
      "/home/varun/Desktop/someProj/TradeGPT/.venv/lib/python3.10/site-packages/torch/nn/modules/transformer.py:382: UserWarning: enable_nested_tensor is True, but self.use_nested_tensor is False because encoder_layer.self_attn.batch_first was not True(use batch_first for better inference performance)\n",
      "  warnings.warn(\n"
     ]
    },
    {
     "name": "stdout",
     "output_type": "stream",
     "text": [
      "Epoch [1/5], Train Loss: 0.014041, Val Loss: 0.003070\n",
      "Epoch [2/5], Train Loss: 0.003609, Val Loss: 0.002002\n",
      "Epoch [3/5], Train Loss: 0.002052, Val Loss: 0.001969\n",
      "Epoch [4/5], Train Loss: 0.001559, Val Loss: 0.001888\n",
      "Epoch [5/5], Train Loss: 0.001624, Val Loss: 0.001924\n",
      "✅ Trained on ITW_1h_data.csv\n",
      "📂 Processing: ABT_1h_data.csv\n"
     ]
    },
    {
     "name": "stderr",
     "output_type": "stream",
     "text": [
      "/tmp/ipykernel_35386/3096370088.py:18: FutureWarning: DataFrame.fillna with 'method' is deprecated and will raise in a future version. Use obj.ffill() or obj.bfill() instead.\n",
      "  df.fillna(method='bfill', inplace=True)\n",
      "/tmp/ipykernel_35386/3096370088.py:19: FutureWarning: DataFrame.fillna with 'method' is deprecated and will raise in a future version. Use obj.ffill() or obj.bfill() instead.\n",
      "  df.fillna(method='ffill', inplace=True)\n",
      "/home/varun/Desktop/someProj/TradeGPT/.venv/lib/python3.10/site-packages/torch/nn/modules/transformer.py:382: UserWarning: enable_nested_tensor is True, but self.use_nested_tensor is False because encoder_layer.self_attn.batch_first was not True(use batch_first for better inference performance)\n",
      "  warnings.warn(\n"
     ]
    },
    {
     "name": "stdout",
     "output_type": "stream",
     "text": [
      "Epoch [1/5], Train Loss: 0.038032, Val Loss: 0.006603\n",
      "Epoch [2/5], Train Loss: 0.003623, Val Loss: 0.005899\n",
      "Epoch [3/5], Train Loss: 0.002163, Val Loss: 0.002445\n",
      "Epoch [4/5], Train Loss: 0.001711, Val Loss: 0.002957\n",
      "Epoch [5/5], Train Loss: 0.001222, Val Loss: 0.000683\n",
      "✅ Trained on ABT_1h_data.csv\n",
      "📂 Processing: SO_1h_data.csv\n"
     ]
    },
    {
     "name": "stderr",
     "output_type": "stream",
     "text": [
      "/tmp/ipykernel_35386/3096370088.py:18: FutureWarning: DataFrame.fillna with 'method' is deprecated and will raise in a future version. Use obj.ffill() or obj.bfill() instead.\n",
      "  df.fillna(method='bfill', inplace=True)\n",
      "/tmp/ipykernel_35386/3096370088.py:19: FutureWarning: DataFrame.fillna with 'method' is deprecated and will raise in a future version. Use obj.ffill() or obj.bfill() instead.\n",
      "  df.fillna(method='ffill', inplace=True)\n",
      "/home/varun/Desktop/someProj/TradeGPT/.venv/lib/python3.10/site-packages/torch/nn/modules/transformer.py:382: UserWarning: enable_nested_tensor is True, but self.use_nested_tensor is False because encoder_layer.self_attn.batch_first was not True(use batch_first for better inference performance)\n",
      "  warnings.warn(\n"
     ]
    },
    {
     "name": "stdout",
     "output_type": "stream",
     "text": [
      "Epoch [1/5], Train Loss: 0.019305, Val Loss: 0.003363\n",
      "Epoch [2/5], Train Loss: 0.003611, Val Loss: 0.006557\n",
      "Epoch [3/5], Train Loss: 0.001834, Val Loss: 0.000627\n",
      "Epoch [4/5], Train Loss: 0.001393, Val Loss: 0.003037\n",
      "Epoch [5/5], Train Loss: 0.001262, Val Loss: 0.000562\n",
      "✅ Trained on SO_1h_data.csv\n",
      "📂 Processing: WBA_1h_data.csv\n"
     ]
    },
    {
     "name": "stderr",
     "output_type": "stream",
     "text": [
      "/tmp/ipykernel_35386/3096370088.py:18: FutureWarning: DataFrame.fillna with 'method' is deprecated and will raise in a future version. Use obj.ffill() or obj.bfill() instead.\n",
      "  df.fillna(method='bfill', inplace=True)\n",
      "/tmp/ipykernel_35386/3096370088.py:19: FutureWarning: DataFrame.fillna with 'method' is deprecated and will raise in a future version. Use obj.ffill() or obj.bfill() instead.\n",
      "  df.fillna(method='ffill', inplace=True)\n",
      "/home/varun/Desktop/someProj/TradeGPT/.venv/lib/python3.10/site-packages/torch/nn/modules/transformer.py:382: UserWarning: enable_nested_tensor is True, but self.use_nested_tensor is False because encoder_layer.self_attn.batch_first was not True(use batch_first for better inference performance)\n",
      "  warnings.warn(\n"
     ]
    },
    {
     "name": "stdout",
     "output_type": "stream",
     "text": [
      "Epoch [1/5], Train Loss: 0.092027, Val Loss: 0.000436\n",
      "Epoch [2/5], Train Loss: 0.004937, Val Loss: 0.000098\n",
      "Epoch [3/5], Train Loss: 0.003240, Val Loss: 0.000360\n",
      "Epoch [4/5], Train Loss: 0.002685, Val Loss: 0.000289\n",
      "Epoch [5/5], Train Loss: 0.001978, Val Loss: 0.000060\n",
      "✅ Trained on WBA_1h_data.csv\n",
      "📂 Processing: UPS_1h_data.csv\n"
     ]
    },
    {
     "name": "stderr",
     "output_type": "stream",
     "text": [
      "/tmp/ipykernel_35386/3096370088.py:18: FutureWarning: DataFrame.fillna with 'method' is deprecated and will raise in a future version. Use obj.ffill() or obj.bfill() instead.\n",
      "  df.fillna(method='bfill', inplace=True)\n",
      "/tmp/ipykernel_35386/3096370088.py:19: FutureWarning: DataFrame.fillna with 'method' is deprecated and will raise in a future version. Use obj.ffill() or obj.bfill() instead.\n",
      "  df.fillna(method='ffill', inplace=True)\n",
      "/home/varun/Desktop/someProj/TradeGPT/.venv/lib/python3.10/site-packages/torch/nn/modules/transformer.py:382: UserWarning: enable_nested_tensor is True, but self.use_nested_tensor is False because encoder_layer.self_attn.batch_first was not True(use batch_first for better inference performance)\n",
      "  warnings.warn(\n"
     ]
    },
    {
     "name": "stdout",
     "output_type": "stream",
     "text": [
      "Epoch [1/5], Train Loss: 0.040533, Val Loss: 0.029636\n",
      "Epoch [2/5], Train Loss: 0.003602, Val Loss: 0.006660\n",
      "Epoch [3/5], Train Loss: 0.002136, Val Loss: 0.001679\n",
      "Epoch [4/5], Train Loss: 0.001519, Val Loss: 0.002607\n",
      "Epoch [5/5], Train Loss: 0.001249, Val Loss: 0.002423\n",
      "✅ Trained on UPS_1h_data.csv\n",
      "📂 Processing: STZ_1h_data.csv\n"
     ]
    },
    {
     "name": "stderr",
     "output_type": "stream",
     "text": [
      "/tmp/ipykernel_35386/3096370088.py:18: FutureWarning: DataFrame.fillna with 'method' is deprecated and will raise in a future version. Use obj.ffill() or obj.bfill() instead.\n",
      "  df.fillna(method='bfill', inplace=True)\n",
      "/tmp/ipykernel_35386/3096370088.py:19: FutureWarning: DataFrame.fillna with 'method' is deprecated and will raise in a future version. Use obj.ffill() or obj.bfill() instead.\n",
      "  df.fillna(method='ffill', inplace=True)\n",
      "/home/varun/Desktop/someProj/TradeGPT/.venv/lib/python3.10/site-packages/torch/nn/modules/transformer.py:382: UserWarning: enable_nested_tensor is True, but self.use_nested_tensor is False because encoder_layer.self_attn.batch_first was not True(use batch_first for better inference performance)\n",
      "  warnings.warn(\n"
     ]
    },
    {
     "name": "stdout",
     "output_type": "stream",
     "text": [
      "Epoch [1/5], Train Loss: 0.040594, Val Loss: 0.000580\n",
      "Epoch [2/5], Train Loss: 0.004083, Val Loss: 0.000668\n",
      "Epoch [3/5], Train Loss: 0.002528, Val Loss: 0.003047\n",
      "Epoch [4/5], Train Loss: 0.001781, Val Loss: 0.000991\n",
      "Epoch [5/5], Train Loss: 0.001416, Val Loss: 0.000314\n",
      "✅ Trained on STZ_1h_data.csv\n",
      "📂 Processing: PANW_1h_data.csv\n"
     ]
    },
    {
     "name": "stderr",
     "output_type": "stream",
     "text": [
      "/tmp/ipykernel_35386/3096370088.py:18: FutureWarning: DataFrame.fillna with 'method' is deprecated and will raise in a future version. Use obj.ffill() or obj.bfill() instead.\n",
      "  df.fillna(method='bfill', inplace=True)\n",
      "/tmp/ipykernel_35386/3096370088.py:19: FutureWarning: DataFrame.fillna with 'method' is deprecated and will raise in a future version. Use obj.ffill() or obj.bfill() instead.\n",
      "  df.fillna(method='ffill', inplace=True)\n",
      "/home/varun/Desktop/someProj/TradeGPT/.venv/lib/python3.10/site-packages/torch/nn/modules/transformer.py:382: UserWarning: enable_nested_tensor is True, but self.use_nested_tensor is False because encoder_layer.self_attn.batch_first was not True(use batch_first for better inference performance)\n",
      "  warnings.warn(\n"
     ]
    },
    {
     "name": "stdout",
     "output_type": "stream",
     "text": [
      "Epoch [1/5], Train Loss: 0.042496, Val Loss: 0.002154\n",
      "Epoch [2/5], Train Loss: 0.004791, Val Loss: 0.001608\n",
      "Epoch [3/5], Train Loss: 0.003112, Val Loss: 0.000832\n",
      "Epoch [4/5], Train Loss: 0.002184, Val Loss: 0.000842\n",
      "Epoch [5/5], Train Loss: 0.002154, Val Loss: 0.000770\n",
      "✅ Trained on PANW_1h_data.csv\n",
      "📂 Processing: ETN_1h_data.csv\n"
     ]
    },
    {
     "name": "stderr",
     "output_type": "stream",
     "text": [
      "/tmp/ipykernel_35386/3096370088.py:18: FutureWarning: DataFrame.fillna with 'method' is deprecated and will raise in a future version. Use obj.ffill() or obj.bfill() instead.\n",
      "  df.fillna(method='bfill', inplace=True)\n",
      "/tmp/ipykernel_35386/3096370088.py:19: FutureWarning: DataFrame.fillna with 'method' is deprecated and will raise in a future version. Use obj.ffill() or obj.bfill() instead.\n",
      "  df.fillna(method='ffill', inplace=True)\n",
      "/home/varun/Desktop/someProj/TradeGPT/.venv/lib/python3.10/site-packages/torch/nn/modules/transformer.py:382: UserWarning: enable_nested_tensor is True, but self.use_nested_tensor is False because encoder_layer.self_attn.batch_first was not True(use batch_first for better inference performance)\n",
      "  warnings.warn(\n"
     ]
    },
    {
     "name": "stdout",
     "output_type": "stream",
     "text": [
      "Epoch [1/5], Train Loss: 0.037956, Val Loss: 0.001760\n",
      "Epoch [2/5], Train Loss: 0.004525, Val Loss: 0.001478\n",
      "Epoch [3/5], Train Loss: 0.003107, Val Loss: 0.000935\n",
      "Epoch [4/5], Train Loss: 0.002400, Val Loss: 0.000840\n",
      "Epoch [5/5], Train Loss: 0.001731, Val Loss: 0.000584\n",
      "✅ Trained on ETN_1h_data.csv\n",
      "📂 Processing: FTNT_1h_data.csv\n"
     ]
    },
    {
     "name": "stderr",
     "output_type": "stream",
     "text": [
      "/tmp/ipykernel_35386/3096370088.py:18: FutureWarning: DataFrame.fillna with 'method' is deprecated and will raise in a future version. Use obj.ffill() or obj.bfill() instead.\n",
      "  df.fillna(method='bfill', inplace=True)\n",
      "/tmp/ipykernel_35386/3096370088.py:19: FutureWarning: DataFrame.fillna with 'method' is deprecated and will raise in a future version. Use obj.ffill() or obj.bfill() instead.\n",
      "  df.fillna(method='ffill', inplace=True)\n",
      "/home/varun/Desktop/someProj/TradeGPT/.venv/lib/python3.10/site-packages/torch/nn/modules/transformer.py:382: UserWarning: enable_nested_tensor is True, but self.use_nested_tensor is False because encoder_layer.self_attn.batch_first was not True(use batch_first for better inference performance)\n",
      "  warnings.warn(\n"
     ]
    },
    {
     "name": "stdout",
     "output_type": "stream",
     "text": [
      "Epoch [1/5], Train Loss: 0.034143, Val Loss: 0.004124\n",
      "Epoch [2/5], Train Loss: 0.003549, Val Loss: 0.002299\n",
      "Epoch [3/5], Train Loss: 0.002360, Val Loss: 0.001782\n",
      "Epoch [4/5], Train Loss: 0.001744, Val Loss: 0.001055\n",
      "Epoch [5/5], Train Loss: 0.001268, Val Loss: 0.000984\n",
      "✅ Trained on FTNT_1h_data.csv\n",
      "📂 Processing: NOV_1h_data.csv\n"
     ]
    },
    {
     "name": "stderr",
     "output_type": "stream",
     "text": [
      "/tmp/ipykernel_35386/3096370088.py:18: FutureWarning: DataFrame.fillna with 'method' is deprecated and will raise in a future version. Use obj.ffill() or obj.bfill() instead.\n",
      "  df.fillna(method='bfill', inplace=True)\n",
      "/tmp/ipykernel_35386/3096370088.py:19: FutureWarning: DataFrame.fillna with 'method' is deprecated and will raise in a future version. Use obj.ffill() or obj.bfill() instead.\n",
      "  df.fillna(method='ffill', inplace=True)\n",
      "/home/varun/Desktop/someProj/TradeGPT/.venv/lib/python3.10/site-packages/torch/nn/modules/transformer.py:382: UserWarning: enable_nested_tensor is True, but self.use_nested_tensor is False because encoder_layer.self_attn.batch_first was not True(use batch_first for better inference performance)\n",
      "  warnings.warn(\n"
     ]
    },
    {
     "name": "stdout",
     "output_type": "stream",
     "text": [
      "Epoch [1/5], Train Loss: 0.028867, Val Loss: 0.006108\n",
      "Epoch [2/5], Train Loss: 0.003641, Val Loss: 0.001457\n",
      "Epoch [3/5], Train Loss: 0.001985, Val Loss: 0.001171\n",
      "Epoch [4/5], Train Loss: 0.001902, Val Loss: 0.001252\n",
      "Epoch [5/5], Train Loss: 0.001526, Val Loss: 0.000586\n",
      "✅ Trained on NOV_1h_data.csv\n",
      "📂 Processing: NTST_1h_data.csv\n"
     ]
    },
    {
     "name": "stderr",
     "output_type": "stream",
     "text": [
      "/tmp/ipykernel_35386/3096370088.py:18: FutureWarning: DataFrame.fillna with 'method' is deprecated and will raise in a future version. Use obj.ffill() or obj.bfill() instead.\n",
      "  df.fillna(method='bfill', inplace=True)\n",
      "/tmp/ipykernel_35386/3096370088.py:19: FutureWarning: DataFrame.fillna with 'method' is deprecated and will raise in a future version. Use obj.ffill() or obj.bfill() instead.\n",
      "  df.fillna(method='ffill', inplace=True)\n",
      "/home/varun/Desktop/someProj/TradeGPT/.venv/lib/python3.10/site-packages/torch/nn/modules/transformer.py:382: UserWarning: enable_nested_tensor is True, but self.use_nested_tensor is False because encoder_layer.self_attn.batch_first was not True(use batch_first for better inference performance)\n",
      "  warnings.warn(\n"
     ]
    },
    {
     "name": "stdout",
     "output_type": "stream",
     "text": [
      "Epoch [1/5], Train Loss: 0.030369, Val Loss: 0.001787\n",
      "Epoch [2/5], Train Loss: 0.004155, Val Loss: 0.000830\n",
      "Epoch [3/5], Train Loss: 0.002761, Val Loss: 0.000789\n",
      "Epoch [4/5], Train Loss: 0.002179, Val Loss: 0.000983\n",
      "Epoch [5/5], Train Loss: 0.001806, Val Loss: 0.000824\n",
      "✅ Trained on NTST_1h_data.csv\n",
      "📂 Processing: KMB_1h_data.csv\n"
     ]
    },
    {
     "name": "stderr",
     "output_type": "stream",
     "text": [
      "/tmp/ipykernel_35386/3096370088.py:18: FutureWarning: DataFrame.fillna with 'method' is deprecated and will raise in a future version. Use obj.ffill() or obj.bfill() instead.\n",
      "  df.fillna(method='bfill', inplace=True)\n",
      "/tmp/ipykernel_35386/3096370088.py:19: FutureWarning: DataFrame.fillna with 'method' is deprecated and will raise in a future version. Use obj.ffill() or obj.bfill() instead.\n",
      "  df.fillna(method='ffill', inplace=True)\n",
      "/home/varun/Desktop/someProj/TradeGPT/.venv/lib/python3.10/site-packages/torch/nn/modules/transformer.py:382: UserWarning: enable_nested_tensor is True, but self.use_nested_tensor is False because encoder_layer.self_attn.batch_first was not True(use batch_first for better inference performance)\n",
      "  warnings.warn(\n"
     ]
    },
    {
     "name": "stdout",
     "output_type": "stream",
     "text": [
      "Epoch [1/5], Train Loss: 0.028827, Val Loss: 0.002136\n",
      "Epoch [2/5], Train Loss: 0.003905, Val Loss: 0.002863\n",
      "Epoch [3/5], Train Loss: 0.002887, Val Loss: 0.000806\n",
      "Epoch [4/5], Train Loss: 0.001994, Val Loss: 0.000808\n",
      "Epoch [5/5], Train Loss: 0.001608, Val Loss: 0.000811\n",
      "✅ Trained on KMB_1h_data.csv\n",
      "📂 Processing: COP_1h_data.csv\n"
     ]
    },
    {
     "name": "stderr",
     "output_type": "stream",
     "text": [
      "/tmp/ipykernel_35386/3096370088.py:18: FutureWarning: DataFrame.fillna with 'method' is deprecated and will raise in a future version. Use obj.ffill() or obj.bfill() instead.\n",
      "  df.fillna(method='bfill', inplace=True)\n",
      "/tmp/ipykernel_35386/3096370088.py:19: FutureWarning: DataFrame.fillna with 'method' is deprecated and will raise in a future version. Use obj.ffill() or obj.bfill() instead.\n",
      "  df.fillna(method='ffill', inplace=True)\n",
      "/home/varun/Desktop/someProj/TradeGPT/.venv/lib/python3.10/site-packages/torch/nn/modules/transformer.py:382: UserWarning: enable_nested_tensor is True, but self.use_nested_tensor is False because encoder_layer.self_attn.batch_first was not True(use batch_first for better inference performance)\n",
      "  warnings.warn(\n"
     ]
    },
    {
     "name": "stdout",
     "output_type": "stream",
     "text": [
      "Epoch [1/5], Train Loss: 0.026112, Val Loss: 0.001569\n",
      "Epoch [2/5], Train Loss: 0.002968, Val Loss: 0.001645\n",
      "Epoch [3/5], Train Loss: 0.001871, Val Loss: 0.003154\n",
      "Epoch [4/5], Train Loss: 0.001394, Val Loss: 0.003530\n",
      "Epoch [5/5], Train Loss: 0.001060, Val Loss: 0.002929\n",
      "✅ Trained on COP_1h_data.csv\n",
      "📂 Processing: CHD_1h_data.csv\n"
     ]
    },
    {
     "name": "stderr",
     "output_type": "stream",
     "text": [
      "/tmp/ipykernel_35386/3096370088.py:18: FutureWarning: DataFrame.fillna with 'method' is deprecated and will raise in a future version. Use obj.ffill() or obj.bfill() instead.\n",
      "  df.fillna(method='bfill', inplace=True)\n",
      "/tmp/ipykernel_35386/3096370088.py:19: FutureWarning: DataFrame.fillna with 'method' is deprecated and will raise in a future version. Use obj.ffill() or obj.bfill() instead.\n",
      "  df.fillna(method='ffill', inplace=True)\n",
      "/home/varun/Desktop/someProj/TradeGPT/.venv/lib/python3.10/site-packages/torch/nn/modules/transformer.py:382: UserWarning: enable_nested_tensor is True, but self.use_nested_tensor is False because encoder_layer.self_attn.batch_first was not True(use batch_first for better inference performance)\n",
      "  warnings.warn(\n"
     ]
    },
    {
     "name": "stdout",
     "output_type": "stream",
     "text": [
      "Epoch [1/5], Train Loss: 0.027124, Val Loss: 0.003731\n",
      "Epoch [2/5], Train Loss: 0.003433, Val Loss: 0.002675\n",
      "Epoch [3/5], Train Loss: 0.002700, Val Loss: 0.001764\n",
      "Epoch [4/5], Train Loss: 0.001641, Val Loss: 0.001751\n",
      "Epoch [5/5], Train Loss: 0.001477, Val Loss: 0.002016\n",
      "✅ Trained on CHD_1h_data.csv\n",
      "📂 Processing: NVDA_1h_data.csv\n"
     ]
    },
    {
     "name": "stderr",
     "output_type": "stream",
     "text": [
      "/tmp/ipykernel_35386/3096370088.py:18: FutureWarning: DataFrame.fillna with 'method' is deprecated and will raise in a future version. Use obj.ffill() or obj.bfill() instead.\n",
      "  df.fillna(method='bfill', inplace=True)\n",
      "/tmp/ipykernel_35386/3096370088.py:19: FutureWarning: DataFrame.fillna with 'method' is deprecated and will raise in a future version. Use obj.ffill() or obj.bfill() instead.\n",
      "  df.fillna(method='ffill', inplace=True)\n",
      "/home/varun/Desktop/someProj/TradeGPT/.venv/lib/python3.10/site-packages/torch/nn/modules/transformer.py:382: UserWarning: enable_nested_tensor is True, but self.use_nested_tensor is False because encoder_layer.self_attn.batch_first was not True(use batch_first for better inference performance)\n",
      "  warnings.warn(\n"
     ]
    },
    {
     "name": "stdout",
     "output_type": "stream",
     "text": [
      "Epoch [1/5], Train Loss: 0.031801, Val Loss: 0.003186\n",
      "Epoch [2/5], Train Loss: 0.004420, Val Loss: 0.000830\n",
      "Epoch [3/5], Train Loss: 0.002506, Val Loss: 0.000451\n",
      "Epoch [4/5], Train Loss: 0.002300, Val Loss: 0.000612\n",
      "Epoch [5/5], Train Loss: 0.001482, Val Loss: 0.000436\n",
      "✅ Trained on NVDA_1h_data.csv\n",
      "📂 Processing: OGE_1h_data.csv\n"
     ]
    },
    {
     "name": "stderr",
     "output_type": "stream",
     "text": [
      "/tmp/ipykernel_35386/3096370088.py:18: FutureWarning: DataFrame.fillna with 'method' is deprecated and will raise in a future version. Use obj.ffill() or obj.bfill() instead.\n",
      "  df.fillna(method='bfill', inplace=True)\n",
      "/tmp/ipykernel_35386/3096370088.py:19: FutureWarning: DataFrame.fillna with 'method' is deprecated and will raise in a future version. Use obj.ffill() or obj.bfill() instead.\n",
      "  df.fillna(method='ffill', inplace=True)\n",
      "/home/varun/Desktop/someProj/TradeGPT/.venv/lib/python3.10/site-packages/torch/nn/modules/transformer.py:382: UserWarning: enable_nested_tensor is True, but self.use_nested_tensor is False because encoder_layer.self_attn.batch_first was not True(use batch_first for better inference performance)\n",
      "  warnings.warn(\n"
     ]
    },
    {
     "name": "stdout",
     "output_type": "stream",
     "text": [
      "Epoch [1/5], Train Loss: 0.023841, Val Loss: 0.004457\n",
      "Epoch [2/5], Train Loss: 0.002993, Val Loss: 0.006102\n",
      "Epoch [3/5], Train Loss: 0.002197, Val Loss: 0.001814\n",
      "Epoch [4/5], Train Loss: 0.001448, Val Loss: 0.001475\n",
      "Epoch [5/5], Train Loss: 0.001101, Val Loss: 0.001037\n",
      "✅ Trained on OGE_1h_data.csv\n",
      "📂 Processing: MPC_1h_data.csv\n"
     ]
    },
    {
     "name": "stderr",
     "output_type": "stream",
     "text": [
      "/tmp/ipykernel_35386/3096370088.py:18: FutureWarning: DataFrame.fillna with 'method' is deprecated and will raise in a future version. Use obj.ffill() or obj.bfill() instead.\n",
      "  df.fillna(method='bfill', inplace=True)\n",
      "/tmp/ipykernel_35386/3096370088.py:19: FutureWarning: DataFrame.fillna with 'method' is deprecated and will raise in a future version. Use obj.ffill() or obj.bfill() instead.\n",
      "  df.fillna(method='ffill', inplace=True)\n",
      "/home/varun/Desktop/someProj/TradeGPT/.venv/lib/python3.10/site-packages/torch/nn/modules/transformer.py:382: UserWarning: enable_nested_tensor is True, but self.use_nested_tensor is False because encoder_layer.self_attn.batch_first was not True(use batch_first for better inference performance)\n",
      "  warnings.warn(\n"
     ]
    },
    {
     "name": "stdout",
     "output_type": "stream",
     "text": [
      "Epoch [1/5], Train Loss: 0.028899, Val Loss: 0.000814\n",
      "Epoch [2/5], Train Loss: 0.003166, Val Loss: 0.000467\n",
      "Epoch [3/5], Train Loss: 0.001870, Val Loss: 0.000380\n",
      "Epoch [4/5], Train Loss: 0.001493, Val Loss: 0.000385\n",
      "Epoch [5/5], Train Loss: 0.001163, Val Loss: 0.000798\n",
      "✅ Trained on MPC_1h_data.csv\n",
      "📂 Processing: ADBE_1h_data.csv\n"
     ]
    },
    {
     "name": "stderr",
     "output_type": "stream",
     "text": [
      "/tmp/ipykernel_35386/3096370088.py:18: FutureWarning: DataFrame.fillna with 'method' is deprecated and will raise in a future version. Use obj.ffill() or obj.bfill() instead.\n",
      "  df.fillna(method='bfill', inplace=True)\n",
      "/tmp/ipykernel_35386/3096370088.py:19: FutureWarning: DataFrame.fillna with 'method' is deprecated and will raise in a future version. Use obj.ffill() or obj.bfill() instead.\n",
      "  df.fillna(method='ffill', inplace=True)\n",
      "/home/varun/Desktop/someProj/TradeGPT/.venv/lib/python3.10/site-packages/torch/nn/modules/transformer.py:382: UserWarning: enable_nested_tensor is True, but self.use_nested_tensor is False because encoder_layer.self_attn.batch_first was not True(use batch_first for better inference performance)\n",
      "  warnings.warn(\n"
     ]
    },
    {
     "name": "stdout",
     "output_type": "stream",
     "text": [
      "Epoch [1/5], Train Loss: 0.063153, Val Loss: 0.010529\n",
      "Epoch [2/5], Train Loss: 0.005603, Val Loss: 0.000399\n",
      "Epoch [3/5], Train Loss: 0.003383, Val Loss: 0.000685\n",
      "Epoch [4/5], Train Loss: 0.002367, Val Loss: 0.000543\n",
      "Epoch [5/5], Train Loss: 0.001859, Val Loss: 0.000651\n",
      "✅ Trained on ADBE_1h_data.csv\n",
      "📂 Processing: NOC_1h_data.csv\n"
     ]
    },
    {
     "name": "stderr",
     "output_type": "stream",
     "text": [
      "/tmp/ipykernel_35386/3096370088.py:18: FutureWarning: DataFrame.fillna with 'method' is deprecated and will raise in a future version. Use obj.ffill() or obj.bfill() instead.\n",
      "  df.fillna(method='bfill', inplace=True)\n",
      "/tmp/ipykernel_35386/3096370088.py:19: FutureWarning: DataFrame.fillna with 'method' is deprecated and will raise in a future version. Use obj.ffill() or obj.bfill() instead.\n",
      "  df.fillna(method='ffill', inplace=True)\n",
      "/home/varun/Desktop/someProj/TradeGPT/.venv/lib/python3.10/site-packages/torch/nn/modules/transformer.py:382: UserWarning: enable_nested_tensor is True, but self.use_nested_tensor is False because encoder_layer.self_attn.batch_first was not True(use batch_first for better inference performance)\n",
      "  warnings.warn(\n"
     ]
    },
    {
     "name": "stdout",
     "output_type": "stream",
     "text": [
      "Epoch [1/5], Train Loss: 0.093297, Val Loss: 0.004713\n",
      "Epoch [2/5], Train Loss: 0.005288, Val Loss: 0.001895\n",
      "Epoch [3/5], Train Loss: 0.003800, Val Loss: 0.001801\n",
      "Epoch [4/5], Train Loss: 0.003030, Val Loss: 0.001685\n",
      "Epoch [5/5], Train Loss: 0.002486, Val Loss: 0.001168\n",
      "✅ Trained on NOC_1h_data.csv\n",
      "📂 Processing: DFS_1h_data.csv\n"
     ]
    },
    {
     "name": "stderr",
     "output_type": "stream",
     "text": [
      "/tmp/ipykernel_35386/3096370088.py:18: FutureWarning: DataFrame.fillna with 'method' is deprecated and will raise in a future version. Use obj.ffill() or obj.bfill() instead.\n",
      "  df.fillna(method='bfill', inplace=True)\n",
      "/tmp/ipykernel_35386/3096370088.py:19: FutureWarning: DataFrame.fillna with 'method' is deprecated and will raise in a future version. Use obj.ffill() or obj.bfill() instead.\n",
      "  df.fillna(method='ffill', inplace=True)\n",
      "/home/varun/Desktop/someProj/TradeGPT/.venv/lib/python3.10/site-packages/torch/nn/modules/transformer.py:382: UserWarning: enable_nested_tensor is True, but self.use_nested_tensor is False because encoder_layer.self_attn.batch_first was not True(use batch_first for better inference performance)\n",
      "  warnings.warn(\n"
     ]
    },
    {
     "name": "stdout",
     "output_type": "stream",
     "text": [
      "Epoch [1/5], Train Loss: 0.037301, Val Loss: 0.005337\n",
      "Epoch [2/5], Train Loss: 0.005337, Val Loss: 0.002979\n",
      "Epoch [3/5], Train Loss: 0.003626, Val Loss: 0.002062\n",
      "Epoch [4/5], Train Loss: 0.002217, Val Loss: 0.001697\n",
      "Epoch [5/5], Train Loss: 0.001723, Val Loss: 0.002665\n",
      "✅ Trained on DFS_1h_data.csv\n",
      "📂 Processing: SNOW_1h_data.csv\n"
     ]
    },
    {
     "name": "stderr",
     "output_type": "stream",
     "text": [
      "/tmp/ipykernel_35386/3096370088.py:18: FutureWarning: DataFrame.fillna with 'method' is deprecated and will raise in a future version. Use obj.ffill() or obj.bfill() instead.\n",
      "  df.fillna(method='bfill', inplace=True)\n",
      "/tmp/ipykernel_35386/3096370088.py:19: FutureWarning: DataFrame.fillna with 'method' is deprecated and will raise in a future version. Use obj.ffill() or obj.bfill() instead.\n",
      "  df.fillna(method='ffill', inplace=True)\n",
      "/home/varun/Desktop/someProj/TradeGPT/.venv/lib/python3.10/site-packages/torch/nn/modules/transformer.py:382: UserWarning: enable_nested_tensor is True, but self.use_nested_tensor is False because encoder_layer.self_attn.batch_first was not True(use batch_first for better inference performance)\n",
      "  warnings.warn(\n"
     ]
    },
    {
     "name": "stdout",
     "output_type": "stream",
     "text": [
      "Epoch [1/5], Train Loss: 0.026200, Val Loss: 0.000440\n",
      "Epoch [2/5], Train Loss: 0.003210, Val Loss: 0.000539\n",
      "Epoch [3/5], Train Loss: 0.002208, Val Loss: 0.001077\n",
      "Epoch [4/5], Train Loss: 0.001689, Val Loss: 0.000724\n",
      "Epoch [5/5], Train Loss: 0.001473, Val Loss: 0.000512\n",
      "✅ Trained on SNOW_1h_data.csv\n",
      "📂 Processing: XOM_1h_data.csv\n"
     ]
    },
    {
     "name": "stderr",
     "output_type": "stream",
     "text": [
      "/tmp/ipykernel_35386/3096370088.py:18: FutureWarning: DataFrame.fillna with 'method' is deprecated and will raise in a future version. Use obj.ffill() or obj.bfill() instead.\n",
      "  df.fillna(method='bfill', inplace=True)\n",
      "/tmp/ipykernel_35386/3096370088.py:19: FutureWarning: DataFrame.fillna with 'method' is deprecated and will raise in a future version. Use obj.ffill() or obj.bfill() instead.\n",
      "  df.fillna(method='ffill', inplace=True)\n",
      "/home/varun/Desktop/someProj/TradeGPT/.venv/lib/python3.10/site-packages/torch/nn/modules/transformer.py:382: UserWarning: enable_nested_tensor is True, but self.use_nested_tensor is False because encoder_layer.self_attn.batch_first was not True(use batch_first for better inference performance)\n",
      "  warnings.warn(\n"
     ]
    },
    {
     "name": "stdout",
     "output_type": "stream",
     "text": [
      "Epoch [1/5], Train Loss: 0.035365, Val Loss: 0.002525\n",
      "Epoch [2/5], Train Loss: 0.004422, Val Loss: 0.002859\n",
      "Epoch [3/5], Train Loss: 0.003242, Val Loss: 0.001916\n",
      "Epoch [4/5], Train Loss: 0.002516, Val Loss: 0.001630\n",
      "Epoch [5/5], Train Loss: 0.001914, Val Loss: 0.001418\n",
      "✅ Trained on XOM_1h_data.csv\n",
      "📂 Processing: CSX_1h_data.csv\n"
     ]
    },
    {
     "name": "stderr",
     "output_type": "stream",
     "text": [
      "/tmp/ipykernel_35386/3096370088.py:18: FutureWarning: DataFrame.fillna with 'method' is deprecated and will raise in a future version. Use obj.ffill() or obj.bfill() instead.\n",
      "  df.fillna(method='bfill', inplace=True)\n",
      "/tmp/ipykernel_35386/3096370088.py:19: FutureWarning: DataFrame.fillna with 'method' is deprecated and will raise in a future version. Use obj.ffill() or obj.bfill() instead.\n",
      "  df.fillna(method='ffill', inplace=True)\n",
      "/home/varun/Desktop/someProj/TradeGPT/.venv/lib/python3.10/site-packages/torch/nn/modules/transformer.py:382: UserWarning: enable_nested_tensor is True, but self.use_nested_tensor is False because encoder_layer.self_attn.batch_first was not True(use batch_first for better inference performance)\n",
      "  warnings.warn(\n"
     ]
    },
    {
     "name": "stdout",
     "output_type": "stream",
     "text": [
      "Epoch [1/5], Train Loss: 0.043015, Val Loss: 0.007596\n",
      "Epoch [2/5], Train Loss: 0.004936, Val Loss: 0.001926\n",
      "Epoch [3/5], Train Loss: 0.003005, Val Loss: 0.002476\n",
      "Epoch [4/5], Train Loss: 0.002346, Val Loss: 0.003283\n",
      "Epoch [5/5], Train Loss: 0.002155, Val Loss: 0.001098\n",
      "✅ Trained on CSX_1h_data.csv\n",
      "📂 Processing: OXY_1h_data.csv\n"
     ]
    },
    {
     "name": "stderr",
     "output_type": "stream",
     "text": [
      "/tmp/ipykernel_35386/3096370088.py:18: FutureWarning: DataFrame.fillna with 'method' is deprecated and will raise in a future version. Use obj.ffill() or obj.bfill() instead.\n",
      "  df.fillna(method='bfill', inplace=True)\n",
      "/tmp/ipykernel_35386/3096370088.py:19: FutureWarning: DataFrame.fillna with 'method' is deprecated and will raise in a future version. Use obj.ffill() or obj.bfill() instead.\n",
      "  df.fillna(method='ffill', inplace=True)\n",
      "/home/varun/Desktop/someProj/TradeGPT/.venv/lib/python3.10/site-packages/torch/nn/modules/transformer.py:382: UserWarning: enable_nested_tensor is True, but self.use_nested_tensor is False because encoder_layer.self_attn.batch_first was not True(use batch_first for better inference performance)\n",
      "  warnings.warn(\n"
     ]
    },
    {
     "name": "stdout",
     "output_type": "stream",
     "text": [
      "Epoch [1/5], Train Loss: 0.042764, Val Loss: 0.013537\n",
      "Epoch [2/5], Train Loss: 0.004110, Val Loss: 0.002232\n",
      "Epoch [3/5], Train Loss: 0.002241, Val Loss: 0.002051\n",
      "Epoch [4/5], Train Loss: 0.001900, Val Loss: 0.001448\n",
      "Epoch [5/5], Train Loss: 0.001443, Val Loss: 0.000695\n",
      "✅ Trained on OXY_1h_data.csv\n",
      "📂 Processing: META_1h_data.csv\n"
     ]
    },
    {
     "name": "stderr",
     "output_type": "stream",
     "text": [
      "/tmp/ipykernel_35386/3096370088.py:18: FutureWarning: DataFrame.fillna with 'method' is deprecated and will raise in a future version. Use obj.ffill() or obj.bfill() instead.\n",
      "  df.fillna(method='bfill', inplace=True)\n",
      "/tmp/ipykernel_35386/3096370088.py:19: FutureWarning: DataFrame.fillna with 'method' is deprecated and will raise in a future version. Use obj.ffill() or obj.bfill() instead.\n",
      "  df.fillna(method='ffill', inplace=True)\n",
      "/home/varun/Desktop/someProj/TradeGPT/.venv/lib/python3.10/site-packages/torch/nn/modules/transformer.py:382: UserWarning: enable_nested_tensor is True, but self.use_nested_tensor is False because encoder_layer.self_attn.batch_first was not True(use batch_first for better inference performance)\n",
      "  warnings.warn(\n"
     ]
    },
    {
     "name": "stdout",
     "output_type": "stream",
     "text": [
      "Epoch [1/5], Train Loss: 0.035860, Val Loss: 0.002351\n",
      "Epoch [2/5], Train Loss: 0.003999, Val Loss: 0.003009\n",
      "Epoch [3/5], Train Loss: 0.002466, Val Loss: 0.000955\n",
      "Epoch [4/5], Train Loss: 0.002031, Val Loss: 0.001269\n",
      "Epoch [5/5], Train Loss: 0.001609, Val Loss: 0.000709\n",
      "✅ Trained on META_1h_data.csv\n",
      "📂 Processing: MPWR_1h_data.csv\n"
     ]
    },
    {
     "name": "stderr",
     "output_type": "stream",
     "text": [
      "/tmp/ipykernel_35386/3096370088.py:18: FutureWarning: DataFrame.fillna with 'method' is deprecated and will raise in a future version. Use obj.ffill() or obj.bfill() instead.\n",
      "  df.fillna(method='bfill', inplace=True)\n",
      "/tmp/ipykernel_35386/3096370088.py:19: FutureWarning: DataFrame.fillna with 'method' is deprecated and will raise in a future version. Use obj.ffill() or obj.bfill() instead.\n",
      "  df.fillna(method='ffill', inplace=True)\n",
      "/home/varun/Desktop/someProj/TradeGPT/.venv/lib/python3.10/site-packages/torch/nn/modules/transformer.py:382: UserWarning: enable_nested_tensor is True, but self.use_nested_tensor is False because encoder_layer.self_attn.batch_first was not True(use batch_first for better inference performance)\n",
      "  warnings.warn(\n"
     ]
    },
    {
     "name": "stdout",
     "output_type": "stream",
     "text": [
      "Epoch [1/5], Train Loss: 0.041626, Val Loss: 0.000663\n",
      "Epoch [2/5], Train Loss: 0.003839, Val Loss: 0.000641\n",
      "Epoch [3/5], Train Loss: 0.002793, Val Loss: 0.000738\n",
      "Epoch [4/5], Train Loss: 0.001966, Val Loss: 0.000505\n",
      "Epoch [5/5], Train Loss: 0.001566, Val Loss: 0.000573\n",
      "✅ Trained on MPWR_1h_data.csv\n",
      "📂 Processing: ORLY_1h_data.csv\n"
     ]
    },
    {
     "name": "stderr",
     "output_type": "stream",
     "text": [
      "/tmp/ipykernel_35386/3096370088.py:18: FutureWarning: DataFrame.fillna with 'method' is deprecated and will raise in a future version. Use obj.ffill() or obj.bfill() instead.\n",
      "  df.fillna(method='bfill', inplace=True)\n",
      "/tmp/ipykernel_35386/3096370088.py:19: FutureWarning: DataFrame.fillna with 'method' is deprecated and will raise in a future version. Use obj.ffill() or obj.bfill() instead.\n",
      "  df.fillna(method='ffill', inplace=True)\n",
      "/home/varun/Desktop/someProj/TradeGPT/.venv/lib/python3.10/site-packages/torch/nn/modules/transformer.py:382: UserWarning: enable_nested_tensor is True, but self.use_nested_tensor is False because encoder_layer.self_attn.batch_first was not True(use batch_first for better inference performance)\n",
      "  warnings.warn(\n"
     ]
    },
    {
     "name": "stdout",
     "output_type": "stream",
     "text": [
      "Epoch [1/5], Train Loss: 0.028139, Val Loss: 0.013115\n",
      "Epoch [2/5], Train Loss: 0.003487, Val Loss: 0.009674\n",
      "Epoch [3/5], Train Loss: 0.001948, Val Loss: 0.003811\n",
      "Epoch [4/5], Train Loss: 0.001375, Val Loss: 0.002712\n",
      "Epoch [5/5], Train Loss: 0.001121, Val Loss: 0.001272\n",
      "✅ Trained on ORLY_1h_data.csv\n",
      "📂 Processing: EBAY_1h_data.csv\n"
     ]
    },
    {
     "name": "stderr",
     "output_type": "stream",
     "text": [
      "/tmp/ipykernel_35386/3096370088.py:18: FutureWarning: DataFrame.fillna with 'method' is deprecated and will raise in a future version. Use obj.ffill() or obj.bfill() instead.\n",
      "  df.fillna(method='bfill', inplace=True)\n",
      "/tmp/ipykernel_35386/3096370088.py:19: FutureWarning: DataFrame.fillna with 'method' is deprecated and will raise in a future version. Use obj.ffill() or obj.bfill() instead.\n",
      "  df.fillna(method='ffill', inplace=True)\n",
      "/home/varun/Desktop/someProj/TradeGPT/.venv/lib/python3.10/site-packages/torch/nn/modules/transformer.py:382: UserWarning: enable_nested_tensor is True, but self.use_nested_tensor is False because encoder_layer.self_attn.batch_first was not True(use batch_first for better inference performance)\n",
      "  warnings.warn(\n"
     ]
    },
    {
     "name": "stdout",
     "output_type": "stream",
     "text": [
      "Epoch [1/5], Train Loss: 0.037608, Val Loss: 0.004215\n",
      "Epoch [2/5], Train Loss: 0.003876, Val Loss: 0.002186\n",
      "Epoch [3/5], Train Loss: 0.002451, Val Loss: 0.001189\n",
      "Epoch [4/5], Train Loss: 0.001747, Val Loss: 0.001011\n",
      "Epoch [5/5], Train Loss: 0.001445, Val Loss: 0.001139\n",
      "✅ Trained on EBAY_1h_data.csv\n",
      "📂 Processing: AMGN_1h_data.csv\n"
     ]
    },
    {
     "name": "stderr",
     "output_type": "stream",
     "text": [
      "/tmp/ipykernel_35386/3096370088.py:18: FutureWarning: DataFrame.fillna with 'method' is deprecated and will raise in a future version. Use obj.ffill() or obj.bfill() instead.\n",
      "  df.fillna(method='bfill', inplace=True)\n",
      "/tmp/ipykernel_35386/3096370088.py:19: FutureWarning: DataFrame.fillna with 'method' is deprecated and will raise in a future version. Use obj.ffill() or obj.bfill() instead.\n",
      "  df.fillna(method='ffill', inplace=True)\n",
      "/home/varun/Desktop/someProj/TradeGPT/.venv/lib/python3.10/site-packages/torch/nn/modules/transformer.py:382: UserWarning: enable_nested_tensor is True, but self.use_nested_tensor is False because encoder_layer.self_attn.batch_first was not True(use batch_first for better inference performance)\n",
      "  warnings.warn(\n"
     ]
    },
    {
     "name": "stdout",
     "output_type": "stream",
     "text": [
      "Epoch [1/5], Train Loss: 0.034722, Val Loss: 0.002927\n",
      "Epoch [2/5], Train Loss: 0.003798, Val Loss: 0.000757\n",
      "Epoch [3/5], Train Loss: 0.002767, Val Loss: 0.000544\n",
      "Epoch [4/5], Train Loss: 0.001767, Val Loss: 0.000463\n",
      "Epoch [5/5], Train Loss: 0.001571, Val Loss: 0.000456\n",
      "✅ Trained on AMGN_1h_data.csv\n",
      "📂 Processing: IDA_1h_data.csv\n"
     ]
    },
    {
     "name": "stderr",
     "output_type": "stream",
     "text": [
      "/tmp/ipykernel_35386/3096370088.py:18: FutureWarning: DataFrame.fillna with 'method' is deprecated and will raise in a future version. Use obj.ffill() or obj.bfill() instead.\n",
      "  df.fillna(method='bfill', inplace=True)\n",
      "/tmp/ipykernel_35386/3096370088.py:19: FutureWarning: DataFrame.fillna with 'method' is deprecated and will raise in a future version. Use obj.ffill() or obj.bfill() instead.\n",
      "  df.fillna(method='ffill', inplace=True)\n",
      "/home/varun/Desktop/someProj/TradeGPT/.venv/lib/python3.10/site-packages/torch/nn/modules/transformer.py:382: UserWarning: enable_nested_tensor is True, but self.use_nested_tensor is False because encoder_layer.self_attn.batch_first was not True(use batch_first for better inference performance)\n",
      "  warnings.warn(\n"
     ]
    },
    {
     "name": "stdout",
     "output_type": "stream",
     "text": [
      "Epoch [1/5], Train Loss: 0.075993, Val Loss: 0.002283\n",
      "Epoch [2/5], Train Loss: 0.004452, Val Loss: 0.001353\n",
      "Epoch [3/5], Train Loss: 0.003182, Val Loss: 0.000866\n",
      "Epoch [4/5], Train Loss: 0.002367, Val Loss: 0.001494\n",
      "Epoch [5/5], Train Loss: 0.001817, Val Loss: 0.001319\n",
      "✅ Trained on IDA_1h_data.csv\n",
      "📂 Processing: CNP_1h_data.csv\n"
     ]
    },
    {
     "name": "stderr",
     "output_type": "stream",
     "text": [
      "/tmp/ipykernel_35386/3096370088.py:18: FutureWarning: DataFrame.fillna with 'method' is deprecated and will raise in a future version. Use obj.ffill() or obj.bfill() instead.\n",
      "  df.fillna(method='bfill', inplace=True)\n",
      "/tmp/ipykernel_35386/3096370088.py:19: FutureWarning: DataFrame.fillna with 'method' is deprecated and will raise in a future version. Use obj.ffill() or obj.bfill() instead.\n",
      "  df.fillna(method='ffill', inplace=True)\n",
      "/home/varun/Desktop/someProj/TradeGPT/.venv/lib/python3.10/site-packages/torch/nn/modules/transformer.py:382: UserWarning: enable_nested_tensor is True, but self.use_nested_tensor is False because encoder_layer.self_attn.batch_first was not True(use batch_first for better inference performance)\n",
      "  warnings.warn(\n"
     ]
    },
    {
     "name": "stdout",
     "output_type": "stream",
     "text": [
      "Epoch [1/5], Train Loss: 0.031229, Val Loss: 0.022956\n",
      "Epoch [2/5], Train Loss: 0.003329, Val Loss: 0.013066\n",
      "Epoch [3/5], Train Loss: 0.002038, Val Loss: 0.006717\n",
      "Epoch [4/5], Train Loss: 0.001406, Val Loss: 0.009659\n",
      "Epoch [5/5], Train Loss: 0.001137, Val Loss: 0.009440\n",
      "✅ Trained on CNP_1h_data.csv\n",
      "📂 Processing: HSY_1h_data.csv\n"
     ]
    },
    {
     "name": "stderr",
     "output_type": "stream",
     "text": [
      "/tmp/ipykernel_35386/3096370088.py:18: FutureWarning: DataFrame.fillna with 'method' is deprecated and will raise in a future version. Use obj.ffill() or obj.bfill() instead.\n",
      "  df.fillna(method='bfill', inplace=True)\n",
      "/tmp/ipykernel_35386/3096370088.py:19: FutureWarning: DataFrame.fillna with 'method' is deprecated and will raise in a future version. Use obj.ffill() or obj.bfill() instead.\n",
      "  df.fillna(method='ffill', inplace=True)\n",
      "/home/varun/Desktop/someProj/TradeGPT/.venv/lib/python3.10/site-packages/torch/nn/modules/transformer.py:382: UserWarning: enable_nested_tensor is True, but self.use_nested_tensor is False because encoder_layer.self_attn.batch_first was not True(use batch_first for better inference performance)\n",
      "  warnings.warn(\n"
     ]
    },
    {
     "name": "stdout",
     "output_type": "stream",
     "text": [
      "Epoch [1/5], Train Loss: 0.042782, Val Loss: 0.000954\n",
      "Epoch [2/5], Train Loss: 0.003021, Val Loss: 0.000931\n",
      "Epoch [3/5], Train Loss: 0.001984, Val Loss: 0.000365\n",
      "Epoch [4/5], Train Loss: 0.001523, Val Loss: 0.000426\n",
      "Epoch [5/5], Train Loss: 0.001264, Val Loss: 0.000297\n",
      "✅ Trained on HSY_1h_data.csv\n",
      "📂 Processing: MS_1h_data.csv\n"
     ]
    },
    {
     "name": "stderr",
     "output_type": "stream",
     "text": [
      "/tmp/ipykernel_35386/3096370088.py:18: FutureWarning: DataFrame.fillna with 'method' is deprecated and will raise in a future version. Use obj.ffill() or obj.bfill() instead.\n",
      "  df.fillna(method='bfill', inplace=True)\n",
      "/tmp/ipykernel_35386/3096370088.py:19: FutureWarning: DataFrame.fillna with 'method' is deprecated and will raise in a future version. Use obj.ffill() or obj.bfill() instead.\n",
      "  df.fillna(method='ffill', inplace=True)\n",
      "/home/varun/Desktop/someProj/TradeGPT/.venv/lib/python3.10/site-packages/torch/nn/modules/transformer.py:382: UserWarning: enable_nested_tensor is True, but self.use_nested_tensor is False because encoder_layer.self_attn.batch_first was not True(use batch_first for better inference performance)\n",
      "  warnings.warn(\n"
     ]
    },
    {
     "name": "stdout",
     "output_type": "stream",
     "text": [
      "Epoch [1/5], Train Loss: 0.042341, Val Loss: 0.006210\n",
      "Epoch [2/5], Train Loss: 0.004838, Val Loss: 0.004646\n",
      "Epoch [3/5], Train Loss: 0.003045, Val Loss: 0.003795\n",
      "Epoch [4/5], Train Loss: 0.001937, Val Loss: 0.005477\n",
      "Epoch [5/5], Train Loss: 0.001607, Val Loss: 0.002174\n",
      "✅ Trained on MS_1h_data.csv\n",
      "📂 Processing: CPB_1h_data.csv\n"
     ]
    },
    {
     "name": "stderr",
     "output_type": "stream",
     "text": [
      "/tmp/ipykernel_35386/3096370088.py:18: FutureWarning: DataFrame.fillna with 'method' is deprecated and will raise in a future version. Use obj.ffill() or obj.bfill() instead.\n",
      "  df.fillna(method='bfill', inplace=True)\n",
      "/tmp/ipykernel_35386/3096370088.py:19: FutureWarning: DataFrame.fillna with 'method' is deprecated and will raise in a future version. Use obj.ffill() or obj.bfill() instead.\n",
      "  df.fillna(method='ffill', inplace=True)\n",
      "/home/varun/Desktop/someProj/TradeGPT/.venv/lib/python3.10/site-packages/torch/nn/modules/transformer.py:382: UserWarning: enable_nested_tensor is True, but self.use_nested_tensor is False because encoder_layer.self_attn.batch_first was not True(use batch_first for better inference performance)\n",
      "  warnings.warn(\n"
     ]
    },
    {
     "name": "stdout",
     "output_type": "stream",
     "text": [
      "Epoch [1/5], Train Loss: 0.033877, Val Loss: 0.002347\n",
      "Epoch [2/5], Train Loss: 0.004256, Val Loss: 0.001017\n",
      "Epoch [3/5], Train Loss: 0.002147, Val Loss: 0.000832\n",
      "Epoch [4/5], Train Loss: 0.001499, Val Loss: 0.000395\n",
      "Epoch [5/5], Train Loss: 0.001235, Val Loss: 0.000463\n",
      "✅ Trained on CPB_1h_data.csv\n",
      "📂 Processing: TWLO_1h_data.csv\n"
     ]
    },
    {
     "name": "stderr",
     "output_type": "stream",
     "text": [
      "/tmp/ipykernel_35386/3096370088.py:18: FutureWarning: DataFrame.fillna with 'method' is deprecated and will raise in a future version. Use obj.ffill() or obj.bfill() instead.\n",
      "  df.fillna(method='bfill', inplace=True)\n",
      "/tmp/ipykernel_35386/3096370088.py:19: FutureWarning: DataFrame.fillna with 'method' is deprecated and will raise in a future version. Use obj.ffill() or obj.bfill() instead.\n",
      "  df.fillna(method='ffill', inplace=True)\n",
      "/home/varun/Desktop/someProj/TradeGPT/.venv/lib/python3.10/site-packages/torch/nn/modules/transformer.py:382: UserWarning: enable_nested_tensor is True, but self.use_nested_tensor is False because encoder_layer.self_attn.batch_first was not True(use batch_first for better inference performance)\n",
      "  warnings.warn(\n"
     ]
    },
    {
     "name": "stdout",
     "output_type": "stream",
     "text": [
      "Epoch [1/5], Train Loss: 0.027328, Val Loss: 0.007120\n",
      "Epoch [2/5], Train Loss: 0.003646, Val Loss: 0.009715\n",
      "Epoch [3/5], Train Loss: 0.002259, Val Loss: 0.001271\n",
      "Epoch [4/5], Train Loss: 0.001744, Val Loss: 0.002824\n",
      "Epoch [5/5], Train Loss: 0.001328, Val Loss: 0.008524\n",
      "✅ Trained on TWLO_1h_data.csv\n",
      "📂 Processing: PLD_1h_data.csv\n"
     ]
    },
    {
     "name": "stderr",
     "output_type": "stream",
     "text": [
      "/tmp/ipykernel_35386/3096370088.py:18: FutureWarning: DataFrame.fillna with 'method' is deprecated and will raise in a future version. Use obj.ffill() or obj.bfill() instead.\n",
      "  df.fillna(method='bfill', inplace=True)\n",
      "/tmp/ipykernel_35386/3096370088.py:19: FutureWarning: DataFrame.fillna with 'method' is deprecated and will raise in a future version. Use obj.ffill() or obj.bfill() instead.\n",
      "  df.fillna(method='ffill', inplace=True)\n",
      "/home/varun/Desktop/someProj/TradeGPT/.venv/lib/python3.10/site-packages/torch/nn/modules/transformer.py:382: UserWarning: enable_nested_tensor is True, but self.use_nested_tensor is False because encoder_layer.self_attn.batch_first was not True(use batch_first for better inference performance)\n",
      "  warnings.warn(\n"
     ]
    },
    {
     "name": "stdout",
     "output_type": "stream",
     "text": [
      "Epoch [1/5], Train Loss: 0.041617, Val Loss: 0.000810\n",
      "Epoch [2/5], Train Loss: 0.005007, Val Loss: 0.001694\n",
      "Epoch [3/5], Train Loss: 0.003268, Val Loss: 0.001686\n",
      "Epoch [4/5], Train Loss: 0.002473, Val Loss: 0.001850\n",
      "Epoch [5/5], Train Loss: 0.001921, Val Loss: 0.001205\n",
      "✅ Trained on PLD_1h_data.csv\n",
      "📂 Processing: ED_1h_data.csv\n"
     ]
    },
    {
     "name": "stderr",
     "output_type": "stream",
     "text": [
      "/tmp/ipykernel_35386/3096370088.py:18: FutureWarning: DataFrame.fillna with 'method' is deprecated and will raise in a future version. Use obj.ffill() or obj.bfill() instead.\n",
      "  df.fillna(method='bfill', inplace=True)\n",
      "/tmp/ipykernel_35386/3096370088.py:19: FutureWarning: DataFrame.fillna with 'method' is deprecated and will raise in a future version. Use obj.ffill() or obj.bfill() instead.\n",
      "  df.fillna(method='ffill', inplace=True)\n",
      "/home/varun/Desktop/someProj/TradeGPT/.venv/lib/python3.10/site-packages/torch/nn/modules/transformer.py:382: UserWarning: enable_nested_tensor is True, but self.use_nested_tensor is False because encoder_layer.self_attn.batch_first was not True(use batch_first for better inference performance)\n",
      "  warnings.warn(\n"
     ]
    },
    {
     "name": "stdout",
     "output_type": "stream",
     "text": [
      "Epoch [1/5], Train Loss: 0.039648, Val Loss: 0.010020\n",
      "Epoch [2/5], Train Loss: 0.003328, Val Loss: 0.006296\n",
      "Epoch [3/5], Train Loss: 0.002349, Val Loss: 0.004876\n",
      "Epoch [4/5], Train Loss: 0.001805, Val Loss: 0.002690\n",
      "Epoch [5/5], Train Loss: 0.001462, Val Loss: 0.004138\n",
      "✅ Trained on ED_1h_data.csv\n",
      "📂 Processing: KSS_1h_data.csv\n"
     ]
    },
    {
     "name": "stderr",
     "output_type": "stream",
     "text": [
      "/tmp/ipykernel_35386/3096370088.py:18: FutureWarning: DataFrame.fillna with 'method' is deprecated and will raise in a future version. Use obj.ffill() or obj.bfill() instead.\n",
      "  df.fillna(method='bfill', inplace=True)\n",
      "/tmp/ipykernel_35386/3096370088.py:19: FutureWarning: DataFrame.fillna with 'method' is deprecated and will raise in a future version. Use obj.ffill() or obj.bfill() instead.\n",
      "  df.fillna(method='ffill', inplace=True)\n",
      "/home/varun/Desktop/someProj/TradeGPT/.venv/lib/python3.10/site-packages/torch/nn/modules/transformer.py:382: UserWarning: enable_nested_tensor is True, but self.use_nested_tensor is False because encoder_layer.self_attn.batch_first was not True(use batch_first for better inference performance)\n",
      "  warnings.warn(\n"
     ]
    },
    {
     "name": "stdout",
     "output_type": "stream",
     "text": [
      "Epoch [1/5], Train Loss: 0.082916, Val Loss: 0.039587\n",
      "Epoch [2/5], Train Loss: 0.006702, Val Loss: 0.004745\n",
      "Epoch [3/5], Train Loss: 0.004234, Val Loss: 0.002466\n",
      "Epoch [4/5], Train Loss: 0.003287, Val Loss: 0.000297\n",
      "Epoch [5/5], Train Loss: 0.002309, Val Loss: 0.000240\n",
      "✅ Trained on KSS_1h_data.csv\n",
      "📂 Processing: REGN_1h_data.csv\n"
     ]
    },
    {
     "name": "stderr",
     "output_type": "stream",
     "text": [
      "/tmp/ipykernel_35386/3096370088.py:18: FutureWarning: DataFrame.fillna with 'method' is deprecated and will raise in a future version. Use obj.ffill() or obj.bfill() instead.\n",
      "  df.fillna(method='bfill', inplace=True)\n",
      "/tmp/ipykernel_35386/3096370088.py:19: FutureWarning: DataFrame.fillna with 'method' is deprecated and will raise in a future version. Use obj.ffill() or obj.bfill() instead.\n",
      "  df.fillna(method='ffill', inplace=True)\n",
      "/home/varun/Desktop/someProj/TradeGPT/.venv/lib/python3.10/site-packages/torch/nn/modules/transformer.py:382: UserWarning: enable_nested_tensor is True, but self.use_nested_tensor is False because encoder_layer.self_attn.batch_first was not True(use batch_first for better inference performance)\n",
      "  warnings.warn(\n"
     ]
    },
    {
     "name": "stdout",
     "output_type": "stream",
     "text": [
      "Epoch [1/5], Train Loss: 0.027147, Val Loss: 0.000906\n",
      "Epoch [2/5], Train Loss: 0.002855, Val Loss: 0.001605\n",
      "Epoch [3/5], Train Loss: 0.001726, Val Loss: 0.000542\n",
      "Epoch [4/5], Train Loss: 0.001344, Val Loss: 0.000359\n",
      "Epoch [5/5], Train Loss: 0.001114, Val Loss: 0.000214\n",
      "✅ Trained on REGN_1h_data.csv\n",
      "📂 Processing: DG_1h_data.csv\n"
     ]
    },
    {
     "name": "stderr",
     "output_type": "stream",
     "text": [
      "/tmp/ipykernel_35386/3096370088.py:18: FutureWarning: DataFrame.fillna with 'method' is deprecated and will raise in a future version. Use obj.ffill() or obj.bfill() instead.\n",
      "  df.fillna(method='bfill', inplace=True)\n",
      "/tmp/ipykernel_35386/3096370088.py:19: FutureWarning: DataFrame.fillna with 'method' is deprecated and will raise in a future version. Use obj.ffill() or obj.bfill() instead.\n",
      "  df.fillna(method='ffill', inplace=True)\n",
      "/home/varun/Desktop/someProj/TradeGPT/.venv/lib/python3.10/site-packages/torch/nn/modules/transformer.py:382: UserWarning: enable_nested_tensor is True, but self.use_nested_tensor is False because encoder_layer.self_attn.batch_first was not True(use batch_first for better inference performance)\n",
      "  warnings.warn(\n"
     ]
    },
    {
     "name": "stdout",
     "output_type": "stream",
     "text": [
      "Epoch [1/5], Train Loss: 0.063199, Val Loss: 0.000179\n",
      "Epoch [2/5], Train Loss: 0.004306, Val Loss: 0.000203\n",
      "Epoch [3/5], Train Loss: 0.002852, Val Loss: 0.000118\n",
      "Epoch [4/5], Train Loss: 0.002087, Val Loss: 0.000279\n",
      "Epoch [5/5], Train Loss: 0.001697, Val Loss: 0.000198\n",
      "✅ Trained on DG_1h_data.csv\n",
      "📂 Processing: ARKK_1h_data.csv\n"
     ]
    },
    {
     "name": "stderr",
     "output_type": "stream",
     "text": [
      "/tmp/ipykernel_35386/3096370088.py:18: FutureWarning: DataFrame.fillna with 'method' is deprecated and will raise in a future version. Use obj.ffill() or obj.bfill() instead.\n",
      "  df.fillna(method='bfill', inplace=True)\n",
      "/tmp/ipykernel_35386/3096370088.py:19: FutureWarning: DataFrame.fillna with 'method' is deprecated and will raise in a future version. Use obj.ffill() or obj.bfill() instead.\n",
      "  df.fillna(method='ffill', inplace=True)\n",
      "/home/varun/Desktop/someProj/TradeGPT/.venv/lib/python3.10/site-packages/torch/nn/modules/transformer.py:382: UserWarning: enable_nested_tensor is True, but self.use_nested_tensor is False because encoder_layer.self_attn.batch_first was not True(use batch_first for better inference performance)\n",
      "  warnings.warn(\n"
     ]
    },
    {
     "name": "stdout",
     "output_type": "stream",
     "text": [
      "Epoch [1/5], Train Loss: 0.033934, Val Loss: 0.003134\n",
      "Epoch [2/5], Train Loss: 0.002671, Val Loss: 0.001061\n",
      "Epoch [3/5], Train Loss: 0.001611, Val Loss: 0.001049\n",
      "Epoch [4/5], Train Loss: 0.001263, Val Loss: 0.000871\n",
      "Epoch [5/5], Train Loss: 0.001028, Val Loss: 0.000897\n",
      "✅ Trained on ARKK_1h_data.csv\n",
      "📂 Processing: EQR_1h_data.csv\n"
     ]
    },
    {
     "name": "stderr",
     "output_type": "stream",
     "text": [
      "/tmp/ipykernel_35386/3096370088.py:18: FutureWarning: DataFrame.fillna with 'method' is deprecated and will raise in a future version. Use obj.ffill() or obj.bfill() instead.\n",
      "  df.fillna(method='bfill', inplace=True)\n",
      "/tmp/ipykernel_35386/3096370088.py:19: FutureWarning: DataFrame.fillna with 'method' is deprecated and will raise in a future version. Use obj.ffill() or obj.bfill() instead.\n",
      "  df.fillna(method='ffill', inplace=True)\n",
      "/home/varun/Desktop/someProj/TradeGPT/.venv/lib/python3.10/site-packages/torch/nn/modules/transformer.py:382: UserWarning: enable_nested_tensor is True, but self.use_nested_tensor is False because encoder_layer.self_attn.batch_first was not True(use batch_first for better inference performance)\n",
      "  warnings.warn(\n"
     ]
    },
    {
     "name": "stdout",
     "output_type": "stream",
     "text": [
      "Epoch [1/5], Train Loss: 0.064714, Val Loss: 0.005069\n",
      "Epoch [2/5], Train Loss: 0.004554, Val Loss: 0.002307\n",
      "Epoch [3/5], Train Loss: 0.003194, Val Loss: 0.001708\n",
      "Epoch [4/5], Train Loss: 0.002411, Val Loss: 0.004229\n",
      "Epoch [5/5], Train Loss: 0.002040, Val Loss: 0.001526\n",
      "✅ Trained on EQR_1h_data.csv\n",
      "📂 Processing: ZBH_1h_data.csv\n"
     ]
    },
    {
     "name": "stderr",
     "output_type": "stream",
     "text": [
      "/tmp/ipykernel_35386/3096370088.py:18: FutureWarning: DataFrame.fillna with 'method' is deprecated and will raise in a future version. Use obj.ffill() or obj.bfill() instead.\n",
      "  df.fillna(method='bfill', inplace=True)\n",
      "/tmp/ipykernel_35386/3096370088.py:19: FutureWarning: DataFrame.fillna with 'method' is deprecated and will raise in a future version. Use obj.ffill() or obj.bfill() instead.\n",
      "  df.fillna(method='ffill', inplace=True)\n",
      "/home/varun/Desktop/someProj/TradeGPT/.venv/lib/python3.10/site-packages/torch/nn/modules/transformer.py:382: UserWarning: enable_nested_tensor is True, but self.use_nested_tensor is False because encoder_layer.self_attn.batch_first was not True(use batch_first for better inference performance)\n",
      "  warnings.warn(\n"
     ]
    },
    {
     "name": "stdout",
     "output_type": "stream",
     "text": [
      "Epoch [1/5], Train Loss: 0.044408, Val Loss: 0.001418\n",
      "Epoch [2/5], Train Loss: 0.003821, Val Loss: 0.001010\n",
      "Epoch [3/5], Train Loss: 0.002677, Val Loss: 0.000996\n",
      "Epoch [4/5], Train Loss: 0.001847, Val Loss: 0.000572\n",
      "Epoch [5/5], Train Loss: 0.001439, Val Loss: 0.000554\n",
      "✅ Trained on ZBH_1h_data.csv\n",
      "📂 Processing: MCD_1h_data.csv\n"
     ]
    },
    {
     "name": "stderr",
     "output_type": "stream",
     "text": [
      "/tmp/ipykernel_35386/3096370088.py:18: FutureWarning: DataFrame.fillna with 'method' is deprecated and will raise in a future version. Use obj.ffill() or obj.bfill() instead.\n",
      "  df.fillna(method='bfill', inplace=True)\n",
      "/tmp/ipykernel_35386/3096370088.py:19: FutureWarning: DataFrame.fillna with 'method' is deprecated and will raise in a future version. Use obj.ffill() or obj.bfill() instead.\n",
      "  df.fillna(method='ffill', inplace=True)\n",
      "/home/varun/Desktop/someProj/TradeGPT/.venv/lib/python3.10/site-packages/torch/nn/modules/transformer.py:382: UserWarning: enable_nested_tensor is True, but self.use_nested_tensor is False because encoder_layer.self_attn.batch_first was not True(use batch_first for better inference performance)\n",
      "  warnings.warn(\n"
     ]
    },
    {
     "name": "stdout",
     "output_type": "stream",
     "text": [
      "Epoch [1/5], Train Loss: 0.055385, Val Loss: 0.004588\n",
      "Epoch [2/5], Train Loss: 0.004674, Val Loss: 0.002298\n",
      "Epoch [3/5], Train Loss: 0.002973, Val Loss: 0.001041\n",
      "Epoch [4/5], Train Loss: 0.002272, Val Loss: 0.003584\n",
      "Epoch [5/5], Train Loss: 0.001832, Val Loss: 0.001143\n",
      "✅ Trained on MCD_1h_data.csv\n",
      "📂 Processing: EMR_1h_data.csv\n"
     ]
    },
    {
     "name": "stderr",
     "output_type": "stream",
     "text": [
      "/tmp/ipykernel_35386/3096370088.py:18: FutureWarning: DataFrame.fillna with 'method' is deprecated and will raise in a future version. Use obj.ffill() or obj.bfill() instead.\n",
      "  df.fillna(method='bfill', inplace=True)\n",
      "/tmp/ipykernel_35386/3096370088.py:19: FutureWarning: DataFrame.fillna with 'method' is deprecated and will raise in a future version. Use obj.ffill() or obj.bfill() instead.\n",
      "  df.fillna(method='ffill', inplace=True)\n",
      "/home/varun/Desktop/someProj/TradeGPT/.venv/lib/python3.10/site-packages/torch/nn/modules/transformer.py:382: UserWarning: enable_nested_tensor is True, but self.use_nested_tensor is False because encoder_layer.self_attn.batch_first was not True(use batch_first for better inference performance)\n",
      "  warnings.warn(\n"
     ]
    },
    {
     "name": "stdout",
     "output_type": "stream",
     "text": [
      "Epoch [1/5], Train Loss: 0.017324, Val Loss: 0.003858\n",
      "Epoch [2/5], Train Loss: 0.003111, Val Loss: 0.000899\n",
      "Epoch [3/5], Train Loss: 0.001798, Val Loss: 0.000863\n",
      "Epoch [4/5], Train Loss: 0.001493, Val Loss: 0.001305\n",
      "Epoch [5/5], Train Loss: 0.001195, Val Loss: 0.000990\n",
      "✅ Trained on EMR_1h_data.csv\n",
      "📂 Processing: CTRA_1h_data.csv\n"
     ]
    },
    {
     "name": "stderr",
     "output_type": "stream",
     "text": [
      "/tmp/ipykernel_35386/3096370088.py:18: FutureWarning: DataFrame.fillna with 'method' is deprecated and will raise in a future version. Use obj.ffill() or obj.bfill() instead.\n",
      "  df.fillna(method='bfill', inplace=True)\n",
      "/tmp/ipykernel_35386/3096370088.py:19: FutureWarning: DataFrame.fillna with 'method' is deprecated and will raise in a future version. Use obj.ffill() or obj.bfill() instead.\n",
      "  df.fillna(method='ffill', inplace=True)\n",
      "/home/varun/Desktop/someProj/TradeGPT/.venv/lib/python3.10/site-packages/torch/nn/modules/transformer.py:382: UserWarning: enable_nested_tensor is True, but self.use_nested_tensor is False because encoder_layer.self_attn.batch_first was not True(use batch_first for better inference performance)\n",
      "  warnings.warn(\n"
     ]
    },
    {
     "name": "stdout",
     "output_type": "stream",
     "text": [
      "Epoch [1/5], Train Loss: 0.042500, Val Loss: 0.005228\n",
      "Epoch [2/5], Train Loss: 0.005569, Val Loss: 0.003038\n",
      "Epoch [3/5], Train Loss: 0.003951, Val Loss: 0.002918\n",
      "Epoch [4/5], Train Loss: 0.002802, Val Loss: 0.002408\n",
      "Epoch [5/5], Train Loss: 0.002473, Val Loss: 0.002937\n",
      "✅ Trained on CTRA_1h_data.csv\n",
      "📂 Processing: HOG_1h_data.csv\n"
     ]
    },
    {
     "name": "stderr",
     "output_type": "stream",
     "text": [
      "/tmp/ipykernel_35386/3096370088.py:18: FutureWarning: DataFrame.fillna with 'method' is deprecated and will raise in a future version. Use obj.ffill() or obj.bfill() instead.\n",
      "  df.fillna(method='bfill', inplace=True)\n",
      "/tmp/ipykernel_35386/3096370088.py:19: FutureWarning: DataFrame.fillna with 'method' is deprecated and will raise in a future version. Use obj.ffill() or obj.bfill() instead.\n",
      "  df.fillna(method='ffill', inplace=True)\n",
      "/home/varun/Desktop/someProj/TradeGPT/.venv/lib/python3.10/site-packages/torch/nn/modules/transformer.py:382: UserWarning: enable_nested_tensor is True, but self.use_nested_tensor is False because encoder_layer.self_attn.batch_first was not True(use batch_first for better inference performance)\n",
      "  warnings.warn(\n"
     ]
    },
    {
     "name": "stdout",
     "output_type": "stream",
     "text": [
      "Epoch [1/5], Train Loss: 0.032794, Val Loss: 0.022965\n",
      "Epoch [2/5], Train Loss: 0.003679, Val Loss: 0.005071\n",
      "Epoch [3/5], Train Loss: 0.002393, Val Loss: 0.001346\n",
      "Epoch [4/5], Train Loss: 0.001663, Val Loss: 0.000420\n",
      "Epoch [5/5], Train Loss: 0.001651, Val Loss: 0.000986\n",
      "✅ Trained on HOG_1h_data.csv\n",
      "📂 Processing: HON_1h_data.csv\n"
     ]
    },
    {
     "name": "stderr",
     "output_type": "stream",
     "text": [
      "/tmp/ipykernel_35386/3096370088.py:18: FutureWarning: DataFrame.fillna with 'method' is deprecated and will raise in a future version. Use obj.ffill() or obj.bfill() instead.\n",
      "  df.fillna(method='bfill', inplace=True)\n",
      "/tmp/ipykernel_35386/3096370088.py:19: FutureWarning: DataFrame.fillna with 'method' is deprecated and will raise in a future version. Use obj.ffill() or obj.bfill() instead.\n",
      "  df.fillna(method='ffill', inplace=True)\n",
      "/home/varun/Desktop/someProj/TradeGPT/.venv/lib/python3.10/site-packages/torch/nn/modules/transformer.py:382: UserWarning: enable_nested_tensor is True, but self.use_nested_tensor is False because encoder_layer.self_attn.batch_first was not True(use batch_first for better inference performance)\n",
      "  warnings.warn(\n"
     ]
    },
    {
     "name": "stdout",
     "output_type": "stream",
     "text": [
      "Epoch [1/5], Train Loss: 0.038289, Val Loss: 0.002239\n",
      "Epoch [2/5], Train Loss: 0.004345, Val Loss: 0.001763\n",
      "Epoch [3/5], Train Loss: 0.002680, Val Loss: 0.001046\n",
      "Epoch [4/5], Train Loss: 0.002146, Val Loss: 0.000704\n",
      "Epoch [5/5], Train Loss: 0.001743, Val Loss: 0.000973\n",
      "✅ Trained on HON_1h_data.csv\n",
      "📂 Processing: DPZ_1h_data.csv\n"
     ]
    },
    {
     "name": "stderr",
     "output_type": "stream",
     "text": [
      "/tmp/ipykernel_35386/3096370088.py:18: FutureWarning: DataFrame.fillna with 'method' is deprecated and will raise in a future version. Use obj.ffill() or obj.bfill() instead.\n",
      "  df.fillna(method='bfill', inplace=True)\n",
      "/tmp/ipykernel_35386/3096370088.py:19: FutureWarning: DataFrame.fillna with 'method' is deprecated and will raise in a future version. Use obj.ffill() or obj.bfill() instead.\n",
      "  df.fillna(method='ffill', inplace=True)\n",
      "/home/varun/Desktop/someProj/TradeGPT/.venv/lib/python3.10/site-packages/torch/nn/modules/transformer.py:382: UserWarning: enable_nested_tensor is True, but self.use_nested_tensor is False because encoder_layer.self_attn.batch_first was not True(use batch_first for better inference performance)\n",
      "  warnings.warn(\n"
     ]
    },
    {
     "name": "stdout",
     "output_type": "stream",
     "text": [
      "Epoch [1/5], Train Loss: 0.036533, Val Loss: 0.000866\n",
      "Epoch [2/5], Train Loss: 0.003879, Val Loss: 0.000621\n",
      "Epoch [3/5], Train Loss: 0.002705, Val Loss: 0.000619\n",
      "Epoch [4/5], Train Loss: 0.002057, Val Loss: 0.000561\n",
      "Epoch [5/5], Train Loss: 0.001431, Val Loss: 0.000561\n",
      "✅ Trained on DPZ_1h_data.csv\n",
      "📂 Processing: CMS_1h_data.csv\n"
     ]
    },
    {
     "name": "stderr",
     "output_type": "stream",
     "text": [
      "/tmp/ipykernel_35386/3096370088.py:18: FutureWarning: DataFrame.fillna with 'method' is deprecated and will raise in a future version. Use obj.ffill() or obj.bfill() instead.\n",
      "  df.fillna(method='bfill', inplace=True)\n",
      "/tmp/ipykernel_35386/3096370088.py:19: FutureWarning: DataFrame.fillna with 'method' is deprecated and will raise in a future version. Use obj.ffill() or obj.bfill() instead.\n",
      "  df.fillna(method='ffill', inplace=True)\n",
      "/home/varun/Desktop/someProj/TradeGPT/.venv/lib/python3.10/site-packages/torch/nn/modules/transformer.py:382: UserWarning: enable_nested_tensor is True, but self.use_nested_tensor is False because encoder_layer.self_attn.batch_first was not True(use batch_first for better inference performance)\n",
      "  warnings.warn(\n"
     ]
    },
    {
     "name": "stdout",
     "output_type": "stream",
     "text": [
      "Epoch [1/5], Train Loss: 0.041713, Val Loss: 0.004859\n",
      "Epoch [2/5], Train Loss: 0.003387, Val Loss: 0.003289\n",
      "Epoch [3/5], Train Loss: 0.002287, Val Loss: 0.002448\n",
      "Epoch [4/5], Train Loss: 0.001708, Val Loss: 0.002119\n",
      "Epoch [5/5], Train Loss: 0.001382, Val Loss: 0.000913\n",
      "✅ Trained on CMS_1h_data.csv\n",
      "📂 Processing: REG_1h_data.csv\n"
     ]
    },
    {
     "name": "stderr",
     "output_type": "stream",
     "text": [
      "/tmp/ipykernel_35386/3096370088.py:18: FutureWarning: DataFrame.fillna with 'method' is deprecated and will raise in a future version. Use obj.ffill() or obj.bfill() instead.\n",
      "  df.fillna(method='bfill', inplace=True)\n",
      "/tmp/ipykernel_35386/3096370088.py:19: FutureWarning: DataFrame.fillna with 'method' is deprecated and will raise in a future version. Use obj.ffill() or obj.bfill() instead.\n",
      "  df.fillna(method='ffill', inplace=True)\n",
      "/home/varun/Desktop/someProj/TradeGPT/.venv/lib/python3.10/site-packages/torch/nn/modules/transformer.py:382: UserWarning: enable_nested_tensor is True, but self.use_nested_tensor is False because encoder_layer.self_attn.batch_first was not True(use batch_first for better inference performance)\n",
      "  warnings.warn(\n"
     ]
    },
    {
     "name": "stdout",
     "output_type": "stream",
     "text": [
      "Epoch [1/5], Train Loss: 0.041652, Val Loss: 0.005465\n",
      "Epoch [2/5], Train Loss: 0.005328, Val Loss: 0.003999\n",
      "Epoch [3/5], Train Loss: 0.003671, Val Loss: 0.002537\n",
      "Epoch [4/5], Train Loss: 0.002648, Val Loss: 0.002905\n",
      "Epoch [5/5], Train Loss: 0.002124, Val Loss: 0.001971\n",
      "✅ Trained on REG_1h_data.csv\n",
      "📂 Processing: DIA_1h_data.csv\n"
     ]
    },
    {
     "name": "stderr",
     "output_type": "stream",
     "text": [
      "/tmp/ipykernel_35386/3096370088.py:18: FutureWarning: DataFrame.fillna with 'method' is deprecated and will raise in a future version. Use obj.ffill() or obj.bfill() instead.\n",
      "  df.fillna(method='bfill', inplace=True)\n",
      "/tmp/ipykernel_35386/3096370088.py:19: FutureWarning: DataFrame.fillna with 'method' is deprecated and will raise in a future version. Use obj.ffill() or obj.bfill() instead.\n",
      "  df.fillna(method='ffill', inplace=True)\n",
      "/home/varun/Desktop/someProj/TradeGPT/.venv/lib/python3.10/site-packages/torch/nn/modules/transformer.py:382: UserWarning: enable_nested_tensor is True, but self.use_nested_tensor is False because encoder_layer.self_attn.batch_first was not True(use batch_first for better inference performance)\n",
      "  warnings.warn(\n"
     ]
    },
    {
     "name": "stdout",
     "output_type": "stream",
     "text": [
      "Epoch [1/5], Train Loss: 0.165882, Val Loss: 0.013025\n",
      "Epoch [2/5], Train Loss: 0.005578, Val Loss: 0.005555\n",
      "Epoch [3/5], Train Loss: 0.003913, Val Loss: 0.006610\n",
      "Epoch [4/5], Train Loss: 0.002834, Val Loss: 0.002569\n",
      "Epoch [5/5], Train Loss: 0.002341, Val Loss: 0.003353\n",
      "✅ Trained on DIA_1h_data.csv\n",
      "📂 Processing: LOW_1h_data.csv\n"
     ]
    },
    {
     "name": "stderr",
     "output_type": "stream",
     "text": [
      "/tmp/ipykernel_35386/3096370088.py:18: FutureWarning: DataFrame.fillna with 'method' is deprecated and will raise in a future version. Use obj.ffill() or obj.bfill() instead.\n",
      "  df.fillna(method='bfill', inplace=True)\n",
      "/tmp/ipykernel_35386/3096370088.py:19: FutureWarning: DataFrame.fillna with 'method' is deprecated and will raise in a future version. Use obj.ffill() or obj.bfill() instead.\n",
      "  df.fillna(method='ffill', inplace=True)\n",
      "/home/varun/Desktop/someProj/TradeGPT/.venv/lib/python3.10/site-packages/torch/nn/modules/transformer.py:382: UserWarning: enable_nested_tensor is True, but self.use_nested_tensor is False because encoder_layer.self_attn.batch_first was not True(use batch_first for better inference performance)\n",
      "  warnings.warn(\n"
     ]
    },
    {
     "name": "stdout",
     "output_type": "stream",
     "text": [
      "Epoch [1/5], Train Loss: 0.061475, Val Loss: 0.005496\n",
      "Epoch [2/5], Train Loss: 0.004320, Val Loss: 0.001450\n",
      "Epoch [3/5], Train Loss: 0.002912, Val Loss: 0.001057\n",
      "Epoch [4/5], Train Loss: 0.002107, Val Loss: 0.001206\n",
      "Epoch [5/5], Train Loss: 0.001781, Val Loss: 0.000608\n",
      "✅ Trained on LOW_1h_data.csv\n",
      "📂 Processing: PFE_1h_data.csv\n"
     ]
    },
    {
     "name": "stderr",
     "output_type": "stream",
     "text": [
      "/tmp/ipykernel_35386/3096370088.py:18: FutureWarning: DataFrame.fillna with 'method' is deprecated and will raise in a future version. Use obj.ffill() or obj.bfill() instead.\n",
      "  df.fillna(method='bfill', inplace=True)\n",
      "/tmp/ipykernel_35386/3096370088.py:19: FutureWarning: DataFrame.fillna with 'method' is deprecated and will raise in a future version. Use obj.ffill() or obj.bfill() instead.\n",
      "  df.fillna(method='ffill', inplace=True)\n",
      "/home/varun/Desktop/someProj/TradeGPT/.venv/lib/python3.10/site-packages/torch/nn/modules/transformer.py:382: UserWarning: enable_nested_tensor is True, but self.use_nested_tensor is False because encoder_layer.self_attn.batch_first was not True(use batch_first for better inference performance)\n",
      "  warnings.warn(\n"
     ]
    },
    {
     "name": "stdout",
     "output_type": "stream",
     "text": [
      "Epoch [1/5], Train Loss: 0.042887, Val Loss: 0.003916\n",
      "Epoch [2/5], Train Loss: 0.004204, Val Loss: 0.001454\n",
      "Epoch [3/5], Train Loss: 0.002827, Val Loss: 0.001646\n",
      "Epoch [4/5], Train Loss: 0.002123, Val Loss: 0.000307\n",
      "Epoch [5/5], Train Loss: 0.001540, Val Loss: 0.000677\n",
      "✅ Trained on PFE_1h_data.csv\n",
      "📂 Processing: VRTX_1h_data.csv\n"
     ]
    },
    {
     "name": "stderr",
     "output_type": "stream",
     "text": [
      "/tmp/ipykernel_35386/3096370088.py:18: FutureWarning: DataFrame.fillna with 'method' is deprecated and will raise in a future version. Use obj.ffill() or obj.bfill() instead.\n",
      "  df.fillna(method='bfill', inplace=True)\n",
      "/tmp/ipykernel_35386/3096370088.py:19: FutureWarning: DataFrame.fillna with 'method' is deprecated and will raise in a future version. Use obj.ffill() or obj.bfill() instead.\n",
      "  df.fillna(method='ffill', inplace=True)\n",
      "/home/varun/Desktop/someProj/TradeGPT/.venv/lib/python3.10/site-packages/torch/nn/modules/transformer.py:382: UserWarning: enable_nested_tensor is True, but self.use_nested_tensor is False because encoder_layer.self_attn.batch_first was not True(use batch_first for better inference performance)\n",
      "  warnings.warn(\n"
     ]
    },
    {
     "name": "stdout",
     "output_type": "stream",
     "text": [
      "Epoch [1/5], Train Loss: 0.048243, Val Loss: 0.004190\n",
      "Epoch [2/5], Train Loss: 0.004817, Val Loss: 0.001761\n",
      "Epoch [3/5], Train Loss: 0.003024, Val Loss: 0.000992\n",
      "Epoch [4/5], Train Loss: 0.002388, Val Loss: 0.000693\n",
      "Epoch [5/5], Train Loss: 0.002002, Val Loss: 0.000703\n",
      "✅ Trained on VRTX_1h_data.csv\n",
      "📂 Processing: BLK_1h_data.csv\n"
     ]
    },
    {
     "name": "stderr",
     "output_type": "stream",
     "text": [
      "/tmp/ipykernel_35386/3096370088.py:18: FutureWarning: DataFrame.fillna with 'method' is deprecated and will raise in a future version. Use obj.ffill() or obj.bfill() instead.\n",
      "  df.fillna(method='bfill', inplace=True)\n",
      "/tmp/ipykernel_35386/3096370088.py:19: FutureWarning: DataFrame.fillna with 'method' is deprecated and will raise in a future version. Use obj.ffill() or obj.bfill() instead.\n",
      "  df.fillna(method='ffill', inplace=True)\n",
      "/home/varun/Desktop/someProj/TradeGPT/.venv/lib/python3.10/site-packages/torch/nn/modules/transformer.py:382: UserWarning: enable_nested_tensor is True, but self.use_nested_tensor is False because encoder_layer.self_attn.batch_first was not True(use batch_first for better inference performance)\n",
      "  warnings.warn(\n"
     ]
    },
    {
     "name": "stdout",
     "output_type": "stream",
     "text": [
      "Epoch [1/5], Train Loss: 0.027116, Val Loss: 0.006011\n",
      "Epoch [2/5], Train Loss: 0.003255, Val Loss: 0.003841\n",
      "Epoch [3/5], Train Loss: 0.002427, Val Loss: 0.001516\n",
      "Epoch [4/5], Train Loss: 0.001740, Val Loss: 0.001187\n",
      "Epoch [5/5], Train Loss: 0.001449, Val Loss: 0.001827\n",
      "✅ Trained on BLK_1h_data.csv\n",
      "📂 Processing: ZS_1h_data.csv\n"
     ]
    },
    {
     "name": "stderr",
     "output_type": "stream",
     "text": [
      "/tmp/ipykernel_35386/3096370088.py:18: FutureWarning: DataFrame.fillna with 'method' is deprecated and will raise in a future version. Use obj.ffill() or obj.bfill() instead.\n",
      "  df.fillna(method='bfill', inplace=True)\n",
      "/tmp/ipykernel_35386/3096370088.py:19: FutureWarning: DataFrame.fillna with 'method' is deprecated and will raise in a future version. Use obj.ffill() or obj.bfill() instead.\n",
      "  df.fillna(method='ffill', inplace=True)\n",
      "/home/varun/Desktop/someProj/TradeGPT/.venv/lib/python3.10/site-packages/torch/nn/modules/transformer.py:382: UserWarning: enable_nested_tensor is True, but self.use_nested_tensor is False because encoder_layer.self_attn.batch_first was not True(use batch_first for better inference performance)\n",
      "  warnings.warn(\n"
     ]
    },
    {
     "name": "stdout",
     "output_type": "stream",
     "text": [
      "Epoch [1/5], Train Loss: 0.039465, Val Loss: 0.000783\n",
      "Epoch [2/5], Train Loss: 0.003144, Val Loss: 0.002111\n",
      "Epoch [3/5], Train Loss: 0.001901, Val Loss: 0.000441\n",
      "Epoch [4/5], Train Loss: 0.001276, Val Loss: 0.000303\n",
      "Epoch [5/5], Train Loss: 0.001046, Val Loss: 0.000401\n",
      "✅ Trained on ZS_1h_data.csv\n",
      "📂 Processing: FRT_1h_data.csv\n"
     ]
    },
    {
     "name": "stderr",
     "output_type": "stream",
     "text": [
      "/tmp/ipykernel_35386/3096370088.py:18: FutureWarning: DataFrame.fillna with 'method' is deprecated and will raise in a future version. Use obj.ffill() or obj.bfill() instead.\n",
      "  df.fillna(method='bfill', inplace=True)\n",
      "/tmp/ipykernel_35386/3096370088.py:19: FutureWarning: DataFrame.fillna with 'method' is deprecated and will raise in a future version. Use obj.ffill() or obj.bfill() instead.\n",
      "  df.fillna(method='ffill', inplace=True)\n",
      "/home/varun/Desktop/someProj/TradeGPT/.venv/lib/python3.10/site-packages/torch/nn/modules/transformer.py:382: UserWarning: enable_nested_tensor is True, but self.use_nested_tensor is False because encoder_layer.self_attn.batch_first was not True(use batch_first for better inference performance)\n",
      "  warnings.warn(\n"
     ]
    },
    {
     "name": "stdout",
     "output_type": "stream",
     "text": [
      "Epoch [1/5], Train Loss: 0.039185, Val Loss: 0.002797\n",
      "Epoch [2/5], Train Loss: 0.004177, Val Loss: 0.001198\n",
      "Epoch [3/5], Train Loss: 0.002630, Val Loss: 0.000864\n",
      "Epoch [4/5], Train Loss: 0.001818, Val Loss: 0.000911\n",
      "Epoch [5/5], Train Loss: 0.001599, Val Loss: 0.001200\n",
      "✅ Trained on FRT_1h_data.csv\n",
      "📂 Processing: MKTX_1h_data.csv\n"
     ]
    },
    {
     "name": "stderr",
     "output_type": "stream",
     "text": [
      "/tmp/ipykernel_35386/3096370088.py:18: FutureWarning: DataFrame.fillna with 'method' is deprecated and will raise in a future version. Use obj.ffill() or obj.bfill() instead.\n",
      "  df.fillna(method='bfill', inplace=True)\n",
      "/tmp/ipykernel_35386/3096370088.py:19: FutureWarning: DataFrame.fillna with 'method' is deprecated and will raise in a future version. Use obj.ffill() or obj.bfill() instead.\n",
      "  df.fillna(method='ffill', inplace=True)\n",
      "/home/varun/Desktop/someProj/TradeGPT/.venv/lib/python3.10/site-packages/torch/nn/modules/transformer.py:382: UserWarning: enable_nested_tensor is True, but self.use_nested_tensor is False because encoder_layer.self_attn.batch_first was not True(use batch_first for better inference performance)\n",
      "  warnings.warn(\n"
     ]
    },
    {
     "name": "stdout",
     "output_type": "stream",
     "text": [
      "Epoch [1/5], Train Loss: 0.031464, Val Loss: 0.002243\n",
      "Epoch [2/5], Train Loss: 0.003429, Val Loss: 0.000307\n",
      "Epoch [3/5], Train Loss: 0.002411, Val Loss: 0.000946\n",
      "Epoch [4/5], Train Loss: 0.002109, Val Loss: 0.000428\n",
      "Epoch [5/5], Train Loss: 0.001627, Val Loss: 0.000388\n",
      "✅ Trained on MKTX_1h_data.csv\n",
      "📂 Processing: LMT_1h_data.csv\n"
     ]
    },
    {
     "name": "stderr",
     "output_type": "stream",
     "text": [
      "/tmp/ipykernel_35386/3096370088.py:18: FutureWarning: DataFrame.fillna with 'method' is deprecated and will raise in a future version. Use obj.ffill() or obj.bfill() instead.\n",
      "  df.fillna(method='bfill', inplace=True)\n",
      "/tmp/ipykernel_35386/3096370088.py:19: FutureWarning: DataFrame.fillna with 'method' is deprecated and will raise in a future version. Use obj.ffill() or obj.bfill() instead.\n",
      "  df.fillna(method='ffill', inplace=True)\n",
      "/home/varun/Desktop/someProj/TradeGPT/.venv/lib/python3.10/site-packages/torch/nn/modules/transformer.py:382: UserWarning: enable_nested_tensor is True, but self.use_nested_tensor is False because encoder_layer.self_attn.batch_first was not True(use batch_first for better inference performance)\n",
      "  warnings.warn(\n"
     ]
    },
    {
     "name": "stdout",
     "output_type": "stream",
     "text": [
      "Epoch [1/5], Train Loss: 0.064021, Val Loss: 0.001243\n",
      "Epoch [2/5], Train Loss: 0.004755, Val Loss: 0.000636\n",
      "Epoch [3/5], Train Loss: 0.003263, Val Loss: 0.000630\n",
      "Epoch [4/5], Train Loss: 0.002292, Val Loss: 0.000920\n",
      "Epoch [5/5], Train Loss: 0.001934, Val Loss: 0.000583\n",
      "✅ Trained on LMT_1h_data.csv\n",
      "📂 Processing: DVN_1h_data.csv\n"
     ]
    },
    {
     "name": "stderr",
     "output_type": "stream",
     "text": [
      "/tmp/ipykernel_35386/3096370088.py:18: FutureWarning: DataFrame.fillna with 'method' is deprecated and will raise in a future version. Use obj.ffill() or obj.bfill() instead.\n",
      "  df.fillna(method='bfill', inplace=True)\n",
      "/tmp/ipykernel_35386/3096370088.py:19: FutureWarning: DataFrame.fillna with 'method' is deprecated and will raise in a future version. Use obj.ffill() or obj.bfill() instead.\n",
      "  df.fillna(method='ffill', inplace=True)\n",
      "/home/varun/Desktop/someProj/TradeGPT/.venv/lib/python3.10/site-packages/torch/nn/modules/transformer.py:382: UserWarning: enable_nested_tensor is True, but self.use_nested_tensor is False because encoder_layer.self_attn.batch_first was not True(use batch_first for better inference performance)\n",
      "  warnings.warn(\n"
     ]
    },
    {
     "name": "stdout",
     "output_type": "stream",
     "text": [
      "Epoch [1/5], Train Loss: 0.028147, Val Loss: 0.001142\n",
      "Epoch [2/5], Train Loss: 0.003259, Val Loss: 0.001314\n",
      "Epoch [3/5], Train Loss: 0.002111, Val Loss: 0.001062\n",
      "Epoch [4/5], Train Loss: 0.001700, Val Loss: 0.000998\n",
      "Epoch [5/5], Train Loss: 0.001226, Val Loss: 0.002806\n",
      "✅ Trained on DVN_1h_data.csv\n",
      "📂 Processing: MSFT_1h_data.csv\n"
     ]
    },
    {
     "name": "stderr",
     "output_type": "stream",
     "text": [
      "/tmp/ipykernel_35386/3096370088.py:18: FutureWarning: DataFrame.fillna with 'method' is deprecated and will raise in a future version. Use obj.ffill() or obj.bfill() instead.\n",
      "  df.fillna(method='bfill', inplace=True)\n",
      "/tmp/ipykernel_35386/3096370088.py:19: FutureWarning: DataFrame.fillna with 'method' is deprecated and will raise in a future version. Use obj.ffill() or obj.bfill() instead.\n",
      "  df.fillna(method='ffill', inplace=True)\n",
      "/home/varun/Desktop/someProj/TradeGPT/.venv/lib/python3.10/site-packages/torch/nn/modules/transformer.py:382: UserWarning: enable_nested_tensor is True, but self.use_nested_tensor is False because encoder_layer.self_attn.batch_first was not True(use batch_first for better inference performance)\n",
      "  warnings.warn(\n"
     ]
    },
    {
     "name": "stdout",
     "output_type": "stream",
     "text": [
      "Epoch [1/5], Train Loss: 0.090088, Val Loss: 0.014206\n",
      "Epoch [2/5], Train Loss: 0.007339, Val Loss: 0.003184\n",
      "Epoch [3/5], Train Loss: 0.004013, Val Loss: 0.001190\n",
      "Epoch [4/5], Train Loss: 0.002694, Val Loss: 0.000837\n",
      "Epoch [5/5], Train Loss: 0.002025, Val Loss: 0.000726\n",
      "✅ Trained on MSFT_1h_data.csv\n",
      "📂 Processing: ADI_1h_data.csv\n"
     ]
    },
    {
     "name": "stderr",
     "output_type": "stream",
     "text": [
      "/tmp/ipykernel_35386/3096370088.py:18: FutureWarning: DataFrame.fillna with 'method' is deprecated and will raise in a future version. Use obj.ffill() or obj.bfill() instead.\n",
      "  df.fillna(method='bfill', inplace=True)\n",
      "/tmp/ipykernel_35386/3096370088.py:19: FutureWarning: DataFrame.fillna with 'method' is deprecated and will raise in a future version. Use obj.ffill() or obj.bfill() instead.\n",
      "  df.fillna(method='ffill', inplace=True)\n",
      "/home/varun/Desktop/someProj/TradeGPT/.venv/lib/python3.10/site-packages/torch/nn/modules/transformer.py:382: UserWarning: enable_nested_tensor is True, but self.use_nested_tensor is False because encoder_layer.self_attn.batch_first was not True(use batch_first for better inference performance)\n",
      "  warnings.warn(\n"
     ]
    },
    {
     "name": "stdout",
     "output_type": "stream",
     "text": [
      "Epoch [1/5], Train Loss: 0.026088, Val Loss: 0.004400\n",
      "Epoch [2/5], Train Loss: 0.002771, Val Loss: 0.002300\n",
      "Epoch [3/5], Train Loss: 0.002158, Val Loss: 0.002330\n",
      "Epoch [4/5], Train Loss: 0.001599, Val Loss: 0.001992\n",
      "Epoch [5/5], Train Loss: 0.001325, Val Loss: 0.001627\n",
      "✅ Trained on ADI_1h_data.csv\n",
      "📂 Processing: NOG_1h_data.csv\n"
     ]
    },
    {
     "name": "stderr",
     "output_type": "stream",
     "text": [
      "/tmp/ipykernel_35386/3096370088.py:18: FutureWarning: DataFrame.fillna with 'method' is deprecated and will raise in a future version. Use obj.ffill() or obj.bfill() instead.\n",
      "  df.fillna(method='bfill', inplace=True)\n",
      "/tmp/ipykernel_35386/3096370088.py:19: FutureWarning: DataFrame.fillna with 'method' is deprecated and will raise in a future version. Use obj.ffill() or obj.bfill() instead.\n",
      "  df.fillna(method='ffill', inplace=True)\n",
      "/home/varun/Desktop/someProj/TradeGPT/.venv/lib/python3.10/site-packages/torch/nn/modules/transformer.py:382: UserWarning: enable_nested_tensor is True, but self.use_nested_tensor is False because encoder_layer.self_attn.batch_first was not True(use batch_first for better inference performance)\n",
      "  warnings.warn(\n"
     ]
    },
    {
     "name": "stdout",
     "output_type": "stream",
     "text": [
      "Epoch [1/5], Train Loss: 0.023801, Val Loss: 0.050653\n",
      "Epoch [2/5], Train Loss: 0.003455, Val Loss: 0.038221\n",
      "Epoch [3/5], Train Loss: 0.002081, Val Loss: 0.026414\n",
      "Epoch [4/5], Train Loss: 0.001470, Val Loss: 0.007604\n",
      "Epoch [5/5], Train Loss: 0.001282, Val Loss: 0.004918\n",
      "✅ Trained on NOG_1h_data.csv\n",
      "📂 Processing: MRVL_1h_data.csv\n"
     ]
    },
    {
     "name": "stderr",
     "output_type": "stream",
     "text": [
      "/tmp/ipykernel_35386/3096370088.py:18: FutureWarning: DataFrame.fillna with 'method' is deprecated and will raise in a future version. Use obj.ffill() or obj.bfill() instead.\n",
      "  df.fillna(method='bfill', inplace=True)\n",
      "/tmp/ipykernel_35386/3096370088.py:19: FutureWarning: DataFrame.fillna with 'method' is deprecated and will raise in a future version. Use obj.ffill() or obj.bfill() instead.\n",
      "  df.fillna(method='ffill', inplace=True)\n",
      "/home/varun/Desktop/someProj/TradeGPT/.venv/lib/python3.10/site-packages/torch/nn/modules/transformer.py:382: UserWarning: enable_nested_tensor is True, but self.use_nested_tensor is False because encoder_layer.self_attn.batch_first was not True(use batch_first for better inference performance)\n",
      "  warnings.warn(\n"
     ]
    },
    {
     "name": "stdout",
     "output_type": "stream",
     "text": [
      "Epoch [1/5], Train Loss: 0.032965, Val Loss: 0.006494\n",
      "Epoch [2/5], Train Loss: 0.003761, Val Loss: 0.001362\n",
      "Epoch [3/5], Train Loss: 0.002409, Val Loss: 0.001337\n",
      "Epoch [4/5], Train Loss: 0.002167, Val Loss: 0.002541\n",
      "Epoch [5/5], Train Loss: 0.001647, Val Loss: 0.000621\n",
      "✅ Trained on MRVL_1h_data.csv\n",
      "📂 Processing: AWK_1h_data.csv\n"
     ]
    },
    {
     "name": "stderr",
     "output_type": "stream",
     "text": [
      "/tmp/ipykernel_35386/3096370088.py:18: FutureWarning: DataFrame.fillna with 'method' is deprecated and will raise in a future version. Use obj.ffill() or obj.bfill() instead.\n",
      "  df.fillna(method='bfill', inplace=True)\n",
      "/tmp/ipykernel_35386/3096370088.py:19: FutureWarning: DataFrame.fillna with 'method' is deprecated and will raise in a future version. Use obj.ffill() or obj.bfill() instead.\n",
      "  df.fillna(method='ffill', inplace=True)\n",
      "/home/varun/Desktop/someProj/TradeGPT/.venv/lib/python3.10/site-packages/torch/nn/modules/transformer.py:382: UserWarning: enable_nested_tensor is True, but self.use_nested_tensor is False because encoder_layer.self_attn.batch_first was not True(use batch_first for better inference performance)\n",
      "  warnings.warn(\n"
     ]
    },
    {
     "name": "stdout",
     "output_type": "stream",
     "text": [
      "Epoch [1/5], Train Loss: 0.040256, Val Loss: 0.003568\n",
      "Epoch [2/5], Train Loss: 0.004136, Val Loss: 0.002131\n",
      "Epoch [3/5], Train Loss: 0.002973, Val Loss: 0.001493\n",
      "Epoch [4/5], Train Loss: 0.002145, Val Loss: 0.001667\n",
      "Epoch [5/5], Train Loss: 0.001677, Val Loss: 0.003218\n",
      "✅ Trained on AWK_1h_data.csv\n",
      "📂 Processing: WDAY_1h_data.csv\n"
     ]
    },
    {
     "name": "stderr",
     "output_type": "stream",
     "text": [
      "/tmp/ipykernel_35386/3096370088.py:18: FutureWarning: DataFrame.fillna with 'method' is deprecated and will raise in a future version. Use obj.ffill() or obj.bfill() instead.\n",
      "  df.fillna(method='bfill', inplace=True)\n",
      "/tmp/ipykernel_35386/3096370088.py:19: FutureWarning: DataFrame.fillna with 'method' is deprecated and will raise in a future version. Use obj.ffill() or obj.bfill() instead.\n",
      "  df.fillna(method='ffill', inplace=True)\n",
      "/home/varun/Desktop/someProj/TradeGPT/.venv/lib/python3.10/site-packages/torch/nn/modules/transformer.py:382: UserWarning: enable_nested_tensor is True, but self.use_nested_tensor is False because encoder_layer.self_attn.batch_first was not True(use batch_first for better inference performance)\n",
      "  warnings.warn(\n"
     ]
    },
    {
     "name": "stdout",
     "output_type": "stream",
     "text": [
      "Epoch [1/5], Train Loss: 0.042801, Val Loss: 0.001779\n",
      "Epoch [2/5], Train Loss: 0.004486, Val Loss: 0.001874\n",
      "Epoch [3/5], Train Loss: 0.002873, Val Loss: 0.000919\n",
      "Epoch [4/5], Train Loss: 0.002463, Val Loss: 0.000982\n",
      "Epoch [5/5], Train Loss: 0.002092, Val Loss: 0.000689\n",
      "✅ Trained on WDAY_1h_data.csv\n",
      "📂 Processing: MAS_1h_data.csv\n"
     ]
    },
    {
     "name": "stderr",
     "output_type": "stream",
     "text": [
      "/tmp/ipykernel_35386/3096370088.py:18: FutureWarning: DataFrame.fillna with 'method' is deprecated and will raise in a future version. Use obj.ffill() or obj.bfill() instead.\n",
      "  df.fillna(method='bfill', inplace=True)\n",
      "/tmp/ipykernel_35386/3096370088.py:19: FutureWarning: DataFrame.fillna with 'method' is deprecated and will raise in a future version. Use obj.ffill() or obj.bfill() instead.\n",
      "  df.fillna(method='ffill', inplace=True)\n",
      "/home/varun/Desktop/someProj/TradeGPT/.venv/lib/python3.10/site-packages/torch/nn/modules/transformer.py:382: UserWarning: enable_nested_tensor is True, but self.use_nested_tensor is False because encoder_layer.self_attn.batch_first was not True(use batch_first for better inference performance)\n",
      "  warnings.warn(\n"
     ]
    },
    {
     "name": "stdout",
     "output_type": "stream",
     "text": [
      "Epoch [1/5], Train Loss: 0.071581, Val Loss: 0.004022\n",
      "Epoch [2/5], Train Loss: 0.005248, Val Loss: 0.001252\n",
      "Epoch [3/5], Train Loss: 0.003581, Val Loss: 0.002002\n",
      "Epoch [4/5], Train Loss: 0.002599, Val Loss: 0.002174\n",
      "Epoch [5/5], Train Loss: 0.001920, Val Loss: 0.001128\n",
      "✅ Trained on MAS_1h_data.csv\n",
      "📂 Processing: XLE_1h_data.csv\n"
     ]
    },
    {
     "name": "stderr",
     "output_type": "stream",
     "text": [
      "/tmp/ipykernel_35386/3096370088.py:18: FutureWarning: DataFrame.fillna with 'method' is deprecated and will raise in a future version. Use obj.ffill() or obj.bfill() instead.\n",
      "  df.fillna(method='bfill', inplace=True)\n",
      "/tmp/ipykernel_35386/3096370088.py:19: FutureWarning: DataFrame.fillna with 'method' is deprecated and will raise in a future version. Use obj.ffill() or obj.bfill() instead.\n",
      "  df.fillna(method='ffill', inplace=True)\n",
      "/home/varun/Desktop/someProj/TradeGPT/.venv/lib/python3.10/site-packages/torch/nn/modules/transformer.py:382: UserWarning: enable_nested_tensor is True, but self.use_nested_tensor is False because encoder_layer.self_attn.batch_first was not True(use batch_first for better inference performance)\n",
      "  warnings.warn(\n"
     ]
    },
    {
     "name": "stdout",
     "output_type": "stream",
     "text": [
      "Epoch [1/5], Train Loss: 0.049087, Val Loss: 0.008790\n",
      "Epoch [2/5], Train Loss: 0.005021, Val Loss: 0.004857\n",
      "Epoch [3/5], Train Loss: 0.003310, Val Loss: 0.005409\n",
      "Epoch [4/5], Train Loss: 0.002193, Val Loss: 0.003900\n",
      "Epoch [5/5], Train Loss: 0.001800, Val Loss: 0.003358\n",
      "✅ Trained on XLE_1h_data.csv\n",
      "📂 Processing: TROW_1h_data.csv\n"
     ]
    },
    {
     "name": "stderr",
     "output_type": "stream",
     "text": [
      "/tmp/ipykernel_35386/3096370088.py:18: FutureWarning: DataFrame.fillna with 'method' is deprecated and will raise in a future version. Use obj.ffill() or obj.bfill() instead.\n",
      "  df.fillna(method='bfill', inplace=True)\n",
      "/tmp/ipykernel_35386/3096370088.py:19: FutureWarning: DataFrame.fillna with 'method' is deprecated and will raise in a future version. Use obj.ffill() or obj.bfill() instead.\n",
      "  df.fillna(method='ffill', inplace=True)\n",
      "/home/varun/Desktop/someProj/TradeGPT/.venv/lib/python3.10/site-packages/torch/nn/modules/transformer.py:382: UserWarning: enable_nested_tensor is True, but self.use_nested_tensor is False because encoder_layer.self_attn.batch_first was not True(use batch_first for better inference performance)\n",
      "  warnings.warn(\n"
     ]
    },
    {
     "name": "stdout",
     "output_type": "stream",
     "text": [
      "Epoch [1/5], Train Loss: 0.069895, Val Loss: 0.014611\n",
      "Epoch [2/5], Train Loss: 0.005304, Val Loss: 0.001298\n",
      "Epoch [3/5], Train Loss: 0.003267, Val Loss: 0.002358\n",
      "Epoch [4/5], Train Loss: 0.002601, Val Loss: 0.000688\n",
      "Epoch [5/5], Train Loss: 0.002079, Val Loss: 0.002780\n",
      "✅ Trained on TROW_1h_data.csv\n",
      "📂 Processing: ON_1h_data.csv\n"
     ]
    },
    {
     "name": "stderr",
     "output_type": "stream",
     "text": [
      "/tmp/ipykernel_35386/3096370088.py:18: FutureWarning: DataFrame.fillna with 'method' is deprecated and will raise in a future version. Use obj.ffill() or obj.bfill() instead.\n",
      "  df.fillna(method='bfill', inplace=True)\n",
      "/tmp/ipykernel_35386/3096370088.py:19: FutureWarning: DataFrame.fillna with 'method' is deprecated and will raise in a future version. Use obj.ffill() or obj.bfill() instead.\n",
      "  df.fillna(method='ffill', inplace=True)\n",
      "/home/varun/Desktop/someProj/TradeGPT/.venv/lib/python3.10/site-packages/torch/nn/modules/transformer.py:382: UserWarning: enable_nested_tensor is True, but self.use_nested_tensor is False because encoder_layer.self_attn.batch_first was not True(use batch_first for better inference performance)\n",
      "  warnings.warn(\n"
     ]
    },
    {
     "name": "stdout",
     "output_type": "stream",
     "text": [
      "Epoch [1/5], Train Loss: 0.028532, Val Loss: 0.040588\n",
      "Epoch [2/5], Train Loss: 0.004023, Val Loss: 0.004402\n",
      "Epoch [3/5], Train Loss: 0.002567, Val Loss: 0.006118\n",
      "Epoch [4/5], Train Loss: 0.001798, Val Loss: 0.001269\n",
      "Epoch [5/5], Train Loss: 0.001253, Val Loss: 0.001675\n",
      "✅ Trained on ON_1h_data.csv\n",
      "📂 Processing: BMY_1h_data.csv\n"
     ]
    },
    {
     "name": "stderr",
     "output_type": "stream",
     "text": [
      "/tmp/ipykernel_35386/3096370088.py:18: FutureWarning: DataFrame.fillna with 'method' is deprecated and will raise in a future version. Use obj.ffill() or obj.bfill() instead.\n",
      "  df.fillna(method='bfill', inplace=True)\n",
      "/tmp/ipykernel_35386/3096370088.py:19: FutureWarning: DataFrame.fillna with 'method' is deprecated and will raise in a future version. Use obj.ffill() or obj.bfill() instead.\n",
      "  df.fillna(method='ffill', inplace=True)\n",
      "/home/varun/Desktop/someProj/TradeGPT/.venv/lib/python3.10/site-packages/torch/nn/modules/transformer.py:382: UserWarning: enable_nested_tensor is True, but self.use_nested_tensor is False because encoder_layer.self_attn.batch_first was not True(use batch_first for better inference performance)\n",
      "  warnings.warn(\n"
     ]
    },
    {
     "name": "stdout",
     "output_type": "stream",
     "text": [
      "Epoch [1/5], Train Loss: 0.032615, Val Loss: 0.007289\n",
      "Epoch [2/5], Train Loss: 0.004191, Val Loss: 0.001904\n",
      "Epoch [3/5], Train Loss: 0.002854, Val Loss: 0.001011\n",
      "Epoch [4/5], Train Loss: 0.001903, Val Loss: 0.000922\n",
      "Epoch [5/5], Train Loss: 0.001674, Val Loss: 0.001100\n",
      "✅ Trained on BMY_1h_data.csv\n",
      "📂 Processing: ICE_1h_data.csv\n"
     ]
    },
    {
     "name": "stderr",
     "output_type": "stream",
     "text": [
      "/tmp/ipykernel_35386/3096370088.py:18: FutureWarning: DataFrame.fillna with 'method' is deprecated and will raise in a future version. Use obj.ffill() or obj.bfill() instead.\n",
      "  df.fillna(method='bfill', inplace=True)\n",
      "/tmp/ipykernel_35386/3096370088.py:19: FutureWarning: DataFrame.fillna with 'method' is deprecated and will raise in a future version. Use obj.ffill() or obj.bfill() instead.\n",
      "  df.fillna(method='ffill', inplace=True)\n",
      "/home/varun/Desktop/someProj/TradeGPT/.venv/lib/python3.10/site-packages/torch/nn/modules/transformer.py:382: UserWarning: enable_nested_tensor is True, but self.use_nested_tensor is False because encoder_layer.self_attn.batch_first was not True(use batch_first for better inference performance)\n",
      "  warnings.warn(\n"
     ]
    },
    {
     "name": "stdout",
     "output_type": "stream",
     "text": [
      "Epoch [1/5], Train Loss: 0.032498, Val Loss: 0.003880\n",
      "Epoch [2/5], Train Loss: 0.003519, Val Loss: 0.006008\n",
      "Epoch [3/5], Train Loss: 0.002363, Val Loss: 0.001839\n",
      "Epoch [4/5], Train Loss: 0.001706, Val Loss: 0.001245\n",
      "Epoch [5/5], Train Loss: 0.001340, Val Loss: 0.001882\n",
      "✅ Trained on ICE_1h_data.csv\n",
      "📂 Processing: CVX_1h_data.csv\n"
     ]
    },
    {
     "name": "stderr",
     "output_type": "stream",
     "text": [
      "/tmp/ipykernel_35386/3096370088.py:18: FutureWarning: DataFrame.fillna with 'method' is deprecated and will raise in a future version. Use obj.ffill() or obj.bfill() instead.\n",
      "  df.fillna(method='bfill', inplace=True)\n",
      "/tmp/ipykernel_35386/3096370088.py:19: FutureWarning: DataFrame.fillna with 'method' is deprecated and will raise in a future version. Use obj.ffill() or obj.bfill() instead.\n",
      "  df.fillna(method='ffill', inplace=True)\n",
      "/home/varun/Desktop/someProj/TradeGPT/.venv/lib/python3.10/site-packages/torch/nn/modules/transformer.py:382: UserWarning: enable_nested_tensor is True, but self.use_nested_tensor is False because encoder_layer.self_attn.batch_first was not True(use batch_first for better inference performance)\n",
      "  warnings.warn(\n"
     ]
    },
    {
     "name": "stdout",
     "output_type": "stream",
     "text": [
      "Epoch [1/5], Train Loss: 0.030210, Val Loss: 0.004194\n",
      "Epoch [2/5], Train Loss: 0.003710, Val Loss: 0.004882\n",
      "Epoch [3/5], Train Loss: 0.003083, Val Loss: 0.002750\n",
      "Epoch [4/5], Train Loss: 0.002268, Val Loss: 0.002658\n",
      "Epoch [5/5], Train Loss: 0.001654, Val Loss: 0.003270\n",
      "✅ Trained on CVX_1h_data.csv\n",
      "📂 Processing: BXP_1h_data.csv\n"
     ]
    },
    {
     "name": "stderr",
     "output_type": "stream",
     "text": [
      "/tmp/ipykernel_35386/3096370088.py:18: FutureWarning: DataFrame.fillna with 'method' is deprecated and will raise in a future version. Use obj.ffill() or obj.bfill() instead.\n",
      "  df.fillna(method='bfill', inplace=True)\n",
      "/tmp/ipykernel_35386/3096370088.py:19: FutureWarning: DataFrame.fillna with 'method' is deprecated and will raise in a future version. Use obj.ffill() or obj.bfill() instead.\n",
      "  df.fillna(method='ffill', inplace=True)\n",
      "/home/varun/Desktop/someProj/TradeGPT/.venv/lib/python3.10/site-packages/torch/nn/modules/transformer.py:382: UserWarning: enable_nested_tensor is True, but self.use_nested_tensor is False because encoder_layer.self_attn.batch_first was not True(use batch_first for better inference performance)\n",
      "  warnings.warn(\n"
     ]
    },
    {
     "name": "stdout",
     "output_type": "stream",
     "text": [
      "Epoch [1/5], Train Loss: 0.060009, Val Loss: 0.001689\n",
      "Epoch [2/5], Train Loss: 0.004911, Val Loss: 0.000504\n",
      "Epoch [3/5], Train Loss: 0.003609, Val Loss: 0.000637\n",
      "Epoch [4/5], Train Loss: 0.002562, Val Loss: 0.000602\n",
      "Epoch [5/5], Train Loss: 0.001952, Val Loss: 0.000478\n",
      "✅ Trained on BXP_1h_data.csv\n",
      "📂 Processing: NSC_1h_data.csv\n"
     ]
    },
    {
     "name": "stderr",
     "output_type": "stream",
     "text": [
      "/tmp/ipykernel_35386/3096370088.py:18: FutureWarning: DataFrame.fillna with 'method' is deprecated and will raise in a future version. Use obj.ffill() or obj.bfill() instead.\n",
      "  df.fillna(method='bfill', inplace=True)\n",
      "/tmp/ipykernel_35386/3096370088.py:19: FutureWarning: DataFrame.fillna with 'method' is deprecated and will raise in a future version. Use obj.ffill() or obj.bfill() instead.\n",
      "  df.fillna(method='ffill', inplace=True)\n",
      "/home/varun/Desktop/someProj/TradeGPT/.venv/lib/python3.10/site-packages/torch/nn/modules/transformer.py:382: UserWarning: enable_nested_tensor is True, but self.use_nested_tensor is False because encoder_layer.self_attn.batch_first was not True(use batch_first for better inference performance)\n",
      "  warnings.warn(\n"
     ]
    },
    {
     "name": "stdout",
     "output_type": "stream",
     "text": [
      "Epoch [1/5], Train Loss: 0.037938, Val Loss: 0.001453\n",
      "Epoch [2/5], Train Loss: 0.003947, Val Loss: 0.001923\n",
      "Epoch [3/5], Train Loss: 0.002996, Val Loss: 0.001067\n",
      "Epoch [4/5], Train Loss: 0.002286, Val Loss: 0.001001\n",
      "Epoch [5/5], Train Loss: 0.001851, Val Loss: 0.001814\n",
      "✅ Trained on NSC_1h_data.csv\n",
      "📂 Processing: AVB_1h_data.csv\n"
     ]
    },
    {
     "name": "stderr",
     "output_type": "stream",
     "text": [
      "/tmp/ipykernel_35386/3096370088.py:18: FutureWarning: DataFrame.fillna with 'method' is deprecated and will raise in a future version. Use obj.ffill() or obj.bfill() instead.\n",
      "  df.fillna(method='bfill', inplace=True)\n",
      "/tmp/ipykernel_35386/3096370088.py:19: FutureWarning: DataFrame.fillna with 'method' is deprecated and will raise in a future version. Use obj.ffill() or obj.bfill() instead.\n",
      "  df.fillna(method='ffill', inplace=True)\n",
      "/home/varun/Desktop/someProj/TradeGPT/.venv/lib/python3.10/site-packages/torch/nn/modules/transformer.py:382: UserWarning: enable_nested_tensor is True, but self.use_nested_tensor is False because encoder_layer.self_attn.batch_first was not True(use batch_first for better inference performance)\n",
      "  warnings.warn(\n"
     ]
    },
    {
     "name": "stdout",
     "output_type": "stream",
     "text": [
      "Epoch [1/5], Train Loss: 0.056658, Val Loss: 0.004661\n",
      "Epoch [2/5], Train Loss: 0.004576, Val Loss: 0.001978\n",
      "Epoch [3/5], Train Loss: 0.002972, Val Loss: 0.000909\n",
      "Epoch [4/5], Train Loss: 0.002185, Val Loss: 0.001705\n",
      "Epoch [5/5], Train Loss: 0.001608, Val Loss: 0.001301\n",
      "✅ Trained on AVB_1h_data.csv\n",
      "📂 Processing: GILD_1h_data.csv\n"
     ]
    },
    {
     "name": "stderr",
     "output_type": "stream",
     "text": [
      "/tmp/ipykernel_35386/3096370088.py:18: FutureWarning: DataFrame.fillna with 'method' is deprecated and will raise in a future version. Use obj.ffill() or obj.bfill() instead.\n",
      "  df.fillna(method='bfill', inplace=True)\n",
      "/tmp/ipykernel_35386/3096370088.py:19: FutureWarning: DataFrame.fillna with 'method' is deprecated and will raise in a future version. Use obj.ffill() or obj.bfill() instead.\n",
      "  df.fillna(method='ffill', inplace=True)\n",
      "/home/varun/Desktop/someProj/TradeGPT/.venv/lib/python3.10/site-packages/torch/nn/modules/transformer.py:382: UserWarning: enable_nested_tensor is True, but self.use_nested_tensor is False because encoder_layer.self_attn.batch_first was not True(use batch_first for better inference performance)\n",
      "  warnings.warn(\n"
     ]
    },
    {
     "name": "stdout",
     "output_type": "stream",
     "text": [
      "Epoch [1/5], Train Loss: 0.031972, Val Loss: 0.012790\n",
      "Epoch [2/5], Train Loss: 0.003019, Val Loss: 0.008607\n",
      "Epoch [3/5], Train Loss: 0.001884, Val Loss: 0.010574\n",
      "Epoch [4/5], Train Loss: 0.001248, Val Loss: 0.010765\n",
      "Epoch [5/5], Train Loss: 0.001020, Val Loss: 0.012492\n",
      "✅ Trained on GILD_1h_data.csv\n",
      "📂 Processing: PPL_1h_data.csv\n"
     ]
    },
    {
     "name": "stderr",
     "output_type": "stream",
     "text": [
      "/tmp/ipykernel_35386/3096370088.py:18: FutureWarning: DataFrame.fillna with 'method' is deprecated and will raise in a future version. Use obj.ffill() or obj.bfill() instead.\n",
      "  df.fillna(method='bfill', inplace=True)\n",
      "/tmp/ipykernel_35386/3096370088.py:19: FutureWarning: DataFrame.fillna with 'method' is deprecated and will raise in a future version. Use obj.ffill() or obj.bfill() instead.\n",
      "  df.fillna(method='ffill', inplace=True)\n",
      "/home/varun/Desktop/someProj/TradeGPT/.venv/lib/python3.10/site-packages/torch/nn/modules/transformer.py:382: UserWarning: enable_nested_tensor is True, but self.use_nested_tensor is False because encoder_layer.self_attn.batch_first was not True(use batch_first for better inference performance)\n",
      "  warnings.warn(\n"
     ]
    },
    {
     "name": "stdout",
     "output_type": "stream",
     "text": [
      "Epoch [1/5], Train Loss: 0.033370, Val Loss: 0.009113\n",
      "Epoch [2/5], Train Loss: 0.004076, Val Loss: 0.002518\n",
      "Epoch [3/5], Train Loss: 0.002620, Val Loss: 0.004194\n",
      "Epoch [4/5], Train Loss: 0.001722, Val Loss: 0.001398\n",
      "Epoch [5/5], Train Loss: 0.001278, Val Loss: 0.001875\n",
      "✅ Trained on PPL_1h_data.csv\n",
      "📂 Processing: BIIB_1h_data.csv\n"
     ]
    },
    {
     "name": "stderr",
     "output_type": "stream",
     "text": [
      "/tmp/ipykernel_35386/3096370088.py:18: FutureWarning: DataFrame.fillna with 'method' is deprecated and will raise in a future version. Use obj.ffill() or obj.bfill() instead.\n",
      "  df.fillna(method='bfill', inplace=True)\n",
      "/tmp/ipykernel_35386/3096370088.py:19: FutureWarning: DataFrame.fillna with 'method' is deprecated and will raise in a future version. Use obj.ffill() or obj.bfill() instead.\n",
      "  df.fillna(method='ffill', inplace=True)\n",
      "/home/varun/Desktop/someProj/TradeGPT/.venv/lib/python3.10/site-packages/torch/nn/modules/transformer.py:382: UserWarning: enable_nested_tensor is True, but self.use_nested_tensor is False because encoder_layer.self_attn.batch_first was not True(use batch_first for better inference performance)\n",
      "  warnings.warn(\n"
     ]
    },
    {
     "name": "stdout",
     "output_type": "stream",
     "text": [
      "Epoch [1/5], Train Loss: 0.030912, Val Loss: 0.001345\n",
      "Epoch [2/5], Train Loss: 0.003643, Val Loss: 0.001430\n",
      "Epoch [3/5], Train Loss: 0.002328, Val Loss: 0.000303\n",
      "Epoch [4/5], Train Loss: 0.001835, Val Loss: 0.000156\n",
      "Epoch [5/5], Train Loss: 0.001424, Val Loss: 0.000179\n",
      "✅ Trained on BIIB_1h_data.csv\n",
      "📂 Processing: UNP_1h_data.csv\n"
     ]
    },
    {
     "name": "stderr",
     "output_type": "stream",
     "text": [
      "/tmp/ipykernel_35386/3096370088.py:18: FutureWarning: DataFrame.fillna with 'method' is deprecated and will raise in a future version. Use obj.ffill() or obj.bfill() instead.\n",
      "  df.fillna(method='bfill', inplace=True)\n",
      "/tmp/ipykernel_35386/3096370088.py:19: FutureWarning: DataFrame.fillna with 'method' is deprecated and will raise in a future version. Use obj.ffill() or obj.bfill() instead.\n",
      "  df.fillna(method='ffill', inplace=True)\n",
      "/home/varun/Desktop/someProj/TradeGPT/.venv/lib/python3.10/site-packages/torch/nn/modules/transformer.py:382: UserWarning: enable_nested_tensor is True, but self.use_nested_tensor is False because encoder_layer.self_attn.batch_first was not True(use batch_first for better inference performance)\n",
      "  warnings.warn(\n"
     ]
    },
    {
     "name": "stdout",
     "output_type": "stream",
     "text": [
      "Epoch [1/5], Train Loss: 0.023670, Val Loss: 0.002665\n",
      "Epoch [2/5], Train Loss: 0.003083, Val Loss: 0.001513\n",
      "Epoch [3/5], Train Loss: 0.002164, Val Loss: 0.002323\n",
      "Epoch [4/5], Train Loss: 0.001740, Val Loss: 0.001747\n",
      "Epoch [5/5], Train Loss: 0.001392, Val Loss: 0.001594\n",
      "✅ Trained on UNP_1h_data.csv\n",
      "📂 Processing: RH_1h_data.csv\n"
     ]
    },
    {
     "name": "stderr",
     "output_type": "stream",
     "text": [
      "/tmp/ipykernel_35386/3096370088.py:18: FutureWarning: DataFrame.fillna with 'method' is deprecated and will raise in a future version. Use obj.ffill() or obj.bfill() instead.\n",
      "  df.fillna(method='bfill', inplace=True)\n",
      "/tmp/ipykernel_35386/3096370088.py:19: FutureWarning: DataFrame.fillna with 'method' is deprecated and will raise in a future version. Use obj.ffill() or obj.bfill() instead.\n",
      "  df.fillna(method='ffill', inplace=True)\n",
      "/home/varun/Desktop/someProj/TradeGPT/.venv/lib/python3.10/site-packages/torch/nn/modules/transformer.py:382: UserWarning: enable_nested_tensor is True, but self.use_nested_tensor is False because encoder_layer.self_attn.batch_first was not True(use batch_first for better inference performance)\n",
      "  warnings.warn(\n"
     ]
    },
    {
     "name": "stdout",
     "output_type": "stream",
     "text": [
      "Epoch [1/5], Train Loss: 0.032552, Val Loss: 0.008553\n",
      "Epoch [2/5], Train Loss: 0.003531, Val Loss: 0.003673\n",
      "Epoch [3/5], Train Loss: 0.002581, Val Loss: 0.003180\n",
      "Epoch [4/5], Train Loss: 0.001716, Val Loss: 0.003129\n",
      "Epoch [5/5], Train Loss: 0.001415, Val Loss: 0.002154\n",
      "✅ Trained on RH_1h_data.csv\n",
      "📂 Processing: AZO_1h_data.csv\n"
     ]
    },
    {
     "name": "stderr",
     "output_type": "stream",
     "text": [
      "/tmp/ipykernel_35386/3096370088.py:18: FutureWarning: DataFrame.fillna with 'method' is deprecated and will raise in a future version. Use obj.ffill() or obj.bfill() instead.\n",
      "  df.fillna(method='bfill', inplace=True)\n",
      "/tmp/ipykernel_35386/3096370088.py:19: FutureWarning: DataFrame.fillna with 'method' is deprecated and will raise in a future version. Use obj.ffill() or obj.bfill() instead.\n",
      "  df.fillna(method='ffill', inplace=True)\n",
      "/home/varun/Desktop/someProj/TradeGPT/.venv/lib/python3.10/site-packages/torch/nn/modules/transformer.py:382: UserWarning: enable_nested_tensor is True, but self.use_nested_tensor is False because encoder_layer.self_attn.batch_first was not True(use batch_first for better inference performance)\n",
      "  warnings.warn(\n"
     ]
    },
    {
     "name": "stdout",
     "output_type": "stream",
     "text": [
      "Epoch [1/5], Train Loss: 0.030380, Val Loss: 0.010720\n",
      "Epoch [2/5], Train Loss: 0.003452, Val Loss: 0.010991\n",
      "Epoch [3/5], Train Loss: 0.002236, Val Loss: 0.010947\n",
      "Epoch [4/5], Train Loss: 0.001822, Val Loss: 0.002035\n",
      "Epoch [5/5], Train Loss: 0.001419, Val Loss: 0.003545\n",
      "✅ Trained on AZO_1h_data.csv\n",
      "📂 Processing: HES_1h_data.csv\n"
     ]
    },
    {
     "name": "stderr",
     "output_type": "stream",
     "text": [
      "/tmp/ipykernel_35386/3096370088.py:18: FutureWarning: DataFrame.fillna with 'method' is deprecated and will raise in a future version. Use obj.ffill() or obj.bfill() instead.\n",
      "  df.fillna(method='bfill', inplace=True)\n",
      "/tmp/ipykernel_35386/3096370088.py:19: FutureWarning: DataFrame.fillna with 'method' is deprecated and will raise in a future version. Use obj.ffill() or obj.bfill() instead.\n",
      "  df.fillna(method='ffill', inplace=True)\n",
      "/home/varun/Desktop/someProj/TradeGPT/.venv/lib/python3.10/site-packages/torch/nn/modules/transformer.py:382: UserWarning: enable_nested_tensor is True, but self.use_nested_tensor is False because encoder_layer.self_attn.batch_first was not True(use batch_first for better inference performance)\n",
      "  warnings.warn(\n"
     ]
    },
    {
     "name": "stdout",
     "output_type": "stream",
     "text": [
      "Epoch [1/5], Train Loss: 0.088631, Val Loss: 0.007706\n",
      "Epoch [2/5], Train Loss: 0.005376, Val Loss: 0.002092\n",
      "Epoch [3/5], Train Loss: 0.003772, Val Loss: 0.002309\n",
      "Epoch [4/5], Train Loss: 0.002808, Val Loss: 0.002047\n",
      "Epoch [5/5], Train Loss: 0.002205, Val Loss: 0.001930\n",
      "✅ Trained on HES_1h_data.csv\n",
      "📂 Processing: UNH_1h_data.csv\n"
     ]
    },
    {
     "name": "stderr",
     "output_type": "stream",
     "text": [
      "/tmp/ipykernel_35386/3096370088.py:18: FutureWarning: DataFrame.fillna with 'method' is deprecated and will raise in a future version. Use obj.ffill() or obj.bfill() instead.\n",
      "  df.fillna(method='bfill', inplace=True)\n",
      "/tmp/ipykernel_35386/3096370088.py:19: FutureWarning: DataFrame.fillna with 'method' is deprecated and will raise in a future version. Use obj.ffill() or obj.bfill() instead.\n",
      "  df.fillna(method='ffill', inplace=True)\n",
      "/home/varun/Desktop/someProj/TradeGPT/.venv/lib/python3.10/site-packages/torch/nn/modules/transformer.py:382: UserWarning: enable_nested_tensor is True, but self.use_nested_tensor is False because encoder_layer.self_attn.batch_first was not True(use batch_first for better inference performance)\n",
      "  warnings.warn(\n"
     ]
    },
    {
     "name": "stdout",
     "output_type": "stream",
     "text": [
      "Epoch [1/5], Train Loss: 0.040936, Val Loss: 0.014151\n",
      "Epoch [2/5], Train Loss: 0.004189, Val Loss: 0.009596\n",
      "Epoch [3/5], Train Loss: 0.002154, Val Loss: 0.006395\n",
      "Epoch [4/5], Train Loss: 0.001304, Val Loss: 0.005998\n",
      "Epoch [5/5], Train Loss: 0.001081, Val Loss: 0.005161\n",
      "✅ Trained on UNH_1h_data.csv\n",
      "📂 Processing: WOLF_1h_data.csv\n"
     ]
    },
    {
     "name": "stderr",
     "output_type": "stream",
     "text": [
      "/tmp/ipykernel_35386/3096370088.py:18: FutureWarning: DataFrame.fillna with 'method' is deprecated and will raise in a future version. Use obj.ffill() or obj.bfill() instead.\n",
      "  df.fillna(method='bfill', inplace=True)\n",
      "/tmp/ipykernel_35386/3096370088.py:19: FutureWarning: DataFrame.fillna with 'method' is deprecated and will raise in a future version. Use obj.ffill() or obj.bfill() instead.\n",
      "  df.fillna(method='ffill', inplace=True)\n",
      "/home/varun/Desktop/someProj/TradeGPT/.venv/lib/python3.10/site-packages/torch/nn/modules/transformer.py:382: UserWarning: enable_nested_tensor is True, but self.use_nested_tensor is False because encoder_layer.self_attn.batch_first was not True(use batch_first for better inference performance)\n",
      "  warnings.warn(\n"
     ]
    },
    {
     "name": "stdout",
     "output_type": "stream",
     "text": [
      "Epoch [1/5], Train Loss: 0.028902, Val Loss: 0.000553\n",
      "Epoch [2/5], Train Loss: 0.004001, Val Loss: 0.000804\n",
      "Epoch [3/5], Train Loss: 0.002255, Val Loss: 0.000030\n",
      "Epoch [4/5], Train Loss: 0.001737, Val Loss: 0.000514\n",
      "Epoch [5/5], Train Loss: 0.001422, Val Loss: 0.000106\n",
      "✅ Trained on WOLF_1h_data.csv\n",
      "📂 Processing: RCL_1h_data.csv\n"
     ]
    },
    {
     "name": "stderr",
     "output_type": "stream",
     "text": [
      "/tmp/ipykernel_35386/3096370088.py:18: FutureWarning: DataFrame.fillna with 'method' is deprecated and will raise in a future version. Use obj.ffill() or obj.bfill() instead.\n",
      "  df.fillna(method='bfill', inplace=True)\n",
      "/tmp/ipykernel_35386/3096370088.py:19: FutureWarning: DataFrame.fillna with 'method' is deprecated and will raise in a future version. Use obj.ffill() or obj.bfill() instead.\n",
      "  df.fillna(method='ffill', inplace=True)\n",
      "/home/varun/Desktop/someProj/TradeGPT/.venv/lib/python3.10/site-packages/torch/nn/modules/transformer.py:382: UserWarning: enable_nested_tensor is True, but self.use_nested_tensor is False because encoder_layer.self_attn.batch_first was not True(use batch_first for better inference performance)\n",
      "  warnings.warn(\n"
     ]
    },
    {
     "name": "stdout",
     "output_type": "stream",
     "text": [
      "Epoch [1/5], Train Loss: 0.045040, Val Loss: 0.005137\n",
      "Epoch [2/5], Train Loss: 0.003797, Val Loss: 0.001300\n",
      "Epoch [3/5], Train Loss: 0.002364, Val Loss: 0.000491\n",
      "Epoch [4/5], Train Loss: 0.001648, Val Loss: 0.000818\n",
      "Epoch [5/5], Train Loss: 0.001235, Val Loss: 0.000378\n",
      "✅ Trained on RCL_1h_data.csv\n",
      "📂 Processing: MDT_1h_data.csv\n"
     ]
    },
    {
     "name": "stderr",
     "output_type": "stream",
     "text": [
      "/tmp/ipykernel_35386/3096370088.py:18: FutureWarning: DataFrame.fillna with 'method' is deprecated and will raise in a future version. Use obj.ffill() or obj.bfill() instead.\n",
      "  df.fillna(method='bfill', inplace=True)\n",
      "/tmp/ipykernel_35386/3096370088.py:19: FutureWarning: DataFrame.fillna with 'method' is deprecated and will raise in a future version. Use obj.ffill() or obj.bfill() instead.\n",
      "  df.fillna(method='ffill', inplace=True)\n",
      "/home/varun/Desktop/someProj/TradeGPT/.venv/lib/python3.10/site-packages/torch/nn/modules/transformer.py:382: UserWarning: enable_nested_tensor is True, but self.use_nested_tensor is False because encoder_layer.self_attn.batch_first was not True(use batch_first for better inference performance)\n",
      "  warnings.warn(\n"
     ]
    },
    {
     "name": "stdout",
     "output_type": "stream",
     "text": [
      "Epoch [1/5], Train Loss: 0.041371, Val Loss: 0.002421\n",
      "Epoch [2/5], Train Loss: 0.003942, Val Loss: 0.002192\n",
      "Epoch [3/5], Train Loss: 0.002543, Val Loss: 0.001114\n",
      "Epoch [4/5], Train Loss: 0.002014, Val Loss: 0.001085\n",
      "Epoch [5/5], Train Loss: 0.001635, Val Loss: 0.001635\n",
      "✅ Trained on MDT_1h_data.csv\n",
      "📂 Processing: HBAN_1h_data.csv\n"
     ]
    },
    {
     "name": "stderr",
     "output_type": "stream",
     "text": [
      "/tmp/ipykernel_35386/3096370088.py:18: FutureWarning: DataFrame.fillna with 'method' is deprecated and will raise in a future version. Use obj.ffill() or obj.bfill() instead.\n",
      "  df.fillna(method='bfill', inplace=True)\n",
      "/tmp/ipykernel_35386/3096370088.py:19: FutureWarning: DataFrame.fillna with 'method' is deprecated and will raise in a future version. Use obj.ffill() or obj.bfill() instead.\n",
      "  df.fillna(method='ffill', inplace=True)\n",
      "/home/varun/Desktop/someProj/TradeGPT/.venv/lib/python3.10/site-packages/torch/nn/modules/transformer.py:382: UserWarning: enable_nested_tensor is True, but self.use_nested_tensor is False because encoder_layer.self_attn.batch_first was not True(use batch_first for better inference performance)\n",
      "  warnings.warn(\n"
     ]
    },
    {
     "name": "stdout",
     "output_type": "stream",
     "text": [
      "Epoch [1/5], Train Loss: 0.032842, Val Loss: 0.004193\n",
      "Epoch [2/5], Train Loss: 0.004344, Val Loss: 0.002132\n",
      "Epoch [3/5], Train Loss: 0.002415, Val Loss: 0.000692\n",
      "Epoch [4/5], Train Loss: 0.002115, Val Loss: 0.001507\n",
      "Epoch [5/5], Train Loss: 0.001477, Val Loss: 0.000612\n",
      "✅ Trained on HBAN_1h_data.csv\n",
      "📂 Processing: CRM_1h_data.csv\n"
     ]
    },
    {
     "name": "stderr",
     "output_type": "stream",
     "text": [
      "/tmp/ipykernel_35386/3096370088.py:18: FutureWarning: DataFrame.fillna with 'method' is deprecated and will raise in a future version. Use obj.ffill() or obj.bfill() instead.\n",
      "  df.fillna(method='bfill', inplace=True)\n",
      "/tmp/ipykernel_35386/3096370088.py:19: FutureWarning: DataFrame.fillna with 'method' is deprecated and will raise in a future version. Use obj.ffill() or obj.bfill() instead.\n",
      "  df.fillna(method='ffill', inplace=True)\n",
      "/home/varun/Desktop/someProj/TradeGPT/.venv/lib/python3.10/site-packages/torch/nn/modules/transformer.py:382: UserWarning: enable_nested_tensor is True, but self.use_nested_tensor is False because encoder_layer.self_attn.batch_first was not True(use batch_first for better inference performance)\n",
      "  warnings.warn(\n"
     ]
    },
    {
     "name": "stdout",
     "output_type": "stream",
     "text": [
      "Epoch [1/5], Train Loss: 0.039770, Val Loss: 0.001145\n",
      "Epoch [2/5], Train Loss: 0.004204, Val Loss: 0.000627\n",
      "Epoch [3/5], Train Loss: 0.003131, Val Loss: 0.000525\n",
      "Epoch [4/5], Train Loss: 0.002000, Val Loss: 0.001102\n",
      "Epoch [5/5], Train Loss: 0.001889, Val Loss: 0.000977\n",
      "✅ Trained on CRM_1h_data.csv\n",
      "📂 Processing: BKR_1h_data.csv\n"
     ]
    },
    {
     "name": "stderr",
     "output_type": "stream",
     "text": [
      "/tmp/ipykernel_35386/3096370088.py:18: FutureWarning: DataFrame.fillna with 'method' is deprecated and will raise in a future version. Use obj.ffill() or obj.bfill() instead.\n",
      "  df.fillna(method='bfill', inplace=True)\n",
      "/tmp/ipykernel_35386/3096370088.py:19: FutureWarning: DataFrame.fillna with 'method' is deprecated and will raise in a future version. Use obj.ffill() or obj.bfill() instead.\n",
      "  df.fillna(method='ffill', inplace=True)\n",
      "/home/varun/Desktop/someProj/TradeGPT/.venv/lib/python3.10/site-packages/torch/nn/modules/transformer.py:382: UserWarning: enable_nested_tensor is True, but self.use_nested_tensor is False because encoder_layer.self_attn.batch_first was not True(use batch_first for better inference performance)\n",
      "  warnings.warn(\n"
     ]
    },
    {
     "name": "stdout",
     "output_type": "stream",
     "text": [
      "Epoch [1/5], Train Loss: 0.034153, Val Loss: 0.003110\n",
      "Epoch [2/5], Train Loss: 0.003204, Val Loss: 0.002521\n",
      "Epoch [3/5], Train Loss: 0.002153, Val Loss: 0.001413\n",
      "Epoch [4/5], Train Loss: 0.001566, Val Loss: 0.001575\n",
      "Epoch [5/5], Train Loss: 0.001314, Val Loss: 0.001675\n",
      "✅ Trained on BKR_1h_data.csv\n",
      "📂 Processing: UDR_1h_data.csv\n"
     ]
    },
    {
     "name": "stderr",
     "output_type": "stream",
     "text": [
      "/tmp/ipykernel_35386/3096370088.py:18: FutureWarning: DataFrame.fillna with 'method' is deprecated and will raise in a future version. Use obj.ffill() or obj.bfill() instead.\n",
      "  df.fillna(method='bfill', inplace=True)\n",
      "/tmp/ipykernel_35386/3096370088.py:19: FutureWarning: DataFrame.fillna with 'method' is deprecated and will raise in a future version. Use obj.ffill() or obj.bfill() instead.\n",
      "  df.fillna(method='ffill', inplace=True)\n",
      "/home/varun/Desktop/someProj/TradeGPT/.venv/lib/python3.10/site-packages/torch/nn/modules/transformer.py:382: UserWarning: enable_nested_tensor is True, but self.use_nested_tensor is False because encoder_layer.self_attn.batch_first was not True(use batch_first for better inference performance)\n",
      "  warnings.warn(\n"
     ]
    },
    {
     "name": "stdout",
     "output_type": "stream",
     "text": [
      "Epoch [1/5], Train Loss: 0.029064, Val Loss: 0.006097\n",
      "Epoch [2/5], Train Loss: 0.003439, Val Loss: 0.005716\n",
      "Epoch [3/5], Train Loss: 0.002243, Val Loss: 0.004824\n",
      "Epoch [4/5], Train Loss: 0.001700, Val Loss: 0.002194\n",
      "Epoch [5/5], Train Loss: 0.001437, Val Loss: 0.001542\n",
      "✅ Trained on UDR_1h_data.csv\n",
      "📂 Processing: ELS_1h_data.csv\n"
     ]
    },
    {
     "name": "stderr",
     "output_type": "stream",
     "text": [
      "/tmp/ipykernel_35386/3096370088.py:18: FutureWarning: DataFrame.fillna with 'method' is deprecated and will raise in a future version. Use obj.ffill() or obj.bfill() instead.\n",
      "  df.fillna(method='bfill', inplace=True)\n",
      "/tmp/ipykernel_35386/3096370088.py:19: FutureWarning: DataFrame.fillna with 'method' is deprecated and will raise in a future version. Use obj.ffill() or obj.bfill() instead.\n",
      "  df.fillna(method='ffill', inplace=True)\n",
      "/home/varun/Desktop/someProj/TradeGPT/.venv/lib/python3.10/site-packages/torch/nn/modules/transformer.py:382: UserWarning: enable_nested_tensor is True, but self.use_nested_tensor is False because encoder_layer.self_attn.batch_first was not True(use batch_first for better inference performance)\n",
      "  warnings.warn(\n"
     ]
    },
    {
     "name": "stdout",
     "output_type": "stream",
     "text": [
      "Epoch [1/5], Train Loss: 0.049812, Val Loss: 0.001145\n",
      "Epoch [2/5], Train Loss: 0.005142, Val Loss: 0.001413\n",
      "Epoch [3/5], Train Loss: 0.003540, Val Loss: 0.000996\n",
      "Epoch [4/5], Train Loss: 0.002504, Val Loss: 0.001105\n",
      "Epoch [5/5], Train Loss: 0.002336, Val Loss: 0.001147\n",
      "✅ Trained on ELS_1h_data.csv\n",
      "📂 Processing: PRU_1h_data.csv\n"
     ]
    },
    {
     "name": "stderr",
     "output_type": "stream",
     "text": [
      "/tmp/ipykernel_35386/3096370088.py:18: FutureWarning: DataFrame.fillna with 'method' is deprecated and will raise in a future version. Use obj.ffill() or obj.bfill() instead.\n",
      "  df.fillna(method='bfill', inplace=True)\n",
      "/tmp/ipykernel_35386/3096370088.py:19: FutureWarning: DataFrame.fillna with 'method' is deprecated and will raise in a future version. Use obj.ffill() or obj.bfill() instead.\n",
      "  df.fillna(method='ffill', inplace=True)\n",
      "/home/varun/Desktop/someProj/TradeGPT/.venv/lib/python3.10/site-packages/torch/nn/modules/transformer.py:382: UserWarning: enable_nested_tensor is True, but self.use_nested_tensor is False because encoder_layer.self_attn.batch_first was not True(use batch_first for better inference performance)\n",
      "  warnings.warn(\n"
     ]
    },
    {
     "name": "stdout",
     "output_type": "stream",
     "text": [
      "Epoch [1/5], Train Loss: 0.027771, Val Loss: 0.002077\n",
      "Epoch [2/5], Train Loss: 0.003756, Val Loss: 0.001284\n",
      "Epoch [3/5], Train Loss: 0.002344, Val Loss: 0.002596\n",
      "Epoch [4/5], Train Loss: 0.001691, Val Loss: 0.000949\n",
      "Epoch [5/5], Train Loss: 0.001475, Val Loss: 0.001792\n",
      "✅ Trained on PRU_1h_data.csv\n",
      "📂 Processing: MAA_1h_data.csv\n"
     ]
    },
    {
     "name": "stderr",
     "output_type": "stream",
     "text": [
      "/tmp/ipykernel_35386/3096370088.py:18: FutureWarning: DataFrame.fillna with 'method' is deprecated and will raise in a future version. Use obj.ffill() or obj.bfill() instead.\n",
      "  df.fillna(method='bfill', inplace=True)\n",
      "/tmp/ipykernel_35386/3096370088.py:19: FutureWarning: DataFrame.fillna with 'method' is deprecated and will raise in a future version. Use obj.ffill() or obj.bfill() instead.\n",
      "  df.fillna(method='ffill', inplace=True)\n",
      "/home/varun/Desktop/someProj/TradeGPT/.venv/lib/python3.10/site-packages/torch/nn/modules/transformer.py:382: UserWarning: enable_nested_tensor is True, but self.use_nested_tensor is False because encoder_layer.self_attn.batch_first was not True(use batch_first for better inference performance)\n",
      "  warnings.warn(\n"
     ]
    },
    {
     "name": "stdout",
     "output_type": "stream",
     "text": [
      "Epoch [1/5], Train Loss: 0.040634, Val Loss: 0.002047\n",
      "Epoch [2/5], Train Loss: 0.003501, Val Loss: 0.000957\n",
      "Epoch [3/5], Train Loss: 0.002499, Val Loss: 0.000916\n",
      "Epoch [4/5], Train Loss: 0.001995, Val Loss: 0.000737\n",
      "Epoch [5/5], Train Loss: 0.001677, Val Loss: 0.000534\n",
      "✅ Trained on MAA_1h_data.csv\n",
      "📂 Processing: AMZN_1h_data.csv\n"
     ]
    },
    {
     "name": "stderr",
     "output_type": "stream",
     "text": [
      "/tmp/ipykernel_35386/3096370088.py:18: FutureWarning: DataFrame.fillna with 'method' is deprecated and will raise in a future version. Use obj.ffill() or obj.bfill() instead.\n",
      "  df.fillna(method='bfill', inplace=True)\n",
      "/tmp/ipykernel_35386/3096370088.py:19: FutureWarning: DataFrame.fillna with 'method' is deprecated and will raise in a future version. Use obj.ffill() or obj.bfill() instead.\n",
      "  df.fillna(method='ffill', inplace=True)\n",
      "/home/varun/Desktop/someProj/TradeGPT/.venv/lib/python3.10/site-packages/torch/nn/modules/transformer.py:382: UserWarning: enable_nested_tensor is True, but self.use_nested_tensor is False because encoder_layer.self_attn.batch_first was not True(use batch_first for better inference performance)\n",
      "  warnings.warn(\n"
     ]
    },
    {
     "name": "stdout",
     "output_type": "stream",
     "text": [
      "Epoch [1/5], Train Loss: 0.042422, Val Loss: 0.002887\n",
      "Epoch [2/5], Train Loss: 0.003687, Val Loss: 0.001013\n",
      "Epoch [3/5], Train Loss: 0.002536, Val Loss: 0.001011\n",
      "Epoch [4/5], Train Loss: 0.001679, Val Loss: 0.001094\n",
      "Epoch [5/5], Train Loss: 0.001640, Val Loss: 0.000618\n",
      "✅ Trained on AMZN_1h_data.csv\n",
      "📂 Processing: AMAT_1h_data.csv\n"
     ]
    },
    {
     "name": "stderr",
     "output_type": "stream",
     "text": [
      "/tmp/ipykernel_35386/3096370088.py:18: FutureWarning: DataFrame.fillna with 'method' is deprecated and will raise in a future version. Use obj.ffill() or obj.bfill() instead.\n",
      "  df.fillna(method='bfill', inplace=True)\n",
      "/tmp/ipykernel_35386/3096370088.py:19: FutureWarning: DataFrame.fillna with 'method' is deprecated and will raise in a future version. Use obj.ffill() or obj.bfill() instead.\n",
      "  df.fillna(method='ffill', inplace=True)\n",
      "/home/varun/Desktop/someProj/TradeGPT/.venv/lib/python3.10/site-packages/torch/nn/modules/transformer.py:382: UserWarning: enable_nested_tensor is True, but self.use_nested_tensor is False because encoder_layer.self_attn.batch_first was not True(use batch_first for better inference performance)\n",
      "  warnings.warn(\n"
     ]
    },
    {
     "name": "stdout",
     "output_type": "stream",
     "text": [
      "Epoch [1/5], Train Loss: 0.027221, Val Loss: 0.000595\n",
      "Epoch [2/5], Train Loss: 0.003601, Val Loss: 0.000600\n",
      "Epoch [3/5], Train Loss: 0.002205, Val Loss: 0.000391\n",
      "Epoch [4/5], Train Loss: 0.001703, Val Loss: 0.000423\n",
      "Epoch [5/5], Train Loss: 0.001252, Val Loss: 0.000339\n",
      "✅ Trained on AMAT_1h_data.csv\n",
      "📂 Processing: D_1h_data.csv\n"
     ]
    },
    {
     "name": "stderr",
     "output_type": "stream",
     "text": [
      "/tmp/ipykernel_35386/3096370088.py:18: FutureWarning: DataFrame.fillna with 'method' is deprecated and will raise in a future version. Use obj.ffill() or obj.bfill() instead.\n",
      "  df.fillna(method='bfill', inplace=True)\n",
      "/tmp/ipykernel_35386/3096370088.py:19: FutureWarning: DataFrame.fillna with 'method' is deprecated and will raise in a future version. Use obj.ffill() or obj.bfill() instead.\n",
      "  df.fillna(method='ffill', inplace=True)\n",
      "/home/varun/Desktop/someProj/TradeGPT/.venv/lib/python3.10/site-packages/torch/nn/modules/transformer.py:382: UserWarning: enable_nested_tensor is True, but self.use_nested_tensor is False because encoder_layer.self_attn.batch_first was not True(use batch_first for better inference performance)\n",
      "  warnings.warn(\n"
     ]
    },
    {
     "name": "stdout",
     "output_type": "stream",
     "text": [
      "Epoch [1/5], Train Loss: 0.089903, Val Loss: 0.004073\n",
      "Epoch [2/5], Train Loss: 0.005891, Val Loss: 0.002215\n",
      "Epoch [3/5], Train Loss: 0.003851, Val Loss: 0.002009\n",
      "Epoch [4/5], Train Loss: 0.003010, Val Loss: 0.002919\n",
      "Epoch [5/5], Train Loss: 0.002473, Val Loss: 0.002179\n",
      "✅ Trained on D_1h_data.csv\n",
      "📂 Processing: FDX_1h_data.csv\n"
     ]
    },
    {
     "name": "stderr",
     "output_type": "stream",
     "text": [
      "/tmp/ipykernel_35386/3096370088.py:18: FutureWarning: DataFrame.fillna with 'method' is deprecated and will raise in a future version. Use obj.ffill() or obj.bfill() instead.\n",
      "  df.fillna(method='bfill', inplace=True)\n",
      "/tmp/ipykernel_35386/3096370088.py:19: FutureWarning: DataFrame.fillna with 'method' is deprecated and will raise in a future version. Use obj.ffill() or obj.bfill() instead.\n",
      "  df.fillna(method='ffill', inplace=True)\n",
      "/home/varun/Desktop/someProj/TradeGPT/.venv/lib/python3.10/site-packages/torch/nn/modules/transformer.py:382: UserWarning: enable_nested_tensor is True, but self.use_nested_tensor is False because encoder_layer.self_attn.batch_first was not True(use batch_first for better inference performance)\n",
      "  warnings.warn(\n"
     ]
    },
    {
     "name": "stdout",
     "output_type": "stream",
     "text": [
      "Epoch [1/5], Train Loss: 0.034267, Val Loss: 0.019924\n",
      "Epoch [2/5], Train Loss: 0.004428, Val Loss: 0.002251\n",
      "Epoch [3/5], Train Loss: 0.002785, Val Loss: 0.001230\n",
      "Epoch [4/5], Train Loss: 0.002044, Val Loss: 0.001247\n",
      "Epoch [5/5], Train Loss: 0.001705, Val Loss: 0.001143\n",
      "✅ Trained on FDX_1h_data.csv\n",
      "📂 Processing: WM_1h_data.csv\n"
     ]
    },
    {
     "name": "stderr",
     "output_type": "stream",
     "text": [
      "/tmp/ipykernel_35386/3096370088.py:18: FutureWarning: DataFrame.fillna with 'method' is deprecated and will raise in a future version. Use obj.ffill() or obj.bfill() instead.\n",
      "  df.fillna(method='bfill', inplace=True)\n",
      "/tmp/ipykernel_35386/3096370088.py:19: FutureWarning: DataFrame.fillna with 'method' is deprecated and will raise in a future version. Use obj.ffill() or obj.bfill() instead.\n",
      "  df.fillna(method='ffill', inplace=True)\n",
      "/home/varun/Desktop/someProj/TradeGPT/.venv/lib/python3.10/site-packages/torch/nn/modules/transformer.py:382: UserWarning: enable_nested_tensor is True, but self.use_nested_tensor is False because encoder_layer.self_attn.batch_first was not True(use batch_first for better inference performance)\n",
      "  warnings.warn(\n"
     ]
    },
    {
     "name": "stdout",
     "output_type": "stream",
     "text": [
      "Epoch [1/5], Train Loss: 0.027203, Val Loss: 0.007136\n",
      "Epoch [2/5], Train Loss: 0.003312, Val Loss: 0.000637\n",
      "Epoch [3/5], Train Loss: 0.002162, Val Loss: 0.000372\n",
      "Epoch [4/5], Train Loss: 0.001323, Val Loss: 0.000247\n",
      "Epoch [5/5], Train Loss: 0.001019, Val Loss: 0.000780\n",
      "✅ Trained on WM_1h_data.csv\n",
      "📂 Processing: HD_1h_data.csv\n"
     ]
    },
    {
     "name": "stderr",
     "output_type": "stream",
     "text": [
      "/tmp/ipykernel_35386/3096370088.py:18: FutureWarning: DataFrame.fillna with 'method' is deprecated and will raise in a future version. Use obj.ffill() or obj.bfill() instead.\n",
      "  df.fillna(method='bfill', inplace=True)\n",
      "/tmp/ipykernel_35386/3096370088.py:19: FutureWarning: DataFrame.fillna with 'method' is deprecated and will raise in a future version. Use obj.ffill() or obj.bfill() instead.\n",
      "  df.fillna(method='ffill', inplace=True)\n",
      "/home/varun/Desktop/someProj/TradeGPT/.venv/lib/python3.10/site-packages/torch/nn/modules/transformer.py:382: UserWarning: enable_nested_tensor is True, but self.use_nested_tensor is False because encoder_layer.self_attn.batch_first was not True(use batch_first for better inference performance)\n",
      "  warnings.warn(\n"
     ]
    },
    {
     "name": "stdout",
     "output_type": "stream",
     "text": [
      "Epoch [1/5], Train Loss: 0.033930, Val Loss: 0.003519\n",
      "Epoch [2/5], Train Loss: 0.003801, Val Loss: 0.000878\n",
      "Epoch [3/5], Train Loss: 0.002256, Val Loss: 0.000875\n",
      "Epoch [4/5], Train Loss: 0.001719, Val Loss: 0.000779\n",
      "Epoch [5/5], Train Loss: 0.001650, Val Loss: 0.000457\n",
      "✅ Trained on HD_1h_data.csv\n",
      "📂 Processing: DUK_1h_data.csv\n"
     ]
    },
    {
     "name": "stderr",
     "output_type": "stream",
     "text": [
      "/tmp/ipykernel_35386/3096370088.py:18: FutureWarning: DataFrame.fillna with 'method' is deprecated and will raise in a future version. Use obj.ffill() or obj.bfill() instead.\n",
      "  df.fillna(method='bfill', inplace=True)\n",
      "/tmp/ipykernel_35386/3096370088.py:19: FutureWarning: DataFrame.fillna with 'method' is deprecated and will raise in a future version. Use obj.ffill() or obj.bfill() instead.\n",
      "  df.fillna(method='ffill', inplace=True)\n",
      "/home/varun/Desktop/someProj/TradeGPT/.venv/lib/python3.10/site-packages/torch/nn/modules/transformer.py:382: UserWarning: enable_nested_tensor is True, but self.use_nested_tensor is False because encoder_layer.self_attn.batch_first was not True(use batch_first for better inference performance)\n",
      "  warnings.warn(\n"
     ]
    },
    {
     "name": "stdout",
     "output_type": "stream",
     "text": [
      "Epoch [1/5], Train Loss: 0.029732, Val Loss: 0.003129\n",
      "Epoch [2/5], Train Loss: 0.003633, Val Loss: 0.001103\n",
      "Epoch [3/5], Train Loss: 0.002161, Val Loss: 0.000850\n",
      "Epoch [4/5], Train Loss: 0.001797, Val Loss: 0.000817\n",
      "Epoch [5/5], Train Loss: 0.001298, Val Loss: 0.001215\n",
      "✅ Trained on DUK_1h_data.csv\n",
      "📂 Processing: CVS_1h_data.csv\n"
     ]
    },
    {
     "name": "stderr",
     "output_type": "stream",
     "text": [
      "/tmp/ipykernel_35386/3096370088.py:18: FutureWarning: DataFrame.fillna with 'method' is deprecated and will raise in a future version. Use obj.ffill() or obj.bfill() instead.\n",
      "  df.fillna(method='bfill', inplace=True)\n",
      "/tmp/ipykernel_35386/3096370088.py:19: FutureWarning: DataFrame.fillna with 'method' is deprecated and will raise in a future version. Use obj.ffill() or obj.bfill() instead.\n",
      "  df.fillna(method='ffill', inplace=True)\n",
      "/home/varun/Desktop/someProj/TradeGPT/.venv/lib/python3.10/site-packages/torch/nn/modules/transformer.py:382: UserWarning: enable_nested_tensor is True, but self.use_nested_tensor is False because encoder_layer.self_attn.batch_first was not True(use batch_first for better inference performance)\n",
      "  warnings.warn(\n"
     ]
    },
    {
     "name": "stdout",
     "output_type": "stream",
     "text": [
      "Epoch [1/5], Train Loss: 0.046475, Val Loss: 0.000953\n",
      "Epoch [2/5], Train Loss: 0.004476, Val Loss: 0.001389\n",
      "Epoch [3/5], Train Loss: 0.003032, Val Loss: 0.001823\n",
      "Epoch [4/5], Train Loss: 0.002194, Val Loss: 0.000897\n",
      "Epoch [5/5], Train Loss: 0.001710, Val Loss: 0.001308\n",
      "✅ Trained on CVS_1h_data.csv\n",
      "📂 Processing: MUR_1h_data.csv\n"
     ]
    },
    {
     "name": "stderr",
     "output_type": "stream",
     "text": [
      "/tmp/ipykernel_35386/3096370088.py:18: FutureWarning: DataFrame.fillna with 'method' is deprecated and will raise in a future version. Use obj.ffill() or obj.bfill() instead.\n",
      "  df.fillna(method='bfill', inplace=True)\n",
      "/tmp/ipykernel_35386/3096370088.py:19: FutureWarning: DataFrame.fillna with 'method' is deprecated and will raise in a future version. Use obj.ffill() or obj.bfill() instead.\n",
      "  df.fillna(method='ffill', inplace=True)\n",
      "/home/varun/Desktop/someProj/TradeGPT/.venv/lib/python3.10/site-packages/torch/nn/modules/transformer.py:382: UserWarning: enable_nested_tensor is True, but self.use_nested_tensor is False because encoder_layer.self_attn.batch_first was not True(use batch_first for better inference performance)\n",
      "  warnings.warn(\n"
     ]
    },
    {
     "name": "stdout",
     "output_type": "stream",
     "text": [
      "Epoch [1/5], Train Loss: 0.032455, Val Loss: 0.002805\n",
      "Epoch [2/5], Train Loss: 0.003756, Val Loss: 0.003759\n",
      "Epoch [3/5], Train Loss: 0.002354, Val Loss: 0.002662\n",
      "Epoch [4/5], Train Loss: 0.001740, Val Loss: 0.001950\n",
      "Epoch [5/5], Train Loss: 0.001369, Val Loss: 0.001690\n",
      "✅ Trained on MUR_1h_data.csv\n",
      "📂 Processing: HIG_1h_data.csv\n"
     ]
    },
    {
     "name": "stderr",
     "output_type": "stream",
     "text": [
      "/tmp/ipykernel_35386/3096370088.py:18: FutureWarning: DataFrame.fillna with 'method' is deprecated and will raise in a future version. Use obj.ffill() or obj.bfill() instead.\n",
      "  df.fillna(method='bfill', inplace=True)\n",
      "/tmp/ipykernel_35386/3096370088.py:19: FutureWarning: DataFrame.fillna with 'method' is deprecated and will raise in a future version. Use obj.ffill() or obj.bfill() instead.\n",
      "  df.fillna(method='ffill', inplace=True)\n",
      "/home/varun/Desktop/someProj/TradeGPT/.venv/lib/python3.10/site-packages/torch/nn/modules/transformer.py:382: UserWarning: enable_nested_tensor is True, but self.use_nested_tensor is False because encoder_layer.self_attn.batch_first was not True(use batch_first for better inference performance)\n",
      "  warnings.warn(\n"
     ]
    },
    {
     "name": "stdout",
     "output_type": "stream",
     "text": [
      "Epoch [1/5], Train Loss: 0.013722, Val Loss: 0.002436\n",
      "Epoch [2/5], Train Loss: 0.002419, Val Loss: 0.000802\n",
      "Epoch [3/5], Train Loss: 0.001538, Val Loss: 0.001020\n",
      "Epoch [4/5], Train Loss: 0.001083, Val Loss: 0.001738\n",
      "Epoch [5/5], Train Loss: 0.001033, Val Loss: 0.000301\n",
      "✅ Trained on HIG_1h_data.csv\n",
      "📂 Processing: NEE_1h_data.csv\n"
     ]
    },
    {
     "name": "stderr",
     "output_type": "stream",
     "text": [
      "/tmp/ipykernel_35386/3096370088.py:18: FutureWarning: DataFrame.fillna with 'method' is deprecated and will raise in a future version. Use obj.ffill() or obj.bfill() instead.\n",
      "  df.fillna(method='bfill', inplace=True)\n",
      "/tmp/ipykernel_35386/3096370088.py:19: FutureWarning: DataFrame.fillna with 'method' is deprecated and will raise in a future version. Use obj.ffill() or obj.bfill() instead.\n",
      "  df.fillna(method='ffill', inplace=True)\n",
      "/home/varun/Desktop/someProj/TradeGPT/.venv/lib/python3.10/site-packages/torch/nn/modules/transformer.py:382: UserWarning: enable_nested_tensor is True, but self.use_nested_tensor is False because encoder_layer.self_attn.batch_first was not True(use batch_first for better inference performance)\n",
      "  warnings.warn(\n"
     ]
    },
    {
     "name": "stdout",
     "output_type": "stream",
     "text": [
      "Epoch [1/5], Train Loss: 0.042454, Val Loss: 0.002807\n",
      "Epoch [2/5], Train Loss: 0.003687, Val Loss: 0.000323\n",
      "Epoch [3/5], Train Loss: 0.002672, Val Loss: 0.000329\n",
      "Epoch [4/5], Train Loss: 0.001981, Val Loss: 0.000670\n",
      "Epoch [5/5], Train Loss: 0.001532, Val Loss: 0.000405\n",
      "✅ Trained on NEE_1h_data.csv\n",
      "📂 Processing: INVH_1h_data.csv\n"
     ]
    },
    {
     "name": "stderr",
     "output_type": "stream",
     "text": [
      "/tmp/ipykernel_35386/3096370088.py:18: FutureWarning: DataFrame.fillna with 'method' is deprecated and will raise in a future version. Use obj.ffill() or obj.bfill() instead.\n",
      "  df.fillna(method='bfill', inplace=True)\n",
      "/tmp/ipykernel_35386/3096370088.py:19: FutureWarning: DataFrame.fillna with 'method' is deprecated and will raise in a future version. Use obj.ffill() or obj.bfill() instead.\n",
      "  df.fillna(method='ffill', inplace=True)\n",
      "/home/varun/Desktop/someProj/TradeGPT/.venv/lib/python3.10/site-packages/torch/nn/modules/transformer.py:382: UserWarning: enable_nested_tensor is True, but self.use_nested_tensor is False because encoder_layer.self_attn.batch_first was not True(use batch_first for better inference performance)\n",
      "  warnings.warn(\n"
     ]
    },
    {
     "name": "stdout",
     "output_type": "stream",
     "text": [
      "Epoch [1/5], Train Loss: 0.049763, Val Loss: 0.005721\n",
      "Epoch [2/5], Train Loss: 0.005062, Val Loss: 0.001528\n",
      "Epoch [3/5], Train Loss: 0.002988, Val Loss: 0.002954\n",
      "Epoch [4/5], Train Loss: 0.002382, Val Loss: 0.001637\n",
      "Epoch [5/5], Train Loss: 0.001988, Val Loss: 0.001441\n",
      "✅ Trained on INVH_1h_data.csv\n",
      "📂 Processing: FSLY_1h_data.csv\n"
     ]
    },
    {
     "name": "stderr",
     "output_type": "stream",
     "text": [
      "/tmp/ipykernel_35386/3096370088.py:18: FutureWarning: DataFrame.fillna with 'method' is deprecated and will raise in a future version. Use obj.ffill() or obj.bfill() instead.\n",
      "  df.fillna(method='bfill', inplace=True)\n",
      "/tmp/ipykernel_35386/3096370088.py:19: FutureWarning: DataFrame.fillna with 'method' is deprecated and will raise in a future version. Use obj.ffill() or obj.bfill() instead.\n",
      "  df.fillna(method='ffill', inplace=True)\n",
      "/home/varun/Desktop/someProj/TradeGPT/.venv/lib/python3.10/site-packages/torch/nn/modules/transformer.py:382: UserWarning: enable_nested_tensor is True, but self.use_nested_tensor is False because encoder_layer.self_attn.batch_first was not True(use batch_first for better inference performance)\n",
      "  warnings.warn(\n"
     ]
    },
    {
     "name": "stdout",
     "output_type": "stream",
     "text": [
      "Epoch [1/5], Train Loss: 0.035152, Val Loss: 0.001238\n",
      "Epoch [2/5], Train Loss: 0.003229, Val Loss: 0.000371\n",
      "Epoch [3/5], Train Loss: 0.002147, Val Loss: 0.000164\n",
      "Epoch [4/5], Train Loss: 0.001675, Val Loss: 0.000303\n",
      "Epoch [5/5], Train Loss: 0.001397, Val Loss: 0.000134\n",
      "✅ Trained on FSLY_1h_data.csv\n",
      "📂 Processing: GE_1h_data.csv\n"
     ]
    },
    {
     "name": "stderr",
     "output_type": "stream",
     "text": [
      "/tmp/ipykernel_35386/3096370088.py:18: FutureWarning: DataFrame.fillna with 'method' is deprecated and will raise in a future version. Use obj.ffill() or obj.bfill() instead.\n",
      "  df.fillna(method='bfill', inplace=True)\n",
      "/tmp/ipykernel_35386/3096370088.py:19: FutureWarning: DataFrame.fillna with 'method' is deprecated and will raise in a future version. Use obj.ffill() or obj.bfill() instead.\n",
      "  df.fillna(method='ffill', inplace=True)\n",
      "/home/varun/Desktop/someProj/TradeGPT/.venv/lib/python3.10/site-packages/torch/nn/modules/transformer.py:382: UserWarning: enable_nested_tensor is True, but self.use_nested_tensor is False because encoder_layer.self_attn.batch_first was not True(use batch_first for better inference performance)\n",
      "  warnings.warn(\n"
     ]
    },
    {
     "name": "stdout",
     "output_type": "stream",
     "text": [
      "Epoch [1/5], Train Loss: 0.029157, Val Loss: 0.002782\n",
      "Epoch [2/5], Train Loss: 0.003618, Val Loss: 0.001292\n",
      "Epoch [3/5], Train Loss: 0.002383, Val Loss: 0.000672\n",
      "Epoch [4/5], Train Loss: 0.001571, Val Loss: 0.002486\n",
      "Epoch [5/5], Train Loss: 0.001188, Val Loss: 0.001240\n",
      "✅ Trained on GE_1h_data.csv\n",
      "📂 Processing: TT_1h_data.csv\n"
     ]
    },
    {
     "name": "stderr",
     "output_type": "stream",
     "text": [
      "/tmp/ipykernel_35386/3096370088.py:18: FutureWarning: DataFrame.fillna with 'method' is deprecated and will raise in a future version. Use obj.ffill() or obj.bfill() instead.\n",
      "  df.fillna(method='bfill', inplace=True)\n",
      "/tmp/ipykernel_35386/3096370088.py:19: FutureWarning: DataFrame.fillna with 'method' is deprecated and will raise in a future version. Use obj.ffill() or obj.bfill() instead.\n",
      "  df.fillna(method='ffill', inplace=True)\n",
      "/home/varun/Desktop/someProj/TradeGPT/.venv/lib/python3.10/site-packages/torch/nn/modules/transformer.py:382: UserWarning: enable_nested_tensor is True, but self.use_nested_tensor is False because encoder_layer.self_attn.batch_first was not True(use batch_first for better inference performance)\n",
      "  warnings.warn(\n"
     ]
    },
    {
     "name": "stdout",
     "output_type": "stream",
     "text": [
      "Epoch [1/5], Train Loss: 0.031833, Val Loss: 0.001834\n",
      "Epoch [2/5], Train Loss: 0.003682, Val Loss: 0.002516\n",
      "Epoch [3/5], Train Loss: 0.002423, Val Loss: 0.000409\n",
      "Epoch [4/5], Train Loss: 0.001815, Val Loss: 0.000513\n",
      "Epoch [5/5], Train Loss: 0.001363, Val Loss: 0.000455\n",
      "✅ Trained on TT_1h_data.csv\n",
      "📂 Processing: ROST_1h_data.csv\n"
     ]
    },
    {
     "name": "stderr",
     "output_type": "stream",
     "text": [
      "/tmp/ipykernel_35386/3096370088.py:18: FutureWarning: DataFrame.fillna with 'method' is deprecated and will raise in a future version. Use obj.ffill() or obj.bfill() instead.\n",
      "  df.fillna(method='bfill', inplace=True)\n",
      "/tmp/ipykernel_35386/3096370088.py:19: FutureWarning: DataFrame.fillna with 'method' is deprecated and will raise in a future version. Use obj.ffill() or obj.bfill() instead.\n",
      "  df.fillna(method='ffill', inplace=True)\n",
      "/home/varun/Desktop/someProj/TradeGPT/.venv/lib/python3.10/site-packages/torch/nn/modules/transformer.py:382: UserWarning: enable_nested_tensor is True, but self.use_nested_tensor is False because encoder_layer.self_attn.batch_first was not True(use batch_first for better inference performance)\n",
      "  warnings.warn(\n"
     ]
    },
    {
     "name": "stdout",
     "output_type": "stream",
     "text": [
      "Epoch [1/5], Train Loss: 0.057750, Val Loss: 0.008123\n",
      "Epoch [2/5], Train Loss: 0.005292, Val Loss: 0.001401\n",
      "Epoch [3/5], Train Loss: 0.003296, Val Loss: 0.001154\n",
      "Epoch [4/5], Train Loss: 0.002376, Val Loss: 0.001841\n",
      "Epoch [5/5], Train Loss: 0.002103, Val Loss: 0.000930\n",
      "✅ Trained on ROST_1h_data.csv\n",
      "📂 Processing: CAT_1h_data.csv\n"
     ]
    },
    {
     "name": "stderr",
     "output_type": "stream",
     "text": [
      "/tmp/ipykernel_35386/3096370088.py:18: FutureWarning: DataFrame.fillna with 'method' is deprecated and will raise in a future version. Use obj.ffill() or obj.bfill() instead.\n",
      "  df.fillna(method='bfill', inplace=True)\n",
      "/tmp/ipykernel_35386/3096370088.py:19: FutureWarning: DataFrame.fillna with 'method' is deprecated and will raise in a future version. Use obj.ffill() or obj.bfill() instead.\n",
      "  df.fillna(method='ffill', inplace=True)\n",
      "/home/varun/Desktop/someProj/TradeGPT/.venv/lib/python3.10/site-packages/torch/nn/modules/transformer.py:382: UserWarning: enable_nested_tensor is True, but self.use_nested_tensor is False because encoder_layer.self_attn.batch_first was not True(use batch_first for better inference performance)\n",
      "  warnings.warn(\n"
     ]
    },
    {
     "name": "stdout",
     "output_type": "stream",
     "text": [
      "Epoch [1/5], Train Loss: 0.055169, Val Loss: 0.008540\n",
      "Epoch [2/5], Train Loss: 0.006038, Val Loss: 0.001782\n",
      "Epoch [3/5], Train Loss: 0.003394, Val Loss: 0.001363\n",
      "Epoch [4/5], Train Loss: 0.002730, Val Loss: 0.001247\n",
      "Epoch [5/5], Train Loss: 0.001939, Val Loss: 0.000577\n",
      "✅ Trained on CAT_1h_data.csv\n",
      "📂 Processing: AES_1h_data.csv\n"
     ]
    },
    {
     "name": "stderr",
     "output_type": "stream",
     "text": [
      "/tmp/ipykernel_35386/3096370088.py:18: FutureWarning: DataFrame.fillna with 'method' is deprecated and will raise in a future version. Use obj.ffill() or obj.bfill() instead.\n",
      "  df.fillna(method='bfill', inplace=True)\n",
      "/tmp/ipykernel_35386/3096370088.py:19: FutureWarning: DataFrame.fillna with 'method' is deprecated and will raise in a future version. Use obj.ffill() or obj.bfill() instead.\n",
      "  df.fillna(method='ffill', inplace=True)\n",
      "/home/varun/Desktop/someProj/TradeGPT/.venv/lib/python3.10/site-packages/torch/nn/modules/transformer.py:382: UserWarning: enable_nested_tensor is True, but self.use_nested_tensor is False because encoder_layer.self_attn.batch_first was not True(use batch_first for better inference performance)\n",
      "  warnings.warn(\n"
     ]
    },
    {
     "name": "stdout",
     "output_type": "stream",
     "text": [
      "Epoch [1/5], Train Loss: 0.047217, Val Loss: 0.000926\n",
      "Epoch [2/5], Train Loss: 0.004508, Val Loss: 0.001053\n",
      "Epoch [3/5], Train Loss: 0.002714, Val Loss: 0.000653\n",
      "Epoch [4/5], Train Loss: 0.002054, Val Loss: 0.000651\n",
      "Epoch [5/5], Train Loss: 0.001673, Val Loss: 0.000220\n",
      "✅ Trained on AES_1h_data.csv\n",
      "📂 Processing: ISRG_1h_data.csv\n"
     ]
    },
    {
     "name": "stderr",
     "output_type": "stream",
     "text": [
      "/tmp/ipykernel_35386/3096370088.py:18: FutureWarning: DataFrame.fillna with 'method' is deprecated and will raise in a future version. Use obj.ffill() or obj.bfill() instead.\n",
      "  df.fillna(method='bfill', inplace=True)\n",
      "/tmp/ipykernel_35386/3096370088.py:19: FutureWarning: DataFrame.fillna with 'method' is deprecated and will raise in a future version. Use obj.ffill() or obj.bfill() instead.\n",
      "  df.fillna(method='ffill', inplace=True)\n",
      "/home/varun/Desktop/someProj/TradeGPT/.venv/lib/python3.10/site-packages/torch/nn/modules/transformer.py:382: UserWarning: enable_nested_tensor is True, but self.use_nested_tensor is False because encoder_layer.self_attn.batch_first was not True(use batch_first for better inference performance)\n",
      "  warnings.warn(\n"
     ]
    },
    {
     "name": "stdout",
     "output_type": "stream",
     "text": [
      "Epoch [1/5], Train Loss: 0.038001, Val Loss: 0.009377\n",
      "Epoch [2/5], Train Loss: 0.003840, Val Loss: 0.002705\n",
      "Epoch [3/5], Train Loss: 0.002592, Val Loss: 0.002628\n",
      "Epoch [4/5], Train Loss: 0.001884, Val Loss: 0.001765\n",
      "Epoch [5/5], Train Loss: 0.001614, Val Loss: 0.001569\n",
      "✅ Trained on ISRG_1h_data.csv\n",
      "📂 Processing: SHOP_1h_data.csv\n"
     ]
    },
    {
     "name": "stderr",
     "output_type": "stream",
     "text": [
      "/tmp/ipykernel_35386/3096370088.py:18: FutureWarning: DataFrame.fillna with 'method' is deprecated and will raise in a future version. Use obj.ffill() or obj.bfill() instead.\n",
      "  df.fillna(method='bfill', inplace=True)\n",
      "/tmp/ipykernel_35386/3096370088.py:19: FutureWarning: DataFrame.fillna with 'method' is deprecated and will raise in a future version. Use obj.ffill() or obj.bfill() instead.\n",
      "  df.fillna(method='ffill', inplace=True)\n",
      "/home/varun/Desktop/someProj/TradeGPT/.venv/lib/python3.10/site-packages/torch/nn/modules/transformer.py:382: UserWarning: enable_nested_tensor is True, but self.use_nested_tensor is False because encoder_layer.self_attn.batch_first was not True(use batch_first for better inference performance)\n",
      "  warnings.warn(\n"
     ]
    },
    {
     "name": "stdout",
     "output_type": "stream",
     "text": [
      "Epoch [1/5], Train Loss: 0.031935, Val Loss: 0.002863\n",
      "Epoch [2/5], Train Loss: 0.003928, Val Loss: 0.002402\n",
      "Epoch [3/5], Train Loss: 0.002323, Val Loss: 0.001713\n",
      "Epoch [4/5], Train Loss: 0.001512, Val Loss: 0.001566\n",
      "Epoch [5/5], Train Loss: 0.001290, Val Loss: 0.001320\n",
      "✅ Trained on SHOP_1h_data.csv\n",
      "📂 Processing: SUI_1h_data.csv\n"
     ]
    },
    {
     "name": "stderr",
     "output_type": "stream",
     "text": [
      "/tmp/ipykernel_35386/3096370088.py:18: FutureWarning: DataFrame.fillna with 'method' is deprecated and will raise in a future version. Use obj.ffill() or obj.bfill() instead.\n",
      "  df.fillna(method='bfill', inplace=True)\n",
      "/tmp/ipykernel_35386/3096370088.py:19: FutureWarning: DataFrame.fillna with 'method' is deprecated and will raise in a future version. Use obj.ffill() or obj.bfill() instead.\n",
      "  df.fillna(method='ffill', inplace=True)\n",
      "/home/varun/Desktop/someProj/TradeGPT/.venv/lib/python3.10/site-packages/torch/nn/modules/transformer.py:382: UserWarning: enable_nested_tensor is True, but self.use_nested_tensor is False because encoder_layer.self_attn.batch_first was not True(use batch_first for better inference performance)\n",
      "  warnings.warn(\n"
     ]
    },
    {
     "name": "stdout",
     "output_type": "stream",
     "text": [
      "Epoch [1/5], Train Loss: 0.042460, Val Loss: 0.001909\n",
      "Epoch [2/5], Train Loss: 0.003854, Val Loss: 0.001367\n",
      "Epoch [3/5], Train Loss: 0.002377, Val Loss: 0.000783\n",
      "Epoch [4/5], Train Loss: 0.001742, Val Loss: 0.000682\n",
      "Epoch [5/5], Train Loss: 0.001554, Val Loss: 0.001891\n",
      "✅ Trained on SUI_1h_data.csv\n",
      "📂 Processing: ANET_1h_data.csv\n"
     ]
    },
    {
     "name": "stderr",
     "output_type": "stream",
     "text": [
      "/tmp/ipykernel_35386/3096370088.py:18: FutureWarning: DataFrame.fillna with 'method' is deprecated and will raise in a future version. Use obj.ffill() or obj.bfill() instead.\n",
      "  df.fillna(method='bfill', inplace=True)\n",
      "/tmp/ipykernel_35386/3096370088.py:19: FutureWarning: DataFrame.fillna with 'method' is deprecated and will raise in a future version. Use obj.ffill() or obj.bfill() instead.\n",
      "  df.fillna(method='ffill', inplace=True)\n",
      "/home/varun/Desktop/someProj/TradeGPT/.venv/lib/python3.10/site-packages/torch/nn/modules/transformer.py:382: UserWarning: enable_nested_tensor is True, but self.use_nested_tensor is False because encoder_layer.self_attn.batch_first was not True(use batch_first for better inference performance)\n",
      "  warnings.warn(\n"
     ]
    },
    {
     "name": "stdout",
     "output_type": "stream",
     "text": [
      "Epoch [1/5], Train Loss: 0.042928, Val Loss: 0.001265\n",
      "Epoch [2/5], Train Loss: 0.004468, Val Loss: 0.001548\n",
      "Epoch [3/5], Train Loss: 0.002840, Val Loss: 0.002070\n",
      "Epoch [4/5], Train Loss: 0.002021, Val Loss: 0.000731\n",
      "Epoch [5/5], Train Loss: 0.001497, Val Loss: 0.000318\n",
      "✅ Trained on ANET_1h_data.csv\n",
      "📂 Processing: OKTA_1h_data.csv\n"
     ]
    },
    {
     "name": "stderr",
     "output_type": "stream",
     "text": [
      "/tmp/ipykernel_35386/3096370088.py:18: FutureWarning: DataFrame.fillna with 'method' is deprecated and will raise in a future version. Use obj.ffill() or obj.bfill() instead.\n",
      "  df.fillna(method='bfill', inplace=True)\n",
      "/tmp/ipykernel_35386/3096370088.py:19: FutureWarning: DataFrame.fillna with 'method' is deprecated and will raise in a future version. Use obj.ffill() or obj.bfill() instead.\n",
      "  df.fillna(method='ffill', inplace=True)\n",
      "/home/varun/Desktop/someProj/TradeGPT/.venv/lib/python3.10/site-packages/torch/nn/modules/transformer.py:382: UserWarning: enable_nested_tensor is True, but self.use_nested_tensor is False because encoder_layer.self_attn.batch_first was not True(use batch_first for better inference performance)\n",
      "  warnings.warn(\n"
     ]
    },
    {
     "name": "stdout",
     "output_type": "stream",
     "text": [
      "Epoch [1/5], Train Loss: 0.028560, Val Loss: 0.002400\n",
      "Epoch [2/5], Train Loss: 0.003873, Val Loss: 0.002457\n",
      "Epoch [3/5], Train Loss: 0.002229, Val Loss: 0.002197\n",
      "Epoch [4/5], Train Loss: 0.001615, Val Loss: 0.001739\n",
      "Epoch [5/5], Train Loss: 0.001389, Val Loss: 0.001111\n",
      "✅ Trained on OKTA_1h_data.csv\n",
      "📂 Processing: WEC_1h_data.csv\n"
     ]
    },
    {
     "name": "stderr",
     "output_type": "stream",
     "text": [
      "/tmp/ipykernel_35386/3096370088.py:18: FutureWarning: DataFrame.fillna with 'method' is deprecated and will raise in a future version. Use obj.ffill() or obj.bfill() instead.\n",
      "  df.fillna(method='bfill', inplace=True)\n",
      "/tmp/ipykernel_35386/3096370088.py:19: FutureWarning: DataFrame.fillna with 'method' is deprecated and will raise in a future version. Use obj.ffill() or obj.bfill() instead.\n",
      "  df.fillna(method='ffill', inplace=True)\n",
      "/home/varun/Desktop/someProj/TradeGPT/.venv/lib/python3.10/site-packages/torch/nn/modules/transformer.py:382: UserWarning: enable_nested_tensor is True, but self.use_nested_tensor is False because encoder_layer.self_attn.batch_first was not True(use batch_first for better inference performance)\n",
      "  warnings.warn(\n"
     ]
    },
    {
     "name": "stdout",
     "output_type": "stream",
     "text": [
      "Epoch [1/5], Train Loss: 0.048047, Val Loss: 0.026418\n",
      "Epoch [2/5], Train Loss: 0.004258, Val Loss: 0.010760\n",
      "Epoch [3/5], Train Loss: 0.002430, Val Loss: 0.005801\n",
      "Epoch [4/5], Train Loss: 0.001804, Val Loss: 0.011206\n",
      "Epoch [5/5], Train Loss: 0.001302, Val Loss: 0.005877\n",
      "✅ Trained on WEC_1h_data.csv\n",
      "📂 Processing: RSG_1h_data.csv\n"
     ]
    },
    {
     "name": "stderr",
     "output_type": "stream",
     "text": [
      "/tmp/ipykernel_35386/3096370088.py:18: FutureWarning: DataFrame.fillna with 'method' is deprecated and will raise in a future version. Use obj.ffill() or obj.bfill() instead.\n",
      "  df.fillna(method='bfill', inplace=True)\n",
      "/tmp/ipykernel_35386/3096370088.py:19: FutureWarning: DataFrame.fillna with 'method' is deprecated and will raise in a future version. Use obj.ffill() or obj.bfill() instead.\n",
      "  df.fillna(method='ffill', inplace=True)\n",
      "/home/varun/Desktop/someProj/TradeGPT/.venv/lib/python3.10/site-packages/torch/nn/modules/transformer.py:382: UserWarning: enable_nested_tensor is True, but self.use_nested_tensor is False because encoder_layer.self_attn.batch_first was not True(use batch_first for better inference performance)\n",
      "  warnings.warn(\n"
     ]
    },
    {
     "name": "stdout",
     "output_type": "stream",
     "text": [
      "Epoch [1/5], Train Loss: 0.028398, Val Loss: 0.020178\n",
      "Epoch [2/5], Train Loss: 0.003586, Val Loss: 0.004387\n",
      "Epoch [3/5], Train Loss: 0.002141, Val Loss: 0.009918\n",
      "Epoch [4/5], Train Loss: 0.001476, Val Loss: 0.001359\n",
      "Epoch [5/5], Train Loss: 0.001156, Val Loss: 0.001948\n",
      "✅ Trained on RSG_1h_data.csv\n",
      "📂 Processing: UBER_1h_data.csv\n"
     ]
    },
    {
     "name": "stderr",
     "output_type": "stream",
     "text": [
      "/tmp/ipykernel_35386/3096370088.py:18: FutureWarning: DataFrame.fillna with 'method' is deprecated and will raise in a future version. Use obj.ffill() or obj.bfill() instead.\n",
      "  df.fillna(method='bfill', inplace=True)\n",
      "/tmp/ipykernel_35386/3096370088.py:19: FutureWarning: DataFrame.fillna with 'method' is deprecated and will raise in a future version. Use obj.ffill() or obj.bfill() instead.\n",
      "  df.fillna(method='ffill', inplace=True)\n",
      "/home/varun/Desktop/someProj/TradeGPT/.venv/lib/python3.10/site-packages/torch/nn/modules/transformer.py:382: UserWarning: enable_nested_tensor is True, but self.use_nested_tensor is False because encoder_layer.self_attn.batch_first was not True(use batch_first for better inference performance)\n",
      "  warnings.warn(\n"
     ]
    },
    {
     "name": "stdout",
     "output_type": "stream",
     "text": [
      "Epoch [1/5], Train Loss: 0.030031, Val Loss: 0.001333\n",
      "Epoch [2/5], Train Loss: 0.002879, Val Loss: 0.001762\n",
      "Epoch [3/5], Train Loss: 0.001884, Val Loss: 0.001143\n",
      "Epoch [4/5], Train Loss: 0.001317, Val Loss: 0.000384\n",
      "Epoch [5/5], Train Loss: 0.001117, Val Loss: 0.000368\n",
      "✅ Trained on UBER_1h_data.csv\n",
      "📂 Processing: ETSY_1h_data.csv\n"
     ]
    },
    {
     "name": "stderr",
     "output_type": "stream",
     "text": [
      "/tmp/ipykernel_35386/3096370088.py:18: FutureWarning: DataFrame.fillna with 'method' is deprecated and will raise in a future version. Use obj.ffill() or obj.bfill() instead.\n",
      "  df.fillna(method='bfill', inplace=True)\n",
      "/tmp/ipykernel_35386/3096370088.py:19: FutureWarning: DataFrame.fillna with 'method' is deprecated and will raise in a future version. Use obj.ffill() or obj.bfill() instead.\n",
      "  df.fillna(method='ffill', inplace=True)\n",
      "/home/varun/Desktop/someProj/TradeGPT/.venv/lib/python3.10/site-packages/torch/nn/modules/transformer.py:382: UserWarning: enable_nested_tensor is True, but self.use_nested_tensor is False because encoder_layer.self_attn.batch_first was not True(use batch_first for better inference performance)\n",
      "  warnings.warn(\n"
     ]
    },
    {
     "name": "stdout",
     "output_type": "stream",
     "text": [
      "Epoch [1/5], Train Loss: 0.033641, Val Loss: 0.000669\n",
      "Epoch [2/5], Train Loss: 0.003821, Val Loss: 0.000276\n",
      "Epoch [3/5], Train Loss: 0.002127, Val Loss: 0.000786\n",
      "Epoch [4/5], Train Loss: 0.001609, Val Loss: 0.000321\n",
      "Epoch [5/5], Train Loss: 0.001246, Val Loss: 0.000393\n",
      "✅ Trained on ETSY_1h_data.csv\n",
      "📂 Processing: KR_1h_data.csv\n"
     ]
    },
    {
     "name": "stderr",
     "output_type": "stream",
     "text": [
      "/tmp/ipykernel_35386/3096370088.py:18: FutureWarning: DataFrame.fillna with 'method' is deprecated and will raise in a future version. Use obj.ffill() or obj.bfill() instead.\n",
      "  df.fillna(method='bfill', inplace=True)\n",
      "/tmp/ipykernel_35386/3096370088.py:19: FutureWarning: DataFrame.fillna with 'method' is deprecated and will raise in a future version. Use obj.ffill() or obj.bfill() instead.\n",
      "  df.fillna(method='ffill', inplace=True)\n",
      "/home/varun/Desktop/someProj/TradeGPT/.venv/lib/python3.10/site-packages/torch/nn/modules/transformer.py:382: UserWarning: enable_nested_tensor is True, but self.use_nested_tensor is False because encoder_layer.self_attn.batch_first was not True(use batch_first for better inference performance)\n",
      "  warnings.warn(\n"
     ]
    },
    {
     "name": "stdout",
     "output_type": "stream",
     "text": [
      "Epoch [1/5], Train Loss: 0.024298, Val Loss: 0.008212\n",
      "Epoch [2/5], Train Loss: 0.002850, Val Loss: 0.004500\n",
      "Epoch [3/5], Train Loss: 0.001600, Val Loss: 0.001187\n",
      "Epoch [4/5], Train Loss: 0.001255, Val Loss: 0.001090\n",
      "Epoch [5/5], Train Loss: 0.001095, Val Loss: 0.000935\n",
      "✅ Trained on KR_1h_data.csv\n",
      "📂 Processing: AMD_1h_data.csv\n"
     ]
    },
    {
     "name": "stderr",
     "output_type": "stream",
     "text": [
      "/tmp/ipykernel_35386/3096370088.py:18: FutureWarning: DataFrame.fillna with 'method' is deprecated and will raise in a future version. Use obj.ffill() or obj.bfill() instead.\n",
      "  df.fillna(method='bfill', inplace=True)\n",
      "/tmp/ipykernel_35386/3096370088.py:19: FutureWarning: DataFrame.fillna with 'method' is deprecated and will raise in a future version. Use obj.ffill() or obj.bfill() instead.\n",
      "  df.fillna(method='ffill', inplace=True)\n",
      "/home/varun/Desktop/someProj/TradeGPT/.venv/lib/python3.10/site-packages/torch/nn/modules/transformer.py:382: UserWarning: enable_nested_tensor is True, but self.use_nested_tensor is False because encoder_layer.self_attn.batch_first was not True(use batch_first for better inference performance)\n",
      "  warnings.warn(\n"
     ]
    },
    {
     "name": "stdout",
     "output_type": "stream",
     "text": [
      "Epoch [1/5], Train Loss: 0.030045, Val Loss: 0.002548\n",
      "Epoch [2/5], Train Loss: 0.003820, Val Loss: 0.000431\n",
      "Epoch [3/5], Train Loss: 0.002146, Val Loss: 0.001208\n",
      "Epoch [4/5], Train Loss: 0.001708, Val Loss: 0.000156\n",
      "Epoch [5/5], Train Loss: 0.001288, Val Loss: 0.000492\n",
      "✅ Trained on AMD_1h_data.csv\n",
      "📂 Processing: WFC_1h_data.csv\n"
     ]
    },
    {
     "name": "stderr",
     "output_type": "stream",
     "text": [
      "/tmp/ipykernel_35386/3096370088.py:18: FutureWarning: DataFrame.fillna with 'method' is deprecated and will raise in a future version. Use obj.ffill() or obj.bfill() instead.\n",
      "  df.fillna(method='bfill', inplace=True)\n",
      "/tmp/ipykernel_35386/3096370088.py:19: FutureWarning: DataFrame.fillna with 'method' is deprecated and will raise in a future version. Use obj.ffill() or obj.bfill() instead.\n",
      "  df.fillna(method='ffill', inplace=True)\n",
      "/home/varun/Desktop/someProj/TradeGPT/.venv/lib/python3.10/site-packages/torch/nn/modules/transformer.py:382: UserWarning: enable_nested_tensor is True, but self.use_nested_tensor is False because encoder_layer.self_attn.batch_first was not True(use batch_first for better inference performance)\n",
      "  warnings.warn(\n"
     ]
    },
    {
     "name": "stdout",
     "output_type": "stream",
     "text": [
      "Epoch [1/5], Train Loss: 0.034269, Val Loss: 0.005700\n",
      "Epoch [2/5], Train Loss: 0.003410, Val Loss: 0.001456\n",
      "Epoch [3/5], Train Loss: 0.002071, Val Loss: 0.001187\n",
      "Epoch [4/5], Train Loss: 0.001543, Val Loss: 0.000964\n",
      "Epoch [5/5], Train Loss: 0.001319, Val Loss: 0.002811\n",
      "✅ Trained on WFC_1h_data.csv\n",
      "📂 Processing: DOV_1h_data.csv\n"
     ]
    },
    {
     "name": "stderr",
     "output_type": "stream",
     "text": [
      "/tmp/ipykernel_35386/3096370088.py:18: FutureWarning: DataFrame.fillna with 'method' is deprecated and will raise in a future version. Use obj.ffill() or obj.bfill() instead.\n",
      "  df.fillna(method='bfill', inplace=True)\n",
      "/tmp/ipykernel_35386/3096370088.py:19: FutureWarning: DataFrame.fillna with 'method' is deprecated and will raise in a future version. Use obj.ffill() or obj.bfill() instead.\n",
      "  df.fillna(method='ffill', inplace=True)\n",
      "/home/varun/Desktop/someProj/TradeGPT/.venv/lib/python3.10/site-packages/torch/nn/modules/transformer.py:382: UserWarning: enable_nested_tensor is True, but self.use_nested_tensor is False because encoder_layer.self_attn.batch_first was not True(use batch_first for better inference performance)\n",
      "  warnings.warn(\n"
     ]
    },
    {
     "name": "stdout",
     "output_type": "stream",
     "text": [
      "Epoch [1/5], Train Loss: 0.052980, Val Loss: 0.008541\n",
      "Epoch [2/5], Train Loss: 0.004621, Val Loss: 0.003178\n",
      "Epoch [3/5], Train Loss: 0.003019, Val Loss: 0.001751\n",
      "Epoch [4/5], Train Loss: 0.002223, Val Loss: 0.002403\n",
      "Epoch [5/5], Train Loss: 0.001719, Val Loss: 0.001954\n",
      "✅ Trained on DOV_1h_data.csv\n",
      "📂 Processing: DHR_1h_data.csv\n"
     ]
    },
    {
     "name": "stderr",
     "output_type": "stream",
     "text": [
      "/tmp/ipykernel_35386/3096370088.py:18: FutureWarning: DataFrame.fillna with 'method' is deprecated and will raise in a future version. Use obj.ffill() or obj.bfill() instead.\n",
      "  df.fillna(method='bfill', inplace=True)\n",
      "/tmp/ipykernel_35386/3096370088.py:19: FutureWarning: DataFrame.fillna with 'method' is deprecated and will raise in a future version. Use obj.ffill() or obj.bfill() instead.\n",
      "  df.fillna(method='ffill', inplace=True)\n",
      "/home/varun/Desktop/someProj/TradeGPT/.venv/lib/python3.10/site-packages/torch/nn/modules/transformer.py:382: UserWarning: enable_nested_tensor is True, but self.use_nested_tensor is False because encoder_layer.self_attn.batch_first was not True(use batch_first for better inference performance)\n",
      "  warnings.warn(\n"
     ]
    },
    {
     "name": "stdout",
     "output_type": "stream",
     "text": [
      "Epoch [1/5], Train Loss: 0.074332, Val Loss: 0.004979\n",
      "Epoch [2/5], Train Loss: 0.005597, Val Loss: 0.000596\n",
      "Epoch [3/5], Train Loss: 0.003635, Val Loss: 0.000331\n",
      "Epoch [4/5], Train Loss: 0.002767, Val Loss: 0.000414\n",
      "Epoch [5/5], Train Loss: 0.001984, Val Loss: 0.001434\n",
      "✅ Trained on DHR_1h_data.csv\n",
      "📂 Processing: CHX_1h_data.csv\n"
     ]
    },
    {
     "name": "stderr",
     "output_type": "stream",
     "text": [
      "/tmp/ipykernel_35386/3096370088.py:18: FutureWarning: DataFrame.fillna with 'method' is deprecated and will raise in a future version. Use obj.ffill() or obj.bfill() instead.\n",
      "  df.fillna(method='bfill', inplace=True)\n",
      "/tmp/ipykernel_35386/3096370088.py:19: FutureWarning: DataFrame.fillna with 'method' is deprecated and will raise in a future version. Use obj.ffill() or obj.bfill() instead.\n",
      "  df.fillna(method='ffill', inplace=True)\n",
      "/home/varun/Desktop/someProj/TradeGPT/.venv/lib/python3.10/site-packages/torch/nn/modules/transformer.py:382: UserWarning: enable_nested_tensor is True, but self.use_nested_tensor is False because encoder_layer.self_attn.batch_first was not True(use batch_first for better inference performance)\n",
      "  warnings.warn(\n"
     ]
    },
    {
     "name": "stdout",
     "output_type": "stream",
     "text": [
      "Epoch [1/5], Train Loss: 0.022276, Val Loss: 0.000993\n",
      "Epoch [2/5], Train Loss: 0.002696, Val Loss: 0.001067\n",
      "Epoch [3/5], Train Loss: 0.001827, Val Loss: 0.001585\n",
      "Epoch [4/5], Train Loss: 0.001454, Val Loss: 0.002062\n",
      "Epoch [5/5], Train Loss: 0.001181, Val Loss: 0.000667\n",
      "✅ Trained on CHX_1h_data.csv\n",
      "📂 Processing: FITB_1h_data.csv\n"
     ]
    },
    {
     "name": "stderr",
     "output_type": "stream",
     "text": [
      "/tmp/ipykernel_35386/3096370088.py:18: FutureWarning: DataFrame.fillna with 'method' is deprecated and will raise in a future version. Use obj.ffill() or obj.bfill() instead.\n",
      "  df.fillna(method='bfill', inplace=True)\n",
      "/tmp/ipykernel_35386/3096370088.py:19: FutureWarning: DataFrame.fillna with 'method' is deprecated and will raise in a future version. Use obj.ffill() or obj.bfill() instead.\n",
      "  df.fillna(method='ffill', inplace=True)\n",
      "/home/varun/Desktop/someProj/TradeGPT/.venv/lib/python3.10/site-packages/torch/nn/modules/transformer.py:382: UserWarning: enable_nested_tensor is True, but self.use_nested_tensor is False because encoder_layer.self_attn.batch_first was not True(use batch_first for better inference performance)\n",
      "  warnings.warn(\n"
     ]
    },
    {
     "name": "stdout",
     "output_type": "stream",
     "text": [
      "Epoch [1/5], Train Loss: 0.037781, Val Loss: 0.003887\n",
      "Epoch [2/5], Train Loss: 0.003491, Val Loss: 0.001116\n",
      "Epoch [3/5], Train Loss: 0.002575, Val Loss: 0.003162\n",
      "Epoch [4/5], Train Loss: 0.001904, Val Loss: 0.001973\n",
      "Epoch [5/5], Train Loss: 0.001536, Val Loss: 0.000724\n",
      "✅ Trained on FITB_1h_data.csv\n",
      "📂 Processing: PGR_1h_data.csv\n"
     ]
    },
    {
     "name": "stderr",
     "output_type": "stream",
     "text": [
      "/tmp/ipykernel_35386/3096370088.py:18: FutureWarning: DataFrame.fillna with 'method' is deprecated and will raise in a future version. Use obj.ffill() or obj.bfill() instead.\n",
      "  df.fillna(method='bfill', inplace=True)\n",
      "/tmp/ipykernel_35386/3096370088.py:19: FutureWarning: DataFrame.fillna with 'method' is deprecated and will raise in a future version. Use obj.ffill() or obj.bfill() instead.\n",
      "  df.fillna(method='ffill', inplace=True)\n",
      "/home/varun/Desktop/someProj/TradeGPT/.venv/lib/python3.10/site-packages/torch/nn/modules/transformer.py:382: UserWarning: enable_nested_tensor is True, but self.use_nested_tensor is False because encoder_layer.self_attn.batch_first was not True(use batch_first for better inference performance)\n",
      "  warnings.warn(\n"
     ]
    },
    {
     "name": "stdout",
     "output_type": "stream",
     "text": [
      "Epoch [1/5], Train Loss: 0.026752, Val Loss: 0.006611\n",
      "Epoch [2/5], Train Loss: 0.003507, Val Loss: 0.002903\n",
      "Epoch [3/5], Train Loss: 0.002310, Val Loss: 0.001412\n",
      "Epoch [4/5], Train Loss: 0.001692, Val Loss: 0.000916\n",
      "Epoch [5/5], Train Loss: 0.001324, Val Loss: 0.000919\n",
      "✅ Trained on PGR_1h_data.csv\n",
      "📂 Processing: PH_1h_data.csv\n"
     ]
    },
    {
     "name": "stderr",
     "output_type": "stream",
     "text": [
      "/tmp/ipykernel_35386/3096370088.py:18: FutureWarning: DataFrame.fillna with 'method' is deprecated and will raise in a future version. Use obj.ffill() or obj.bfill() instead.\n",
      "  df.fillna(method='bfill', inplace=True)\n",
      "/tmp/ipykernel_35386/3096370088.py:19: FutureWarning: DataFrame.fillna with 'method' is deprecated and will raise in a future version. Use obj.ffill() or obj.bfill() instead.\n",
      "  df.fillna(method='ffill', inplace=True)\n",
      "/home/varun/Desktop/someProj/TradeGPT/.venv/lib/python3.10/site-packages/torch/nn/modules/transformer.py:382: UserWarning: enable_nested_tensor is True, but self.use_nested_tensor is False because encoder_layer.self_attn.batch_first was not True(use batch_first for better inference performance)\n",
      "  warnings.warn(\n"
     ]
    },
    {
     "name": "stdout",
     "output_type": "stream",
     "text": [
      "Epoch [1/5], Train Loss: 0.033505, Val Loss: 0.006753\n",
      "Epoch [2/5], Train Loss: 0.005605, Val Loss: 0.004930\n",
      "Epoch [3/5], Train Loss: 0.002744, Val Loss: 0.005195\n",
      "Epoch [4/5], Train Loss: 0.002209, Val Loss: 0.004252\n",
      "Epoch [5/5], Train Loss: 0.001771, Val Loss: 0.003080\n",
      "✅ Trained on PH_1h_data.csv\n",
      "📂 Processing: LRCX_1h_data.csv\n"
     ]
    },
    {
     "name": "stderr",
     "output_type": "stream",
     "text": [
      "/tmp/ipykernel_35386/3096370088.py:18: FutureWarning: DataFrame.fillna with 'method' is deprecated and will raise in a future version. Use obj.ffill() or obj.bfill() instead.\n",
      "  df.fillna(method='bfill', inplace=True)\n",
      "/tmp/ipykernel_35386/3096370088.py:19: FutureWarning: DataFrame.fillna with 'method' is deprecated and will raise in a future version. Use obj.ffill() or obj.bfill() instead.\n",
      "  df.fillna(method='ffill', inplace=True)\n",
      "/home/varun/Desktop/someProj/TradeGPT/.venv/lib/python3.10/site-packages/torch/nn/modules/transformer.py:382: UserWarning: enable_nested_tensor is True, but self.use_nested_tensor is False because encoder_layer.self_attn.batch_first was not True(use batch_first for better inference performance)\n",
      "  warnings.warn(\n"
     ]
    },
    {
     "name": "stdout",
     "output_type": "stream",
     "text": [
      "Epoch [1/5], Train Loss: 0.038879, Val Loss: 0.001130\n",
      "Epoch [2/5], Train Loss: 0.004075, Val Loss: 0.000612\n",
      "Epoch [3/5], Train Loss: 0.002937, Val Loss: 0.000669\n",
      "Epoch [4/5], Train Loss: 0.001934, Val Loss: 0.001527\n",
      "Epoch [5/5], Train Loss: 0.001619, Val Loss: 0.000671\n",
      "✅ Trained on LRCX_1h_data.csv\n",
      "📂 Processing: CFG_1h_data.csv\n"
     ]
    },
    {
     "name": "stderr",
     "output_type": "stream",
     "text": [
      "/tmp/ipykernel_35386/3096370088.py:18: FutureWarning: DataFrame.fillna with 'method' is deprecated and will raise in a future version. Use obj.ffill() or obj.bfill() instead.\n",
      "  df.fillna(method='bfill', inplace=True)\n",
      "/tmp/ipykernel_35386/3096370088.py:19: FutureWarning: DataFrame.fillna with 'method' is deprecated and will raise in a future version. Use obj.ffill() or obj.bfill() instead.\n",
      "  df.fillna(method='ffill', inplace=True)\n",
      "/home/varun/Desktop/someProj/TradeGPT/.venv/lib/python3.10/site-packages/torch/nn/modules/transformer.py:382: UserWarning: enable_nested_tensor is True, but self.use_nested_tensor is False because encoder_layer.self_attn.batch_first was not True(use batch_first for better inference performance)\n",
      "  warnings.warn(\n"
     ]
    },
    {
     "name": "stdout",
     "output_type": "stream",
     "text": [
      "Epoch [1/5], Train Loss: 0.045880, Val Loss: 0.006648\n",
      "Epoch [2/5], Train Loss: 0.005296, Val Loss: 0.002827\n",
      "Epoch [3/5], Train Loss: 0.003191, Val Loss: 0.003886\n",
      "Epoch [4/5], Train Loss: 0.002157, Val Loss: 0.000893\n",
      "Epoch [5/5], Train Loss: 0.001825, Val Loss: 0.000748\n",
      "✅ Trained on CFG_1h_data.csv\n",
      "📂 Processing: LNC_1h_data.csv\n"
     ]
    },
    {
     "name": "stderr",
     "output_type": "stream",
     "text": [
      "/tmp/ipykernel_35386/3096370088.py:18: FutureWarning: DataFrame.fillna with 'method' is deprecated and will raise in a future version. Use obj.ffill() or obj.bfill() instead.\n",
      "  df.fillna(method='bfill', inplace=True)\n",
      "/tmp/ipykernel_35386/3096370088.py:19: FutureWarning: DataFrame.fillna with 'method' is deprecated and will raise in a future version. Use obj.ffill() or obj.bfill() instead.\n",
      "  df.fillna(method='ffill', inplace=True)\n",
      "/home/varun/Desktop/someProj/TradeGPT/.venv/lib/python3.10/site-packages/torch/nn/modules/transformer.py:382: UserWarning: enable_nested_tensor is True, but self.use_nested_tensor is False because encoder_layer.self_attn.batch_first was not True(use batch_first for better inference performance)\n",
      "  warnings.warn(\n"
     ]
    },
    {
     "name": "stdout",
     "output_type": "stream",
     "text": [
      "Epoch [1/5], Train Loss: 0.040020, Val Loss: 0.009967\n",
      "Epoch [2/5], Train Loss: 0.004797, Val Loss: 0.003274\n",
      "Epoch [3/5], Train Loss: 0.002871, Val Loss: 0.007471\n",
      "Epoch [4/5], Train Loss: 0.002328, Val Loss: 0.001692\n",
      "Epoch [5/5], Train Loss: 0.001517, Val Loss: 0.001608\n",
      "✅ Trained on LNC_1h_data.csv\n",
      "📂 Processing: SYK_1h_data.csv\n"
     ]
    },
    {
     "name": "stderr",
     "output_type": "stream",
     "text": [
      "/tmp/ipykernel_35386/3096370088.py:18: FutureWarning: DataFrame.fillna with 'method' is deprecated and will raise in a future version. Use obj.ffill() or obj.bfill() instead.\n",
      "  df.fillna(method='bfill', inplace=True)\n",
      "/tmp/ipykernel_35386/3096370088.py:19: FutureWarning: DataFrame.fillna with 'method' is deprecated and will raise in a future version. Use obj.ffill() or obj.bfill() instead.\n",
      "  df.fillna(method='ffill', inplace=True)\n",
      "/home/varun/Desktop/someProj/TradeGPT/.venv/lib/python3.10/site-packages/torch/nn/modules/transformer.py:382: UserWarning: enable_nested_tensor is True, but self.use_nested_tensor is False because encoder_layer.self_attn.batch_first was not True(use batch_first for better inference performance)\n",
      "  warnings.warn(\n"
     ]
    },
    {
     "name": "stdout",
     "output_type": "stream",
     "text": [
      "Epoch [1/5], Train Loss: 0.018129, Val Loss: 0.001736\n",
      "Epoch [2/5], Train Loss: 0.003439, Val Loss: 0.000943\n",
      "Epoch [3/5], Train Loss: 0.002209, Val Loss: 0.000940\n",
      "Epoch [4/5], Train Loss: 0.001645, Val Loss: 0.000690\n",
      "Epoch [5/5], Train Loss: 0.001217, Val Loss: 0.002761\n",
      "✅ Trained on SYK_1h_data.csv\n",
      "📂 Processing: ALGN_1h_data.csv\n"
     ]
    },
    {
     "name": "stderr",
     "output_type": "stream",
     "text": [
      "/tmp/ipykernel_35386/3096370088.py:18: FutureWarning: DataFrame.fillna with 'method' is deprecated and will raise in a future version. Use obj.ffill() or obj.bfill() instead.\n",
      "  df.fillna(method='bfill', inplace=True)\n",
      "/tmp/ipykernel_35386/3096370088.py:19: FutureWarning: DataFrame.fillna with 'method' is deprecated and will raise in a future version. Use obj.ffill() or obj.bfill() instead.\n",
      "  df.fillna(method='ffill', inplace=True)\n",
      "/home/varun/Desktop/someProj/TradeGPT/.venv/lib/python3.10/site-packages/torch/nn/modules/transformer.py:382: UserWarning: enable_nested_tensor is True, but self.use_nested_tensor is False because encoder_layer.self_attn.batch_first was not True(use batch_first for better inference performance)\n",
      "  warnings.warn(\n"
     ]
    },
    {
     "name": "stdout",
     "output_type": "stream",
     "text": [
      "Epoch [1/5], Train Loss: 0.042503, Val Loss: 0.021504\n",
      "Epoch [2/5], Train Loss: 0.004805, Val Loss: 0.000633\n",
      "Epoch [3/5], Train Loss: 0.003004, Val Loss: 0.000373\n",
      "Epoch [4/5], Train Loss: 0.002007, Val Loss: 0.000250\n",
      "Epoch [5/5], Train Loss: 0.001596, Val Loss: 0.000271\n",
      "✅ Trained on ALGN_1h_data.csv\n",
      "📂 Processing: ES_1h_data.csv\n"
     ]
    },
    {
     "name": "stderr",
     "output_type": "stream",
     "text": [
      "/tmp/ipykernel_35386/3096370088.py:18: FutureWarning: DataFrame.fillna with 'method' is deprecated and will raise in a future version. Use obj.ffill() or obj.bfill() instead.\n",
      "  df.fillna(method='bfill', inplace=True)\n",
      "/tmp/ipykernel_35386/3096370088.py:19: FutureWarning: DataFrame.fillna with 'method' is deprecated and will raise in a future version. Use obj.ffill() or obj.bfill() instead.\n",
      "  df.fillna(method='ffill', inplace=True)\n",
      "/home/varun/Desktop/someProj/TradeGPT/.venv/lib/python3.10/site-packages/torch/nn/modules/transformer.py:382: UserWarning: enable_nested_tensor is True, but self.use_nested_tensor is False because encoder_layer.self_attn.batch_first was not True(use batch_first for better inference performance)\n",
      "  warnings.warn(\n"
     ]
    },
    {
     "name": "stdout",
     "output_type": "stream",
     "text": [
      "Epoch [1/5], Train Loss: 0.031797, Val Loss: 0.002716\n",
      "Epoch [2/5], Train Loss: 0.003763, Val Loss: 0.001265\n",
      "Epoch [3/5], Train Loss: 0.002397, Val Loss: 0.001322\n",
      "Epoch [4/5], Train Loss: 0.001895, Val Loss: 0.001215\n",
      "Epoch [5/5], Train Loss: 0.001516, Val Loss: 0.001263\n",
      "✅ Trained on ES_1h_data.csv\n",
      "📂 Processing: ASML_1h_data.csv\n"
     ]
    },
    {
     "name": "stderr",
     "output_type": "stream",
     "text": [
      "/tmp/ipykernel_35386/3096370088.py:18: FutureWarning: DataFrame.fillna with 'method' is deprecated and will raise in a future version. Use obj.ffill() or obj.bfill() instead.\n",
      "  df.fillna(method='bfill', inplace=True)\n",
      "/tmp/ipykernel_35386/3096370088.py:19: FutureWarning: DataFrame.fillna with 'method' is deprecated and will raise in a future version. Use obj.ffill() or obj.bfill() instead.\n",
      "  df.fillna(method='ffill', inplace=True)\n",
      "/home/varun/Desktop/someProj/TradeGPT/.venv/lib/python3.10/site-packages/torch/nn/modules/transformer.py:382: UserWarning: enable_nested_tensor is True, but self.use_nested_tensor is False because encoder_layer.self_attn.batch_first was not True(use batch_first for better inference performance)\n",
      "  warnings.warn(\n"
     ]
    },
    {
     "name": "stdout",
     "output_type": "stream",
     "text": [
      "Epoch [1/5], Train Loss: 0.039525, Val Loss: 0.000385\n",
      "Epoch [2/5], Train Loss: 0.004088, Val Loss: 0.000389\n",
      "Epoch [3/5], Train Loss: 0.003031, Val Loss: 0.000443\n",
      "Epoch [4/5], Train Loss: 0.002048, Val Loss: 0.000286\n",
      "Epoch [5/5], Train Loss: 0.001733, Val Loss: 0.000351\n",
      "✅ Trained on ASML_1h_data.csv\n",
      "📂 Processing: IR_1h_data.csv\n"
     ]
    },
    {
     "name": "stderr",
     "output_type": "stream",
     "text": [
      "/tmp/ipykernel_35386/3096370088.py:18: FutureWarning: DataFrame.fillna with 'method' is deprecated and will raise in a future version. Use obj.ffill() or obj.bfill() instead.\n",
      "  df.fillna(method='bfill', inplace=True)\n",
      "/tmp/ipykernel_35386/3096370088.py:19: FutureWarning: DataFrame.fillna with 'method' is deprecated and will raise in a future version. Use obj.ffill() or obj.bfill() instead.\n",
      "  df.fillna(method='ffill', inplace=True)\n",
      "/home/varun/Desktop/someProj/TradeGPT/.venv/lib/python3.10/site-packages/torch/nn/modules/transformer.py:382: UserWarning: enable_nested_tensor is True, but self.use_nested_tensor is False because encoder_layer.self_attn.batch_first was not True(use batch_first for better inference performance)\n",
      "  warnings.warn(\n"
     ]
    },
    {
     "name": "stdout",
     "output_type": "stream",
     "text": [
      "Epoch [1/5], Train Loss: 0.068056, Val Loss: 0.002152\n",
      "Epoch [2/5], Train Loss: 0.005039, Val Loss: 0.000928\n",
      "Epoch [3/5], Train Loss: 0.003211, Val Loss: 0.000610\n",
      "Epoch [4/5], Train Loss: 0.002335, Val Loss: 0.001012\n",
      "Epoch [5/5], Train Loss: 0.002179, Val Loss: 0.001801\n",
      "✅ Trained on IR_1h_data.csv\n",
      "📂 Processing: AFL_1h_data.csv\n"
     ]
    },
    {
     "name": "stderr",
     "output_type": "stream",
     "text": [
      "/tmp/ipykernel_35386/3096370088.py:18: FutureWarning: DataFrame.fillna with 'method' is deprecated and will raise in a future version. Use obj.ffill() or obj.bfill() instead.\n",
      "  df.fillna(method='bfill', inplace=True)\n",
      "/tmp/ipykernel_35386/3096370088.py:19: FutureWarning: DataFrame.fillna with 'method' is deprecated and will raise in a future version. Use obj.ffill() or obj.bfill() instead.\n",
      "  df.fillna(method='ffill', inplace=True)\n",
      "/home/varun/Desktop/someProj/TradeGPT/.venv/lib/python3.10/site-packages/torch/nn/modules/transformer.py:382: UserWarning: enable_nested_tensor is True, but self.use_nested_tensor is False because encoder_layer.self_attn.batch_first was not True(use batch_first for better inference performance)\n",
      "  warnings.warn(\n"
     ]
    },
    {
     "name": "stdout",
     "output_type": "stream",
     "text": [
      "Epoch [1/5], Train Loss: 0.028611, Val Loss: 0.004639\n",
      "Epoch [2/5], Train Loss: 0.003681, Val Loss: 0.000879\n",
      "Epoch [3/5], Train Loss: 0.002383, Val Loss: 0.001350\n",
      "Epoch [4/5], Train Loss: 0.001771, Val Loss: 0.000771\n",
      "Epoch [5/5], Train Loss: 0.001519, Val Loss: 0.001675\n",
      "✅ Trained on AFL_1h_data.csv\n",
      "📂 Processing: LYFT_1h_data.csv\n"
     ]
    },
    {
     "name": "stderr",
     "output_type": "stream",
     "text": [
      "/tmp/ipykernel_35386/3096370088.py:18: FutureWarning: DataFrame.fillna with 'method' is deprecated and will raise in a future version. Use obj.ffill() or obj.bfill() instead.\n",
      "  df.fillna(method='bfill', inplace=True)\n",
      "/tmp/ipykernel_35386/3096370088.py:19: FutureWarning: DataFrame.fillna with 'method' is deprecated and will raise in a future version. Use obj.ffill() or obj.bfill() instead.\n",
      "  df.fillna(method='ffill', inplace=True)\n",
      "/home/varun/Desktop/someProj/TradeGPT/.venv/lib/python3.10/site-packages/torch/nn/modules/transformer.py:382: UserWarning: enable_nested_tensor is True, but self.use_nested_tensor is False because encoder_layer.self_attn.batch_first was not True(use batch_first for better inference performance)\n",
      "  warnings.warn(\n"
     ]
    },
    {
     "name": "stdout",
     "output_type": "stream",
     "text": [
      "Epoch [1/5], Train Loss: 0.029493, Val Loss: 0.000554\n",
      "Epoch [2/5], Train Loss: 0.004025, Val Loss: 0.000405\n",
      "Epoch [3/5], Train Loss: 0.003070, Val Loss: 0.000377\n",
      "Epoch [4/5], Train Loss: 0.002057, Val Loss: 0.000425\n",
      "Epoch [5/5], Train Loss: 0.001640, Val Loss: 0.000425\n",
      "✅ Trained on LYFT_1h_data.csv\n",
      "📂 Processing: BA_1h_data.csv\n"
     ]
    },
    {
     "name": "stderr",
     "output_type": "stream",
     "text": [
      "/tmp/ipykernel_35386/3096370088.py:18: FutureWarning: DataFrame.fillna with 'method' is deprecated and will raise in a future version. Use obj.ffill() or obj.bfill() instead.\n",
      "  df.fillna(method='bfill', inplace=True)\n",
      "/tmp/ipykernel_35386/3096370088.py:19: FutureWarning: DataFrame.fillna with 'method' is deprecated and will raise in a future version. Use obj.ffill() or obj.bfill() instead.\n",
      "  df.fillna(method='ffill', inplace=True)\n",
      "/home/varun/Desktop/someProj/TradeGPT/.venv/lib/python3.10/site-packages/torch/nn/modules/transformer.py:382: UserWarning: enable_nested_tensor is True, but self.use_nested_tensor is False because encoder_layer.self_attn.batch_first was not True(use batch_first for better inference performance)\n",
      "  warnings.warn(\n"
     ]
    },
    {
     "name": "stdout",
     "output_type": "stream",
     "text": [
      "Epoch [1/5], Train Loss: 0.056323, Val Loss: 0.001464\n",
      "Epoch [2/5], Train Loss: 0.005181, Val Loss: 0.000500\n",
      "Epoch [3/5], Train Loss: 0.003359, Val Loss: 0.001146\n",
      "Epoch [4/5], Train Loss: 0.002380, Val Loss: 0.000971\n",
      "Epoch [5/5], Train Loss: 0.002149, Val Loss: 0.000699\n",
      "✅ Trained on BA_1h_data.csv\n",
      "📂 Processing: XYL_1h_data.csv\n"
     ]
    },
    {
     "name": "stderr",
     "output_type": "stream",
     "text": [
      "/tmp/ipykernel_35386/3096370088.py:18: FutureWarning: DataFrame.fillna with 'method' is deprecated and will raise in a future version. Use obj.ffill() or obj.bfill() instead.\n",
      "  df.fillna(method='bfill', inplace=True)\n",
      "/tmp/ipykernel_35386/3096370088.py:19: FutureWarning: DataFrame.fillna with 'method' is deprecated and will raise in a future version. Use obj.ffill() or obj.bfill() instead.\n",
      "  df.fillna(method='ffill', inplace=True)\n",
      "/home/varun/Desktop/someProj/TradeGPT/.venv/lib/python3.10/site-packages/torch/nn/modules/transformer.py:382: UserWarning: enable_nested_tensor is True, but self.use_nested_tensor is False because encoder_layer.self_attn.batch_first was not True(use batch_first for better inference performance)\n",
      "  warnings.warn(\n"
     ]
    },
    {
     "name": "stdout",
     "output_type": "stream",
     "text": [
      "Epoch [1/5], Train Loss: 0.072160, Val Loss: 0.002254\n",
      "Epoch [2/5], Train Loss: 0.005100, Val Loss: 0.000698\n",
      "Epoch [3/5], Train Loss: 0.003286, Val Loss: 0.000784\n",
      "Epoch [4/5], Train Loss: 0.002472, Val Loss: 0.001001\n",
      "Epoch [5/5], Train Loss: 0.002142, Val Loss: 0.000986\n",
      "✅ Trained on XYL_1h_data.csv\n",
      "📂 Processing: EW_1h_data.csv\n"
     ]
    },
    {
     "name": "stderr",
     "output_type": "stream",
     "text": [
      "/tmp/ipykernel_35386/3096370088.py:18: FutureWarning: DataFrame.fillna with 'method' is deprecated and will raise in a future version. Use obj.ffill() or obj.bfill() instead.\n",
      "  df.fillna(method='bfill', inplace=True)\n",
      "/tmp/ipykernel_35386/3096370088.py:19: FutureWarning: DataFrame.fillna with 'method' is deprecated and will raise in a future version. Use obj.ffill() or obj.bfill() instead.\n",
      "  df.fillna(method='ffill', inplace=True)\n",
      "/home/varun/Desktop/someProj/TradeGPT/.venv/lib/python3.10/site-packages/torch/nn/modules/transformer.py:382: UserWarning: enable_nested_tensor is True, but self.use_nested_tensor is False because encoder_layer.self_attn.batch_first was not True(use batch_first for better inference performance)\n",
      "  warnings.warn(\n"
     ]
    },
    {
     "name": "stdout",
     "output_type": "stream",
     "text": [
      "Epoch [1/5], Train Loss: 0.033287, Val Loss: 0.000675\n",
      "Epoch [2/5], Train Loss: 0.004064, Val Loss: 0.000357\n",
      "Epoch [3/5], Train Loss: 0.002546, Val Loss: 0.000786\n",
      "Epoch [4/5], Train Loss: 0.001940, Val Loss: 0.000333\n",
      "Epoch [5/5], Train Loss: 0.001680, Val Loss: 0.000835\n",
      "✅ Trained on EW_1h_data.csv\n",
      "📂 Processing: C_1h_data.csv\n"
     ]
    },
    {
     "name": "stderr",
     "output_type": "stream",
     "text": [
      "/tmp/ipykernel_35386/3096370088.py:18: FutureWarning: DataFrame.fillna with 'method' is deprecated and will raise in a future version. Use obj.ffill() or obj.bfill() instead.\n",
      "  df.fillna(method='bfill', inplace=True)\n",
      "/tmp/ipykernel_35386/3096370088.py:19: FutureWarning: DataFrame.fillna with 'method' is deprecated and will raise in a future version. Use obj.ffill() or obj.bfill() instead.\n",
      "  df.fillna(method='ffill', inplace=True)\n",
      "/home/varun/Desktop/someProj/TradeGPT/.venv/lib/python3.10/site-packages/torch/nn/modules/transformer.py:382: UserWarning: enable_nested_tensor is True, but self.use_nested_tensor is False because encoder_layer.self_attn.batch_first was not True(use batch_first for better inference performance)\n",
      "  warnings.warn(\n"
     ]
    },
    {
     "name": "stdout",
     "output_type": "stream",
     "text": [
      "Epoch [1/5], Train Loss: 0.031960, Val Loss: 0.005593\n",
      "Epoch [2/5], Train Loss: 0.004026, Val Loss: 0.003008\n",
      "Epoch [3/5], Train Loss: 0.002465, Val Loss: 0.002441\n",
      "Epoch [4/5], Train Loss: 0.001894, Val Loss: 0.001601\n",
      "Epoch [5/5], Train Loss: 0.001314, Val Loss: 0.001757\n",
      "✅ Trained on C_1h_data.csv\n",
      "📂 Processing: QCOM_1h_data.csv\n"
     ]
    },
    {
     "name": "stderr",
     "output_type": "stream",
     "text": [
      "/tmp/ipykernel_35386/3096370088.py:18: FutureWarning: DataFrame.fillna with 'method' is deprecated and will raise in a future version. Use obj.ffill() or obj.bfill() instead.\n",
      "  df.fillna(method='bfill', inplace=True)\n",
      "/tmp/ipykernel_35386/3096370088.py:19: FutureWarning: DataFrame.fillna with 'method' is deprecated and will raise in a future version. Use obj.ffill() or obj.bfill() instead.\n",
      "  df.fillna(method='ffill', inplace=True)\n",
      "/home/varun/Desktop/someProj/TradeGPT/.venv/lib/python3.10/site-packages/torch/nn/modules/transformer.py:382: UserWarning: enable_nested_tensor is True, but self.use_nested_tensor is False because encoder_layer.self_attn.batch_first was not True(use batch_first for better inference performance)\n",
      "  warnings.warn(\n"
     ]
    },
    {
     "name": "stdout",
     "output_type": "stream",
     "text": [
      "Epoch [1/5], Train Loss: 0.036376, Val Loss: 0.000679\n",
      "Epoch [2/5], Train Loss: 0.004421, Val Loss: 0.000305\n",
      "Epoch [3/5], Train Loss: 0.002646, Val Loss: 0.000267\n",
      "Epoch [4/5], Train Loss: 0.001821, Val Loss: 0.000269\n",
      "Epoch [5/5], Train Loss: 0.001397, Val Loss: 0.000365\n",
      "✅ Trained on QCOM_1h_data.csv\n",
      "📂 Processing: INTC_1h_data.csv\n"
     ]
    },
    {
     "name": "stderr",
     "output_type": "stream",
     "text": [
      "/tmp/ipykernel_35386/3096370088.py:18: FutureWarning: DataFrame.fillna with 'method' is deprecated and will raise in a future version. Use obj.ffill() or obj.bfill() instead.\n",
      "  df.fillna(method='bfill', inplace=True)\n",
      "/tmp/ipykernel_35386/3096370088.py:19: FutureWarning: DataFrame.fillna with 'method' is deprecated and will raise in a future version. Use obj.ffill() or obj.bfill() instead.\n",
      "  df.fillna(method='ffill', inplace=True)\n",
      "/home/varun/Desktop/someProj/TradeGPT/.venv/lib/python3.10/site-packages/torch/nn/modules/transformer.py:382: UserWarning: enable_nested_tensor is True, but self.use_nested_tensor is False because encoder_layer.self_attn.batch_first was not True(use batch_first for better inference performance)\n",
      "  warnings.warn(\n"
     ]
    },
    {
     "name": "stdout",
     "output_type": "stream",
     "text": [
      "Epoch [1/5], Train Loss: 0.065542, Val Loss: 0.000401\n",
      "Epoch [2/5], Train Loss: 0.004693, Val Loss: 0.000369\n",
      "Epoch [3/5], Train Loss: 0.002915, Val Loss: 0.000286\n",
      "Epoch [4/5], Train Loss: 0.002151, Val Loss: 0.000397\n",
      "Epoch [5/5], Train Loss: 0.001842, Val Loss: 0.000335\n",
      "✅ Trained on INTC_1h_data.csv\n",
      "📂 Processing: CSCO_1h_data.csv\n"
     ]
    },
    {
     "name": "stderr",
     "output_type": "stream",
     "text": [
      "/tmp/ipykernel_35386/3096370088.py:18: FutureWarning: DataFrame.fillna with 'method' is deprecated and will raise in a future version. Use obj.ffill() or obj.bfill() instead.\n",
      "  df.fillna(method='bfill', inplace=True)\n",
      "/tmp/ipykernel_35386/3096370088.py:19: FutureWarning: DataFrame.fillna with 'method' is deprecated and will raise in a future version. Use obj.ffill() or obj.bfill() instead.\n",
      "  df.fillna(method='ffill', inplace=True)\n",
      "/home/varun/Desktop/someProj/TradeGPT/.venv/lib/python3.10/site-packages/torch/nn/modules/transformer.py:382: UserWarning: enable_nested_tensor is True, but self.use_nested_tensor is False because encoder_layer.self_attn.batch_first was not True(use batch_first for better inference performance)\n",
      "  warnings.warn(\n"
     ]
    },
    {
     "name": "stdout",
     "output_type": "stream",
     "text": [
      "Epoch [1/5], Train Loss: 0.020268, Val Loss: 0.003668\n",
      "Epoch [2/5], Train Loss: 0.002494, Val Loss: 0.005343\n",
      "Epoch [3/5], Train Loss: 0.001578, Val Loss: 0.001267\n",
      "Epoch [4/5], Train Loss: 0.001140, Val Loss: 0.000990\n",
      "Epoch [5/5], Train Loss: 0.000819, Val Loss: 0.000830\n",
      "✅ Trained on CSCO_1h_data.csv\n",
      "📂 Processing: SPY_1h_data.csv\n"
     ]
    },
    {
     "name": "stderr",
     "output_type": "stream",
     "text": [
      "/tmp/ipykernel_35386/3096370088.py:18: FutureWarning: DataFrame.fillna with 'method' is deprecated and will raise in a future version. Use obj.ffill() or obj.bfill() instead.\n",
      "  df.fillna(method='bfill', inplace=True)\n",
      "/tmp/ipykernel_35386/3096370088.py:19: FutureWarning: DataFrame.fillna with 'method' is deprecated and will raise in a future version. Use obj.ffill() or obj.bfill() instead.\n",
      "  df.fillna(method='ffill', inplace=True)\n",
      "/home/varun/Desktop/someProj/TradeGPT/.venv/lib/python3.10/site-packages/torch/nn/modules/transformer.py:382: UserWarning: enable_nested_tensor is True, but self.use_nested_tensor is False because encoder_layer.self_attn.batch_first was not True(use batch_first for better inference performance)\n",
      "  warnings.warn(\n"
     ]
    },
    {
     "name": "stdout",
     "output_type": "stream",
     "text": [
      "Epoch [1/5], Train Loss: 0.069335, Val Loss: 0.012605\n",
      "Epoch [2/5], Train Loss: 0.004874, Val Loss: 0.006994\n",
      "Epoch [3/5], Train Loss: 0.002898, Val Loss: 0.003639\n",
      "Epoch [4/5], Train Loss: 0.002168, Val Loss: 0.004251\n",
      "Epoch [5/5], Train Loss: 0.001725, Val Loss: 0.004112\n",
      "✅ Trained on SPY_1h_data.csv\n",
      "📂 Processing: DLTR_1h_data.csv\n"
     ]
    },
    {
     "name": "stderr",
     "output_type": "stream",
     "text": [
      "/tmp/ipykernel_35386/3096370088.py:18: FutureWarning: DataFrame.fillna with 'method' is deprecated and will raise in a future version. Use obj.ffill() or obj.bfill() instead.\n",
      "  df.fillna(method='bfill', inplace=True)\n",
      "/tmp/ipykernel_35386/3096370088.py:19: FutureWarning: DataFrame.fillna with 'method' is deprecated and will raise in a future version. Use obj.ffill() or obj.bfill() instead.\n",
      "  df.fillna(method='ffill', inplace=True)\n",
      "/home/varun/Desktop/someProj/TradeGPT/.venv/lib/python3.10/site-packages/torch/nn/modules/transformer.py:382: UserWarning: enable_nested_tensor is True, but self.use_nested_tensor is False because encoder_layer.self_attn.batch_first was not True(use batch_first for better inference performance)\n",
      "  warnings.warn(\n"
     ]
    },
    {
     "name": "stdout",
     "output_type": "stream",
     "text": [
      "Epoch [1/5], Train Loss: 0.029427, Val Loss: 0.000449\n",
      "Epoch [2/5], Train Loss: 0.003934, Val Loss: 0.000393\n",
      "Epoch [3/5], Train Loss: 0.002893, Val Loss: 0.000962\n",
      "Epoch [4/5], Train Loss: 0.001916, Val Loss: 0.000221\n",
      "Epoch [5/5], Train Loss: 0.001471, Val Loss: 0.000547\n",
      "✅ Trained on DLTR_1h_data.csv\n",
      "📂 Processing: PNW_1h_data.csv\n"
     ]
    },
    {
     "name": "stderr",
     "output_type": "stream",
     "text": [
      "/tmp/ipykernel_35386/3096370088.py:18: FutureWarning: DataFrame.fillna with 'method' is deprecated and will raise in a future version. Use obj.ffill() or obj.bfill() instead.\n",
      "  df.fillna(method='bfill', inplace=True)\n",
      "/tmp/ipykernel_35386/3096370088.py:19: FutureWarning: DataFrame.fillna with 'method' is deprecated and will raise in a future version. Use obj.ffill() or obj.bfill() instead.\n",
      "  df.fillna(method='ffill', inplace=True)\n",
      "/home/varun/Desktop/someProj/TradeGPT/.venv/lib/python3.10/site-packages/torch/nn/modules/transformer.py:382: UserWarning: enable_nested_tensor is True, but self.use_nested_tensor is False because encoder_layer.self_attn.batch_first was not True(use batch_first for better inference performance)\n",
      "  warnings.warn(\n"
     ]
    },
    {
     "name": "stdout",
     "output_type": "stream",
     "text": [
      "Epoch [1/5], Train Loss: 0.027163, Val Loss: 0.001901\n",
      "Epoch [2/5], Train Loss: 0.002877, Val Loss: 0.000743\n",
      "Epoch [3/5], Train Loss: 0.001807, Val Loss: 0.001141\n",
      "Epoch [4/5], Train Loss: 0.001267, Val Loss: 0.000615\n",
      "Epoch [5/5], Train Loss: 0.001091, Val Loss: 0.000466\n",
      "✅ Trained on PNW_1h_data.csv\n",
      "📂 Processing: MDB_1h_data.csv\n"
     ]
    },
    {
     "name": "stderr",
     "output_type": "stream",
     "text": [
      "/tmp/ipykernel_35386/3096370088.py:18: FutureWarning: DataFrame.fillna with 'method' is deprecated and will raise in a future version. Use obj.ffill() or obj.bfill() instead.\n",
      "  df.fillna(method='bfill', inplace=True)\n",
      "/tmp/ipykernel_35386/3096370088.py:19: FutureWarning: DataFrame.fillna with 'method' is deprecated and will raise in a future version. Use obj.ffill() or obj.bfill() instead.\n",
      "  df.fillna(method='ffill', inplace=True)\n",
      "/home/varun/Desktop/someProj/TradeGPT/.venv/lib/python3.10/site-packages/torch/nn/modules/transformer.py:382: UserWarning: enable_nested_tensor is True, but self.use_nested_tensor is False because encoder_layer.self_attn.batch_first was not True(use batch_first for better inference performance)\n",
      "  warnings.warn(\n"
     ]
    },
    {
     "name": "stdout",
     "output_type": "stream",
     "text": [
      "Epoch [1/5], Train Loss: 0.030915, Val Loss: 0.010919\n",
      "Epoch [2/5], Train Loss: 0.003115, Val Loss: 0.000819\n",
      "Epoch [3/5], Train Loss: 0.002027, Val Loss: 0.000976\n",
      "Epoch [4/5], Train Loss: 0.001615, Val Loss: 0.000412\n",
      "Epoch [5/5], Train Loss: 0.001268, Val Loss: 0.000764\n",
      "✅ Trained on MDB_1h_data.csv\n",
      "📂 Processing: NXPI_1h_data.csv\n"
     ]
    },
    {
     "name": "stderr",
     "output_type": "stream",
     "text": [
      "/tmp/ipykernel_35386/3096370088.py:18: FutureWarning: DataFrame.fillna with 'method' is deprecated and will raise in a future version. Use obj.ffill() or obj.bfill() instead.\n",
      "  df.fillna(method='bfill', inplace=True)\n",
      "/tmp/ipykernel_35386/3096370088.py:19: FutureWarning: DataFrame.fillna with 'method' is deprecated and will raise in a future version. Use obj.ffill() or obj.bfill() instead.\n",
      "  df.fillna(method='ffill', inplace=True)\n",
      "/home/varun/Desktop/someProj/TradeGPT/.venv/lib/python3.10/site-packages/torch/nn/modules/transformer.py:382: UserWarning: enable_nested_tensor is True, but self.use_nested_tensor is False because encoder_layer.self_attn.batch_first was not True(use batch_first for better inference performance)\n",
      "  warnings.warn(\n"
     ]
    },
    {
     "name": "stdout",
     "output_type": "stream",
     "text": [
      "Epoch [1/5], Train Loss: 0.025114, Val Loss: 0.002782\n",
      "Epoch [2/5], Train Loss: 0.003518, Val Loss: 0.000564\n",
      "Epoch [3/5], Train Loss: 0.002153, Val Loss: 0.000784\n",
      "Epoch [4/5], Train Loss: 0.001515, Val Loss: 0.000840\n",
      "Epoch [5/5], Train Loss: 0.001213, Val Loss: 0.000487\n",
      "✅ Trained on NXPI_1h_data.csv\n",
      "📂 Processing: JPM_1h_data.csv\n"
     ]
    },
    {
     "name": "stderr",
     "output_type": "stream",
     "text": [
      "/tmp/ipykernel_35386/3096370088.py:18: FutureWarning: DataFrame.fillna with 'method' is deprecated and will raise in a future version. Use obj.ffill() or obj.bfill() instead.\n",
      "  df.fillna(method='bfill', inplace=True)\n",
      "/tmp/ipykernel_35386/3096370088.py:19: FutureWarning: DataFrame.fillna with 'method' is deprecated and will raise in a future version. Use obj.ffill() or obj.bfill() instead.\n",
      "  df.fillna(method='ffill', inplace=True)\n",
      "/home/varun/Desktop/someProj/TradeGPT/.venv/lib/python3.10/site-packages/torch/nn/modules/transformer.py:382: UserWarning: enable_nested_tensor is True, but self.use_nested_tensor is False because encoder_layer.self_attn.batch_first was not True(use batch_first for better inference performance)\n",
      "  warnings.warn(\n"
     ]
    },
    {
     "name": "stdout",
     "output_type": "stream",
     "text": [
      "Epoch [1/5], Train Loss: 0.095143, Val Loss: 0.005026\n",
      "Epoch [2/5], Train Loss: 0.004720, Val Loss: 0.002711\n",
      "Epoch [3/5], Train Loss: 0.003306, Val Loss: 0.001431\n",
      "Epoch [4/5], Train Loss: 0.002429, Val Loss: 0.002067\n",
      "Epoch [5/5], Train Loss: 0.001965, Val Loss: 0.001980\n",
      "✅ Trained on JPM_1h_data.csv\n",
      "📂 Processing: WMB_1h_data.csv\n"
     ]
    },
    {
     "name": "stderr",
     "output_type": "stream",
     "text": [
      "/tmp/ipykernel_35386/3096370088.py:18: FutureWarning: DataFrame.fillna with 'method' is deprecated and will raise in a future version. Use obj.ffill() or obj.bfill() instead.\n",
      "  df.fillna(method='bfill', inplace=True)\n",
      "/tmp/ipykernel_35386/3096370088.py:19: FutureWarning: DataFrame.fillna with 'method' is deprecated and will raise in a future version. Use obj.ffill() or obj.bfill() instead.\n",
      "  df.fillna(method='ffill', inplace=True)\n",
      "/home/varun/Desktop/someProj/TradeGPT/.venv/lib/python3.10/site-packages/torch/nn/modules/transformer.py:382: UserWarning: enable_nested_tensor is True, but self.use_nested_tensor is False because encoder_layer.self_attn.batch_first was not True(use batch_first for better inference performance)\n",
      "  warnings.warn(\n"
     ]
    },
    {
     "name": "stdout",
     "output_type": "stream",
     "text": [
      "Epoch [1/5], Train Loss: 0.030678, Val Loss: 0.003086\n",
      "Epoch [2/5], Train Loss: 0.003643, Val Loss: 0.001347\n",
      "Epoch [3/5], Train Loss: 0.002815, Val Loss: 0.001009\n",
      "Epoch [4/5], Train Loss: 0.002039, Val Loss: 0.000727\n",
      "Epoch [5/5], Train Loss: 0.001377, Val Loss: 0.000868\n",
      "✅ Trained on WMB_1h_data.csv\n",
      "📂 Processing: TAP_1h_data.csv\n"
     ]
    },
    {
     "name": "stderr",
     "output_type": "stream",
     "text": [
      "/tmp/ipykernel_35386/3096370088.py:18: FutureWarning: DataFrame.fillna with 'method' is deprecated and will raise in a future version. Use obj.ffill() or obj.bfill() instead.\n",
      "  df.fillna(method='bfill', inplace=True)\n",
      "/tmp/ipykernel_35386/3096370088.py:19: FutureWarning: DataFrame.fillna with 'method' is deprecated and will raise in a future version. Use obj.ffill() or obj.bfill() instead.\n",
      "  df.fillna(method='ffill', inplace=True)\n",
      "/home/varun/Desktop/someProj/TradeGPT/.venv/lib/python3.10/site-packages/torch/nn/modules/transformer.py:382: UserWarning: enable_nested_tensor is True, but self.use_nested_tensor is False because encoder_layer.self_attn.batch_first was not True(use batch_first for better inference performance)\n",
      "  warnings.warn(\n"
     ]
    },
    {
     "name": "stdout",
     "output_type": "stream",
     "text": [
      "Epoch [1/5], Train Loss: 0.057724, Val Loss: 0.002039\n",
      "Epoch [2/5], Train Loss: 0.005856, Val Loss: 0.001889\n",
      "Epoch [3/5], Train Loss: 0.003721, Val Loss: 0.001465\n",
      "Epoch [4/5], Train Loss: 0.002640, Val Loss: 0.000810\n",
      "Epoch [5/5], Train Loss: 0.002419, Val Loss: 0.000751\n",
      "✅ Trained on TAP_1h_data.csv\n",
      "📂 Processing: DDOG_1h_data.csv\n"
     ]
    },
    {
     "name": "stderr",
     "output_type": "stream",
     "text": [
      "/tmp/ipykernel_35386/3096370088.py:18: FutureWarning: DataFrame.fillna with 'method' is deprecated and will raise in a future version. Use obj.ffill() or obj.bfill() instead.\n",
      "  df.fillna(method='bfill', inplace=True)\n",
      "/tmp/ipykernel_35386/3096370088.py:19: FutureWarning: DataFrame.fillna with 'method' is deprecated and will raise in a future version. Use obj.ffill() or obj.bfill() instead.\n",
      "  df.fillna(method='ffill', inplace=True)\n",
      "/home/varun/Desktop/someProj/TradeGPT/.venv/lib/python3.10/site-packages/torch/nn/modules/transformer.py:382: UserWarning: enable_nested_tensor is True, but self.use_nested_tensor is False because encoder_layer.self_attn.batch_first was not True(use batch_first for better inference performance)\n",
      "  warnings.warn(\n"
     ]
    },
    {
     "name": "stdout",
     "output_type": "stream",
     "text": [
      "Epoch [1/5], Train Loss: 0.057973, Val Loss: 0.002561\n",
      "Epoch [2/5], Train Loss: 0.004973, Val Loss: 0.001075\n",
      "Epoch [3/5], Train Loss: 0.003040, Val Loss: 0.001260\n",
      "Epoch [4/5], Train Loss: 0.002199, Val Loss: 0.000693\n",
      "Epoch [5/5], Train Loss: 0.001599, Val Loss: 0.000984\n",
      "✅ Trained on DDOG_1h_data.csv\n",
      "📂 Processing: LSCC_1h_data.csv\n"
     ]
    },
    {
     "name": "stderr",
     "output_type": "stream",
     "text": [
      "/tmp/ipykernel_35386/3096370088.py:18: FutureWarning: DataFrame.fillna with 'method' is deprecated and will raise in a future version. Use obj.ffill() or obj.bfill() instead.\n",
      "  df.fillna(method='bfill', inplace=True)\n",
      "/tmp/ipykernel_35386/3096370088.py:19: FutureWarning: DataFrame.fillna with 'method' is deprecated and will raise in a future version. Use obj.ffill() or obj.bfill() instead.\n",
      "  df.fillna(method='ffill', inplace=True)\n",
      "/home/varun/Desktop/someProj/TradeGPT/.venv/lib/python3.10/site-packages/torch/nn/modules/transformer.py:382: UserWarning: enable_nested_tensor is True, but self.use_nested_tensor is False because encoder_layer.self_attn.batch_first was not True(use batch_first for better inference performance)\n",
      "  warnings.warn(\n"
     ]
    },
    {
     "name": "stdout",
     "output_type": "stream",
     "text": [
      "Epoch [1/5], Train Loss: 0.055231, Val Loss: 0.001607\n",
      "Epoch [2/5], Train Loss: 0.004412, Val Loss: 0.001192\n",
      "Epoch [3/5], Train Loss: 0.002932, Val Loss: 0.000405\n",
      "Epoch [4/5], Train Loss: 0.002344, Val Loss: 0.000444\n",
      "Epoch [5/5], Train Loss: 0.001765, Val Loss: 0.001055\n",
      "✅ Trained on LSCC_1h_data.csv\n",
      "📂 Processing: ZM_1h_data.csv\n"
     ]
    },
    {
     "name": "stderr",
     "output_type": "stream",
     "text": [
      "/tmp/ipykernel_35386/3096370088.py:18: FutureWarning: DataFrame.fillna with 'method' is deprecated and will raise in a future version. Use obj.ffill() or obj.bfill() instead.\n",
      "  df.fillna(method='bfill', inplace=True)\n",
      "/tmp/ipykernel_35386/3096370088.py:19: FutureWarning: DataFrame.fillna with 'method' is deprecated and will raise in a future version. Use obj.ffill() or obj.bfill() instead.\n",
      "  df.fillna(method='ffill', inplace=True)\n",
      "/home/varun/Desktop/someProj/TradeGPT/.venv/lib/python3.10/site-packages/torch/nn/modules/transformer.py:382: UserWarning: enable_nested_tensor is True, but self.use_nested_tensor is False because encoder_layer.self_attn.batch_first was not True(use batch_first for better inference performance)\n",
      "  warnings.warn(\n"
     ]
    },
    {
     "name": "stdout",
     "output_type": "stream",
     "text": [
      "Epoch [1/5], Train Loss: 0.041236, Val Loss: 0.001144\n",
      "Epoch [2/5], Train Loss: 0.005047, Val Loss: 0.000854\n",
      "Epoch [3/5], Train Loss: 0.003393, Val Loss: 0.003111\n",
      "Epoch [4/5], Train Loss: 0.002575, Val Loss: 0.001101\n",
      "Epoch [5/5], Train Loss: 0.001847, Val Loss: 0.001347\n",
      "✅ Trained on ZM_1h_data.csv\n",
      "📂 Processing: EXR_1h_data.csv\n"
     ]
    },
    {
     "name": "stderr",
     "output_type": "stream",
     "text": [
      "/tmp/ipykernel_35386/3096370088.py:18: FutureWarning: DataFrame.fillna with 'method' is deprecated and will raise in a future version. Use obj.ffill() or obj.bfill() instead.\n",
      "  df.fillna(method='bfill', inplace=True)\n",
      "/tmp/ipykernel_35386/3096370088.py:19: FutureWarning: DataFrame.fillna with 'method' is deprecated and will raise in a future version. Use obj.ffill() or obj.bfill() instead.\n",
      "  df.fillna(method='ffill', inplace=True)\n",
      "/home/varun/Desktop/someProj/TradeGPT/.venv/lib/python3.10/site-packages/torch/nn/modules/transformer.py:382: UserWarning: enable_nested_tensor is True, but self.use_nested_tensor is False because encoder_layer.self_attn.batch_first was not True(use batch_first for better inference performance)\n",
      "  warnings.warn(\n"
     ]
    },
    {
     "name": "stdout",
     "output_type": "stream",
     "text": [
      "Epoch [1/5], Train Loss: 0.069100, Val Loss: 0.002146\n",
      "Epoch [2/5], Train Loss: 0.004221, Val Loss: 0.001242\n",
      "Epoch [3/5], Train Loss: 0.002949, Val Loss: 0.000485\n",
      "Epoch [4/5], Train Loss: 0.002292, Val Loss: 0.000588\n",
      "Epoch [5/5], Train Loss: 0.001727, Val Loss: 0.000351\n",
      "✅ Trained on EXR_1h_data.csv\n",
      "📂 Processing: TXN_1h_data.csv\n"
     ]
    },
    {
     "name": "stderr",
     "output_type": "stream",
     "text": [
      "/tmp/ipykernel_35386/3096370088.py:18: FutureWarning: DataFrame.fillna with 'method' is deprecated and will raise in a future version. Use obj.ffill() or obj.bfill() instead.\n",
      "  df.fillna(method='bfill', inplace=True)\n",
      "/tmp/ipykernel_35386/3096370088.py:19: FutureWarning: DataFrame.fillna with 'method' is deprecated and will raise in a future version. Use obj.ffill() or obj.bfill() instead.\n",
      "  df.fillna(method='ffill', inplace=True)\n",
      "/home/varun/Desktop/someProj/TradeGPT/.venv/lib/python3.10/site-packages/torch/nn/modules/transformer.py:382: UserWarning: enable_nested_tensor is True, but self.use_nested_tensor is False because encoder_layer.self_attn.batch_first was not True(use batch_first for better inference performance)\n",
      "  warnings.warn(\n"
     ]
    },
    {
     "name": "stdout",
     "output_type": "stream",
     "text": [
      "Epoch [1/5], Train Loss: 0.044721, Val Loss: 0.005829\n",
      "Epoch [2/5], Train Loss: 0.003714, Val Loss: 0.002360\n",
      "Epoch [3/5], Train Loss: 0.002812, Val Loss: 0.001624\n",
      "Epoch [4/5], Train Loss: 0.002098, Val Loss: 0.002120\n",
      "Epoch [5/5], Train Loss: 0.001752, Val Loss: 0.001467\n",
      "✅ Trained on TXN_1h_data.csv\n",
      "📂 Processing: KO_1h_data.csv\n"
     ]
    },
    {
     "name": "stderr",
     "output_type": "stream",
     "text": [
      "/tmp/ipykernel_35386/3096370088.py:18: FutureWarning: DataFrame.fillna with 'method' is deprecated and will raise in a future version. Use obj.ffill() or obj.bfill() instead.\n",
      "  df.fillna(method='bfill', inplace=True)\n",
      "/tmp/ipykernel_35386/3096370088.py:19: FutureWarning: DataFrame.fillna with 'method' is deprecated and will raise in a future version. Use obj.ffill() or obj.bfill() instead.\n",
      "  df.fillna(method='ffill', inplace=True)\n",
      "/home/varun/Desktop/someProj/TradeGPT/.venv/lib/python3.10/site-packages/torch/nn/modules/transformer.py:382: UserWarning: enable_nested_tensor is True, but self.use_nested_tensor is False because encoder_layer.self_attn.batch_first was not True(use batch_first for better inference performance)\n",
      "  warnings.warn(\n"
     ]
    },
    {
     "name": "stdout",
     "output_type": "stream",
     "text": [
      "Epoch [1/5], Train Loss: 0.025587, Val Loss: 0.001814\n",
      "Epoch [2/5], Train Loss: 0.002496, Val Loss: 0.001293\n",
      "Epoch [3/5], Train Loss: 0.001700, Val Loss: 0.002543\n",
      "Epoch [4/5], Train Loss: 0.001217, Val Loss: 0.001398\n",
      "Epoch [5/5], Train Loss: 0.000946, Val Loss: 0.000881\n",
      "✅ Trained on KO_1h_data.csv\n",
      "📂 Processing: LLY_1h_data.csv\n"
     ]
    },
    {
     "name": "stderr",
     "output_type": "stream",
     "text": [
      "/tmp/ipykernel_35386/3096370088.py:18: FutureWarning: DataFrame.fillna with 'method' is deprecated and will raise in a future version. Use obj.ffill() or obj.bfill() instead.\n",
      "  df.fillna(method='bfill', inplace=True)\n",
      "/tmp/ipykernel_35386/3096370088.py:19: FutureWarning: DataFrame.fillna with 'method' is deprecated and will raise in a future version. Use obj.ffill() or obj.bfill() instead.\n",
      "  df.fillna(method='ffill', inplace=True)\n",
      "/home/varun/Desktop/someProj/TradeGPT/.venv/lib/python3.10/site-packages/torch/nn/modules/transformer.py:382: UserWarning: enable_nested_tensor is True, but self.use_nested_tensor is False because encoder_layer.self_attn.batch_first was not True(use batch_first for better inference performance)\n",
      "  warnings.warn(\n"
     ]
    },
    {
     "name": "stdout",
     "output_type": "stream",
     "text": [
      "Epoch [1/5], Train Loss: 0.038885, Val Loss: 0.004094\n",
      "Epoch [2/5], Train Loss: 0.004713, Val Loss: 0.002104\n",
      "Epoch [3/5], Train Loss: 0.002910, Val Loss: 0.002047\n",
      "Epoch [4/5], Train Loss: 0.002158, Val Loss: 0.001506\n",
      "Epoch [5/5], Train Loss: 0.001752, Val Loss: 0.001360\n",
      "✅ Trained on LLY_1h_data.csv\n",
      "📂 Processing: BBWI_1h_data.csv\n"
     ]
    },
    {
     "name": "stderr",
     "output_type": "stream",
     "text": [
      "/tmp/ipykernel_35386/3096370088.py:18: FutureWarning: DataFrame.fillna with 'method' is deprecated and will raise in a future version. Use obj.ffill() or obj.bfill() instead.\n",
      "  df.fillna(method='bfill', inplace=True)\n",
      "/tmp/ipykernel_35386/3096370088.py:19: FutureWarning: DataFrame.fillna with 'method' is deprecated and will raise in a future version. Use obj.ffill() or obj.bfill() instead.\n",
      "  df.fillna(method='ffill', inplace=True)\n",
      "/home/varun/Desktop/someProj/TradeGPT/.venv/lib/python3.10/site-packages/torch/nn/modules/transformer.py:382: UserWarning: enable_nested_tensor is True, but self.use_nested_tensor is False because encoder_layer.self_attn.batch_first was not True(use batch_first for better inference performance)\n",
      "  warnings.warn(\n"
     ]
    },
    {
     "name": "stdout",
     "output_type": "stream",
     "text": [
      "Epoch [1/5], Train Loss: 0.033102, Val Loss: 0.001249\n",
      "Epoch [2/5], Train Loss: 0.003409, Val Loss: 0.000849\n",
      "Epoch [3/5], Train Loss: 0.002300, Val Loss: 0.000906\n",
      "Epoch [4/5], Train Loss: 0.001733, Val Loss: 0.001136\n",
      "Epoch [5/5], Train Loss: 0.001700, Val Loss: 0.001009\n",
      "✅ Trained on BBWI_1h_data.csv\n",
      "📂 Processing: PNR_1h_data.csv\n"
     ]
    },
    {
     "name": "stderr",
     "output_type": "stream",
     "text": [
      "/tmp/ipykernel_35386/3096370088.py:18: FutureWarning: DataFrame.fillna with 'method' is deprecated and will raise in a future version. Use obj.ffill() or obj.bfill() instead.\n",
      "  df.fillna(method='bfill', inplace=True)\n",
      "/tmp/ipykernel_35386/3096370088.py:19: FutureWarning: DataFrame.fillna with 'method' is deprecated and will raise in a future version. Use obj.ffill() or obj.bfill() instead.\n",
      "  df.fillna(method='ffill', inplace=True)\n",
      "/home/varun/Desktop/someProj/TradeGPT/.venv/lib/python3.10/site-packages/torch/nn/modules/transformer.py:382: UserWarning: enable_nested_tensor is True, but self.use_nested_tensor is False because encoder_layer.self_attn.batch_first was not True(use batch_first for better inference performance)\n",
      "  warnings.warn(\n"
     ]
    },
    {
     "name": "stdout",
     "output_type": "stream",
     "text": [
      "Epoch [1/5], Train Loss: 0.030658, Val Loss: 0.004971\n",
      "Epoch [2/5], Train Loss: 0.003251, Val Loss: 0.002951\n",
      "Epoch [3/5], Train Loss: 0.002034, Val Loss: 0.001766\n",
      "Epoch [4/5], Train Loss: 0.001479, Val Loss: 0.001497\n",
      "Epoch [5/5], Train Loss: 0.001418, Val Loss: 0.000385\n",
      "✅ Trained on PNR_1h_data.csv\n",
      "📂 Processing: ALL_1h_data.csv\n"
     ]
    },
    {
     "name": "stderr",
     "output_type": "stream",
     "text": [
      "/tmp/ipykernel_35386/3096370088.py:18: FutureWarning: DataFrame.fillna with 'method' is deprecated and will raise in a future version. Use obj.ffill() or obj.bfill() instead.\n",
      "  df.fillna(method='bfill', inplace=True)\n",
      "/tmp/ipykernel_35386/3096370088.py:19: FutureWarning: DataFrame.fillna with 'method' is deprecated and will raise in a future version. Use obj.ffill() or obj.bfill() instead.\n",
      "  df.fillna(method='ffill', inplace=True)\n",
      "/home/varun/Desktop/someProj/TradeGPT/.venv/lib/python3.10/site-packages/torch/nn/modules/transformer.py:382: UserWarning: enable_nested_tensor is True, but self.use_nested_tensor is False because encoder_layer.self_attn.batch_first was not True(use batch_first for better inference performance)\n",
      "  warnings.warn(\n"
     ]
    },
    {
     "name": "stdout",
     "output_type": "stream",
     "text": [
      "Epoch [1/5], Train Loss: 0.041216, Val Loss: 0.006006\n",
      "Epoch [2/5], Train Loss: 0.004057, Val Loss: 0.002630\n",
      "Epoch [3/5], Train Loss: 0.002675, Val Loss: 0.001624\n",
      "Epoch [4/5], Train Loss: 0.002023, Val Loss: 0.001437\n",
      "Epoch [5/5], Train Loss: 0.001481, Val Loss: 0.001267\n",
      "✅ Trained on ALL_1h_data.csv\n",
      "📂 Processing: CRWD_1h_data.csv\n"
     ]
    },
    {
     "name": "stderr",
     "output_type": "stream",
     "text": [
      "/tmp/ipykernel_35386/3096370088.py:18: FutureWarning: DataFrame.fillna with 'method' is deprecated and will raise in a future version. Use obj.ffill() or obj.bfill() instead.\n",
      "  df.fillna(method='bfill', inplace=True)\n",
      "/tmp/ipykernel_35386/3096370088.py:19: FutureWarning: DataFrame.fillna with 'method' is deprecated and will raise in a future version. Use obj.ffill() or obj.bfill() instead.\n",
      "  df.fillna(method='ffill', inplace=True)\n",
      "/home/varun/Desktop/someProj/TradeGPT/.venv/lib/python3.10/site-packages/torch/nn/modules/transformer.py:382: UserWarning: enable_nested_tensor is True, but self.use_nested_tensor is False because encoder_layer.self_attn.batch_first was not True(use batch_first for better inference performance)\n",
      "  warnings.warn(\n"
     ]
    },
    {
     "name": "stdout",
     "output_type": "stream",
     "text": [
      "Epoch [1/5], Train Loss: 0.029884, Val Loss: 0.003162\n",
      "Epoch [2/5], Train Loss: 0.002890, Val Loss: 0.001925\n",
      "Epoch [3/5], Train Loss: 0.001897, Val Loss: 0.001150\n",
      "Epoch [4/5], Train Loss: 0.001331, Val Loss: 0.001219\n",
      "Epoch [5/5], Train Loss: 0.001026, Val Loss: 0.000750\n",
      "✅ Trained on CRWD_1h_data.csv\n",
      "📂 Processing: AEP_1h_data.csv\n"
     ]
    },
    {
     "name": "stderr",
     "output_type": "stream",
     "text": [
      "/tmp/ipykernel_35386/3096370088.py:18: FutureWarning: DataFrame.fillna with 'method' is deprecated and will raise in a future version. Use obj.ffill() or obj.bfill() instead.\n",
      "  df.fillna(method='bfill', inplace=True)\n",
      "/tmp/ipykernel_35386/3096370088.py:19: FutureWarning: DataFrame.fillna with 'method' is deprecated and will raise in a future version. Use obj.ffill() or obj.bfill() instead.\n",
      "  df.fillna(method='ffill', inplace=True)\n",
      "/home/varun/Desktop/someProj/TradeGPT/.venv/lib/python3.10/site-packages/torch/nn/modules/transformer.py:382: UserWarning: enable_nested_tensor is True, but self.use_nested_tensor is False because encoder_layer.self_attn.batch_first was not True(use batch_first for better inference performance)\n",
      "  warnings.warn(\n"
     ]
    },
    {
     "name": "stdout",
     "output_type": "stream",
     "text": [
      "Epoch [1/5], Train Loss: 0.039669, Val Loss: 0.005971\n",
      "Epoch [2/5], Train Loss: 0.003353, Val Loss: 0.004462\n",
      "Epoch [3/5], Train Loss: 0.002176, Val Loss: 0.001729\n",
      "Epoch [4/5], Train Loss: 0.001718, Val Loss: 0.002756\n",
      "Epoch [5/5], Train Loss: 0.001268, Val Loss: 0.001880\n",
      "✅ Trained on AEP_1h_data.csv\n",
      "📂 Processing: MO_1h_data.csv\n"
     ]
    },
    {
     "name": "stderr",
     "output_type": "stream",
     "text": [
      "/tmp/ipykernel_35386/3096370088.py:18: FutureWarning: DataFrame.fillna with 'method' is deprecated and will raise in a future version. Use obj.ffill() or obj.bfill() instead.\n",
      "  df.fillna(method='bfill', inplace=True)\n",
      "/tmp/ipykernel_35386/3096370088.py:19: FutureWarning: DataFrame.fillna with 'method' is deprecated and will raise in a future version. Use obj.ffill() or obj.bfill() instead.\n",
      "  df.fillna(method='ffill', inplace=True)\n",
      "/home/varun/Desktop/someProj/TradeGPT/.venv/lib/python3.10/site-packages/torch/nn/modules/transformer.py:382: UserWarning: enable_nested_tensor is True, but self.use_nested_tensor is False because encoder_layer.self_attn.batch_first was not True(use batch_first for better inference performance)\n",
      "  warnings.warn(\n"
     ]
    },
    {
     "name": "stdout",
     "output_type": "stream",
     "text": [
      "Epoch [1/5], Train Loss: 0.032487, Val Loss: 0.001937\n",
      "Epoch [2/5], Train Loss: 0.004331, Val Loss: 0.001242\n",
      "Epoch [3/5], Train Loss: 0.002477, Val Loss: 0.001089\n",
      "Epoch [4/5], Train Loss: 0.001990, Val Loss: 0.000769\n",
      "Epoch [5/5], Train Loss: 0.001462, Val Loss: 0.001067\n",
      "✅ Trained on MO_1h_data.csv\n",
      "📂 Processing: RMD_1h_data.csv\n"
     ]
    },
    {
     "name": "stderr",
     "output_type": "stream",
     "text": [
      "/tmp/ipykernel_35386/3096370088.py:18: FutureWarning: DataFrame.fillna with 'method' is deprecated and will raise in a future version. Use obj.ffill() or obj.bfill() instead.\n",
      "  df.fillna(method='bfill', inplace=True)\n",
      "/tmp/ipykernel_35386/3096370088.py:19: FutureWarning: DataFrame.fillna with 'method' is deprecated and will raise in a future version. Use obj.ffill() or obj.bfill() instead.\n",
      "  df.fillna(method='ffill', inplace=True)\n",
      "/home/varun/Desktop/someProj/TradeGPT/.venv/lib/python3.10/site-packages/torch/nn/modules/transformer.py:382: UserWarning: enable_nested_tensor is True, but self.use_nested_tensor is False because encoder_layer.self_attn.batch_first was not True(use batch_first for better inference performance)\n",
      "  warnings.warn(\n"
     ]
    },
    {
     "name": "stdout",
     "output_type": "stream",
     "text": [
      "Epoch [1/5], Train Loss: 0.028609, Val Loss: 0.001055\n",
      "Epoch [2/5], Train Loss: 0.003715, Val Loss: 0.002242\n",
      "Epoch [3/5], Train Loss: 0.002423, Val Loss: 0.000823\n",
      "Epoch [4/5], Train Loss: 0.001794, Val Loss: 0.001454\n",
      "Epoch [5/5], Train Loss: 0.001582, Val Loss: 0.001570\n",
      "✅ Trained on RMD_1h_data.csv\n",
      "📂 Processing: CL_1h_data.csv\n"
     ]
    },
    {
     "name": "stderr",
     "output_type": "stream",
     "text": [
      "/tmp/ipykernel_35386/3096370088.py:18: FutureWarning: DataFrame.fillna with 'method' is deprecated and will raise in a future version. Use obj.ffill() or obj.bfill() instead.\n",
      "  df.fillna(method='bfill', inplace=True)\n",
      "/tmp/ipykernel_35386/3096370088.py:19: FutureWarning: DataFrame.fillna with 'method' is deprecated and will raise in a future version. Use obj.ffill() or obj.bfill() instead.\n",
      "  df.fillna(method='ffill', inplace=True)\n",
      "/home/varun/Desktop/someProj/TradeGPT/.venv/lib/python3.10/site-packages/torch/nn/modules/transformer.py:382: UserWarning: enable_nested_tensor is True, but self.use_nested_tensor is False because encoder_layer.self_attn.batch_first was not True(use batch_first for better inference performance)\n",
      "  warnings.warn(\n"
     ]
    },
    {
     "name": "stdout",
     "output_type": "stream",
     "text": [
      "Epoch [1/5], Train Loss: 0.029004, Val Loss: 0.002136\n",
      "Epoch [2/5], Train Loss: 0.003477, Val Loss: 0.002035\n",
      "Epoch [3/5], Train Loss: 0.002039, Val Loss: 0.000789\n",
      "Epoch [4/5], Train Loss: 0.001454, Val Loss: 0.000638\n",
      "Epoch [5/5], Train Loss: 0.001239, Val Loss: 0.001045\n",
      "✅ Trained on CL_1h_data.csv\n",
      "📂 Processing: EIX_1h_data.csv\n"
     ]
    },
    {
     "name": "stderr",
     "output_type": "stream",
     "text": [
      "/tmp/ipykernel_35386/3096370088.py:18: FutureWarning: DataFrame.fillna with 'method' is deprecated and will raise in a future version. Use obj.ffill() or obj.bfill() instead.\n",
      "  df.fillna(method='bfill', inplace=True)\n",
      "/tmp/ipykernel_35386/3096370088.py:19: FutureWarning: DataFrame.fillna with 'method' is deprecated and will raise in a future version. Use obj.ffill() or obj.bfill() instead.\n",
      "  df.fillna(method='ffill', inplace=True)\n",
      "/home/varun/Desktop/someProj/TradeGPT/.venv/lib/python3.10/site-packages/torch/nn/modules/transformer.py:382: UserWarning: enable_nested_tensor is True, but self.use_nested_tensor is False because encoder_layer.self_attn.batch_first was not True(use batch_first for better inference performance)\n",
      "  warnings.warn(\n"
     ]
    },
    {
     "name": "stdout",
     "output_type": "stream",
     "text": [
      "Epoch [1/5], Train Loss: 0.030849, Val Loss: 0.002323\n",
      "Epoch [2/5], Train Loss: 0.004145, Val Loss: 0.000466\n",
      "Epoch [3/5], Train Loss: 0.002731, Val Loss: 0.000537\n",
      "Epoch [4/5], Train Loss: 0.002493, Val Loss: 0.000685\n",
      "Epoch [5/5], Train Loss: 0.001693, Val Loss: 0.000590\n",
      "✅ Trained on EIX_1h_data.csv\n",
      "📂 Processing: PG_1h_data.csv\n"
     ]
    },
    {
     "name": "stderr",
     "output_type": "stream",
     "text": [
      "/tmp/ipykernel_35386/3096370088.py:18: FutureWarning: DataFrame.fillna with 'method' is deprecated and will raise in a future version. Use obj.ffill() or obj.bfill() instead.\n",
      "  df.fillna(method='bfill', inplace=True)\n",
      "/tmp/ipykernel_35386/3096370088.py:19: FutureWarning: DataFrame.fillna with 'method' is deprecated and will raise in a future version. Use obj.ffill() or obj.bfill() instead.\n",
      "  df.fillna(method='ffill', inplace=True)\n",
      "/home/varun/Desktop/someProj/TradeGPT/.venv/lib/python3.10/site-packages/torch/nn/modules/transformer.py:382: UserWarning: enable_nested_tensor is True, but self.use_nested_tensor is False because encoder_layer.self_attn.batch_first was not True(use batch_first for better inference performance)\n",
      "  warnings.warn(\n"
     ]
    },
    {
     "name": "stdout",
     "output_type": "stream",
     "text": [
      "Epoch [1/5], Train Loss: 0.036021, Val Loss: 0.005620\n",
      "Epoch [2/5], Train Loss: 0.004142, Val Loss: 0.001522\n",
      "Epoch [3/5], Train Loss: 0.002435, Val Loss: 0.001092\n",
      "Epoch [4/5], Train Loss: 0.002201, Val Loss: 0.001848\n",
      "Epoch [5/5], Train Loss: 0.001798, Val Loss: 0.001151\n",
      "✅ Trained on PG_1h_data.csv\n",
      "📂 Processing: YUM_1h_data.csv\n"
     ]
    },
    {
     "name": "stderr",
     "output_type": "stream",
     "text": [
      "/tmp/ipykernel_35386/3096370088.py:18: FutureWarning: DataFrame.fillna with 'method' is deprecated and will raise in a future version. Use obj.ffill() or obj.bfill() instead.\n",
      "  df.fillna(method='bfill', inplace=True)\n",
      "/tmp/ipykernel_35386/3096370088.py:19: FutureWarning: DataFrame.fillna with 'method' is deprecated and will raise in a future version. Use obj.ffill() or obj.bfill() instead.\n",
      "  df.fillna(method='ffill', inplace=True)\n",
      "/home/varun/Desktop/someProj/TradeGPT/.venv/lib/python3.10/site-packages/torch/nn/modules/transformer.py:382: UserWarning: enable_nested_tensor is True, but self.use_nested_tensor is False because encoder_layer.self_attn.batch_first was not True(use batch_first for better inference performance)\n",
      "  warnings.warn(\n"
     ]
    },
    {
     "name": "stdout",
     "output_type": "stream",
     "text": [
      "Epoch [1/5], Train Loss: 0.026525, Val Loss: 0.026020\n",
      "Epoch [2/5], Train Loss: 0.003226, Val Loss: 0.012772\n",
      "Epoch [3/5], Train Loss: 0.002276, Val Loss: 0.009084\n",
      "Epoch [4/5], Train Loss: 0.001370, Val Loss: 0.007494\n",
      "Epoch [5/5], Train Loss: 0.001091, Val Loss: 0.005431\n",
      "✅ Trained on YUM_1h_data.csv\n",
      "📂 Processing: FANG_1h_data.csv\n"
     ]
    },
    {
     "name": "stderr",
     "output_type": "stream",
     "text": [
      "/tmp/ipykernel_35386/3096370088.py:18: FutureWarning: DataFrame.fillna with 'method' is deprecated and will raise in a future version. Use obj.ffill() or obj.bfill() instead.\n",
      "  df.fillna(method='bfill', inplace=True)\n",
      "/tmp/ipykernel_35386/3096370088.py:19: FutureWarning: DataFrame.fillna with 'method' is deprecated and will raise in a future version. Use obj.ffill() or obj.bfill() instead.\n",
      "  df.fillna(method='ffill', inplace=True)\n",
      "/home/varun/Desktop/someProj/TradeGPT/.venv/lib/python3.10/site-packages/torch/nn/modules/transformer.py:382: UserWarning: enable_nested_tensor is True, but self.use_nested_tensor is False because encoder_layer.self_attn.batch_first was not True(use batch_first for better inference performance)\n",
      "  warnings.warn(\n"
     ]
    },
    {
     "name": "stdout",
     "output_type": "stream",
     "text": [
      "Epoch [1/5], Train Loss: 0.024317, Val Loss: 0.003753\n",
      "Epoch [2/5], Train Loss: 0.003621, Val Loss: 0.003079\n",
      "Epoch [3/5], Train Loss: 0.002226, Val Loss: 0.000864\n",
      "Epoch [4/5], Train Loss: 0.001622, Val Loss: 0.001195\n",
      "Epoch [5/5], Train Loss: 0.001425, Val Loss: 0.000709\n",
      "✅ Trained on FANG_1h_data.csv\n",
      "📂 Processing: ARE_1h_data.csv\n"
     ]
    },
    {
     "name": "stderr",
     "output_type": "stream",
     "text": [
      "/tmp/ipykernel_35386/3096370088.py:18: FutureWarning: DataFrame.fillna with 'method' is deprecated and will raise in a future version. Use obj.ffill() or obj.bfill() instead.\n",
      "  df.fillna(method='bfill', inplace=True)\n",
      "/tmp/ipykernel_35386/3096370088.py:19: FutureWarning: DataFrame.fillna with 'method' is deprecated and will raise in a future version. Use obj.ffill() or obj.bfill() instead.\n",
      "  df.fillna(method='ffill', inplace=True)\n",
      "/home/varun/Desktop/someProj/TradeGPT/.venv/lib/python3.10/site-packages/torch/nn/modules/transformer.py:382: UserWarning: enable_nested_tensor is True, but self.use_nested_tensor is False because encoder_layer.self_attn.batch_first was not True(use batch_first for better inference performance)\n",
      "  warnings.warn(\n"
     ]
    },
    {
     "name": "stdout",
     "output_type": "stream",
     "text": [
      "Epoch [1/5], Train Loss: 0.036089, Val Loss: 0.007600\n",
      "Epoch [2/5], Train Loss: 0.003114, Val Loss: 0.003158\n",
      "Epoch [3/5], Train Loss: 0.002123, Val Loss: 0.000449\n",
      "Epoch [4/5], Train Loss: 0.001562, Val Loss: 0.000226\n",
      "Epoch [5/5], Train Loss: 0.001187, Val Loss: 0.000661\n",
      "✅ Trained on ARE_1h_data.csv\n",
      "📂 Processing: RTX_1h_data.csv\n"
     ]
    },
    {
     "name": "stderr",
     "output_type": "stream",
     "text": [
      "/tmp/ipykernel_35386/3096370088.py:18: FutureWarning: DataFrame.fillna with 'method' is deprecated and will raise in a future version. Use obj.ffill() or obj.bfill() instead.\n",
      "  df.fillna(method='bfill', inplace=True)\n",
      "/tmp/ipykernel_35386/3096370088.py:19: FutureWarning: DataFrame.fillna with 'method' is deprecated and will raise in a future version. Use obj.ffill() or obj.bfill() instead.\n",
      "  df.fillna(method='ffill', inplace=True)\n",
      "/home/varun/Desktop/someProj/TradeGPT/.venv/lib/python3.10/site-packages/torch/nn/modules/transformer.py:382: UserWarning: enable_nested_tensor is True, but self.use_nested_tensor is False because encoder_layer.self_attn.batch_first was not True(use batch_first for better inference performance)\n",
      "  warnings.warn(\n"
     ]
    },
    {
     "name": "stdout",
     "output_type": "stream",
     "text": [
      "Epoch [1/5], Train Loss: 0.042724, Val Loss: 0.002588\n",
      "Epoch [2/5], Train Loss: 0.004582, Val Loss: 0.002609\n",
      "Epoch [3/5], Train Loss: 0.002847, Val Loss: 0.000839\n",
      "Epoch [4/5], Train Loss: 0.002017, Val Loss: 0.000670\n",
      "Epoch [5/5], Train Loss: 0.001435, Val Loss: 0.000620\n",
      "✅ Trained on RTX_1h_data.csv\n",
      "📂 Processing: POOL_1h_data.csv\n"
     ]
    },
    {
     "name": "stderr",
     "output_type": "stream",
     "text": [
      "/tmp/ipykernel_35386/3096370088.py:18: FutureWarning: DataFrame.fillna with 'method' is deprecated and will raise in a future version. Use obj.ffill() or obj.bfill() instead.\n",
      "  df.fillna(method='bfill', inplace=True)\n",
      "/tmp/ipykernel_35386/3096370088.py:19: FutureWarning: DataFrame.fillna with 'method' is deprecated and will raise in a future version. Use obj.ffill() or obj.bfill() instead.\n",
      "  df.fillna(method='ffill', inplace=True)\n",
      "/home/varun/Desktop/someProj/TradeGPT/.venv/lib/python3.10/site-packages/torch/nn/modules/transformer.py:382: UserWarning: enable_nested_tensor is True, but self.use_nested_tensor is False because encoder_layer.self_attn.batch_first was not True(use batch_first for better inference performance)\n",
      "  warnings.warn(\n"
     ]
    },
    {
     "name": "stdout",
     "output_type": "stream",
     "text": [
      "Epoch [1/5], Train Loss: 0.045570, Val Loss: 0.001903\n",
      "Epoch [2/5], Train Loss: 0.004812, Val Loss: 0.000895\n",
      "Epoch [3/5], Train Loss: 0.003136, Val Loss: 0.000730\n",
      "Epoch [4/5], Train Loss: 0.002418, Val Loss: 0.000684\n",
      "Epoch [5/5], Train Loss: 0.002104, Val Loss: 0.000891\n",
      "✅ Trained on POOL_1h_data.csv\n",
      "📂 Processing: PVH_1h_data.csv\n"
     ]
    },
    {
     "name": "stderr",
     "output_type": "stream",
     "text": [
      "/tmp/ipykernel_35386/3096370088.py:18: FutureWarning: DataFrame.fillna with 'method' is deprecated and will raise in a future version. Use obj.ffill() or obj.bfill() instead.\n",
      "  df.fillna(method='bfill', inplace=True)\n",
      "/tmp/ipykernel_35386/3096370088.py:19: FutureWarning: DataFrame.fillna with 'method' is deprecated and will raise in a future version. Use obj.ffill() or obj.bfill() instead.\n",
      "  df.fillna(method='ffill', inplace=True)\n",
      "/home/varun/Desktop/someProj/TradeGPT/.venv/lib/python3.10/site-packages/torch/nn/modules/transformer.py:382: UserWarning: enable_nested_tensor is True, but self.use_nested_tensor is False because encoder_layer.self_attn.batch_first was not True(use batch_first for better inference performance)\n",
      "  warnings.warn(\n"
     ]
    },
    {
     "name": "stdout",
     "output_type": "stream",
     "text": [
      "Epoch [1/5], Train Loss: 0.036785, Val Loss: 0.005750\n",
      "Epoch [2/5], Train Loss: 0.004167, Val Loss: 0.000523\n",
      "Epoch [3/5], Train Loss: 0.002651, Val Loss: 0.000574\n",
      "Epoch [4/5], Train Loss: 0.001837, Val Loss: 0.000668\n",
      "Epoch [5/5], Train Loss: 0.001700, Val Loss: 0.000461\n",
      "✅ Trained on PVH_1h_data.csv\n",
      "📂 Processing: HUM_1h_data.csv\n"
     ]
    },
    {
     "name": "stderr",
     "output_type": "stream",
     "text": [
      "/tmp/ipykernel_35386/3096370088.py:18: FutureWarning: DataFrame.fillna with 'method' is deprecated and will raise in a future version. Use obj.ffill() or obj.bfill() instead.\n",
      "  df.fillna(method='bfill', inplace=True)\n",
      "/tmp/ipykernel_35386/3096370088.py:19: FutureWarning: DataFrame.fillna with 'method' is deprecated and will raise in a future version. Use obj.ffill() or obj.bfill() instead.\n",
      "  df.fillna(method='ffill', inplace=True)\n",
      "/home/varun/Desktop/someProj/TradeGPT/.venv/lib/python3.10/site-packages/torch/nn/modules/transformer.py:382: UserWarning: enable_nested_tensor is True, but self.use_nested_tensor is False because encoder_layer.self_attn.batch_first was not True(use batch_first for better inference performance)\n",
      "  warnings.warn(\n"
     ]
    },
    {
     "name": "stdout",
     "output_type": "stream",
     "text": [
      "Epoch [1/5], Train Loss: 0.093733, Val Loss: 0.001025\n",
      "Epoch [2/5], Train Loss: 0.004873, Val Loss: 0.000945\n",
      "Epoch [3/5], Train Loss: 0.003367, Val Loss: 0.000496\n",
      "Epoch [4/5], Train Loss: 0.002302, Val Loss: 0.000361\n",
      "Epoch [5/5], Train Loss: 0.002129, Val Loss: 0.000265\n",
      "✅ Trained on HUM_1h_data.csv\n",
      "📂 Processing: IWM_1h_data.csv\n"
     ]
    },
    {
     "name": "stderr",
     "output_type": "stream",
     "text": [
      "/tmp/ipykernel_35386/3096370088.py:18: FutureWarning: DataFrame.fillna with 'method' is deprecated and will raise in a future version. Use obj.ffill() or obj.bfill() instead.\n",
      "  df.fillna(method='bfill', inplace=True)\n",
      "/tmp/ipykernel_35386/3096370088.py:19: FutureWarning: DataFrame.fillna with 'method' is deprecated and will raise in a future version. Use obj.ffill() or obj.bfill() instead.\n",
      "  df.fillna(method='ffill', inplace=True)\n",
      "/home/varun/Desktop/someProj/TradeGPT/.venv/lib/python3.10/site-packages/torch/nn/modules/transformer.py:382: UserWarning: enable_nested_tensor is True, but self.use_nested_tensor is False because encoder_layer.self_attn.batch_first was not True(use batch_first for better inference performance)\n",
      "  warnings.warn(\n"
     ]
    },
    {
     "name": "stdout",
     "output_type": "stream",
     "text": [
      "Epoch [1/5], Train Loss: 0.037973, Val Loss: 0.005854\n",
      "Epoch [2/5], Train Loss: 0.004903, Val Loss: 0.001620\n",
      "Epoch [3/5], Train Loss: 0.002682, Val Loss: 0.000729\n",
      "Epoch [4/5], Train Loss: 0.001912, Val Loss: 0.000814\n",
      "Epoch [5/5], Train Loss: 0.001466, Val Loss: 0.000816\n",
      "✅ Trained on IWM_1h_data.csv\n",
      "📂 Processing: CB_1h_data.csv\n"
     ]
    },
    {
     "name": "stderr",
     "output_type": "stream",
     "text": [
      "/tmp/ipykernel_35386/3096370088.py:18: FutureWarning: DataFrame.fillna with 'method' is deprecated and will raise in a future version. Use obj.ffill() or obj.bfill() instead.\n",
      "  df.fillna(method='bfill', inplace=True)\n",
      "/tmp/ipykernel_35386/3096370088.py:19: FutureWarning: DataFrame.fillna with 'method' is deprecated and will raise in a future version. Use obj.ffill() or obj.bfill() instead.\n",
      "  df.fillna(method='ffill', inplace=True)\n",
      "/home/varun/Desktop/someProj/TradeGPT/.venv/lib/python3.10/site-packages/torch/nn/modules/transformer.py:382: UserWarning: enable_nested_tensor is True, but self.use_nested_tensor is False because encoder_layer.self_attn.batch_first was not True(use batch_first for better inference performance)\n",
      "  warnings.warn(\n"
     ]
    },
    {
     "name": "stdout",
     "output_type": "stream",
     "text": [
      "Epoch [1/5], Train Loss: 0.038112, Val Loss: 0.002173\n",
      "Epoch [2/5], Train Loss: 0.004142, Val Loss: 0.000987\n",
      "Epoch [3/5], Train Loss: 0.002624, Val Loss: 0.001114\n",
      "Epoch [4/5], Train Loss: 0.001903, Val Loss: 0.001214\n",
      "Epoch [5/5], Train Loss: 0.001491, Val Loss: 0.001015\n",
      "✅ Trained on CB_1h_data.csv\n",
      "📂 Processing: TJX_1h_data.csv\n"
     ]
    },
    {
     "name": "stderr",
     "output_type": "stream",
     "text": [
      "/tmp/ipykernel_35386/3096370088.py:18: FutureWarning: DataFrame.fillna with 'method' is deprecated and will raise in a future version. Use obj.ffill() or obj.bfill() instead.\n",
      "  df.fillna(method='bfill', inplace=True)\n",
      "/tmp/ipykernel_35386/3096370088.py:19: FutureWarning: DataFrame.fillna with 'method' is deprecated and will raise in a future version. Use obj.ffill() or obj.bfill() instead.\n",
      "  df.fillna(method='ffill', inplace=True)\n",
      "/home/varun/Desktop/someProj/TradeGPT/.venv/lib/python3.10/site-packages/torch/nn/modules/transformer.py:382: UserWarning: enable_nested_tensor is True, but self.use_nested_tensor is False because encoder_layer.self_attn.batch_first was not True(use batch_first for better inference performance)\n",
      "  warnings.warn(\n"
     ]
    },
    {
     "name": "stdout",
     "output_type": "stream",
     "text": [
      "Epoch [1/5], Train Loss: 0.033135, Val Loss: 0.002423\n",
      "Epoch [2/5], Train Loss: 0.003554, Val Loss: 0.001069\n",
      "Epoch [3/5], Train Loss: 0.002393, Val Loss: 0.000766\n",
      "Epoch [4/5], Train Loss: 0.001712, Val Loss: 0.001906\n",
      "Epoch [5/5], Train Loss: 0.001367, Val Loss: 0.000503\n",
      "✅ Trained on TJX_1h_data.csv\n",
      "📂 Processing: NET_1h_data.csv\n"
     ]
    },
    {
     "name": "stderr",
     "output_type": "stream",
     "text": [
      "/tmp/ipykernel_35386/3096370088.py:18: FutureWarning: DataFrame.fillna with 'method' is deprecated and will raise in a future version. Use obj.ffill() or obj.bfill() instead.\n",
      "  df.fillna(method='bfill', inplace=True)\n",
      "/tmp/ipykernel_35386/3096370088.py:19: FutureWarning: DataFrame.fillna with 'method' is deprecated and will raise in a future version. Use obj.ffill() or obj.bfill() instead.\n",
      "  df.fillna(method='ffill', inplace=True)\n",
      "/home/varun/Desktop/someProj/TradeGPT/.venv/lib/python3.10/site-packages/torch/nn/modules/transformer.py:382: UserWarning: enable_nested_tensor is True, but self.use_nested_tensor is False because encoder_layer.self_attn.batch_first was not True(use batch_first for better inference performance)\n",
      "  warnings.warn(\n"
     ]
    },
    {
     "name": "stdout",
     "output_type": "stream",
     "text": [
      "Epoch [1/5], Train Loss: 0.050635, Val Loss: 0.005547\n",
      "Epoch [2/5], Train Loss: 0.004498, Val Loss: 0.002426\n",
      "Epoch [3/5], Train Loss: 0.002748, Val Loss: 0.002752\n",
      "Epoch [4/5], Train Loss: 0.001951, Val Loss: 0.000913\n",
      "Epoch [5/5], Train Loss: 0.001514, Val Loss: 0.001418\n",
      "✅ Trained on NET_1h_data.csv\n",
      "📂 Processing: CCI_1h_data.csv\n"
     ]
    },
    {
     "name": "stderr",
     "output_type": "stream",
     "text": [
      "/tmp/ipykernel_35386/3096370088.py:18: FutureWarning: DataFrame.fillna with 'method' is deprecated and will raise in a future version. Use obj.ffill() or obj.bfill() instead.\n",
      "  df.fillna(method='bfill', inplace=True)\n",
      "/tmp/ipykernel_35386/3096370088.py:19: FutureWarning: DataFrame.fillna with 'method' is deprecated and will raise in a future version. Use obj.ffill() or obj.bfill() instead.\n",
      "  df.fillna(method='ffill', inplace=True)\n",
      "/home/varun/Desktop/someProj/TradeGPT/.venv/lib/python3.10/site-packages/torch/nn/modules/transformer.py:382: UserWarning: enable_nested_tensor is True, but self.use_nested_tensor is False because encoder_layer.self_attn.batch_first was not True(use batch_first for better inference performance)\n",
      "  warnings.warn(\n"
     ]
    },
    {
     "name": "stdout",
     "output_type": "stream",
     "text": [
      "Epoch [1/5], Train Loss: 0.038792, Val Loss: 0.001692\n",
      "Epoch [2/5], Train Loss: 0.004566, Val Loss: 0.001092\n",
      "Epoch [3/5], Train Loss: 0.002687, Val Loss: 0.000793\n",
      "Epoch [4/5], Train Loss: 0.002065, Val Loss: 0.000951\n",
      "Epoch [5/5], Train Loss: 0.001624, Val Loss: 0.000778\n",
      "✅ Trained on CCI_1h_data.csv\n",
      "📂 Processing: TSM_1h_data.csv\n"
     ]
    },
    {
     "name": "stderr",
     "output_type": "stream",
     "text": [
      "/tmp/ipykernel_35386/3096370088.py:18: FutureWarning: DataFrame.fillna with 'method' is deprecated and will raise in a future version. Use obj.ffill() or obj.bfill() instead.\n",
      "  df.fillna(method='bfill', inplace=True)\n",
      "/tmp/ipykernel_35386/3096370088.py:19: FutureWarning: DataFrame.fillna with 'method' is deprecated and will raise in a future version. Use obj.ffill() or obj.bfill() instead.\n",
      "  df.fillna(method='ffill', inplace=True)\n",
      "/home/varun/Desktop/someProj/TradeGPT/.venv/lib/python3.10/site-packages/torch/nn/modules/transformer.py:382: UserWarning: enable_nested_tensor is True, but self.use_nested_tensor is False because encoder_layer.self_attn.batch_first was not True(use batch_first for better inference performance)\n",
      "  warnings.warn(\n"
     ]
    },
    {
     "name": "stdout",
     "output_type": "stream",
     "text": [
      "Epoch [1/5], Train Loss: 0.033327, Val Loss: 0.001170\n",
      "Epoch [2/5], Train Loss: 0.003404, Val Loss: 0.000590\n",
      "Epoch [3/5], Train Loss: 0.002247, Val Loss: 0.000401\n",
      "Epoch [4/5], Train Loss: 0.001810, Val Loss: 0.000391\n",
      "Epoch [5/5], Train Loss: 0.001423, Val Loss: 0.000859\n",
      "✅ Trained on TSM_1h_data.csv\n",
      "📂 Processing: ATO_1h_data.csv\n"
     ]
    },
    {
     "name": "stderr",
     "output_type": "stream",
     "text": [
      "/tmp/ipykernel_35386/3096370088.py:18: FutureWarning: DataFrame.fillna with 'method' is deprecated and will raise in a future version. Use obj.ffill() or obj.bfill() instead.\n",
      "  df.fillna(method='bfill', inplace=True)\n",
      "/tmp/ipykernel_35386/3096370088.py:19: FutureWarning: DataFrame.fillna with 'method' is deprecated and will raise in a future version. Use obj.ffill() or obj.bfill() instead.\n",
      "  df.fillna(method='ffill', inplace=True)\n",
      "/home/varun/Desktop/someProj/TradeGPT/.venv/lib/python3.10/site-packages/torch/nn/modules/transformer.py:382: UserWarning: enable_nested_tensor is True, but self.use_nested_tensor is False because encoder_layer.self_attn.batch_first was not True(use batch_first for better inference performance)\n",
      "  warnings.warn(\n"
     ]
    },
    {
     "name": "stdout",
     "output_type": "stream",
     "text": [
      "Epoch [1/5], Train Loss: 0.034716, Val Loss: 0.004430\n",
      "Epoch [2/5], Train Loss: 0.003025, Val Loss: 0.002356\n",
      "Epoch [3/5], Train Loss: 0.002138, Val Loss: 0.001385\n",
      "Epoch [4/5], Train Loss: 0.001581, Val Loss: 0.002149\n",
      "Epoch [5/5], Train Loss: 0.001049, Val Loss: 0.000941\n",
      "✅ Trained on ATO_1h_data.csv\n",
      "📂 Processing: CMG_1h_data.csv\n"
     ]
    },
    {
     "name": "stderr",
     "output_type": "stream",
     "text": [
      "/tmp/ipykernel_35386/3096370088.py:18: FutureWarning: DataFrame.fillna with 'method' is deprecated and will raise in a future version. Use obj.ffill() or obj.bfill() instead.\n",
      "  df.fillna(method='bfill', inplace=True)\n",
      "/tmp/ipykernel_35386/3096370088.py:19: FutureWarning: DataFrame.fillna with 'method' is deprecated and will raise in a future version. Use obj.ffill() or obj.bfill() instead.\n",
      "  df.fillna(method='ffill', inplace=True)\n",
      "/home/varun/Desktop/someProj/TradeGPT/.venv/lib/python3.10/site-packages/torch/nn/modules/transformer.py:382: UserWarning: enable_nested_tensor is True, but self.use_nested_tensor is False because encoder_layer.self_attn.batch_first was not True(use batch_first for better inference performance)\n",
      "  warnings.warn(\n"
     ]
    },
    {
     "name": "stdout",
     "output_type": "stream",
     "text": [
      "Epoch [1/5], Train Loss: 0.029204, Val Loss: 0.000722\n",
      "Epoch [2/5], Train Loss: 0.003326, Val Loss: 0.000551\n",
      "Epoch [3/5], Train Loss: 0.002342, Val Loss: 0.000478\n",
      "Epoch [4/5], Train Loss: 0.001733, Val Loss: 0.000764\n",
      "Epoch [5/5], Train Loss: 0.001563, Val Loss: 0.000414\n",
      "✅ Trained on CMG_1h_data.csv\n",
      "📂 Processing: ILMN_1h_data.csv\n"
     ]
    },
    {
     "name": "stderr",
     "output_type": "stream",
     "text": [
      "/tmp/ipykernel_35386/3096370088.py:18: FutureWarning: DataFrame.fillna with 'method' is deprecated and will raise in a future version. Use obj.ffill() or obj.bfill() instead.\n",
      "  df.fillna(method='bfill', inplace=True)\n",
      "/tmp/ipykernel_35386/3096370088.py:19: FutureWarning: DataFrame.fillna with 'method' is deprecated and will raise in a future version. Use obj.ffill() or obj.bfill() instead.\n",
      "  df.fillna(method='ffill', inplace=True)\n",
      "/home/varun/Desktop/someProj/TradeGPT/.venv/lib/python3.10/site-packages/torch/nn/modules/transformer.py:382: UserWarning: enable_nested_tensor is True, but self.use_nested_tensor is False because encoder_layer.self_attn.batch_first was not True(use batch_first for better inference performance)\n",
      "  warnings.warn(\n"
     ]
    },
    {
     "name": "stdout",
     "output_type": "stream",
     "text": [
      "Epoch [1/5], Train Loss: 0.036438, Val Loss: 0.002063\n",
      "Epoch [2/5], Train Loss: 0.003691, Val Loss: 0.000543\n",
      "Epoch [3/5], Train Loss: 0.002178, Val Loss: 0.000305\n",
      "Epoch [4/5], Train Loss: 0.001536, Val Loss: 0.000123\n",
      "Epoch [5/5], Train Loss: 0.001257, Val Loss: 0.000382\n",
      "✅ Trained on ILMN_1h_data.csv\n",
      "📂 Processing: O_1h_data.csv\n"
     ]
    },
    {
     "name": "stderr",
     "output_type": "stream",
     "text": [
      "/tmp/ipykernel_35386/3096370088.py:18: FutureWarning: DataFrame.fillna with 'method' is deprecated and will raise in a future version. Use obj.ffill() or obj.bfill() instead.\n",
      "  df.fillna(method='bfill', inplace=True)\n",
      "/tmp/ipykernel_35386/3096370088.py:19: FutureWarning: DataFrame.fillna with 'method' is deprecated and will raise in a future version. Use obj.ffill() or obj.bfill() instead.\n",
      "  df.fillna(method='ffill', inplace=True)\n",
      "/home/varun/Desktop/someProj/TradeGPT/.venv/lib/python3.10/site-packages/torch/nn/modules/transformer.py:382: UserWarning: enable_nested_tensor is True, but self.use_nested_tensor is False because encoder_layer.self_attn.batch_first was not True(use batch_first for better inference performance)\n",
      "  warnings.warn(\n"
     ]
    },
    {
     "name": "stdout",
     "output_type": "stream",
     "text": [
      "Epoch [1/5], Train Loss: 0.035746, Val Loss: 0.002203\n",
      "Epoch [2/5], Train Loss: 0.003690, Val Loss: 0.001016\n",
      "Epoch [3/5], Train Loss: 0.002663, Val Loss: 0.000798\n",
      "Epoch [4/5], Train Loss: 0.001997, Val Loss: 0.000598\n",
      "Epoch [5/5], Train Loss: 0.001647, Val Loss: 0.000567\n",
      "✅ Trained on O_1h_data.csv\n",
      "📂 Processing: MAR_1h_data.csv\n"
     ]
    },
    {
     "name": "stderr",
     "output_type": "stream",
     "text": [
      "/tmp/ipykernel_35386/3096370088.py:18: FutureWarning: DataFrame.fillna with 'method' is deprecated and will raise in a future version. Use obj.ffill() or obj.bfill() instead.\n",
      "  df.fillna(method='bfill', inplace=True)\n",
      "/tmp/ipykernel_35386/3096370088.py:19: FutureWarning: DataFrame.fillna with 'method' is deprecated and will raise in a future version. Use obj.ffill() or obj.bfill() instead.\n",
      "  df.fillna(method='ffill', inplace=True)\n",
      "/home/varun/Desktop/someProj/TradeGPT/.venv/lib/python3.10/site-packages/torch/nn/modules/transformer.py:382: UserWarning: enable_nested_tensor is True, but self.use_nested_tensor is False because encoder_layer.self_attn.batch_first was not True(use batch_first for better inference performance)\n",
      "  warnings.warn(\n"
     ]
    },
    {
     "name": "stdout",
     "output_type": "stream",
     "text": [
      "Epoch [1/5], Train Loss: 0.029548, Val Loss: 0.002339\n",
      "Epoch [2/5], Train Loss: 0.002466, Val Loss: 0.001947\n",
      "Epoch [3/5], Train Loss: 0.001705, Val Loss: 0.003732\n",
      "Epoch [4/5], Train Loss: 0.001444, Val Loss: 0.000992\n",
      "Epoch [5/5], Train Loss: 0.000992, Val Loss: 0.001819\n",
      "✅ Trained on MAR_1h_data.csv\n",
      "📂 Processing: KMI_1h_data.csv\n"
     ]
    },
    {
     "name": "stderr",
     "output_type": "stream",
     "text": [
      "/tmp/ipykernel_35386/3096370088.py:18: FutureWarning: DataFrame.fillna with 'method' is deprecated and will raise in a future version. Use obj.ffill() or obj.bfill() instead.\n",
      "  df.fillna(method='bfill', inplace=True)\n",
      "/tmp/ipykernel_35386/3096370088.py:19: FutureWarning: DataFrame.fillna with 'method' is deprecated and will raise in a future version. Use obj.ffill() or obj.bfill() instead.\n",
      "  df.fillna(method='ffill', inplace=True)\n",
      "/home/varun/Desktop/someProj/TradeGPT/.venv/lib/python3.10/site-packages/torch/nn/modules/transformer.py:382: UserWarning: enable_nested_tensor is True, but self.use_nested_tensor is False because encoder_layer.self_attn.batch_first was not True(use batch_first for better inference performance)\n",
      "  warnings.warn(\n"
     ]
    },
    {
     "name": "stdout",
     "output_type": "stream",
     "text": [
      "Epoch [1/5], Train Loss: 0.014223, Val Loss: 0.002388\n",
      "Epoch [2/5], Train Loss: 0.002511, Val Loss: 0.002444\n",
      "Epoch [3/5], Train Loss: 0.001537, Val Loss: 0.001486\n",
      "Epoch [4/5], Train Loss: 0.001105, Val Loss: 0.000980\n",
      "Epoch [5/5], Train Loss: 0.000930, Val Loss: 0.000936\n",
      "✅ Trained on KMI_1h_data.csv\n",
      "📂 Processing: ABBV_1h_data.csv\n"
     ]
    },
    {
     "name": "stderr",
     "output_type": "stream",
     "text": [
      "/tmp/ipykernel_35386/3096370088.py:18: FutureWarning: DataFrame.fillna with 'method' is deprecated and will raise in a future version. Use obj.ffill() or obj.bfill() instead.\n",
      "  df.fillna(method='bfill', inplace=True)\n",
      "/tmp/ipykernel_35386/3096370088.py:19: FutureWarning: DataFrame.fillna with 'method' is deprecated and will raise in a future version. Use obj.ffill() or obj.bfill() instead.\n",
      "  df.fillna(method='ffill', inplace=True)\n",
      "/home/varun/Desktop/someProj/TradeGPT/.venv/lib/python3.10/site-packages/torch/nn/modules/transformer.py:382: UserWarning: enable_nested_tensor is True, but self.use_nested_tensor is False because encoder_layer.self_attn.batch_first was not True(use batch_first for better inference performance)\n",
      "  warnings.warn(\n"
     ]
    },
    {
     "name": "stdout",
     "output_type": "stream",
     "text": [
      "Epoch [1/5], Train Loss: 0.055416, Val Loss: 0.007343\n",
      "Epoch [2/5], Train Loss: 0.004802, Val Loss: 0.003615\n",
      "Epoch [3/5], Train Loss: 0.002918, Val Loss: 0.001218\n",
      "Epoch [4/5], Train Loss: 0.002431, Val Loss: 0.001403\n",
      "Epoch [5/5], Train Loss: 0.001761, Val Loss: 0.003245\n",
      "✅ Trained on ABBV_1h_data.csv\n",
      "📂 Processing: LULU_1h_data.csv\n"
     ]
    },
    {
     "name": "stderr",
     "output_type": "stream",
     "text": [
      "/tmp/ipykernel_35386/3096370088.py:18: FutureWarning: DataFrame.fillna with 'method' is deprecated and will raise in a future version. Use obj.ffill() or obj.bfill() instead.\n",
      "  df.fillna(method='bfill', inplace=True)\n",
      "/tmp/ipykernel_35386/3096370088.py:19: FutureWarning: DataFrame.fillna with 'method' is deprecated and will raise in a future version. Use obj.ffill() or obj.bfill() instead.\n",
      "  df.fillna(method='ffill', inplace=True)\n",
      "/home/varun/Desktop/someProj/TradeGPT/.venv/lib/python3.10/site-packages/torch/nn/modules/transformer.py:382: UserWarning: enable_nested_tensor is True, but self.use_nested_tensor is False because encoder_layer.self_attn.batch_first was not True(use batch_first for better inference performance)\n",
      "  warnings.warn(\n"
     ]
    },
    {
     "name": "stdout",
     "output_type": "stream",
     "text": [
      "Epoch [1/5], Train Loss: 0.043186, Val Loss: 0.001592\n",
      "Epoch [2/5], Train Loss: 0.004432, Val Loss: 0.001336\n",
      "Epoch [3/5], Train Loss: 0.002774, Val Loss: 0.000477\n",
      "Epoch [4/5], Train Loss: 0.002309, Val Loss: 0.000733\n",
      "Epoch [5/5], Train Loss: 0.001682, Val Loss: 0.000502\n",
      "✅ Trained on LULU_1h_data.csv\n",
      "📂 Processing: TEAM_1h_data.csv\n"
     ]
    },
    {
     "name": "stderr",
     "output_type": "stream",
     "text": [
      "/tmp/ipykernel_35386/3096370088.py:18: FutureWarning: DataFrame.fillna with 'method' is deprecated and will raise in a future version. Use obj.ffill() or obj.bfill() instead.\n",
      "  df.fillna(method='bfill', inplace=True)\n",
      "/tmp/ipykernel_35386/3096370088.py:19: FutureWarning: DataFrame.fillna with 'method' is deprecated and will raise in a future version. Use obj.ffill() or obj.bfill() instead.\n",
      "  df.fillna(method='ffill', inplace=True)\n",
      "/home/varun/Desktop/someProj/TradeGPT/.venv/lib/python3.10/site-packages/torch/nn/modules/transformer.py:382: UserWarning: enable_nested_tensor is True, but self.use_nested_tensor is False because encoder_layer.self_attn.batch_first was not True(use batch_first for better inference performance)\n",
      "  warnings.warn(\n"
     ]
    },
    {
     "name": "stdout",
     "output_type": "stream",
     "text": [
      "Epoch [1/5], Train Loss: 0.032728, Val Loss: 0.003204\n",
      "Epoch [2/5], Train Loss: 0.003906, Val Loss: 0.002010\n",
      "Epoch [3/5], Train Loss: 0.002403, Val Loss: 0.001289\n",
      "Epoch [4/5], Train Loss: 0.001715, Val Loss: 0.000867\n",
      "Epoch [5/5], Train Loss: 0.001500, Val Loss: 0.001130\n",
      "✅ Trained on TEAM_1h_data.csv\n",
      "📂 Processing: NOW_1h_data.csv\n"
     ]
    },
    {
     "name": "stderr",
     "output_type": "stream",
     "text": [
      "/tmp/ipykernel_35386/3096370088.py:18: FutureWarning: DataFrame.fillna with 'method' is deprecated and will raise in a future version. Use obj.ffill() or obj.bfill() instead.\n",
      "  df.fillna(method='bfill', inplace=True)\n",
      "/tmp/ipykernel_35386/3096370088.py:19: FutureWarning: DataFrame.fillna with 'method' is deprecated and will raise in a future version. Use obj.ffill() or obj.bfill() instead.\n",
      "  df.fillna(method='ffill', inplace=True)\n",
      "/home/varun/Desktop/someProj/TradeGPT/.venv/lib/python3.10/site-packages/torch/nn/modules/transformer.py:382: UserWarning: enable_nested_tensor is True, but self.use_nested_tensor is False because encoder_layer.self_attn.batch_first was not True(use batch_first for better inference performance)\n",
      "  warnings.warn(\n"
     ]
    },
    {
     "name": "stdout",
     "output_type": "stream",
     "text": [
      "Epoch [1/5], Train Loss: 0.033918, Val Loss: 0.002318\n",
      "Epoch [2/5], Train Loss: 0.003252, Val Loss: 0.004001\n",
      "Epoch [3/5], Train Loss: 0.002047, Val Loss: 0.000663\n",
      "Epoch [4/5], Train Loss: 0.001639, Val Loss: 0.001281\n",
      "Epoch [5/5], Train Loss: 0.001448, Val Loss: 0.000721\n",
      "✅ Trained on NOW_1h_data.csv\n",
      "📂 Processing: HRL_1h_data.csv\n"
     ]
    },
    {
     "name": "stderr",
     "output_type": "stream",
     "text": [
      "/tmp/ipykernel_35386/3096370088.py:18: FutureWarning: DataFrame.fillna with 'method' is deprecated and will raise in a future version. Use obj.ffill() or obj.bfill() instead.\n",
      "  df.fillna(method='bfill', inplace=True)\n",
      "/tmp/ipykernel_35386/3096370088.py:19: FutureWarning: DataFrame.fillna with 'method' is deprecated and will raise in a future version. Use obj.ffill() or obj.bfill() instead.\n",
      "  df.fillna(method='ffill', inplace=True)\n",
      "/home/varun/Desktop/someProj/TradeGPT/.venv/lib/python3.10/site-packages/torch/nn/modules/transformer.py:382: UserWarning: enable_nested_tensor is True, but self.use_nested_tensor is False because encoder_layer.self_attn.batch_first was not True(use batch_first for better inference performance)\n",
      "  warnings.warn(\n"
     ]
    },
    {
     "name": "stdout",
     "output_type": "stream",
     "text": [
      "Epoch [1/5], Train Loss: 0.022043, Val Loss: 0.000524\n",
      "Epoch [2/5], Train Loss: 0.002234, Val Loss: 0.000601\n",
      "Epoch [3/5], Train Loss: 0.001639, Val Loss: 0.000357\n",
      "Epoch [4/5], Train Loss: 0.001365, Val Loss: 0.000398\n",
      "Epoch [5/5], Train Loss: 0.001176, Val Loss: 0.000266\n",
      "✅ Trained on HRL_1h_data.csv\n",
      "📂 Processing: ORCL_1h_data.csv\n"
     ]
    },
    {
     "name": "stderr",
     "output_type": "stream",
     "text": [
      "/tmp/ipykernel_35386/3096370088.py:18: FutureWarning: DataFrame.fillna with 'method' is deprecated and will raise in a future version. Use obj.ffill() or obj.bfill() instead.\n",
      "  df.fillna(method='bfill', inplace=True)\n",
      "/tmp/ipykernel_35386/3096370088.py:19: FutureWarning: DataFrame.fillna with 'method' is deprecated and will raise in a future version. Use obj.ffill() or obj.bfill() instead.\n",
      "  df.fillna(method='ffill', inplace=True)\n",
      "/home/varun/Desktop/someProj/TradeGPT/.venv/lib/python3.10/site-packages/torch/nn/modules/transformer.py:382: UserWarning: enable_nested_tensor is True, but self.use_nested_tensor is False because encoder_layer.self_attn.batch_first was not True(use batch_first for better inference performance)\n",
      "  warnings.warn(\n"
     ]
    },
    {
     "name": "stdout",
     "output_type": "stream",
     "text": [
      "Epoch [1/5], Train Loss: 0.031748, Val Loss: 0.002368\n",
      "Epoch [2/5], Train Loss: 0.004474, Val Loss: 0.002385\n",
      "Epoch [3/5], Train Loss: 0.002893, Val Loss: 0.000599\n",
      "Epoch [4/5], Train Loss: 0.002276, Val Loss: 0.000337\n",
      "Epoch [5/5], Train Loss: 0.001617, Val Loss: 0.002024\n",
      "✅ Trained on ORCL_1h_data.csv\n",
      "📂 Processing: PEG_1h_data.csv\n"
     ]
    },
    {
     "name": "stderr",
     "output_type": "stream",
     "text": [
      "/tmp/ipykernel_35386/3096370088.py:18: FutureWarning: DataFrame.fillna with 'method' is deprecated and will raise in a future version. Use obj.ffill() or obj.bfill() instead.\n",
      "  df.fillna(method='bfill', inplace=True)\n",
      "/tmp/ipykernel_35386/3096370088.py:19: FutureWarning: DataFrame.fillna with 'method' is deprecated and will raise in a future version. Use obj.ffill() or obj.bfill() instead.\n",
      "  df.fillna(method='ffill', inplace=True)\n",
      "/home/varun/Desktop/someProj/TradeGPT/.venv/lib/python3.10/site-packages/torch/nn/modules/transformer.py:382: UserWarning: enable_nested_tensor is True, but self.use_nested_tensor is False because encoder_layer.self_attn.batch_first was not True(use batch_first for better inference performance)\n",
      "  warnings.warn(\n"
     ]
    },
    {
     "name": "stdout",
     "output_type": "stream",
     "text": [
      "Epoch [1/5], Train Loss: 0.022932, Val Loss: 0.001553\n",
      "Epoch [2/5], Train Loss: 0.002964, Val Loss: 0.000511\n",
      "Epoch [3/5], Train Loss: 0.001888, Val Loss: 0.000968\n",
      "Epoch [4/5], Train Loss: 0.001512, Val Loss: 0.000664\n",
      "Epoch [5/5], Train Loss: 0.001027, Val Loss: 0.001066\n",
      "✅ Trained on PEG_1h_data.csv\n",
      "📂 Processing: XLF_1h_data.csv\n"
     ]
    },
    {
     "name": "stderr",
     "output_type": "stream",
     "text": [
      "/tmp/ipykernel_35386/3096370088.py:18: FutureWarning: DataFrame.fillna with 'method' is deprecated and will raise in a future version. Use obj.ffill() or obj.bfill() instead.\n",
      "  df.fillna(method='bfill', inplace=True)\n",
      "/tmp/ipykernel_35386/3096370088.py:19: FutureWarning: DataFrame.fillna with 'method' is deprecated and will raise in a future version. Use obj.ffill() or obj.bfill() instead.\n",
      "  df.fillna(method='ffill', inplace=True)\n",
      "/home/varun/Desktop/someProj/TradeGPT/.venv/lib/python3.10/site-packages/torch/nn/modules/transformer.py:382: UserWarning: enable_nested_tensor is True, but self.use_nested_tensor is False because encoder_layer.self_attn.batch_first was not True(use batch_first for better inference performance)\n",
      "  warnings.warn(\n"
     ]
    },
    {
     "name": "stdout",
     "output_type": "stream",
     "text": [
      "Epoch [1/5], Train Loss: 0.041417, Val Loss: 0.011114\n",
      "Epoch [2/5], Train Loss: 0.003329, Val Loss: 0.008285\n",
      "Epoch [3/5], Train Loss: 0.002471, Val Loss: 0.006675\n",
      "Epoch [4/5], Train Loss: 0.001857, Val Loss: 0.006502\n",
      "Epoch [5/5], Train Loss: 0.001463, Val Loss: 0.003957\n",
      "✅ Trained on XLF_1h_data.csv\n",
      "📂 Processing: PSX_1h_data.csv\n"
     ]
    },
    {
     "name": "stderr",
     "output_type": "stream",
     "text": [
      "/tmp/ipykernel_35386/3096370088.py:18: FutureWarning: DataFrame.fillna with 'method' is deprecated and will raise in a future version. Use obj.ffill() or obj.bfill() instead.\n",
      "  df.fillna(method='bfill', inplace=True)\n",
      "/tmp/ipykernel_35386/3096370088.py:19: FutureWarning: DataFrame.fillna with 'method' is deprecated and will raise in a future version. Use obj.ffill() or obj.bfill() instead.\n",
      "  df.fillna(method='ffill', inplace=True)\n",
      "/home/varun/Desktop/someProj/TradeGPT/.venv/lib/python3.10/site-packages/torch/nn/modules/transformer.py:382: UserWarning: enable_nested_tensor is True, but self.use_nested_tensor is False because encoder_layer.self_attn.batch_first was not True(use batch_first for better inference performance)\n",
      "  warnings.warn(\n"
     ]
    },
    {
     "name": "stdout",
     "output_type": "stream",
     "text": [
      "Epoch [1/5], Train Loss: 0.033556, Val Loss: 0.005691\n",
      "Epoch [2/5], Train Loss: 0.003605, Val Loss: 0.001715\n",
      "Epoch [3/5], Train Loss: 0.002406, Val Loss: 0.001189\n",
      "Epoch [4/5], Train Loss: 0.001623, Val Loss: 0.001047\n",
      "Epoch [5/5], Train Loss: 0.001330, Val Loss: 0.000903\n",
      "✅ Trained on PSX_1h_data.csv\n",
      "📂 Processing: LB_1h_data.csv\n",
      "Epoch [1/5], Train Loss: 0.069287, Val Loss: 0.004316\n"
     ]
    },
    {
     "name": "stderr",
     "output_type": "stream",
     "text": [
      "/tmp/ipykernel_35386/3096370088.py:18: FutureWarning: DataFrame.fillna with 'method' is deprecated and will raise in a future version. Use obj.ffill() or obj.bfill() instead.\n",
      "  df.fillna(method='bfill', inplace=True)\n",
      "/tmp/ipykernel_35386/3096370088.py:19: FutureWarning: DataFrame.fillna with 'method' is deprecated and will raise in a future version. Use obj.ffill() or obj.bfill() instead.\n",
      "  df.fillna(method='ffill', inplace=True)\n",
      "/home/varun/Desktop/someProj/TradeGPT/.venv/lib/python3.10/site-packages/torch/nn/modules/transformer.py:382: UserWarning: enable_nested_tensor is True, but self.use_nested_tensor is False because encoder_layer.self_attn.batch_first was not True(use batch_first for better inference performance)\n",
      "  warnings.warn(\n"
     ]
    },
    {
     "name": "stdout",
     "output_type": "stream",
     "text": [
      "Epoch [2/5], Train Loss: 0.009260, Val Loss: 0.003634\n",
      "Epoch [3/5], Train Loss: 0.005679, Val Loss: 0.004891\n",
      "Epoch [4/5], Train Loss: 0.003884, Val Loss: 0.002311\n",
      "Epoch [5/5], Train Loss: 0.003174, Val Loss: 0.000971\n",
      "✅ Trained on LB_1h_data.csv\n",
      "📂 Processing: W_1h_data.csv\n"
     ]
    },
    {
     "name": "stderr",
     "output_type": "stream",
     "text": [
      "/tmp/ipykernel_35386/3096370088.py:18: FutureWarning: DataFrame.fillna with 'method' is deprecated and will raise in a future version. Use obj.ffill() or obj.bfill() instead.\n",
      "  df.fillna(method='bfill', inplace=True)\n",
      "/tmp/ipykernel_35386/3096370088.py:19: FutureWarning: DataFrame.fillna with 'method' is deprecated and will raise in a future version. Use obj.ffill() or obj.bfill() instead.\n",
      "  df.fillna(method='ffill', inplace=True)\n",
      "/home/varun/Desktop/someProj/TradeGPT/.venv/lib/python3.10/site-packages/torch/nn/modules/transformer.py:382: UserWarning: enable_nested_tensor is True, but self.use_nested_tensor is False because encoder_layer.self_attn.batch_first was not True(use batch_first for better inference performance)\n",
      "  warnings.warn(\n"
     ]
    },
    {
     "name": "stdout",
     "output_type": "stream",
     "text": [
      "Epoch [1/5], Train Loss: 0.032075, Val Loss: 0.014436\n",
      "Epoch [2/5], Train Loss: 0.002990, Val Loss: 0.000955\n",
      "Epoch [3/5], Train Loss: 0.001966, Val Loss: 0.002242\n",
      "Epoch [4/5], Train Loss: 0.001383, Val Loss: 0.001650\n",
      "Epoch [5/5], Train Loss: 0.001123, Val Loss: 0.000960\n",
      "✅ Trained on W_1h_data.csv\n",
      "📂 Processing: BAX_1h_data.csv\n"
     ]
    },
    {
     "name": "stderr",
     "output_type": "stream",
     "text": [
      "/tmp/ipykernel_35386/3096370088.py:18: FutureWarning: DataFrame.fillna with 'method' is deprecated and will raise in a future version. Use obj.ffill() or obj.bfill() instead.\n",
      "  df.fillna(method='bfill', inplace=True)\n",
      "/tmp/ipykernel_35386/3096370088.py:19: FutureWarning: DataFrame.fillna with 'method' is deprecated and will raise in a future version. Use obj.ffill() or obj.bfill() instead.\n",
      "  df.fillna(method='ffill', inplace=True)\n",
      "/home/varun/Desktop/someProj/TradeGPT/.venv/lib/python3.10/site-packages/torch/nn/modules/transformer.py:382: UserWarning: enable_nested_tensor is True, but self.use_nested_tensor is False because encoder_layer.self_attn.batch_first was not True(use batch_first for better inference performance)\n",
      "  warnings.warn(\n"
     ]
    },
    {
     "name": "stdout",
     "output_type": "stream",
     "text": [
      "Epoch [1/5], Train Loss: 0.042371, Val Loss: 0.001012\n",
      "Epoch [2/5], Train Loss: 0.004068, Val Loss: 0.001069\n",
      "Epoch [3/5], Train Loss: 0.002559, Val Loss: 0.000735\n",
      "Epoch [4/5], Train Loss: 0.001976, Val Loss: 0.000773\n",
      "Epoch [5/5], Train Loss: 0.001432, Val Loss: 0.000684\n",
      "✅ Trained on BAX_1h_data.csv\n",
      "📂 Processing: AEE_1h_data.csv\n"
     ]
    },
    {
     "name": "stderr",
     "output_type": "stream",
     "text": [
      "/tmp/ipykernel_35386/3096370088.py:18: FutureWarning: DataFrame.fillna with 'method' is deprecated and will raise in a future version. Use obj.ffill() or obj.bfill() instead.\n",
      "  df.fillna(method='bfill', inplace=True)\n",
      "/tmp/ipykernel_35386/3096370088.py:19: FutureWarning: DataFrame.fillna with 'method' is deprecated and will raise in a future version. Use obj.ffill() or obj.bfill() instead.\n",
      "  df.fillna(method='ffill', inplace=True)\n",
      "/home/varun/Desktop/someProj/TradeGPT/.venv/lib/python3.10/site-packages/torch/nn/modules/transformer.py:382: UserWarning: enable_nested_tensor is True, but self.use_nested_tensor is False because encoder_layer.self_attn.batch_first was not True(use batch_first for better inference performance)\n",
      "  warnings.warn(\n"
     ]
    },
    {
     "name": "stdout",
     "output_type": "stream",
     "text": [
      "Epoch [1/5], Train Loss: 0.037354, Val Loss: 0.005525\n",
      "Epoch [2/5], Train Loss: 0.003482, Val Loss: 0.002710\n",
      "Epoch [3/5], Train Loss: 0.002651, Val Loss: 0.001258\n",
      "Epoch [4/5], Train Loss: 0.002160, Val Loss: 0.001399\n",
      "Epoch [5/5], Train Loss: 0.001381, Val Loss: 0.003351\n",
      "✅ Trained on AEE_1h_data.csv\n",
      "📂 Processing: ALK_1h_data.csv\n"
     ]
    },
    {
     "name": "stderr",
     "output_type": "stream",
     "text": [
      "/tmp/ipykernel_35386/3096370088.py:18: FutureWarning: DataFrame.fillna with 'method' is deprecated and will raise in a future version. Use obj.ffill() or obj.bfill() instead.\n",
      "  df.fillna(method='bfill', inplace=True)\n",
      "/tmp/ipykernel_35386/3096370088.py:19: FutureWarning: DataFrame.fillna with 'method' is deprecated and will raise in a future version. Use obj.ffill() or obj.bfill() instead.\n",
      "  df.fillna(method='ffill', inplace=True)\n",
      "/home/varun/Desktop/someProj/TradeGPT/.venv/lib/python3.10/site-packages/torch/nn/modules/transformer.py:382: UserWarning: enable_nested_tensor is True, but self.use_nested_tensor is False because encoder_layer.self_attn.batch_first was not True(use batch_first for better inference performance)\n",
      "  warnings.warn(\n"
     ]
    },
    {
     "name": "stdout",
     "output_type": "stream",
     "text": [
      "Epoch [1/5], Train Loss: 0.027031, Val Loss: 0.008592\n",
      "Epoch [2/5], Train Loss: 0.003564, Val Loss: 0.003712\n",
      "Epoch [3/5], Train Loss: 0.002175, Val Loss: 0.004955\n",
      "Epoch [4/5], Train Loss: 0.001776, Val Loss: 0.001899\n",
      "Epoch [5/5], Train Loss: 0.001335, Val Loss: 0.002723\n",
      "✅ Trained on ALK_1h_data.csv\n",
      "📂 Processing: TMO_1h_data.csv\n"
     ]
    },
    {
     "name": "stderr",
     "output_type": "stream",
     "text": [
      "/tmp/ipykernel_35386/3096370088.py:18: FutureWarning: DataFrame.fillna with 'method' is deprecated and will raise in a future version. Use obj.ffill() or obj.bfill() instead.\n",
      "  df.fillna(method='bfill', inplace=True)\n",
      "/tmp/ipykernel_35386/3096370088.py:19: FutureWarning: DataFrame.fillna with 'method' is deprecated and will raise in a future version. Use obj.ffill() or obj.bfill() instead.\n",
      "  df.fillna(method='ffill', inplace=True)\n",
      "/home/varun/Desktop/someProj/TradeGPT/.venv/lib/python3.10/site-packages/torch/nn/modules/transformer.py:382: UserWarning: enable_nested_tensor is True, but self.use_nested_tensor is False because encoder_layer.self_attn.batch_first was not True(use batch_first for better inference performance)\n",
      "  warnings.warn(\n"
     ]
    },
    {
     "name": "stdout",
     "output_type": "stream",
     "text": [
      "Epoch [1/5], Train Loss: 0.047485, Val Loss: 0.002797\n",
      "Epoch [2/5], Train Loss: 0.004820, Val Loss: 0.000522\n",
      "Epoch [3/5], Train Loss: 0.002692, Val Loss: 0.000653\n",
      "Epoch [4/5], Train Loss: 0.002088, Val Loss: 0.001796\n",
      "Epoch [5/5], Train Loss: 0.002023, Val Loss: 0.001464\n",
      "✅ Trained on TMO_1h_data.csv\n",
      "📂 Processing: DKS_1h_data.csv\n"
     ]
    },
    {
     "name": "stderr",
     "output_type": "stream",
     "text": [
      "/tmp/ipykernel_35386/3096370088.py:18: FutureWarning: DataFrame.fillna with 'method' is deprecated and will raise in a future version. Use obj.ffill() or obj.bfill() instead.\n",
      "  df.fillna(method='bfill', inplace=True)\n",
      "/tmp/ipykernel_35386/3096370088.py:19: FutureWarning: DataFrame.fillna with 'method' is deprecated and will raise in a future version. Use obj.ffill() or obj.bfill() instead.\n",
      "  df.fillna(method='ffill', inplace=True)\n",
      "/home/varun/Desktop/someProj/TradeGPT/.venv/lib/python3.10/site-packages/torch/nn/modules/transformer.py:382: UserWarning: enable_nested_tensor is True, but self.use_nested_tensor is False because encoder_layer.self_attn.batch_first was not True(use batch_first for better inference performance)\n",
      "  warnings.warn(\n"
     ]
    },
    {
     "name": "stdout",
     "output_type": "stream",
     "text": [
      "Epoch [1/5], Train Loss: 0.037489, Val Loss: 0.001526\n",
      "Epoch [2/5], Train Loss: 0.005102, Val Loss: 0.001498\n",
      "Epoch [3/5], Train Loss: 0.002692, Val Loss: 0.000963\n",
      "Epoch [4/5], Train Loss: 0.002000, Val Loss: 0.000758\n",
      "Epoch [5/5], Train Loss: 0.001731, Val Loss: 0.001393\n",
      "✅ Trained on DKS_1h_data.csv\n",
      "📂 Processing: DTE_1h_data.csv\n"
     ]
    },
    {
     "name": "stderr",
     "output_type": "stream",
     "text": [
      "/tmp/ipykernel_35386/3096370088.py:18: FutureWarning: DataFrame.fillna with 'method' is deprecated and will raise in a future version. Use obj.ffill() or obj.bfill() instead.\n",
      "  df.fillna(method='bfill', inplace=True)\n",
      "/tmp/ipykernel_35386/3096370088.py:19: FutureWarning: DataFrame.fillna with 'method' is deprecated and will raise in a future version. Use obj.ffill() or obj.bfill() instead.\n",
      "  df.fillna(method='ffill', inplace=True)\n",
      "/home/varun/Desktop/someProj/TradeGPT/.venv/lib/python3.10/site-packages/torch/nn/modules/transformer.py:382: UserWarning: enable_nested_tensor is True, but self.use_nested_tensor is False because encoder_layer.self_attn.batch_first was not True(use batch_first for better inference performance)\n",
      "  warnings.warn(\n"
     ]
    },
    {
     "name": "stdout",
     "output_type": "stream",
     "text": [
      "Epoch [1/5], Train Loss: 0.045882, Val Loss: 0.008124\n",
      "Epoch [2/5], Train Loss: 0.005231, Val Loss: 0.004972\n",
      "Epoch [3/5], Train Loss: 0.002964, Val Loss: 0.007543\n",
      "Epoch [4/5], Train Loss: 0.002300, Val Loss: 0.001712\n",
      "Epoch [5/5], Train Loss: 0.001733, Val Loss: 0.002950\n",
      "✅ Trained on DTE_1h_data.csv\n",
      "📂 Processing: PSA_1h_data.csv\n"
     ]
    },
    {
     "name": "stderr",
     "output_type": "stream",
     "text": [
      "/tmp/ipykernel_35386/3096370088.py:18: FutureWarning: DataFrame.fillna with 'method' is deprecated and will raise in a future version. Use obj.ffill() or obj.bfill() instead.\n",
      "  df.fillna(method='bfill', inplace=True)\n",
      "/tmp/ipykernel_35386/3096370088.py:19: FutureWarning: DataFrame.fillna with 'method' is deprecated and will raise in a future version. Use obj.ffill() or obj.bfill() instead.\n",
      "  df.fillna(method='ffill', inplace=True)\n",
      "/home/varun/Desktop/someProj/TradeGPT/.venv/lib/python3.10/site-packages/torch/nn/modules/transformer.py:382: UserWarning: enable_nested_tensor is True, but self.use_nested_tensor is False because encoder_layer.self_attn.batch_first was not True(use batch_first for better inference performance)\n",
      "  warnings.warn(\n"
     ]
    },
    {
     "name": "stdout",
     "output_type": "stream",
     "text": [
      "Epoch [1/5], Train Loss: 0.051190, Val Loss: 0.000784\n",
      "Epoch [2/5], Train Loss: 0.003601, Val Loss: 0.000607\n",
      "Epoch [3/5], Train Loss: 0.002636, Val Loss: 0.000445\n",
      "Epoch [4/5], Train Loss: 0.001680, Val Loss: 0.000512\n",
      "Epoch [5/5], Train Loss: 0.001359, Val Loss: 0.001040\n",
      "✅ Trained on PSA_1h_data.csv\n",
      "📂 Processing: EXC_1h_data.csv\n"
     ]
    },
    {
     "name": "stderr",
     "output_type": "stream",
     "text": [
      "/tmp/ipykernel_35386/3096370088.py:18: FutureWarning: DataFrame.fillna with 'method' is deprecated and will raise in a future version. Use obj.ffill() or obj.bfill() instead.\n",
      "  df.fillna(method='bfill', inplace=True)\n",
      "/tmp/ipykernel_35386/3096370088.py:19: FutureWarning: DataFrame.fillna with 'method' is deprecated and will raise in a future version. Use obj.ffill() or obj.bfill() instead.\n",
      "  df.fillna(method='ffill', inplace=True)\n",
      "/home/varun/Desktop/someProj/TradeGPT/.venv/lib/python3.10/site-packages/torch/nn/modules/transformer.py:382: UserWarning: enable_nested_tensor is True, but self.use_nested_tensor is False because encoder_layer.self_attn.batch_first was not True(use batch_first for better inference performance)\n",
      "  warnings.warn(\n"
     ]
    },
    {
     "name": "stdout",
     "output_type": "stream",
     "text": [
      "Epoch [1/5], Train Loss: 0.051044, Val Loss: 0.048309\n",
      "Epoch [2/5], Train Loss: 0.003956, Val Loss: 0.021718\n",
      "Epoch [3/5], Train Loss: 0.002730, Val Loss: 0.020758\n",
      "Epoch [4/5], Train Loss: 0.001933, Val Loss: 0.021287\n",
      "Epoch [5/5], Train Loss: 0.001510, Val Loss: 0.015089\n",
      "✅ Trained on EXC_1h_data.csv\n",
      "📂 Processing: SLB_1h_data.csv\n"
     ]
    },
    {
     "name": "stderr",
     "output_type": "stream",
     "text": [
      "/tmp/ipykernel_35386/3096370088.py:18: FutureWarning: DataFrame.fillna with 'method' is deprecated and will raise in a future version. Use obj.ffill() or obj.bfill() instead.\n",
      "  df.fillna(method='bfill', inplace=True)\n",
      "/tmp/ipykernel_35386/3096370088.py:19: FutureWarning: DataFrame.fillna with 'method' is deprecated and will raise in a future version. Use obj.ffill() or obj.bfill() instead.\n",
      "  df.fillna(method='ffill', inplace=True)\n",
      "/home/varun/Desktop/someProj/TradeGPT/.venv/lib/python3.10/site-packages/torch/nn/modules/transformer.py:382: UserWarning: enable_nested_tensor is True, but self.use_nested_tensor is False because encoder_layer.self_attn.batch_first was not True(use batch_first for better inference performance)\n",
      "  warnings.warn(\n"
     ]
    },
    {
     "name": "stdout",
     "output_type": "stream",
     "text": [
      "Epoch [1/5], Train Loss: 0.035751, Val Loss: 0.001628\n",
      "Epoch [2/5], Train Loss: 0.004323, Val Loss: 0.002621\n",
      "Epoch [3/5], Train Loss: 0.002685, Val Loss: 0.002010\n",
      "Epoch [4/5], Train Loss: 0.001973, Val Loss: 0.001071\n",
      "Epoch [5/5], Train Loss: 0.001584, Val Loss: 0.000752\n",
      "✅ Trained on SLB_1h_data.csv\n",
      "📂 Processing: XRAY_1h_data.csv\n"
     ]
    },
    {
     "name": "stderr",
     "output_type": "stream",
     "text": [
      "/tmp/ipykernel_35386/3096370088.py:18: FutureWarning: DataFrame.fillna with 'method' is deprecated and will raise in a future version. Use obj.ffill() or obj.bfill() instead.\n",
      "  df.fillna(method='bfill', inplace=True)\n",
      "/tmp/ipykernel_35386/3096370088.py:19: FutureWarning: DataFrame.fillna with 'method' is deprecated and will raise in a future version. Use obj.ffill() or obj.bfill() instead.\n",
      "  df.fillna(method='ffill', inplace=True)\n",
      "/home/varun/Desktop/someProj/TradeGPT/.venv/lib/python3.10/site-packages/torch/nn/modules/transformer.py:382: UserWarning: enable_nested_tensor is True, but self.use_nested_tensor is False because encoder_layer.self_attn.batch_first was not True(use batch_first for better inference performance)\n",
      "  warnings.warn(\n"
     ]
    },
    {
     "name": "stdout",
     "output_type": "stream",
     "text": [
      "Epoch [1/5], Train Loss: 0.040908, Val Loss: 0.000854\n",
      "Epoch [2/5], Train Loss: 0.003871, Val Loss: 0.000376\n",
      "Epoch [3/5], Train Loss: 0.002357, Val Loss: 0.000081\n",
      "Epoch [4/5], Train Loss: 0.001608, Val Loss: 0.000099\n",
      "Epoch [5/5], Train Loss: 0.001161, Val Loss: 0.000167\n",
      "✅ Trained on XRAY_1h_data.csv\n",
      "📂 Processing: SBUX_1h_data.csv\n"
     ]
    },
    {
     "name": "stderr",
     "output_type": "stream",
     "text": [
      "/tmp/ipykernel_35386/3096370088.py:18: FutureWarning: DataFrame.fillna with 'method' is deprecated and will raise in a future version. Use obj.ffill() or obj.bfill() instead.\n",
      "  df.fillna(method='bfill', inplace=True)\n",
      "/tmp/ipykernel_35386/3096370088.py:19: FutureWarning: DataFrame.fillna with 'method' is deprecated and will raise in a future version. Use obj.ffill() or obj.bfill() instead.\n",
      "  df.fillna(method='ffill', inplace=True)\n",
      "/home/varun/Desktop/someProj/TradeGPT/.venv/lib/python3.10/site-packages/torch/nn/modules/transformer.py:382: UserWarning: enable_nested_tensor is True, but self.use_nested_tensor is False because encoder_layer.self_attn.batch_first was not True(use batch_first for better inference performance)\n",
      "  warnings.warn(\n"
     ]
    },
    {
     "name": "stdout",
     "output_type": "stream",
     "text": [
      "Epoch [1/5], Train Loss: 0.032372, Val Loss: 0.007759\n",
      "Epoch [2/5], Train Loss: 0.003156, Val Loss: 0.001880\n",
      "Epoch [3/5], Train Loss: 0.001976, Val Loss: 0.003480\n",
      "Epoch [4/5], Train Loss: 0.001718, Val Loss: 0.001372\n",
      "Epoch [5/5], Train Loss: 0.001290, Val Loss: 0.001271\n",
      "✅ Trained on SBUX_1h_data.csv\n",
      "📂 Processing: WMT_1h_data.csv\n"
     ]
    },
    {
     "name": "stderr",
     "output_type": "stream",
     "text": [
      "/tmp/ipykernel_35386/3096370088.py:18: FutureWarning: DataFrame.fillna with 'method' is deprecated and will raise in a future version. Use obj.ffill() or obj.bfill() instead.\n",
      "  df.fillna(method='bfill', inplace=True)\n",
      "/tmp/ipykernel_35386/3096370088.py:19: FutureWarning: DataFrame.fillna with 'method' is deprecated and will raise in a future version. Use obj.ffill() or obj.bfill() instead.\n",
      "  df.fillna(method='ffill', inplace=True)\n",
      "/home/varun/Desktop/someProj/TradeGPT/.venv/lib/python3.10/site-packages/torch/nn/modules/transformer.py:382: UserWarning: enable_nested_tensor is True, but self.use_nested_tensor is False because encoder_layer.self_attn.batch_first was not True(use batch_first for better inference performance)\n",
      "  warnings.warn(\n"
     ]
    },
    {
     "name": "stdout",
     "output_type": "stream",
     "text": [
      "Epoch [1/5], Train Loss: 0.014448, Val Loss: 0.002640\n",
      "Epoch [2/5], Train Loss: 0.002515, Val Loss: 0.000967\n",
      "Epoch [3/5], Train Loss: 0.001557, Val Loss: 0.001918\n",
      "Epoch [4/5], Train Loss: 0.001210, Val Loss: 0.001057\n",
      "Epoch [5/5], Train Loss: 0.000923, Val Loss: 0.000558\n",
      "✅ Trained on WMT_1h_data.csv\n",
      "📂 Processing: TSCO_1h_data.csv\n"
     ]
    },
    {
     "name": "stderr",
     "output_type": "stream",
     "text": [
      "/tmp/ipykernel_35386/3096370088.py:18: FutureWarning: DataFrame.fillna with 'method' is deprecated and will raise in a future version. Use obj.ffill() or obj.bfill() instead.\n",
      "  df.fillna(method='bfill', inplace=True)\n",
      "/tmp/ipykernel_35386/3096370088.py:19: FutureWarning: DataFrame.fillna with 'method' is deprecated and will raise in a future version. Use obj.ffill() or obj.bfill() instead.\n",
      "  df.fillna(method='ffill', inplace=True)\n",
      "/home/varun/Desktop/someProj/TradeGPT/.venv/lib/python3.10/site-packages/torch/nn/modules/transformer.py:382: UserWarning: enable_nested_tensor is True, but self.use_nested_tensor is False because encoder_layer.self_attn.batch_first was not True(use batch_first for better inference performance)\n",
      "  warnings.warn(\n"
     ]
    },
    {
     "name": "stdout",
     "output_type": "stream",
     "text": [
      "Epoch [1/5], Train Loss: 0.033087, Val Loss: 0.002573\n",
      "Epoch [2/5], Train Loss: 0.003758, Val Loss: 0.000835\n",
      "Epoch [3/5], Train Loss: 0.002469, Val Loss: 0.000691\n",
      "Epoch [4/5], Train Loss: 0.002210, Val Loss: 0.000663\n",
      "Epoch [5/5], Train Loss: 0.001414, Val Loss: 0.001595\n",
      "✅ Trained on TSCO_1h_data.csv\n",
      "📂 Processing: XEL_1h_data.csv\n"
     ]
    },
    {
     "name": "stderr",
     "output_type": "stream",
     "text": [
      "/tmp/ipykernel_35386/3096370088.py:18: FutureWarning: DataFrame.fillna with 'method' is deprecated and will raise in a future version. Use obj.ffill() or obj.bfill() instead.\n",
      "  df.fillna(method='bfill', inplace=True)\n",
      "/tmp/ipykernel_35386/3096370088.py:19: FutureWarning: DataFrame.fillna with 'method' is deprecated and will raise in a future version. Use obj.ffill() or obj.bfill() instead.\n",
      "  df.fillna(method='ffill', inplace=True)\n",
      "/home/varun/Desktop/someProj/TradeGPT/.venv/lib/python3.10/site-packages/torch/nn/modules/transformer.py:382: UserWarning: enable_nested_tensor is True, but self.use_nested_tensor is False because encoder_layer.self_attn.batch_first was not True(use batch_first for better inference performance)\n",
      "  warnings.warn(\n"
     ]
    },
    {
     "name": "stdout",
     "output_type": "stream",
     "text": [
      "Epoch [1/5], Train Loss: 0.029182, Val Loss: 0.001944\n",
      "Epoch [2/5], Train Loss: 0.003369, Val Loss: 0.001432\n",
      "Epoch [3/5], Train Loss: 0.002131, Val Loss: 0.001395\n",
      "Epoch [4/5], Train Loss: 0.001589, Val Loss: 0.000802\n",
      "Epoch [5/5], Train Loss: 0.001237, Val Loss: 0.003197\n",
      "✅ Trained on XEL_1h_data.csv\n",
      "📂 Processing: XLK_1h_data.csv\n"
     ]
    },
    {
     "name": "stderr",
     "output_type": "stream",
     "text": [
      "/tmp/ipykernel_35386/3096370088.py:18: FutureWarning: DataFrame.fillna with 'method' is deprecated and will raise in a future version. Use obj.ffill() or obj.bfill() instead.\n",
      "  df.fillna(method='bfill', inplace=True)\n",
      "/tmp/ipykernel_35386/3096370088.py:19: FutureWarning: DataFrame.fillna with 'method' is deprecated and will raise in a future version. Use obj.ffill() or obj.bfill() instead.\n",
      "  df.fillna(method='ffill', inplace=True)\n",
      "/home/varun/Desktop/someProj/TradeGPT/.venv/lib/python3.10/site-packages/torch/nn/modules/transformer.py:382: UserWarning: enable_nested_tensor is True, but self.use_nested_tensor is False because encoder_layer.self_attn.batch_first was not True(use batch_first for better inference performance)\n",
      "  warnings.warn(\n"
     ]
    },
    {
     "name": "stdout",
     "output_type": "stream",
     "text": [
      "Epoch [1/5], Train Loss: 0.017265, Val Loss: 0.001451\n",
      "Epoch [2/5], Train Loss: 0.002802, Val Loss: 0.001060\n",
      "Epoch [3/5], Train Loss: 0.002372, Val Loss: 0.001357\n",
      "Epoch [4/5], Train Loss: 0.001503, Val Loss: 0.003754\n",
      "Epoch [5/5], Train Loss: 0.001420, Val Loss: 0.000998\n",
      "✅ Trained on XLK_1h_data.csv\n",
      "📂 Processing: COST_1h_data.csv\n"
     ]
    },
    {
     "name": "stderr",
     "output_type": "stream",
     "text": [
      "/tmp/ipykernel_35386/3096370088.py:18: FutureWarning: DataFrame.fillna with 'method' is deprecated and will raise in a future version. Use obj.ffill() or obj.bfill() instead.\n",
      "  df.fillna(method='bfill', inplace=True)\n",
      "/tmp/ipykernel_35386/3096370088.py:19: FutureWarning: DataFrame.fillna with 'method' is deprecated and will raise in a future version. Use obj.ffill() or obj.bfill() instead.\n",
      "  df.fillna(method='ffill', inplace=True)\n",
      "/home/varun/Desktop/someProj/TradeGPT/.venv/lib/python3.10/site-packages/torch/nn/modules/transformer.py:382: UserWarning: enable_nested_tensor is True, but self.use_nested_tensor is False because encoder_layer.self_attn.batch_first was not True(use batch_first for better inference performance)\n",
      "  warnings.warn(\n"
     ]
    },
    {
     "name": "stdout",
     "output_type": "stream",
     "text": [
      "Epoch [1/5], Train Loss: 0.094064, Val Loss: 0.010143\n",
      "Epoch [2/5], Train Loss: 0.006075, Val Loss: 0.002691\n",
      "Epoch [3/5], Train Loss: 0.003928, Val Loss: 0.001409\n",
      "Epoch [4/5], Train Loss: 0.002722, Val Loss: 0.001268\n",
      "Epoch [5/5], Train Loss: 0.002119, Val Loss: 0.002639\n",
      "✅ Trained on COST_1h_data.csv\n",
      "📂 Processing: SWX_1h_data.csv\n"
     ]
    },
    {
     "name": "stderr",
     "output_type": "stream",
     "text": [
      "/tmp/ipykernel_35386/3096370088.py:18: FutureWarning: DataFrame.fillna with 'method' is deprecated and will raise in a future version. Use obj.ffill() or obj.bfill() instead.\n",
      "  df.fillna(method='bfill', inplace=True)\n",
      "/tmp/ipykernel_35386/3096370088.py:19: FutureWarning: DataFrame.fillna with 'method' is deprecated and will raise in a future version. Use obj.ffill() or obj.bfill() instead.\n",
      "  df.fillna(method='ffill', inplace=True)\n",
      "/home/varun/Desktop/someProj/TradeGPT/.venv/lib/python3.10/site-packages/torch/nn/modules/transformer.py:382: UserWarning: enable_nested_tensor is True, but self.use_nested_tensor is False because encoder_layer.self_attn.batch_first was not True(use batch_first for better inference performance)\n",
      "  warnings.warn(\n"
     ]
    },
    {
     "name": "stdout",
     "output_type": "stream",
     "text": [
      "Epoch [1/5], Train Loss: 0.032639, Val Loss: 0.003735\n",
      "Epoch [2/5], Train Loss: 0.004167, Val Loss: 0.001295\n",
      "Epoch [3/5], Train Loss: 0.002619, Val Loss: 0.001164\n",
      "Epoch [4/5], Train Loss: 0.001983, Val Loss: 0.001859\n",
      "Epoch [5/5], Train Loss: 0.001584, Val Loss: 0.000930\n",
      "✅ Trained on SWX_1h_data.csv\n",
      "📂 Processing: DOCU_1h_data.csv\n"
     ]
    },
    {
     "name": "stderr",
     "output_type": "stream",
     "text": [
      "/tmp/ipykernel_35386/3096370088.py:18: FutureWarning: DataFrame.fillna with 'method' is deprecated and will raise in a future version. Use obj.ffill() or obj.bfill() instead.\n",
      "  df.fillna(method='bfill', inplace=True)\n",
      "/tmp/ipykernel_35386/3096370088.py:19: FutureWarning: DataFrame.fillna with 'method' is deprecated and will raise in a future version. Use obj.ffill() or obj.bfill() instead.\n",
      "  df.fillna(method='ffill', inplace=True)\n",
      "/home/varun/Desktop/someProj/TradeGPT/.venv/lib/python3.10/site-packages/torch/nn/modules/transformer.py:382: UserWarning: enable_nested_tensor is True, but self.use_nested_tensor is False because encoder_layer.self_attn.batch_first was not True(use batch_first for better inference performance)\n",
      "  warnings.warn(\n"
     ]
    },
    {
     "name": "stdout",
     "output_type": "stream",
     "text": [
      "Epoch [1/5], Train Loss: 0.033803, Val Loss: 0.002827\n",
      "Epoch [2/5], Train Loss: 0.003725, Val Loss: 0.002840\n",
      "Epoch [3/5], Train Loss: 0.002263, Val Loss: 0.000452\n",
      "Epoch [4/5], Train Loss: 0.001829, Val Loss: 0.002381\n",
      "Epoch [5/5], Train Loss: 0.001278, Val Loss: 0.001710\n",
      "✅ Trained on DOCU_1h_data.csv\n",
      "📂 Processing: EOG_1h_data.csv\n"
     ]
    },
    {
     "name": "stderr",
     "output_type": "stream",
     "text": [
      "/tmp/ipykernel_35386/3096370088.py:18: FutureWarning: DataFrame.fillna with 'method' is deprecated and will raise in a future version. Use obj.ffill() or obj.bfill() instead.\n",
      "  df.fillna(method='bfill', inplace=True)\n",
      "/tmp/ipykernel_35386/3096370088.py:19: FutureWarning: DataFrame.fillna with 'method' is deprecated and will raise in a future version. Use obj.ffill() or obj.bfill() instead.\n",
      "  df.fillna(method='ffill', inplace=True)\n",
      "/home/varun/Desktop/someProj/TradeGPT/.venv/lib/python3.10/site-packages/torch/nn/modules/transformer.py:382: UserWarning: enable_nested_tensor is True, but self.use_nested_tensor is False because encoder_layer.self_attn.batch_first was not True(use batch_first for better inference performance)\n",
      "  warnings.warn(\n"
     ]
    },
    {
     "name": "stdout",
     "output_type": "stream",
     "text": [
      "Epoch [1/5], Train Loss: 0.023573, Val Loss: 0.002879\n",
      "Epoch [2/5], Train Loss: 0.003899, Val Loss: 0.003179\n",
      "Epoch [3/5], Train Loss: 0.002463, Val Loss: 0.003850\n",
      "Epoch [4/5], Train Loss: 0.001967, Val Loss: 0.004531\n",
      "Epoch [5/5], Train Loss: 0.001815, Val Loss: 0.004608\n",
      "✅ Trained on EOG_1h_data.csv\n",
      "📂 Processing: EVRG_1h_data.csv\n"
     ]
    },
    {
     "name": "stderr",
     "output_type": "stream",
     "text": [
      "/tmp/ipykernel_35386/3096370088.py:18: FutureWarning: DataFrame.fillna with 'method' is deprecated and will raise in a future version. Use obj.ffill() or obj.bfill() instead.\n",
      "  df.fillna(method='bfill', inplace=True)\n",
      "/tmp/ipykernel_35386/3096370088.py:19: FutureWarning: DataFrame.fillna with 'method' is deprecated and will raise in a future version. Use obj.ffill() or obj.bfill() instead.\n",
      "  df.fillna(method='ffill', inplace=True)\n",
      "/home/varun/Desktop/someProj/TradeGPT/.venv/lib/python3.10/site-packages/torch/nn/modules/transformer.py:382: UserWarning: enable_nested_tensor is True, but self.use_nested_tensor is False because encoder_layer.self_attn.batch_first was not True(use batch_first for better inference performance)\n",
      "  warnings.warn(\n"
     ]
    },
    {
     "name": "stdout",
     "output_type": "stream",
     "text": [
      "Epoch [1/5], Train Loss: 0.034773, Val Loss: 0.014631\n",
      "Epoch [2/5], Train Loss: 0.002766, Val Loss: 0.005270\n",
      "Epoch [3/5], Train Loss: 0.001721, Val Loss: 0.002149\n",
      "Epoch [4/5], Train Loss: 0.001330, Val Loss: 0.002847\n",
      "Epoch [5/5], Train Loss: 0.001005, Val Loss: 0.001364\n",
      "✅ Trained on EVRG_1h_data.csv\n",
      "📂 Processing: LNT_1h_data.csv\n"
     ]
    },
    {
     "name": "stderr",
     "output_type": "stream",
     "text": [
      "/tmp/ipykernel_35386/3096370088.py:18: FutureWarning: DataFrame.fillna with 'method' is deprecated and will raise in a future version. Use obj.ffill() or obj.bfill() instead.\n",
      "  df.fillna(method='bfill', inplace=True)\n",
      "/tmp/ipykernel_35386/3096370088.py:19: FutureWarning: DataFrame.fillna with 'method' is deprecated and will raise in a future version. Use obj.ffill() or obj.bfill() instead.\n",
      "  df.fillna(method='ffill', inplace=True)\n",
      "/home/varun/Desktop/someProj/TradeGPT/.venv/lib/python3.10/site-packages/torch/nn/modules/transformer.py:382: UserWarning: enable_nested_tensor is True, but self.use_nested_tensor is False because encoder_layer.self_attn.batch_first was not True(use batch_first for better inference performance)\n",
      "  warnings.warn(\n"
     ]
    },
    {
     "name": "stdout",
     "output_type": "stream",
     "text": [
      "Epoch [1/5], Train Loss: 0.026929, Val Loss: 0.004416\n",
      "Epoch [2/5], Train Loss: 0.003332, Val Loss: 0.003417\n",
      "Epoch [3/5], Train Loss: 0.002174, Val Loss: 0.002329\n",
      "Epoch [4/5], Train Loss: 0.001603, Val Loss: 0.001691\n",
      "Epoch [5/5], Train Loss: 0.001262, Val Loss: 0.001682\n",
      "✅ Trained on LNT_1h_data.csv\n",
      "📂 Processing: SRE_1h_data.csv\n"
     ]
    },
    {
     "name": "stderr",
     "output_type": "stream",
     "text": [
      "/tmp/ipykernel_35386/3096370088.py:18: FutureWarning: DataFrame.fillna with 'method' is deprecated and will raise in a future version. Use obj.ffill() or obj.bfill() instead.\n",
      "  df.fillna(method='bfill', inplace=True)\n",
      "/tmp/ipykernel_35386/3096370088.py:19: FutureWarning: DataFrame.fillna with 'method' is deprecated and will raise in a future version. Use obj.ffill() or obj.bfill() instead.\n",
      "  df.fillna(method='ffill', inplace=True)\n",
      "/home/varun/Desktop/someProj/TradeGPT/.venv/lib/python3.10/site-packages/torch/nn/modules/transformer.py:382: UserWarning: enable_nested_tensor is True, but self.use_nested_tensor is False because encoder_layer.self_attn.batch_first was not True(use batch_first for better inference performance)\n",
      "  warnings.warn(\n"
     ]
    },
    {
     "name": "stdout",
     "output_type": "stream",
     "text": [
      "Epoch [1/5], Train Loss: 0.039736, Val Loss: 0.003389\n",
      "Epoch [2/5], Train Loss: 0.004948, Val Loss: 0.003124\n",
      "Epoch [3/5], Train Loss: 0.003162, Val Loss: 0.003216\n",
      "Epoch [4/5], Train Loss: 0.002393, Val Loss: 0.002607\n",
      "Epoch [5/5], Train Loss: 0.001409, Val Loss: 0.002784\n",
      "✅ Trained on SRE_1h_data.csv\n",
      "📂 Processing: KLAC_1h_data.csv\n"
     ]
    },
    {
     "name": "stderr",
     "output_type": "stream",
     "text": [
      "/tmp/ipykernel_35386/3096370088.py:18: FutureWarning: DataFrame.fillna with 'method' is deprecated and will raise in a future version. Use obj.ffill() or obj.bfill() instead.\n",
      "  df.fillna(method='bfill', inplace=True)\n",
      "/tmp/ipykernel_35386/3096370088.py:19: FutureWarning: DataFrame.fillna with 'method' is deprecated and will raise in a future version. Use obj.ffill() or obj.bfill() instead.\n",
      "  df.fillna(method='ffill', inplace=True)\n",
      "/home/varun/Desktop/someProj/TradeGPT/.venv/lib/python3.10/site-packages/torch/nn/modules/transformer.py:382: UserWarning: enable_nested_tensor is True, but self.use_nested_tensor is False because encoder_layer.self_attn.batch_first was not True(use batch_first for better inference performance)\n",
      "  warnings.warn(\n"
     ]
    },
    {
     "name": "stdout",
     "output_type": "stream",
     "text": [
      "Epoch [1/5], Train Loss: 0.027263, Val Loss: 0.002402\n",
      "Epoch [2/5], Train Loss: 0.004534, Val Loss: 0.001035\n",
      "Epoch [3/5], Train Loss: 0.002663, Val Loss: 0.000913\n",
      "Epoch [4/5], Train Loss: 0.002084, Val Loss: 0.002391\n",
      "Epoch [5/5], Train Loss: 0.001920, Val Loss: 0.000805\n",
      "✅ Trained on KLAC_1h_data.csv\n",
      "📂 Processing: MMM_1h_data.csv\n"
     ]
    },
    {
     "name": "stderr",
     "output_type": "stream",
     "text": [
      "/tmp/ipykernel_35386/3096370088.py:18: FutureWarning: DataFrame.fillna with 'method' is deprecated and will raise in a future version. Use obj.ffill() or obj.bfill() instead.\n",
      "  df.fillna(method='bfill', inplace=True)\n",
      "/tmp/ipykernel_35386/3096370088.py:19: FutureWarning: DataFrame.fillna with 'method' is deprecated and will raise in a future version. Use obj.ffill() or obj.bfill() instead.\n",
      "  df.fillna(method='ffill', inplace=True)\n",
      "/home/varun/Desktop/someProj/TradeGPT/.venv/lib/python3.10/site-packages/torch/nn/modules/transformer.py:382: UserWarning: enable_nested_tensor is True, but self.use_nested_tensor is False because encoder_layer.self_attn.batch_first was not True(use batch_first for better inference performance)\n",
      "  warnings.warn(\n"
     ]
    },
    {
     "name": "stdout",
     "output_type": "stream",
     "text": [
      "Epoch [1/5], Train Loss: 0.073148, Val Loss: 0.006254\n",
      "Epoch [2/5], Train Loss: 0.004473, Val Loss: 0.002623\n",
      "Epoch [3/5], Train Loss: 0.003010, Val Loss: 0.001558\n",
      "Epoch [4/5], Train Loss: 0.002040, Val Loss: 0.001321\n",
      "Epoch [5/5], Train Loss: 0.001757, Val Loss: 0.001537\n",
      "✅ Trained on MMM_1h_data.csv\n",
      "📂 Processing: CCL_1h_data.csv\n"
     ]
    },
    {
     "name": "stderr",
     "output_type": "stream",
     "text": [
      "/tmp/ipykernel_35386/3096370088.py:18: FutureWarning: DataFrame.fillna with 'method' is deprecated and will raise in a future version. Use obj.ffill() or obj.bfill() instead.\n",
      "  df.fillna(method='bfill', inplace=True)\n",
      "/tmp/ipykernel_35386/3096370088.py:19: FutureWarning: DataFrame.fillna with 'method' is deprecated and will raise in a future version. Use obj.ffill() or obj.bfill() instead.\n",
      "  df.fillna(method='ffill', inplace=True)\n",
      "/home/varun/Desktop/someProj/TradeGPT/.venv/lib/python3.10/site-packages/torch/nn/modules/transformer.py:382: UserWarning: enable_nested_tensor is True, but self.use_nested_tensor is False because encoder_layer.self_attn.batch_first was not True(use batch_first for better inference performance)\n",
      "  warnings.warn(\n"
     ]
    },
    {
     "name": "stdout",
     "output_type": "stream",
     "text": [
      "Epoch [1/5], Train Loss: 0.022770, Val Loss: 0.002786\n",
      "Epoch [2/5], Train Loss: 0.002854, Val Loss: 0.003229\n",
      "Epoch [3/5], Train Loss: 0.001718, Val Loss: 0.003050\n",
      "Epoch [4/5], Train Loss: 0.001240, Val Loss: 0.001963\n",
      "Epoch [5/5], Train Loss: 0.001002, Val Loss: 0.001501\n",
      "✅ Trained on CCL_1h_data.csv\n",
      "📂 Processing: WELL_1h_data.csv\n"
     ]
    },
    {
     "name": "stderr",
     "output_type": "stream",
     "text": [
      "/tmp/ipykernel_35386/3096370088.py:18: FutureWarning: DataFrame.fillna with 'method' is deprecated and will raise in a future version. Use obj.ffill() or obj.bfill() instead.\n",
      "  df.fillna(method='bfill', inplace=True)\n",
      "/tmp/ipykernel_35386/3096370088.py:19: FutureWarning: DataFrame.fillna with 'method' is deprecated and will raise in a future version. Use obj.ffill() or obj.bfill() instead.\n",
      "  df.fillna(method='ffill', inplace=True)\n",
      "/home/varun/Desktop/someProj/TradeGPT/.venv/lib/python3.10/site-packages/torch/nn/modules/transformer.py:382: UserWarning: enable_nested_tensor is True, but self.use_nested_tensor is False because encoder_layer.self_attn.batch_first was not True(use batch_first for better inference performance)\n",
      "  warnings.warn(\n"
     ]
    },
    {
     "name": "stdout",
     "output_type": "stream",
     "text": [
      "Epoch [1/5], Train Loss: 0.036417, Val Loss: 0.010236\n",
      "Epoch [2/5], Train Loss: 0.002922, Val Loss: 0.005091\n",
      "Epoch [3/5], Train Loss: 0.001815, Val Loss: 0.002125\n",
      "Epoch [4/5], Train Loss: 0.001408, Val Loss: 0.001294\n",
      "Epoch [5/5], Train Loss: 0.001114, Val Loss: 0.001384\n",
      "✅ Trained on WELL_1h_data.csv\n",
      "📂 Processing: TRV_1h_data.csv\n"
     ]
    },
    {
     "name": "stderr",
     "output_type": "stream",
     "text": [
      "/tmp/ipykernel_35386/3096370088.py:18: FutureWarning: DataFrame.fillna with 'method' is deprecated and will raise in a future version. Use obj.ffill() or obj.bfill() instead.\n",
      "  df.fillna(method='bfill', inplace=True)\n",
      "/tmp/ipykernel_35386/3096370088.py:19: FutureWarning: DataFrame.fillna with 'method' is deprecated and will raise in a future version. Use obj.ffill() or obj.bfill() instead.\n",
      "  df.fillna(method='ffill', inplace=True)\n",
      "/home/varun/Desktop/someProj/TradeGPT/.venv/lib/python3.10/site-packages/torch/nn/modules/transformer.py:382: UserWarning: enable_nested_tensor is True, but self.use_nested_tensor is False because encoder_layer.self_attn.batch_first was not True(use batch_first for better inference performance)\n",
      "  warnings.warn(\n"
     ]
    },
    {
     "name": "stdout",
     "output_type": "stream",
     "text": [
      "Epoch [1/5], Train Loss: 0.038447, Val Loss: 0.005820\n",
      "Epoch [2/5], Train Loss: 0.004221, Val Loss: 0.000884\n",
      "Epoch [3/5], Train Loss: 0.002603, Val Loss: 0.000577\n",
      "Epoch [4/5], Train Loss: 0.001754, Val Loss: 0.000604\n",
      "Epoch [5/5], Train Loss: 0.001463, Val Loss: 0.000642\n",
      "✅ Trained on TRV_1h_data.csv\n",
      "📂 Processing: EL_1h_data.csv\n"
     ]
    },
    {
     "name": "stderr",
     "output_type": "stream",
     "text": [
      "/tmp/ipykernel_35386/3096370088.py:18: FutureWarning: DataFrame.fillna with 'method' is deprecated and will raise in a future version. Use obj.ffill() or obj.bfill() instead.\n",
      "  df.fillna(method='bfill', inplace=True)\n",
      "/tmp/ipykernel_35386/3096370088.py:19: FutureWarning: DataFrame.fillna with 'method' is deprecated and will raise in a future version. Use obj.ffill() or obj.bfill() instead.\n",
      "  df.fillna(method='ffill', inplace=True)\n",
      "/home/varun/Desktop/someProj/TradeGPT/.venv/lib/python3.10/site-packages/torch/nn/modules/transformer.py:382: UserWarning: enable_nested_tensor is True, but self.use_nested_tensor is False because encoder_layer.self_attn.batch_first was not True(use batch_first for better inference performance)\n",
      "  warnings.warn(\n"
     ]
    },
    {
     "name": "stdout",
     "output_type": "stream",
     "text": [
      "Epoch [1/5], Train Loss: 0.026147, Val Loss: 0.000784\n",
      "Epoch [2/5], Train Loss: 0.003354, Val Loss: 0.001349\n",
      "Epoch [3/5], Train Loss: 0.002145, Val Loss: 0.000114\n",
      "Epoch [4/5], Train Loss: 0.001640, Val Loss: 0.000192\n",
      "Epoch [5/5], Train Loss: 0.001427, Val Loss: 0.000138\n",
      "✅ Trained on EL_1h_data.csv\n",
      "📂 Processing: KHC_1h_data.csv\n"
     ]
    },
    {
     "name": "stderr",
     "output_type": "stream",
     "text": [
      "/tmp/ipykernel_35386/3096370088.py:18: FutureWarning: DataFrame.fillna with 'method' is deprecated and will raise in a future version. Use obj.ffill() or obj.bfill() instead.\n",
      "  df.fillna(method='bfill', inplace=True)\n",
      "/tmp/ipykernel_35386/3096370088.py:19: FutureWarning: DataFrame.fillna with 'method' is deprecated and will raise in a future version. Use obj.ffill() or obj.bfill() instead.\n",
      "  df.fillna(method='ffill', inplace=True)\n",
      "/home/varun/Desktop/someProj/TradeGPT/.venv/lib/python3.10/site-packages/torch/nn/modules/transformer.py:382: UserWarning: enable_nested_tensor is True, but self.use_nested_tensor is False because encoder_layer.self_attn.batch_first was not True(use batch_first for better inference performance)\n",
      "  warnings.warn(\n"
     ]
    },
    {
     "name": "stdout",
     "output_type": "stream",
     "text": [
      "Epoch [1/5], Train Loss: 0.039300, Val Loss: 0.001301\n",
      "Epoch [2/5], Train Loss: 0.004018, Val Loss: 0.000581\n",
      "Epoch [3/5], Train Loss: 0.002457, Val Loss: 0.000324\n",
      "Epoch [4/5], Train Loss: 0.001587, Val Loss: 0.001101\n",
      "Epoch [5/5], Train Loss: 0.001571, Val Loss: 0.000447\n",
      "✅ Trained on KHC_1h_data.csv\n",
      "📂 Processing: BAC_1h_data.csv\n"
     ]
    },
    {
     "name": "stderr",
     "output_type": "stream",
     "text": [
      "/tmp/ipykernel_35386/3096370088.py:18: FutureWarning: DataFrame.fillna with 'method' is deprecated and will raise in a future version. Use obj.ffill() or obj.bfill() instead.\n",
      "  df.fillna(method='bfill', inplace=True)\n",
      "/tmp/ipykernel_35386/3096370088.py:19: FutureWarning: DataFrame.fillna with 'method' is deprecated and will raise in a future version. Use obj.ffill() or obj.bfill() instead.\n",
      "  df.fillna(method='ffill', inplace=True)\n",
      "/home/varun/Desktop/someProj/TradeGPT/.venv/lib/python3.10/site-packages/torch/nn/modules/transformer.py:382: UserWarning: enable_nested_tensor is True, but self.use_nested_tensor is False because encoder_layer.self_attn.batch_first was not True(use batch_first for better inference performance)\n",
      "  warnings.warn(\n"
     ]
    },
    {
     "name": "stdout",
     "output_type": "stream",
     "text": [
      "Epoch [1/5], Train Loss: 0.035254, Val Loss: 0.011546\n",
      "Epoch [2/5], Train Loss: 0.004367, Val Loss: 0.002295\n",
      "Epoch [3/5], Train Loss: 0.003082, Val Loss: 0.004724\n",
      "Epoch [4/5], Train Loss: 0.002319, Val Loss: 0.003383\n",
      "Epoch [5/5], Train Loss: 0.001720, Val Loss: 0.001487\n",
      "✅ Trained on BAC_1h_data.csv\n"
     ]
    }
   ],
   "source": [
    "import os\n",
    "import pandas as pd\n",
    "from sklearn.preprocessing import MinMaxScaler\n",
    "from torch.utils.data import DataLoader, Subset\n",
    "import torch\n",
    "\n",
    "# CONFIG\n",
    "DATA_DIR = \"../Output/formatted_data_1h\"\n",
    "EPOCHS = 5             # Lowered for safety\n",
    "BATCH_SIZE = 32\n",
    "SEQ_LENGTH = 30\n",
    "PRED_LENGTH = 1\n",
    "DEVICE = 'cuda' if torch.cuda.is_available() else 'cpu'\n",
    "LIMIT_FILES = None        # Process only a few files to avoid overload\n",
    "\n",
    "# Load and clean CSV\n",
    "def safe_load_data(csv_file):\n",
    "    try:\n",
    "        df = pd.read_csv(csv_file, delimiter='\\t')\n",
    "        df.columns = df.columns.str.strip()\n",
    "        if 'Gmt time' not in df.columns:\n",
    "            print(f\"[SKIP] '{csv_file}' missing 'Gmt time' column.\")\n",
    "            return None\n",
    "        df['Gmt time'] = pd.to_datetime(df['Gmt time'], format='%d.%m.%Y %H:%M:%S.%f')\n",
    "        df.sort_values(by='Gmt time', inplace=True)\n",
    "        df.reset_index(drop=True, inplace=True)\n",
    "        return df\n",
    "    except Exception as e:\n",
    "        print(f\"[ERROR] Failed to load {csv_file}: {e}\")\n",
    "        return None\n",
    "\n",
    "# Dataloader prep\n",
    "def prepare_dataloader(df):\n",
    "    df = add_technical_indicators(df)\n",
    "    data_scaled, scaler, feature_cols = select_and_scale_features(df)\n",
    "    target_col_idx = feature_cols.index('Close')\n",
    "\n",
    "    dataset = StockDataset(data_scaled, SEQ_LENGTH, PRED_LENGTH, len(feature_cols), target_col_idx)\n",
    "    train_size = int(len(dataset) * 0.8)\n",
    "    val_size = int(len(dataset) * 0.1)\n",
    "\n",
    "    train_dataset = Subset(dataset, range(0, train_size))\n",
    "    val_dataset = Subset(dataset, range(train_size, train_size + val_size))\n",
    "    test_dataset = Subset(dataset, range(train_size + val_size, len(dataset)))\n",
    "\n",
    "    train_loader = DataLoader(train_dataset, batch_size=BATCH_SIZE, shuffle=True)\n",
    "    val_loader = DataLoader(val_dataset, batch_size=BATCH_SIZE, shuffle=False)\n",
    "    test_loader = DataLoader(test_dataset, batch_size=BATCH_SIZE, shuffle=False)\n",
    "\n",
    "    return train_loader, val_loader, test_loader, feature_cols, target_col_idx, scaler\n",
    "\n",
    "# Model training loop\n",
    "def train_model_for_file(filepath):\n",
    "    print(f\"📂 Processing: {os.path.basename(filepath)}\")\n",
    "    df = safe_load_data(filepath)\n",
    "    if df is None or len(df) < SEQ_LENGTH + PRED_LENGTH:\n",
    "        print(\"⚠️ Skipping due to insufficient data.\")\n",
    "        return\n",
    "\n",
    "    train_loader, val_loader, test_loader, feature_cols, target_idx, scaler = prepare_dataloader(df)\n",
    "\n",
    "    model = TimeSeriesTransformer(\n",
    "        feature_size=len(feature_cols),\n",
    "        num_layers=2,\n",
    "        d_model=64,\n",
    "        nhead=8,\n",
    "        dim_feedforward=256,\n",
    "        dropout=0.1,\n",
    "        seq_length=SEQ_LENGTH,\n",
    "        prediction_length=PRED_LENGTH\n",
    "    )\n",
    "\n",
    "    trained_model = train_transformer_model(\n",
    "        model, train_loader, val_loader,\n",
    "        lr=1e-3, epochs=EPOCHS, device=DEVICE\n",
    "    )\n",
    "\n",
    "    print(f\"✅ Trained on {os.path.basename(filepath)}\")\n",
    "    return trained_model\n",
    "\n",
    "# Main loop\n",
    "all_csv_files = [os.path.join(DATA_DIR, f) for f in os.listdir(DATA_DIR) if f.endswith('.csv')]\n",
    "all_csv_files = all_csv_files[:LIMIT_FILES]\n",
    "\n",
    "trained_models = []\n",
    "for file in all_csv_files:\n",
    "    model = train_model_for_file(file)\n",
    "    if model:\n",
    "        trained_models.append(model)\n"
   ]
  },
  {
   "cell_type": "code",
   "execution_count": null,
   "id": "eed93754",
   "metadata": {},
   "outputs": [],
   "source": []
  }
 ],
 "metadata": {
  "kernelspec": {
   "display_name": ".venv",
   "language": "python",
   "name": "python3"
  },
  "language_info": {
   "codemirror_mode": {
    "name": "ipython",
    "version": 3
   },
   "file_extension": ".py",
   "mimetype": "text/x-python",
   "name": "python",
   "nbconvert_exporter": "python",
   "pygments_lexer": "ipython3",
   "version": "3.10.12"
  }
 },
 "nbformat": 4,
 "nbformat_minor": 5
}
