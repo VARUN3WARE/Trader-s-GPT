{
 "cells": [
  {
   "cell_type": "code",
   "execution_count": 1,
   "id": "53ec775a",
   "metadata": {},
   "outputs": [
    {
     "name": "stderr",
     "output_type": "stream",
     "text": [
      "/tmp/ipykernel_28636/1836398235.py:3: FutureWarning: YF.download() has changed argument auto_adjust default to True\n",
      "  data = yf.download(\"AAPL\", interval=\"h\", start=\"2025-01-01\", end=\"2025-02-01\")\n",
      "[*********************100%***********************]  1 of 1 completed\n",
      "\n",
      "1 Failed download:\n",
      "['AAPL']: YFPricesMissingError('possibly delisted; no price data found  (h 2025-01-01 -> 2025-02-01) (Yahoo error = \"Invalid input - interval=h is not supported. Valid intervals: [1m, 2m, 5m, 15m, 30m, 60m, 90m, 1h, 4h, 1d, 5d, 1wk, 1mo, 3mo]\")')\n"
     ]
    },
    {
     "name": "stdout",
     "output_type": "stream",
     "text": [
      "Empty DataFrame\n",
      "Columns: [(Adj Close, AAPL), (Close, AAPL), (High, AAPL), (Low, AAPL), (Open, AAPL), (Volume, AAPL)]\n",
      "Index: []\n"
     ]
    }
   ],
   "source": [
    "import yfinance as yf\n",
    "\n",
    "data = yf.download(\"AAPL\", interval=\"h\", start=\"2025-01-01\", end=\"2025-02-01\")\n",
    "print(data.head())"
   ]
  },
  {
   "cell_type": "code",
   "execution_count": 2,
   "id": "8e0c7106",
   "metadata": {},
   "outputs": [
    {
     "name": "stderr",
     "output_type": "stream",
     "text": [
      "/tmp/ipykernel_28636/1396661612.py:3: FutureWarning: YF.download() has changed argument auto_adjust default to True\n",
      "  data = yf.download(\"AAPL\", interval=\"1h\", start=\"2025-01-01\", end=\"2025-02-01\")\n",
      "[*********************100%***********************]  1 of 1 completed"
     ]
    },
    {
     "name": "stdout",
     "output_type": "stream",
     "text": [
      "Price                           Close        High         Low        Open  \\\n",
      "Ticker                           AAPL        AAPL        AAPL        AAPL   \n",
      "Datetime                                                                    \n",
      "2025-01-02 14:30:00+00:00  245.739899  249.100006  244.800003  248.929993   \n",
      "2025-01-02 15:30:00+00:00  244.895004  245.880005  244.160095  245.630005   \n",
      "2025-01-02 16:30:00+00:00  243.428604  245.250000  243.320007  244.909897   \n",
      "2025-01-02 17:30:00+00:00  242.686203  243.410004  242.309998  243.410004   \n",
      "2025-01-02 18:30:00+00:00  242.488403  242.839996  241.820099  242.669998   \n",
      "\n",
      "Price                        Volume  \n",
      "Ticker                         AAPL  \n",
      "Datetime                             \n",
      "2025-01-02 14:30:00+00:00  13501229  \n",
      "2025-01-02 15:30:00+00:00   6830782  \n",
      "2025-01-02 16:30:00+00:00   4384552  \n",
      "2025-01-02 17:30:00+00:00   6464462  \n",
      "2025-01-02 18:30:00+00:00   5547977  \n"
     ]
    },
    {
     "name": "stderr",
     "output_type": "stream",
     "text": [
      "\n"
     ]
    }
   ],
   "source": [
    "import yfinance as yf\n",
    "\n",
    "data = yf.download(\"AAPL\", interval=\"1h\", start=\"2025-01-01\", end=\"2025-02-01\")\n",
    "print(data.head())"
   ]
  },
  {
   "cell_type": "code",
   "execution_count": 3,
   "id": "e09738e2",
   "metadata": {},
   "outputs": [
    {
     "data": {
      "text/html": [
       "<div>\n",
       "<style scoped>\n",
       "    .dataframe tbody tr th:only-of-type {\n",
       "        vertical-align: middle;\n",
       "    }\n",
       "\n",
       "    .dataframe tbody tr th {\n",
       "        vertical-align: top;\n",
       "    }\n",
       "\n",
       "    .dataframe thead tr th {\n",
       "        text-align: left;\n",
       "    }\n",
       "\n",
       "    .dataframe thead tr:last-of-type th {\n",
       "        text-align: right;\n",
       "    }\n",
       "</style>\n",
       "<table border=\"1\" class=\"dataframe\">\n",
       "  <thead>\n",
       "    <tr>\n",
       "      <th>Price</th>\n",
       "      <th>Close</th>\n",
       "      <th>High</th>\n",
       "      <th>Low</th>\n",
       "      <th>Open</th>\n",
       "      <th>Volume</th>\n",
       "    </tr>\n",
       "    <tr>\n",
       "      <th>Ticker</th>\n",
       "      <th>AAPL</th>\n",
       "      <th>AAPL</th>\n",
       "      <th>AAPL</th>\n",
       "      <th>AAPL</th>\n",
       "      <th>AAPL</th>\n",
       "    </tr>\n",
       "    <tr>\n",
       "      <th>Datetime</th>\n",
       "      <th></th>\n",
       "      <th></th>\n",
       "      <th></th>\n",
       "      <th></th>\n",
       "      <th></th>\n",
       "    </tr>\n",
       "  </thead>\n",
       "  <tbody>\n",
       "    <tr>\n",
       "      <th>2025-01-02 14:30:00+00:00</th>\n",
       "      <td>245.739899</td>\n",
       "      <td>249.100006</td>\n",
       "      <td>244.800003</td>\n",
       "      <td>248.929993</td>\n",
       "      <td>13501229</td>\n",
       "    </tr>\n",
       "    <tr>\n",
       "      <th>2025-01-02 15:30:00+00:00</th>\n",
       "      <td>244.895004</td>\n",
       "      <td>245.880005</td>\n",
       "      <td>244.160095</td>\n",
       "      <td>245.630005</td>\n",
       "      <td>6830782</td>\n",
       "    </tr>\n",
       "    <tr>\n",
       "      <th>2025-01-02 16:30:00+00:00</th>\n",
       "      <td>243.428604</td>\n",
       "      <td>245.250000</td>\n",
       "      <td>243.320007</td>\n",
       "      <td>244.909897</td>\n",
       "      <td>4384552</td>\n",
       "    </tr>\n",
       "    <tr>\n",
       "      <th>2025-01-02 17:30:00+00:00</th>\n",
       "      <td>242.686203</td>\n",
       "      <td>243.410004</td>\n",
       "      <td>242.309998</td>\n",
       "      <td>243.410004</td>\n",
       "      <td>6464462</td>\n",
       "    </tr>\n",
       "    <tr>\n",
       "      <th>2025-01-02 18:30:00+00:00</th>\n",
       "      <td>242.488403</td>\n",
       "      <td>242.839996</td>\n",
       "      <td>241.820099</td>\n",
       "      <td>242.669998</td>\n",
       "      <td>5547977</td>\n",
       "    </tr>\n",
       "    <tr>\n",
       "      <th>...</th>\n",
       "      <td>...</td>\n",
       "      <td>...</td>\n",
       "      <td>...</td>\n",
       "      <td>...</td>\n",
       "      <td>...</td>\n",
       "    </tr>\n",
       "    <tr>\n",
       "      <th>2025-01-31 16:30:00+00:00</th>\n",
       "      <td>239.740005</td>\n",
       "      <td>240.050003</td>\n",
       "      <td>238.740005</td>\n",
       "      <td>238.970001</td>\n",
       "      <td>6222938</td>\n",
       "    </tr>\n",
       "    <tr>\n",
       "      <th>2025-01-31 17:30:00+00:00</th>\n",
       "      <td>236.425003</td>\n",
       "      <td>239.800995</td>\n",
       "      <td>236.220001</td>\n",
       "      <td>239.750000</td>\n",
       "      <td>7822078</td>\n",
       "    </tr>\n",
       "    <tr>\n",
       "      <th>2025-01-31 18:30:00+00:00</th>\n",
       "      <td>235.134995</td>\n",
       "      <td>236.860001</td>\n",
       "      <td>234.470001</td>\n",
       "      <td>236.429993</td>\n",
       "      <td>7380314</td>\n",
       "    </tr>\n",
       "    <tr>\n",
       "      <th>2025-01-31 19:30:00+00:00</th>\n",
       "      <td>234.289993</td>\n",
       "      <td>235.279907</td>\n",
       "      <td>233.440002</td>\n",
       "      <td>235.154999</td>\n",
       "      <td>7945570</td>\n",
       "    </tr>\n",
       "    <tr>\n",
       "      <th>2025-01-31 20:30:00+00:00</th>\n",
       "      <td>235.860001</td>\n",
       "      <td>236.500000</td>\n",
       "      <td>233.740005</td>\n",
       "      <td>234.309998</td>\n",
       "      <td>8379858</td>\n",
       "    </tr>\n",
       "  </tbody>\n",
       "</table>\n",
       "<p>140 rows × 5 columns</p>\n",
       "</div>"
      ],
      "text/plain": [
       "Price                           Close        High         Low        Open  \\\n",
       "Ticker                           AAPL        AAPL        AAPL        AAPL   \n",
       "Datetime                                                                    \n",
       "2025-01-02 14:30:00+00:00  245.739899  249.100006  244.800003  248.929993   \n",
       "2025-01-02 15:30:00+00:00  244.895004  245.880005  244.160095  245.630005   \n",
       "2025-01-02 16:30:00+00:00  243.428604  245.250000  243.320007  244.909897   \n",
       "2025-01-02 17:30:00+00:00  242.686203  243.410004  242.309998  243.410004   \n",
       "2025-01-02 18:30:00+00:00  242.488403  242.839996  241.820099  242.669998   \n",
       "...                               ...         ...         ...         ...   \n",
       "2025-01-31 16:30:00+00:00  239.740005  240.050003  238.740005  238.970001   \n",
       "2025-01-31 17:30:00+00:00  236.425003  239.800995  236.220001  239.750000   \n",
       "2025-01-31 18:30:00+00:00  235.134995  236.860001  234.470001  236.429993   \n",
       "2025-01-31 19:30:00+00:00  234.289993  235.279907  233.440002  235.154999   \n",
       "2025-01-31 20:30:00+00:00  235.860001  236.500000  233.740005  234.309998   \n",
       "\n",
       "Price                        Volume  \n",
       "Ticker                         AAPL  \n",
       "Datetime                             \n",
       "2025-01-02 14:30:00+00:00  13501229  \n",
       "2025-01-02 15:30:00+00:00   6830782  \n",
       "2025-01-02 16:30:00+00:00   4384552  \n",
       "2025-01-02 17:30:00+00:00   6464462  \n",
       "2025-01-02 18:30:00+00:00   5547977  \n",
       "...                             ...  \n",
       "2025-01-31 16:30:00+00:00   6222938  \n",
       "2025-01-31 17:30:00+00:00   7822078  \n",
       "2025-01-31 18:30:00+00:00   7380314  \n",
       "2025-01-31 19:30:00+00:00   7945570  \n",
       "2025-01-31 20:30:00+00:00   8379858  \n",
       "\n",
       "[140 rows x 5 columns]"
      ]
     },
     "execution_count": 3,
     "metadata": {},
     "output_type": "execute_result"
    }
   ],
   "source": [
    "data"
   ]
  },
  {
   "cell_type": "code",
   "execution_count": 5,
   "id": "28c551a1",
   "metadata": {},
   "outputs": [
    {
     "name": "stderr",
     "output_type": "stream",
     "text": [
      "/tmp/ipykernel_28636/154428179.py:10: FutureWarning: YF.download() has changed argument auto_adjust default to True\n",
      "  data = yf.download(ticker_symbol, start=start_date, end=end_date, interval=\"1h\")\n",
      "[*********************100%***********************]  1 of 1 completed"
     ]
    },
    {
     "name": "stdout",
     "output_type": "stream",
     "text": [
      "Price                           Close        High         Low        Open  \\\n",
      "Ticker                           AAPL        AAPL        AAPL        AAPL   \n",
      "Datetime                                                                    \n",
      "2024-01-02 14:30:00+00:00  186.189896  188.440002  186.009995  187.800995   \n",
      "2024-01-02 15:30:00+00:00  186.804993  186.904999  185.184296  186.179993   \n",
      "2024-01-02 16:30:00+00:00  186.615005  187.350006  186.570007  186.800003   \n",
      "2024-01-02 17:30:00+00:00  185.294998  187.039993  185.259995  186.615005   \n",
      "2024-01-02 18:30:00+00:00  184.494995  185.539993  184.229996  185.289993   \n",
      "\n",
      "Price                        Volume  \n",
      "Ticker                         AAPL  \n",
      "Datetime                             \n",
      "2024-01-02 14:30:00+00:00  21173291  \n",
      "2024-01-02 15:30:00+00:00   9010595  \n",
      "2024-01-02 16:30:00+00:00   6143754  \n",
      "2024-01-02 17:30:00+00:00   5381701  \n",
      "2024-01-02 18:30:00+00:00   7228643  \n"
     ]
    },
    {
     "name": "stderr",
     "output_type": "stream",
     "text": [
      "\n"
     ]
    }
   ],
   "source": [
    "import yfinance as yf\n",
    "import pandas as pd\n",
    "\n",
    "# Define the ticker symbol and time period\n",
    "ticker_symbol = \"AAPL\"\n",
    "start_date = \"2024-01-01\"\n",
    "end_date = \"2024-07-01\"\n",
    "\n",
    "# Download 1-hour interval data\n",
    "data = yf.download(ticker_symbol, start=start_date, end=end_date, interval=\"1h\")\n",
    "\n",
    "# Print the first few rows of the data\n",
    "print(data.head())\n",
    "\n",
    "# Optionally, save to a CSV file\n",
    "data.to_csv(\"../rough/aapl_1h_data.csv\")"
   ]
  },
  {
   "cell_type": "markdown",
   "id": "5c899c95",
   "metadata": {},
   "source": [
    "finally it is working \n",
    "let's go on build a simple py file to download it for now."
   ]
  },
  {
   "cell_type": "code",
   "execution_count": null,
   "id": "22241019",
   "metadata": {},
   "outputs": [],
   "source": []
  }
 ],
 "metadata": {
  "kernelspec": {
   "display_name": ".venv",
   "language": "python",
   "name": "python3"
  },
  "language_info": {
   "codemirror_mode": {
    "name": "ipython",
    "version": 3
   },
   "file_extension": ".py",
   "mimetype": "text/x-python",
   "name": "python",
   "nbconvert_exporter": "python",
   "pygments_lexer": "ipython3",
   "version": "3.10.12"
  }
 },
 "nbformat": 4,
 "nbformat_minor": 5
}
